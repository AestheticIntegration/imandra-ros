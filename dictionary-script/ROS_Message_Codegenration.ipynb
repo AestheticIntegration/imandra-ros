{
 "cells": [
  {
   "cell_type": "code",
   "execution_count": 1,
   "metadata": {},
   "outputs": [],
   "source": [
    "import json"
   ]
  },
  {
   "cell_type": "code",
   "execution_count": 2,
   "metadata": {},
   "outputs": [],
   "source": [
    "with open(\"./rosmsgs.json\", \"r\") as jsonFile:\n",
    "    messages_data = json.load(jsonFile)\n",
    "messages = sorted(messages_data.keys())"
   ]
  },
  {
   "cell_type": "code",
   "execution_count": 3,
   "metadata": {},
   "outputs": [],
   "source": [
    "from msginfo import *"
   ]
  },
  {
   "cell_type": "code",
   "execution_count": 4,
   "metadata": {},
   "outputs": [],
   "source": [
    "def collect_modules(messages):\n",
    "    modules = {}\n",
    "    for msg in messages:\n",
    "        mi = MsgInfo(msg, messages_data[msg])\n",
    "        if mi.module not in modules:\n",
    "            modules[mi.module] = {}\n",
    "        msgdata = \\\n",
    "            { 'info'    : mi\n",
    "            , 'depends' : mi.get_local_dependencies()\n",
    "            }    \n",
    "        modules[mi.module][mi.name] = msgdata  \n",
    "    return modules\n",
    "\n",
    "modules = collect_modules(messages)"
   ]
  },
  {
   "cell_type": "code",
   "execution_count": 5,
   "metadata": {},
   "outputs": [],
   "source": [
    "# Deduplicating identifiers  \n",
    "for mod_name in modules:\n",
    "    module = modules[mod_name]\n",
    "    # Gather duplicate field names\n",
    "    fields = {}\n",
    "    for msg in module:\n",
    "        for f in module[msg]['info'].get_field_names():\n",
    "            if f not in fields:\n",
    "                fields[f] = []\n",
    "            fields[f].append(msg)\n",
    "\n",
    "    duplicates = {}\n",
    "    for field, msgs in fields.iteritems():\n",
    "        if len(msgs) < 2: \n",
    "            continue\n",
    "        for msg in msgs:\n",
    "            if msg not in duplicates:\n",
    "                duplicates[msg] = []\n",
    "            duplicates[msg].append(field)\n",
    "\n",
    "    # Apply prefix for duplicates\n",
    "    for msg, fields in duplicates.iteritems():\n",
    "        module[msg]['info'].prefix_fields(fields)"
   ]
  },
  {
   "cell_type": "code",
   "execution_count": 6,
   "metadata": {},
   "outputs": [
    {
     "data": {
      "text/plain": [
       "{u'byteMultiArray': {'depends': [u'multiArrayLayout'],\n",
       "  'info': <msginfo.MsgInfo at 0x7f81d166b2d0>},\n",
       " u'colorRGBA': {'depends': [], 'info': <msginfo.MsgInfo at 0x7f81d166b390>},\n",
       " u'empty': {'depends': [], 'info': <msginfo.MsgInfo at 0x7f81d166b410>},\n",
       " u'float32MultiArray': {'depends': [u'multiArrayLayout'],\n",
       "  'info': <msginfo.MsgInfo at 0x7f81d166b490>},\n",
       " u'float64MultiArray': {'depends': [u'multiArrayLayout'],\n",
       "  'info': <msginfo.MsgInfo at 0x7f81d166b550>},\n",
       " u'header': {'depends': [], 'info': <msginfo.MsgInfo at 0x7f81d166b590>},\n",
       " u'int16MultiArray': {'depends': [u'multiArrayLayout'],\n",
       "  'info': <msginfo.MsgInfo at 0x7f81d166b690>},\n",
       " u'int32MultiArray': {'depends': [u'multiArrayLayout'],\n",
       "  'info': <msginfo.MsgInfo at 0x7f81d166b710>},\n",
       " u'int64MultiArray': {'depends': [u'multiArrayLayout'],\n",
       "  'info': <msginfo.MsgInfo at 0x7f81defbabd0>},\n",
       " u'int8MultiArray': {'depends': [u'multiArrayLayout'],\n",
       "  'info': <msginfo.MsgInfo at 0x7f81d166b790>},\n",
       " u'multiArrayDimension': {'depends': [],\n",
       "  'info': <msginfo.MsgInfo at 0x7f81d166b810>},\n",
       " u'multiArrayLayout': {'depends': [u'multiArrayDimension'],\n",
       "  'info': <msginfo.MsgInfo at 0x7f81d166b890>},\n",
       " u'std_bool': {'depends': [], 'info': <msginfo.MsgInfo at 0x7f81d166b210>},\n",
       " u'std_byte': {'depends': [], 'info': <msginfo.MsgInfo at 0x7f81d166b290>},\n",
       " u'std_char': {'depends': [], 'info': <msginfo.MsgInfo at 0x7f81d166b310>},\n",
       " u'std_duration': {'depends': [], 'info': <msginfo.MsgInfo at 0x7f81d166b3d0>},\n",
       " u'std_float32': {'depends': [], 'info': <msginfo.MsgInfo at 0x7f81d166b450>},\n",
       " u'std_float64': {'depends': [], 'info': <msginfo.MsgInfo at 0x7f81d166b4d0>},\n",
       " u'std_int16': {'depends': [], 'info': <msginfo.MsgInfo at 0x7f81d166b650>},\n",
       " u'std_int32': {'depends': [], 'info': <msginfo.MsgInfo at 0x7f81d166b6d0>},\n",
       " u'std_int64': {'depends': [], 'info': <msginfo.MsgInfo at 0x7f81defbaf90>},\n",
       " u'std_int8': {'depends': [], 'info': <msginfo.MsgInfo at 0x7f81defc1090>},\n",
       " u'std_string': {'depends': [], 'info': <msginfo.MsgInfo at 0x7f81d166b8d0>},\n",
       " u'std_time': {'depends': [], 'info': <msginfo.MsgInfo at 0x7f81d166b910>},\n",
       " u'uInt16': {'depends': [], 'info': <msginfo.MsgInfo at 0x7f81d166b950>},\n",
       " u'uInt16MultiArray': {'depends': [u'multiArrayLayout'],\n",
       "  'info': <msginfo.MsgInfo at 0x7f81d166b990>},\n",
       " u'uInt32': {'depends': [], 'info': <msginfo.MsgInfo at 0x7f81d166b9d0>},\n",
       " u'uInt32MultiArray': {'depends': [u'multiArrayLayout'],\n",
       "  'info': <msginfo.MsgInfo at 0x7f81d166ba10>},\n",
       " u'uInt64': {'depends': [], 'info': <msginfo.MsgInfo at 0x7f81d166ba50>},\n",
       " u'uInt64MultiArray': {'depends': [u'multiArrayLayout'],\n",
       "  'info': <msginfo.MsgInfo at 0x7f81d166ba90>},\n",
       " u'uInt8': {'depends': [], 'info': <msginfo.MsgInfo at 0x7f81d166bad0>},\n",
       " u'uInt8MultiArray': {'depends': [u'multiArrayLayout'],\n",
       "  'info': <msginfo.MsgInfo at 0x7f81d166bb10>}}"
      ]
     },
     "execution_count": 6,
     "metadata": {},
     "output_type": "execute_result"
    }
   ],
   "source": [
    "# Special treatment for std_msgs module\n",
    "module = modules[\"Std_msgs\"]\n",
    "\n",
    "def prefix_if_basetype(name):\n",
    "    basetypes = {\n",
    "        \"time\" , \"duration\" , \"byte\" , \"bool\", \"char\", \"string\",\n",
    "        \"int8\" , \"int16\" , \"int32\" , \"int64\" , \n",
    "        \"uint8\" , \"uint16\" , \"uint32\" , \"uint64\" , \n",
    "        \"float32\" , \"float64\"  }\n",
    "    if name in basetypes:\n",
    "        return \"std_\" + name\n",
    "    return name \n",
    "\n",
    "for msg in module.keys():\n",
    "    data = module[msg]\n",
    "    new_name = prefix_if_basetype(msg)\n",
    "    data['info'].name = new_name\n",
    "    for e in data['info'].entries:\n",
    "        if e['type'].get('module', None) == \"Std_msgs\":\n",
    "            e['type']['name'] = prefix_if_basetype(e['type']['name'])\n",
    "    del module[msg]\n",
    "    data['depends'] = [prefix_if_basetype(d) for d in data['depends']] \n",
    "    module[new_name] = data\n",
    "module"
   ]
  },
  {
   "cell_type": "code",
   "execution_count": 7,
   "metadata": {},
   "outputs": [
    {
     "data": {
      "text/plain": [
       "[{'local': True,\n",
       "  'name': u'int64MultiArray_layout',\n",
       "  'type': {'module': u'Std_msgs', 'name': u'multiArrayLayout'}},\n",
       " {'name': u'int64MultiArray_data', 'type': {'list': True, 'name': u'int64'}}]"
      ]
     },
     "execution_count": 7,
     "metadata": {},
     "output_type": "execute_result"
    }
   ],
   "source": [
    "data['info'].entries"
   ]
  },
  {
   "cell_type": "code",
   "execution_count": 8,
   "metadata": {},
   "outputs": [],
   "source": [
    "def write_types(mod_name, code):\n",
    "    folder = \"../imandra_model/src-messages\"\n",
    "    filename = folder + \"/\" + mod_name.lower() + \".ml\"\n",
    "    with open(filename, \"w\") as mlfile:\n",
    "        mlfile.write(\"open Basic_types;;\\n\\n\")\n",
    "        for c in code:\n",
    "            mlfile.write(c)\n",
    "            mlfile.write(\"\\n\\n\")\n",
    "            \n",
    "def write_readers(mod_name, code):\n",
    "    folder = \"../imandra_model/src-messages-pp\"\n",
    "    filename = folder + \"/\" + mod_name.lower() + \"_of_json.ml\"\n",
    "    with open(filename, \"w\") as mlfile:\n",
    "        mlfile.write(\"open Json_utils;;\\n\")\n",
    "        mlfile.write(\"open Basic_types_of_json;;\\n\")        \n",
    "        mlfile.write(\"open Ros_messages.{};;\\n\\n\".format(mod_name))        \n",
    "        for c in code:\n",
    "            mlfile.write(c)\n",
    "            mlfile.write(\"\\n\\n\")   \n",
    "\n",
    "def write_writers(mod_name, code):\n",
    "    folder = \"../imandra_model/src-messages-pp\"\n",
    "    filename = folder + \"/\" + mod_name.lower() + \"_to_json.ml\"\n",
    "    with open(filename, \"w\") as mlfile:\n",
    "        mlfile.write(\"open Json_utils;;\\n\")\n",
    "        mlfile.write(\"open Basic_types_to_json;;\\n\")        \n",
    "        mlfile.write(\"open Ros_messages.{};;\\n\\n\".format(mod_name))        \n",
    "        for c in code:\n",
    "            mlfile.write(c)\n",
    "            mlfile.write(\"\\n\\n\")   "
   ]
  },
  {
   "cell_type": "code",
   "execution_count": 9,
   "metadata": {},
   "outputs": [],
   "source": [
    "def get_type_writer(tinfo, current_module=None):\n",
    "    tdecl = kw(tinfo['name']) + \"_to_json\"\n",
    "    if 'module' in tinfo and tinfo['module'] != current_module:\n",
    "        tdecl = \"{0}_to_json.{1}\".format( tinfo['module'] , tdecl )\n",
    "    if tinfo.get('list', False):\n",
    "        tdecl = \"(mklist {})\".format(tdecl)\n",
    "    return tdecl    \n",
    "    \n",
    "def gen_json_writer(self):\n",
    "        if self.entries == []:\n",
    "            return \"let {0}_to_json x = `Assoc []\".format(self.name)\n",
    "        code = [\"let {}_to_json x = [\".format(self.name)]\n",
    "        for entry in self.entries:\n",
    "            etype = get_type_writer(entry['type'], self.module)\n",
    "            code.append(\"    ( \\\"{0}\\\" , x.{0} |> {1} );\".format(entry['name'], etype))\n",
    "        code += [\"    ] |> assoc_filter_nulls\"]\n",
    "        return \"\\n\".join(code)"
   ]
  },
  {
   "cell_type": "code",
   "execution_count": 10,
   "metadata": {},
   "outputs": [],
   "source": [
    "for mod_name in modules:\n",
    "    module = modules[mod_name].copy()\n",
    "    generated = set()\n",
    "    types_code, readers_code, writers_code = [], [], []\n",
    "    while module:\n",
    "        for m in module:\n",
    "            deps = module[m]['depends']\n",
    "            deps = set(deps) - generated \n",
    "            if not deps:\n",
    "                generated.add(m)\n",
    "                types_code.append(module[m]['info'].gen_typedecl())\n",
    "                readers_code.append(module[m]['info'].gen_json_reader())\n",
    "                writers_code.append(gen_json_writer(module[m]['info']))\n",
    "        for m in generated:\n",
    "            if m in module:\n",
    "                del module[m]\n",
    "    \n",
    "    write_types(mod_name, types_code)\n",
    "    write_readers(mod_name, readers_code)\n",
    "    write_writers(mod_name, writers_code)"
   ]
  },
  {
   "cell_type": "code",
   "execution_count": null,
   "metadata": {},
   "outputs": [],
   "source": []
  }
 ],
 "metadata": {
  "kernelspec": {
   "display_name": "Python 2",
   "language": "python",
   "name": "python2"
  },
  "language_info": {
   "codemirror_mode": {
    "name": "ipython",
    "version": 2
   },
   "file_extension": ".py",
   "mimetype": "text/x-python",
   "name": "python",
   "nbconvert_exporter": "python",
   "pygments_lexer": "ipython2",
   "version": "2.7.15rc1"
  }
 },
 "nbformat": 4,
 "nbformat_minor": 2
}
