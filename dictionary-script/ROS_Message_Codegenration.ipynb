{
 "cells": [
  {
   "cell_type": "code",
   "execution_count": 1,
   "metadata": {},
   "outputs": [],
   "source": [
    "import json\n",
    "import re"
   ]
  },
  {
   "cell_type": "code",
   "execution_count": 2,
   "metadata": {},
   "outputs": [],
   "source": [
    "with open(\"./rosmsgs.json\", \"r\") as jsonFile:\n",
    "    messages_data = json.load(jsonFile)\n",
    "messages = sorted(messages_data.keys())"
   ]
  },
  {
   "cell_type": "code",
   "execution_count": 3,
   "metadata": {},
   "outputs": [],
   "source": [
    "from msginfo import *"
   ]
  },
  {
   "cell_type": "code",
   "execution_count": 4,
   "metadata": {},
   "outputs": [],
   "source": [
    "def collect_modules(messages):\n",
    "    modules = {}\n",
    "    for msg in messages:\n",
    "        mi = MsgInfo(msg, messages_data[msg])\n",
    "        if mi.module not in modules:\n",
    "            modules[mi.module] = {}\n",
    "        msgdata = { \n",
    "            'info'    : mi, \n",
    "            'depends' : mi.get_local_dependencies()\n",
    "        }    \n",
    "        modules[mi.module][mi.name] = msgdata  \n",
    "    return modules\n",
    "\n",
    "modules = collect_modules(messages)"
   ]
  },
  {
   "cell_type": "code",
   "execution_count": 5,
   "metadata": {},
   "outputs": [],
   "source": [
    "# Deduplicating identifiers  \n",
    "module = modules['Geometry_msgs'].copy()\n",
    "\n",
    "for mod_name in modules:\n",
    "    module = modules[mod_name]\n",
    "    # Gather duplicate field names\n",
    "    fields = {}\n",
    "    for msg in module:\n",
    "        for f in module[msg]['info'].get_field_names():\n",
    "            if f not in fields:\n",
    "                fields[f] = []\n",
    "            fields[f].append(msg)\n",
    "\n",
    "    duplicates = {}\n",
    "    for field, msgs in fields.iteritems():\n",
    "        if len(msgs) < 2: \n",
    "            continue\n",
    "        for msg in msgs:\n",
    "            if msg not in duplicates:\n",
    "                duplicates[msg] = []\n",
    "            duplicates[msg].append(field)\n",
    "\n",
    "    # Apply prefix for duplicates\n",
    "    for msg, fields in duplicates.iteritems():\n",
    "        module[msg]['info'].prefix_fields(fields)\n"
   ]
  },
  {
   "cell_type": "code",
   "execution_count": 6,
   "metadata": {},
   "outputs": [],
   "source": [
    "folder = \"../imandra_model/src-messages\"\n",
    "for mod_name in modules:\n",
    "    module = modules[mod_name].copy()\n",
    "    code, generated = [], set()\n",
    "    while module:\n",
    "        for m in module:\n",
    "            deps = module[m]['depends']\n",
    "            deps = set(deps) - generated \n",
    "            if not deps:\n",
    "                code.append(module[m]['info'].gen_typedecl())\n",
    "                generated.add(m)\n",
    "        for m in generated:\n",
    "            if m in module:\n",
    "                del module[m]\n",
    "    \n",
    "    filename = folder + \"/\" + mod_name.lower() + \".ml\"\n",
    "    with open(filename, \"w\") as mlfile:\n",
    "        mlfile.write(\"open Basic_types;;\\n\\n\")\n",
    "        for c in code:\n",
    "            mlfile.write(c)\n",
    "            mlfile.write(\"\\n\\n\")"
   ]
  },
  {
   "cell_type": "code",
   "execution_count": 14,
   "metadata": {},
   "outputs": [],
   "source": [
    "def get_type_parser(tinfo, current_module=None):\n",
    "    tdecl = \"json_to_\" + kw(tinfo['name']) + \"_opt\"\n",
    "    if 'module' in tinfo and tinfo['module'] != current_module:\n",
    "        tdecl = \"{0}_of_json.{1}\".format( tinfo['module'] , tdecl )\n",
    "    if tinfo.get('list', False):\n",
    "        tdecl = \"(jlist {})\".format(tdecl)\n",
    "    return tdecl\n",
    "\n",
    "def gen_json_serializer(self):\n",
    "        if self.entries == []:\n",
    "            return \"let json_to_{0}_opt json : {0} = Some ()\".format(self.name)\n",
    "        code = [\"let json_to_{}_opt json = \".format(self.name)]\n",
    "        for entry in self.entries:\n",
    "            etype = get_type_parser(entry['type'], self.module)\n",
    "            code.append(\"    jreq json \\\"{0}\\\" {1} @@ fun {0} ->\".format(entry['name'], etype))\n",
    "        code += [\"    Some {\"]\n",
    "        for entry in self.entries:\n",
    "            code.append(\"    {0};\".format(entry['name']))\n",
    "        code += [\"    }\"]\n",
    "        \n",
    "        return \"\\n\".join(code)"
   ]
  },
  {
   "cell_type": "code",
   "execution_count": 15,
   "metadata": {},
   "outputs": [],
   "source": [
    "folder = \"../imandra_model/src-messages-pp\"\n",
    "for mod_name in modules:\n",
    "    module = modules[mod_name].copy()\n",
    "    code, generated = [], set()\n",
    "    while module:\n",
    "        for m in module:\n",
    "            deps = module[m]['depends']\n",
    "            deps = set(deps) - generated \n",
    "            if not deps:\n",
    "                code.append(gen_json_serializer(module[m]['info']))\n",
    "                generated.add(m)\n",
    "        for m in generated:\n",
    "            if m in module:\n",
    "                del module[m]\n",
    "    \n",
    "    filename = folder + \"/\" + mod_name.lower() + \"_of_json.ml\"\n",
    "    with open(filename, \"w\") as mlfile:\n",
    "        mlfile.write(\"open Json_utils;;\\n\")\n",
    "        mlfile.write(\"open Basic_types_of_json;;\\n\")        \n",
    "        mlfile.write(\"open Ros_messages.{};;\\n\\n\".format(mod_name))        \n",
    "        for c in code:\n",
    "            mlfile.write(c)\n",
    "            mlfile.write(\"\\n\\n\")"
   ]
  },
  {
   "cell_type": "code",
   "execution_count": null,
   "metadata": {},
   "outputs": [],
   "source": []
  },
  {
   "cell_type": "code",
   "execution_count": null,
   "metadata": {},
   "outputs": [],
   "source": []
  }
 ],
 "metadata": {
  "kernelspec": {
   "display_name": "Python 2",
   "language": "python",
   "name": "python2"
  },
  "language_info": {
   "codemirror_mode": {
    "name": "ipython",
    "version": 2
   },
   "file_extension": ".py",
   "mimetype": "text/x-python",
   "name": "python",
   "nbconvert_exporter": "python",
   "pygments_lexer": "ipython2",
   "version": "2.7.15rc1"
  }
 },
 "nbformat": 4,
 "nbformat_minor": 2
}
