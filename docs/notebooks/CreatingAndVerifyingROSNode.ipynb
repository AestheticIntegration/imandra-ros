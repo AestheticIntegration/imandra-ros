{
 "cells": [
  {
   "cell_type": "markdown",
   "metadata": {},
   "source": [
    "![Imandrabot](../images/kostya_ros_medium_1.png)"
   ]
  },
  {
   "cell_type": "markdown",
   "metadata": {},
   "source": [
    "*At AI, we've been working on an IML (Imandra Modelling Language) interface to ROS, allowing one to develop ROS nodes and use Imandra to verify their properties. In this notebook, we will go through creation and verification of a Robotic Operating System (ROS) node in Imandra. We will make a robot control node that controls the motion of a simple 2-wheeler bot:*"
   ]
  },
  {
   "cell_type": "markdown",
   "metadata": {},
   "source": [
    "![Imandrabot](../images/Imandrabot.png)"
   ]
  },
  {
   "cell_type": "markdown",
   "metadata": {},
   "source": [
    "We'll create a controller that uses the laser scanner to avoid obstacles and drive around the scene. The Imandra ML code can be compiled in OCaml and plugged into the ROS system - the behaviour of the bot can be observed in the Gazebo simulator.\n",
    "\n",
    "Then we'll illustrate how to use Imandra to formally verify various statements about the model and how to find bugs and corner cases by exploring the Imandra-generated counterexamples for false conjectures."
   ]
  },
  {
   "cell_type": "markdown",
   "metadata": {},
   "source": [
    "# 1. ROS message OCaml types"
   ]
  },
  {
   "cell_type": "markdown",
   "metadata": {},
   "source": [
    "For our Imandra-ROS project we’ve processed all the standard ROS messages with our code generation tool creating a collection of strongly-typed IML/OCaml bindings for them. But, in order to keep this notebook self-contained we'll define the necessary messaging modules here.  \n",
    "\n",
    "First, we'll need to declare the message type that will control our robot. This is typically done with a `Twist` message from the `geometry_msgs` standard ROS package. We want to mimic ROS messaging nomenclauture as close as possible, so we'll create an OCaml/Imadra `module` with the same name as the package and will place the necessary type/message declaraions inside:"
   ]
  },
  {
   "cell_type": "code",
   "execution_count": 1,
   "metadata": {},
   "outputs": [
    {
     "data": {
      "text/plain": [
       "module Geometry_msgs :\n",
       "  sig\n",
       "    type vector3 = { vector3_x : int; vector3_y : int; vector3_z : int; }\n",
       "    type twist = { twist_linear : vector3; twist_angular : vector3; }\n",
       "  end\n"
      ]
     },
     "execution_count": 1,
     "metadata": {},
     "output_type": "execute_result"
    }
   ],
   "source": [
    "module Geometry_msgs = struct\n",
    "  type vector3 = \n",
    "    { vector3_x : int\n",
    "    ; vector3_y : int\n",
    "    ; vector3_z : int\n",
    "    }\n",
    "  type twist = \n",
    "    { twist_linear  : vector3\n",
    "    ; twist_angular : vector3\n",
    "    }    \n",
    "end"
   ]
  },
  {
   "cell_type": "markdown",
   "metadata": {},
   "source": [
    "You might have noticed that we've replaced floating point values for vector coordinates with integers. In this context, it is more straight-forward for Imandra to reason about integers, so we assume that there is a common factor of 100,000 multiplying all the incoming floating point values and divides all the outgoing integers. (That effectively makes our unit of measurement of length to be 10 micrometres).\n",
    "\n",
    "Let's move on and declare the incoming messages: \n",
    " - `LaserScan` sensor input message from the `sensor_msgs` ROS package\n",
    " - and the `Clock` message from the `Rosgraph_msg` ROS package  \n",
    " \n",
    "We define the wrapping modules for both messages and declare their datatypes:"
   ]
  },
  {
   "cell_type": "code",
   "execution_count": 2,
   "metadata": {},
   "outputs": [
    {
     "data": {
      "text/plain": [
       "module Sensor_msgs :\n",
       "  sig\n",
       "    type laserScan = {\n",
       "      laserScan_range_min : int;\n",
       "      laserScan_range_max : int;\n",
       "      laserScan_ranges : int list;\n",
       "    }\n",
       "  end\n",
       "module Rosgraph_msgs :\n",
       "  sig\n",
       "    type time = { seconds : int; nanoseconds : int; }\n",
       "    type clock = { clock : time; }\n",
       "  end\n"
      ]
     },
     "execution_count": 2,
     "metadata": {},
     "output_type": "execute_result"
    }
   ],
   "source": [
    "module Sensor_msgs = struct\n",
    "  type laserScan = \n",
    "    { laserScan_range_min : int \n",
    "    ; laserScan_range_max : int \n",
    "    ; laserScan_ranges : int list \n",
    "    }\n",
    "end\n",
    "module Rosgraph_msgs = struct\n",
    "  type time = \n",
    "    { seconds     : int\n",
    "    ; nanoseconds : int\n",
    "    }\n",
    "  type clock = { clock : time }\n",
    "end"
   ]
  },
  {
   "cell_type": "markdown",
   "metadata": {},
   "source": [
    "Robotics OS middleware will communicate with our node via messages of these three types. The code that we'll write for of our node will represent the formal mathematical model of the controller algorithm - we can use Imandra to reason and verify various statements about the code. Since IML is valid OCaml, we'll leverage its compiler to create an executable from the verified IML code."
   ]
  },
  {
   "cell_type": "markdown",
   "metadata": {},
   "source": [
    "# 2. Creating a simple ROS Node model"
   ]
  },
  {
   "cell_type": "markdown",
   "metadata": {},
   "source": [
    "We want to create some simple but non-trivial robot controller that makes our bot drive around avoiding the obstacles. The bot is going to drive forward until one of the laser scanner ranges becomes too low, meaning that we've gotten too close to some obstacle - in that case, we want the bot to stop and turn until the scanner tells us that the road ahead is clear. To make the model a bit more complicated, we'd like to implement the ability to choose the turning direction depending on the laser scanner ranges.\n",
    "\n",
    "One might try to make a \"naive\" controller that doesn't have any memory about its previous states and observations - such a bot reacts to the currently observed scanner values and decides its actions based solely on that information. Such an approach will quickly lead to the bot being \"stuck\" in infinite oscillatory loops. E.g. here is a bot that decides which side to turn depending on the first value in the `ranges` array:"
   ]
  },
  {
   "cell_type": "markdown",
   "metadata": {},
   "source": [
    "![Imandrabot](../images/Stuck.gif)"
   ]
  },
  {
   "cell_type": "markdown",
   "metadata": {},
   "source": [
    "To avoid this kind of oscillations we need the model to have some memory of its previous states. The idea is to introduce two modes of model's operation: driving forward and turning in one place. The bot is in the \"driving\" mode by default, but it can transition to the turning mode if it gets dangerously close to surrounding objects.\n",
    "\n",
    "The turning direction is calculated using the direction of the minimum of the distances that the scanner returns. While the robot is turning in one place, it stores the minimal range that the scanner has detected at that location. If at some point the scanner detects a range that is lower than the stored one - the turning direction gets recalculated, and the minimal range gets updated."
   ]
  },
  {
   "cell_type": "markdown",
   "metadata": {},
   "source": [
    "## 2.1 State datatype"
   ]
  },
  {
   "cell_type": "markdown",
   "metadata": {},
   "source": [
    "Working with Imandra we’ve adopted a standard way to construct formal models of message-driven systems. At the top of the model we have a single OCaml datatype that holds all the data needed to describe the system at a given moment, including incoming and outgoing messages. We call this record type `state`. Together with this `state` type we define a `one_step` transition `state -> state` function, which performs a single logically isolated step of the simulation and returns the new `state` after the transition."
   ]
  },
  {
   "cell_type": "markdown",
   "metadata": {},
   "source": [
    "As an example, consider an IML/OCaml type declaration for a simple ROS node that is able to accept `rosgraph_msgs/Clock` and `sensor_msgs/LaserScan` standard ROS messages. We also want the state to store three values: \n",
    " - the current mode of the bot -- whether we are driving forward or turning in a preferred direction\n",
    " - the latest minimal value of the ranges that the laser sensor returns\n",
    " - the preferred side for the robot to turn -- either clockwise (`CW`) or counter-clockwise (`CCW`) \n",
    " \n",
    "Finally, we want the node to be able to send `geometry_msgs/Twist` ROS message depending on the stored `min_range` data:"
   ]
  },
  {
   "cell_type": "code",
   "execution_count": 3,
   "metadata": {},
   "outputs": [
    {
     "data": {
      "text/plain": [
       "type incoming_msg =\n",
       "    Clock of Rosgraph_msgs.clock\n",
       "  | Sensor of Sensor_msgs.laserScan\n",
       "type outgoing_msg = Twist of Geometry_msgs.twist\n",
       "type direction = CW | CCW\n",
       "type mode = Driving | Turning\n",
       "type state = {\n",
       "  mode : mode;\n",
       "  min_range : int option;\n",
       "  direction : direction option;\n",
       "  incoming : incoming_msg option;\n",
       "  outgoing : outgoing_msg option;\n",
       "}\n"
      ]
     },
     "execution_count": 3,
     "metadata": {},
     "output_type": "execute_result"
    }
   ],
   "source": [
    "type incoming_msg = \n",
    "  | Clock  of Rosgraph_msgs.clock\n",
    "  | Sensor of Sensor_msgs.laserScan\n",
    "  \n",
    "type outgoing_msg =\n",
    "  | Twist of Geometry_msgs.twist\n",
    "\n",
    "type direction = CW | CCW \n",
    "\n",
    "type mode = Driving | Turning\n",
    "\n",
    "type state =\n",
    "  { mode : mode\n",
    "  ; min_range : int option\n",
    "  ; direction : direction option\n",
    "  ; incoming  : incoming_msg option\n",
    "  ; outgoing  : outgoing_msg option \n",
    "  }"
   ]
  },
  {
   "cell_type": "markdown",
   "metadata": {},
   "source": [
    "## 2.2 State transition `one_step` function"
   ]
  },
  {
   "cell_type": "markdown",
   "metadata": {},
   "source": [
    "To implement our node, we'll need a function that scans through a list of values and returns the minimum value and its index. We'll make a generic function `foldi` that does an indexed version of the `List.fold_right`:"
   ]
  },
  {
   "cell_type": "code",
   "execution_count": 4,
   "metadata": {},
   "outputs": [
    {
     "data": {
      "text/plain": [
       "val foldi : base:'a -> ?i:Z.t -> (Z.t -> 'b -> 'a -> 'a) -> 'b list -> 'a =\n",
       "  <fun>\n"
      ]
     },
     "execution_count": 4,
     "metadata": {},
     "output_type": "execute_result"
    },
    {
     "data": {
      "text/html": [
       "<div><div class=\"imandra-fold panel panel-default\" id=\"fold-4a2d45a5-e131-4e24-a2d0-13489c374d51\"><div class=\"panel-heading\"><div><i class=\"fa fa-chevron-down hidden\"></i><i class=\"fa fa-chevron-right\"></i><span>termination proof</span></div></div><div class=\"panel-body collapse\"><div><h3>Termination proof</h3><p></p><div class=\"imandra-fold panel panel-default\" id=\"fold-712c7ccf-abb1-4e33-b592-67a915491830\"><div class=\"panel-heading\"><div><i class=\"fa fa-chevron-down hidden\"></i><i class=\"fa fa-chevron-right\"></i><span>call `foldi base (Some ((if Is_a(Some, *opt*) then Option.get *opt* else 0) + 1))\n",
       "f_2 (List.tl l)` from `foldi base *opt* f_2 l`</span></div></div><div class=\"panel-body collapse\"><div class=\"imandra-table\" id=\"table-20b2ff82-0da4-40bf-93cc-c856e7ea2795\"><table><tr><td><b>original</b></td><td>foldi base *opt* f_2 l</td></tr><tr><td><b>sub</b></td><td>foldi base (Some ((if Is_a(Some, *opt*) then Option.get *opt* else 0) + 1))\n",
       "f_2 (List.tl l)</td></tr><tr><td><b>original ordinal</b></td><td>Ordinal.Int (Ordinal.count l)</td></tr><tr><td><b>sub ordinal</b></td><td>Ordinal.Int (Ordinal.count (List.tl l))</td></tr><tr><td><b>path</b></td><td>[not (l = [])]</td></tr><tr><td><b>proof</b></td><td><div class=\"imandra-fold panel panel-default\" id=\"fold-afa7466b-2db0-4d90-b06b-799f3fa4b23d\"><div class=\"panel-heading\"><div><i class=\"fa fa-chevron-down hidden\"></i><i class=\"fa fa-chevron-right\"></i><span>detailed proof</span></div></div><div class=\"panel-body collapse\"><div class=\"imandra-proof\"><div class=\"imandra-alternatives\" id=\"alt-bf2d100f-5eac-4c32-ba35-463e296331e6\"><ul class=\"nav nav-tabs\"><li class=\"active\" data-toggle=\"tab\"><a>summary</a></li><li class=\"\" data-toggle=\"tab\"><a>full</a></li></ul><div class=\"tab-content\"><div class=\"tab-pane active\"><div class=\"imandra-table\" id=\"table-37b2fa09-a3de-4481-bc13-1a18b65c780a\"><table><tr><td><b>ground_instances</b></td><td>3</td></tr><tr><td><b>definitions</b></td><td>0</td></tr><tr><td><b>inductions</b></td><td>0</td></tr><tr><td><b>search_time</b></td><td><pre>0.010s</pre></td></tr><tr><td><b>details</b></td><td><div class=\"imandra-fold panel panel-default\" id=\"fold-ba4838a1-8800-4bf3-967a-0cb0dc3374ff\"><div class=\"panel-heading\"><div><i class=\"fa fa-chevron-down hidden\"></i><i class=\"fa fa-chevron-right\"></i><span>Expand</span></div></div><div class=\"panel-body collapse\"><div class=\"imandra-table\" id=\"table-231f6838-f9bf-410e-9a2e-5da8fb8d5701\"><table><tr><td><b>smt_stats</b></td><td><div class=\"imandra-table\" id=\"table-9560faab-16ea-44f6-8d3e-179656ad4c1d\"><table><tr><td><b>num checks</b></td><td>7</td></tr><tr><td><b>arith assert lower</b></td><td>6</td></tr><tr><td><b>arith pivots</b></td><td>5</td></tr><tr><td><b>rlimit count</b></td><td>1908</td></tr><tr><td><b>mk clause</b></td><td>3</td></tr><tr><td><b>datatype occurs check</b></td><td>43</td></tr><tr><td><b>mk bool var</b></td><td>54</td></tr><tr><td><b>arith assert upper</b></td><td>6</td></tr><tr><td><b>datatype splits</b></td><td>3</td></tr><tr><td><b>decisions</b></td><td>7</td></tr><tr><td><b>arith add rows</b></td><td>15</td></tr><tr><td><b>propagations</b></td><td>2</td></tr><tr><td><b>conflicts</b></td><td>7</td></tr><tr><td><b>arith fixed eqs</b></td><td>5</td></tr><tr><td><b>datatype accessor ax</b></td><td>5</td></tr><tr><td><b>arith conflicts</b></td><td>1</td></tr><tr><td><b>datatype constructor ax</b></td><td>8</td></tr><tr><td><b>num allocs</b></td><td>562868257</td></tr><tr><td><b>final checks</b></td><td>6</td></tr><tr><td><b>added eqs</b></td><td>34</td></tr><tr><td><b>del clause</b></td><td>1</td></tr><tr><td><b>arith eq adapter</b></td><td>4</td></tr><tr><td><b>memory</b></td><td>11.290000</td></tr><tr><td><b>max memory</b></td><td>19.550000</td></tr></table></div></td></tr></table></div></div><script>\n",
       "require(['nbextensions/nbimandra/fold'], function (fold) {\n",
       "  var target = '#fold-ba4838a1-8800-4bf3-967a-0cb0dc3374ff';\n",
       "  fold.hydrate(target);\n",
       "});\n",
       "</script></div></td></tr></table></div></div><div class=\"tab-pane\"><div class=\"imandra-fold panel panel-default\" id=\"fold-05e0f337-614f-43cb-a4a7-467e57076ecb\"><div class=\"panel-heading\"><div><i class=\"fa fa-chevron-down hidden\"></i><i class=\"fa fa-chevron-right\"></i><span>Expand</span></div></div><div class=\"panel-body collapse\"><ul><li><pre>start[0.010s]\n",
       "  not (l = []) &amp;&amp; Ordinal.count l &gt;= 0 &amp;&amp; Ordinal.count (List.tl l) &gt;= 0\n",
       "  ==&gt; List.tl l = []\n",
       "      || Ordinal.Int (Ordinal.count (List.tl l)) Ordinal.&lt;&lt;\n",
       "         Ordinal.Int (Ordinal.count l)</pre></li><li><div><h5>simplify</h5><div class=\"imandra-table\" id=\"table-6203126b-e116-4efc-b546-9052a011b0d7\"><table><tr><td><b>into</b></td><td><pre>(not\n",
       " ((not (l = []) &amp;&amp; Ordinal.count l &gt;= 0) &amp;&amp; Ordinal.count (List.tl l) &gt;= 0)\n",
       " || List.tl l = [])\n",
       "|| Ordinal.Int (Ordinal.count (List.tl l)) Ordinal.&lt;&lt;\n",
       "   Ordinal.Int (Ordinal.count l)</pre></td></tr><tr><td><b>expansions</b></td><td><pre>[]</pre></td></tr><tr><td><b>rewrite_steps</b></td><td><ul></ul></td></tr><tr><td><b>forward_chaining</b></td><td><ul></ul></td></tr></table></div></div></li><li><div>unroll<div class=\"imandra-table\" id=\"table-fec73bd4-ec24-43d6-9e1f-65ca988c8ce4\"><table><tr><td><b>expr</b></td><td><pre>(Ordinal.&lt;&lt;_131 (Ordinal.Int_122 (|count_`ty_1 list`_2228|\n",
       "                                   (|get.…</pre></td></tr><tr><td><b>expansions</b></td><td><ul></ul></td></tr></table></div></div></li><li><div>unroll<div class=\"imandra-table\" id=\"table-48591c5f-1d0b-46da-b5d1-3bba87dd39c8\"><table><tr><td><b>expr</b></td><td><pre>(|count_`ty_1 list`_2228| (|get.::.1_2206| l_2217))</pre></td></tr><tr><td><b>expansions</b></td><td><ul></ul></td></tr></table></div></div></li><li><div>unroll<div class=\"imandra-table\" id=\"table-8f4a91cd-009a-4e6d-93c9-d357ca94f24c\"><table><tr><td><b>expr</b></td><td><pre>(|count_`ty_1 list`_2228| l_2217)</pre></td></tr><tr><td><b>expansions</b></td><td><ul></ul></td></tr></table></div></div></li><li><div><h5>unsat</h5><pre>(let ((a!1 (ite (&gt;= (|count_`ty_1 list`_2228| (|get.::.1_2206| l_2217)) 0)\n",
       "                (|count_`…</pre></div></li></ul></div><script>\n",
       "require(['nbextensions/nbimandra/fold'], function (fold) {\n",
       "  var target = '#fold-05e0f337-614f-43cb-a4a7-467e57076ecb';\n",
       "  fold.hydrate(target);\n",
       "});\n",
       "</script></div></div></div><script>\n",
       "require(['nbextensions/nbimandra/alternatives'], function (alternatives) {\n",
       "  var target = '#alt-bf2d100f-5eac-4c32-ba35-463e296331e6';\n",
       "  alternatives.hydrate(target);\n",
       "});\n",
       "</script></div></div></div><script>\n",
       "require(['nbextensions/nbimandra/fold'], function (fold) {\n",
       "  var target = '#fold-afa7466b-2db0-4d90-b06b-799f3fa4b23d';\n",
       "  fold.hydrate(target);\n",
       "});\n",
       "</script></div></td></tr></table></div></div><script>\n",
       "require(['nbextensions/nbimandra/fold'], function (fold) {\n",
       "  var target = '#fold-712c7ccf-abb1-4e33-b592-67a915491830';\n",
       "  fold.hydrate(target);\n",
       "});\n",
       "</script></div><p></p></div></div><script>\n",
       "require(['nbextensions/nbimandra/fold'], function (fold) {\n",
       "  var target = '#fold-4a2d45a5-e131-4e24-a2d0-13489c374d51';\n",
       "  fold.hydrate(target);\n",
       "});\n",
       "</script></div></div>\n"
      ]
     },
     "metadata": {},
     "output_type": "display_data"
    }
   ],
   "source": [
    "let rec foldi ~base ?(i=0) f l =\n",
    "  match l with\n",
    "  | [] -> base\n",
    "  | x :: tail -> f i x ( foldi f ~base ~i:(i+1) tail )"
   ]
  },
  {
   "cell_type": "markdown",
   "metadata": {},
   "source": [
    "When accepting this function, Imandra constructs its \"termination proof\" - that means that Imandra managed to prove that recursive calls in this function will not end up in an infinite loop. Imandra proves such things using inductive reasoning and is able to prove further statements about other properties of such functions."
   ]
  },
  {
   "cell_type": "code",
   "execution_count": 5,
   "metadata": {},
   "outputs": [
    {
     "data": {
      "text/plain": [
       "val get_min_range : int -> int list -> int = <fun>\n"
      ]
     },
     "execution_count": 5,
     "metadata": {},
     "output_type": "execute_result"
    }
   ],
   "source": [
    "let get_min_range max lst =\n",
    "  List.fold_right ~base:max\n",
    "    (fun x a -> if x < a then x else a) lst"
   ]
  },
  {
   "cell_type": "markdown",
   "metadata": {},
   "source": [
    "On an incoming `Clock` tick we are simply sending out a `Twist` message which tells the robot to either move forward or turn, depending on the mode that it is currently in. We encode it by introducing the `make_twist_message` helper function and the `process_clock_message : state -> state` function."
   ]
  },
  {
   "cell_type": "code",
   "execution_count": 6,
   "metadata": {},
   "outputs": [
    {
     "data": {
      "text/plain": [
       "val make_twist_message : int -> int -> outgoing_msg = <fun>\n",
       "val process_clock_message : state -> state = <fun>\n"
      ]
     },
     "execution_count": 6,
     "metadata": {},
     "output_type": "execute_result"
    }
   ],
   "source": [
    "let make_twist_message v omega=\n",
    "  let open Geometry_msgs in\n",
    "  let mkvector x y z =  { vector3_x = x; vector3_y = y; vector3_z = z   } in \n",
    "  Twist { twist_linear  = mkvector v 0 0 ; twist_angular = mkvector 0 0 omega }\n",
    "\n",
    "let process_clock_message state =\n",
    "  match state.mode with \n",
    "  | Driving -> { state with outgoing = Some (make_twist_message 10000 0) } \n",
    "  | Turning -> begin\n",
    "  match state.direction with \n",
    "    | None\n",
    "    | Some ( CW ) -> { state with outgoing = Some (make_twist_message 0   10000) } \n",
    "    | Some (CCW ) -> { state with outgoing = Some (make_twist_message 0 (-10000))} \n",
    "  end"
   ]
  },
  {
   "cell_type": "markdown",
   "metadata": {},
   "source": [
    "On incoming `Scan` message, we want to find the minimum of the received ranges and the index of that minimum in the list. Depending on the index, we decide in which direction to turn. To implement this, we create another helper function and the `process_sensor_message` one:"
   ]
  },
  {
   "cell_type": "code",
   "execution_count": 7,
   "metadata": {},
   "outputs": [
    {
     "data": {
      "text/plain": [
       "val get_min_and_direction : Sensor_msgs.laserScan -> int * direction = <fun>\n",
       "val process_sensor_message : state -> int -> direction -> state = <fun>\n"
      ]
     },
     "execution_count": 7,
     "metadata": {},
     "output_type": "execute_result"
    }
   ],
   "source": [
    "let get_min_and_direction msg =\n",
    "  let max = msg.Sensor_msgs.laserScan_range_max in\n",
    "  let lst = msg.Sensor_msgs.laserScan_ranges in\n",
    "  let min_range = get_min_range max lst in\n",
    "  let mini = foldi ~base:(max, 0)\n",
    "    (fun i a b -> if a < fst b then (a,i) else b) in\n",
    "  let _ , idx = mini lst in\n",
    "  if idx < List.length lst / 2 then min_range, CW else min_range, CCW\n",
    "\n",
    "let process_sensor_message state min_range min_direction =\n",
    "  let dirving_state = \n",
    "    { state with mode = Driving; min_range = None; direction = None } in\n",
    "  let turning_state = \n",
    "    { state with \n",
    "      mode      = Turning\n",
    "    ; direction = Some min_direction\n",
    "    ; min_range = Some min_range \n",
    "    } in  \n",
    "  match state.mode , state.min_range with \n",
    "  | Driving , _    -> if min_range < 20000 then turning_state else dirving_state\n",
    "  | Turning , None -> if min_range > 25000 then dirving_state else turning_state\n",
    "  | Turning , Some old_range -> \n",
    "    if min_range > 25000 then dirving_state\n",
    "    else if min_range > old_range then state else turning_state"
   ]
  },
  {
   "cell_type": "markdown",
   "metadata": {},
   "source": [
    "With the help of these functions, we can create our `one_step` transition function, which just dispatches the messages to the appropriate helper function above."
   ]
  },
  {
   "cell_type": "code",
   "execution_count": 8,
   "metadata": {},
   "outputs": [
    {
     "data": {
      "text/plain": [
       "val one_step : state -> state = <fun>\n"
      ]
     },
     "execution_count": 8,
     "metadata": {},
     "output_type": "execute_result"
    }
   ],
   "source": [
    "let one_step state =\n",
    "  match state.incoming with None -> state | Some in_msg ->\n",
    "  let state = { state with incoming = None; outgoing = None } in\n",
    "  match in_msg with \n",
    "  | Sensor laserScan -> \n",
    "    let min_range, min_direction = get_min_and_direction laserScan in\n",
    "    process_sensor_message state min_range min_direction\n",
    "  | Clock  _ -> process_clock_message state"
   ]
  },
  {
   "cell_type": "markdown",
   "metadata": {},
   "source": [
    "## 2.3 Running the model as a ROS node"
   ]
  },
  {
   "cell_type": "markdown",
   "metadata": {},
   "source": [
    "Now that we have an early model, let's compile it with our ROS node wrapper into an executable. Here is the model, controlling our \"imandrabot\" in the Gazebo simulation environment:"
   ]
  },
  {
   "cell_type": "markdown",
   "metadata": {},
   "source": [
    "![Imandrabot](../images/Imandra_Demo.gif)"
   ]
  },
  {
   "cell_type": "markdown",
   "metadata": {},
   "source": [
    "# 3. Verifying the ROS node model"
   ]
  },
  {
   "cell_type": "markdown",
   "metadata": {},
   "source": [
    "Formal verification is the process of reasoning mathematically about the correctness of computer programs. We'll use Imandra to formally verify some properties of the ROS node model we've created."
   ]
  },
  {
   "cell_type": "markdown",
   "metadata": {},
   "source": [
    "## 3.1 Verifying outgoing `Twist` message at `Clock` ticks "
   ]
  },
  {
   "cell_type": "markdown",
   "metadata": {},
   "source": [
    "Our model is designed in such a way that it updates its state parameters upon `LaserScan` messages and sends out `Twist` control messages in response to `Clock` messages. Let's verify a simple theorem that on every incoming `Clock` message, there is an outgoing `Twist` message. \n",
    "\n",
    "We can formally write this statement down as:\n",
    "\n",
    "$$ \\forall s. IsClock(IncomingMessage(s)) \\,\\Rightarrow\\, IsTwist(OutgoingMessage(OneStep(s))) $$\n",
    "\n",
    "eaning that for every state $s$, if the state contains an incoming message and this message is a `Clock` message, then the state's `outgoing` message is a `Twist` after we've called `one_step` on it.  \n",
    "\n",
    "We can almost literally encode this formal expression as an Imandra `theorem`:"
   ]
  },
  {
   "cell_type": "code",
   "execution_count": 9,
   "metadata": {},
   "outputs": [
    {
     "data": {
      "text/plain": [
       "val is_clock : incoming_msg option -> bool = <fun>\n",
       "val is_twist : outgoing_msg option -> bool = <fun>\n",
       "val clock_creates_outbound : state -> bool = <fun>\n"
      ]
     },
     "execution_count": 9,
     "metadata": {},
     "output_type": "execute_result"
    },
    {
     "data": {
      "text/html": [
       "<div><div>Proved<div class=\"imandra-alternatives\" id=\"alt-f1be6d37-d731-447e-a9c6-ea23bb95f944\"><ul class=\"nav nav-tabs\"><li class=\"active\" data-toggle=\"tab\"><a>proof</a></li><li class=\"\" data-toggle=\"tab\"><a>call graph</a></li></ul><div class=\"tab-content\"><div class=\"tab-pane active\"><div class=\"imandra-proof-top\"><div class=\"imandra-fold panel panel-default\" id=\"fold-0de019cb-38ee-4eef-a36f-2971c093dc88\"><div class=\"panel-heading\"><div><i class=\"fa fa-chevron-down hidden\"></i><i class=\"fa fa-chevron-right\"></i><span>proof</span></div></div><div class=\"panel-body collapse\"><div class=\"imandra-proof\"><div class=\"imandra-alternatives\" id=\"alt-f61a2dad-0a51-43cc-a37a-943d2ae77880\"><ul class=\"nav nav-tabs\"><li class=\"active\" data-toggle=\"tab\"><a>summary</a></li><li class=\"\" data-toggle=\"tab\"><a>full</a></li><li class=\"\" data-toggle=\"tab\"><a>graph</a></li></ul><div class=\"tab-content\"><div class=\"tab-pane active\"><div class=\"imandra-table\" id=\"table-be3c65c7-9ca6-4f6b-aeb8-8e10a4cc8d02\"><table><tr><td><b>ground_instances</b></td><td>0</td></tr><tr><td><b>definitions</b></td><td>0</td></tr><tr><td><b>inductions</b></td><td>0</td></tr><tr><td><b>search_time</b></td><td><pre>0.007s</pre></td></tr><tr><td><b>details</b></td><td><div class=\"imandra-fold panel panel-default\" id=\"fold-2d50c510-8cfc-4042-a711-abf2690cad77\"><div class=\"panel-heading\"><div><i class=\"fa fa-chevron-down hidden\"></i><i class=\"fa fa-chevron-right\"></i><span>Expand</span></div></div><div class=\"panel-body collapse\"><div class=\"imandra-table\" id=\"table-1bdb4cee-efa3-48cb-a8a6-605116bfe1a4\"><table><tr><td><b>smt_stats</b></td><td><div class=\"imandra-table\" id=\"table-0b50a096-4407-4a7b-93e6-9ad2ef874987\"><table><tr><td><b>num checks</b></td><td>2</td></tr><tr><td><b>arith assert lower</b></td><td>2</td></tr><tr><td><b>rlimit count</b></td><td>1799</td></tr><tr><td><b>mk clause</b></td><td>39</td></tr><tr><td><b>mk bool var</b></td><td>209</td></tr><tr><td><b>arith assert upper</b></td><td>2</td></tr><tr><td><b>datatype splits</b></td><td>26</td></tr><tr><td><b>decisions</b></td><td>17</td></tr><tr><td><b>propagations</b></td><td>35</td></tr><tr><td><b>conflicts</b></td><td>10</td></tr><tr><td><b>datatype accessor ax</b></td><td>47</td></tr><tr><td><b>datatype constructor ax</b></td><td>33</td></tr><tr><td><b>num allocs</b></td><td>582648532</td></tr><tr><td><b>added eqs</b></td><td>284</td></tr><tr><td><b>del clause</b></td><td>3</td></tr><tr><td><b>arith eq adapter</b></td><td>1</td></tr><tr><td><b>memory</b></td><td>14.260000</td></tr><tr><td><b>max memory</b></td><td>19.550000</td></tr></table></div></td></tr></table></div></div><script>\n",
       "require(['nbextensions/nbimandra/fold'], function (fold) {\n",
       "  var target = '#fold-2d50c510-8cfc-4042-a711-abf2690cad77';\n",
       "  fold.hydrate(target);\n",
       "});\n",
       "</script></div></td></tr></table></div></div><div class=\"tab-pane\"><div class=\"imandra-fold panel panel-default\" id=\"fold-b70fcaaf-aba6-4b78-bcab-5c318029bb03\"><div class=\"panel-heading\"><div><i class=\"fa fa-chevron-down hidden\"></i><i class=\"fa fa-chevron-right\"></i><span>Expand</span></div></div><div class=\"panel-body collapse\"><ul><li><pre>start[0.007s]\n",
       "  (if Is_a(Clock, Option.get :var_0:.incoming)\n",
       "      &amp;&amp; Is_a(Some, :var_0:.incoming)\n",
       "   then true else false)\n",
       "  ==&gt; (if Is_a(Twist,\n",
       "          Option.get\n",
       "          (if :var_0:.incoming = None then :var_0: else …).outgoing)\n",
       "          &amp;&amp; Is_a(Some,\n",
       "             (if :var_0:.incoming = None then :var_0: else …).outgoing)\n",
       "       then true else false)</pre></li><li><div><h4>simplify</h4><div class=\"imandra-table\" id=\"table-6f12505f-62d6-4927-afda-f79f3bd87991\"><table><tr><td><b>into</b></td><td><pre>not\n",
       "(Is_a(Clock, Option.get :var_0:.incoming) &amp;&amp; Is_a(Some, :var_0:.incoming))\n",
       "|| Is_a(Twist,\n",
       "   Option.get (if :var_0:.incoming = None then :var_0: else …).outgoing)\n",
       "   &amp;&amp; Is_a(Some, (if :var_0:.incoming = None then :var_0: else …).outgoing)</pre></td></tr><tr><td><b>expansions</b></td><td><pre>[]</pre></td></tr><tr><td><b>rewrite_steps</b></td><td><ul></ul></td></tr><tr><td><b>forward_chaining</b></td><td><ul></ul></td></tr></table></div></div></li><li><div><h4>unsat</h4><pre>(let ((a!1 (Sensor_msgs.laserScan_ranges_2144\n",
       "             (get.Sensor.0_2337 (get.Some.0_2339 (inco…</pre></div></li></ul></div><script>\n",
       "require(['nbextensions/nbimandra/fold'], function (fold) {\n",
       "  var target = '#fold-b70fcaaf-aba6-4b78-bcab-5c318029bb03';\n",
       "  fold.hydrate(target);\n",
       "});\n",
       "</script></div></div><div class=\"tab-pane\"><div class=\"imandra-graphviz\" id=\"graphviz-f1c37018-159e-4996-9296-9a611892473f\"><textarea style=\"display: none\">digraph &quot;proof&quot; {\n",
       "p_205 [label=&quot;Start ((if Is_a(Clock, Option.get :var_0:.incoming)\\l           &amp;&amp; Is_a(Some, :var_0:.incoming)\\l        then true else false)\\l       ==\\&gt; (if Is_a(Twist,\\l               Option.get\\l               (if :var_0:.incoming = None then :var_0: else …).outgoing)\\l               &amp;&amp; Is_a(Some,\\l                  (if :var_0:.incoming = None then :var_0: else …).outgoing)\\l            then true else false)\\l       :time 0.007s)&quot;,shape=box,style=filled,fontname=&quot;courier&quot;,fontsize=14];\n",
       "p_205 -&gt; p_204 [label=&quot;&quot;];\n",
       "p_204 [label=&quot;Simplify (not\\l          (Is_a(Clock, Option.get :var_0:.incoming)\\l           &amp;&amp; Is_a(Some, :var_0:.incoming))\\l          \\|\\| Is_a(Twist,\\l             Option.get\\l             (if :var_0:.incoming = None then :var_0: else …).outgoing)\\l             &amp;&amp; Is_a(Some,\\l                (if :var_0:.incoming = None then :var_0: else …).outgoing)\\l          :expansions [] :rw [] :fc [])&quot;,shape=box,style=filled,fontname=&quot;courier&quot;,fontsize=14];\n",
       "p_204 -&gt; p_203 [label=&quot;&quot;];\n",
       "p_203 -&gt; p_z3_1031 [label=&quot;&quot;,fontname=&quot;courier&quot;,fontsize=14];\n",
       "p_z3_1031 [label=&quot;(let ((a!1 (Sensor_msgs.laserScan_ranges_2144\n",
       "             (get.Sensor.0_2337 (get.Some.0_2339 (inco…&quot;,shape=box,fontname=&quot;courier&quot;,fontsize=14];p_203 [label=&quot;unsat&quot;,shape=box,style=filled,fontname=&quot;courier&quot;,fontsize=14];\n",
       "}\n",
       "</textarea><button class=\"btn btn-primary\">Load graph</button><div class=\"imandra-graphviz-loading display-none\">Loading..</div><div class=\"imandra-graphviz-target\"></div><script>\n",
       "require(['nbextensions/nbimandra/graphviz'], function (graphviz) {\n",
       "  var target = '#graphviz-f1c37018-159e-4996-9296-9a611892473f';\n",
       "  graphviz.hydrate(target);\n",
       "});\n",
       "</script></div></div></div><script>\n",
       "require(['nbextensions/nbimandra/alternatives'], function (alternatives) {\n",
       "  var target = '#alt-f61a2dad-0a51-43cc-a37a-943d2ae77880';\n",
       "  alternatives.hydrate(target);\n",
       "});\n",
       "</script></div></div></div><script>\n",
       "require(['nbextensions/nbimandra/fold'], function (fold) {\n",
       "  var target = '#fold-0de019cb-38ee-4eef-a36f-2971c093dc88';\n",
       "  fold.hydrate(target);\n",
       "});\n",
       "</script></div></div></div><div class=\"tab-pane\"><div class=\"imandra-graphviz\" id=\"graphviz-7413ec46-2cb5-446e-b2dd-03e9103cb732\"><textarea style=\"display: none\">digraph &quot;call graph&quot; {\n",
       "goal [label=&quot;not\\l(not (Is_a(Clock, Option.get state.incoming) &amp;&amp; Is_a(Some, state.incoming))\\l \\|\\| Is_a(Twist,\\l    Option.get (if state.incoming = None then state else …).outgoing)\\l    &amp;&amp; Is_a(Some, (if state.incoming = None then state else …).outgoing))&quot;,shape=box,style=filled,color=&quot;cyan&quot;,fontname=&quot;courier&quot;,fontsize=14];\n",
       "call_193 [label=&quot;List.fold_right anon_fun.get_min_range.0\\l(Destruct(Sensor, 0, Option.get …)).Sensor_msgs.laserScan_range_max\\l(Destruct(Sensor, 0, Option.get …)).Sensor_msgs.laserScan_ranges&quot;,shape=box,style=filled,color=&quot;yellow&quot;,fontname=&quot;courier&quot;,fontsize=14];\n",
       "goal -&gt; call_193 [label=&quot;calls&quot;];\n",
       "call_184 [label=&quot;List.length\\l(Destruct(Sensor, 0, Option.get …)).Sensor_msgs.laserScan_ranges&quot;,shape=box,style=filled,color=&quot;yellow&quot;,fontname=&quot;courier&quot;,fontsize=14];\n",
       "goal -&gt; call_184 [label=&quot;calls&quot;];\n",
       "call_189 [label=&quot;foldi ((Destruct(Sensor, 0, …)).Sensor_msgs.laserScan_range_max, 0) None\\lanon_fun.get_min_and_direction.0\\l(Destruct(Sensor, 0, …)).Sensor_msgs.laserScan_ranges&quot;,shape=box,style=filled,color=&quot;yellow&quot;,fontname=&quot;courier&quot;,fontsize=14];\n",
       "goal -&gt; call_189 [label=&quot;calls&quot;];\n",
       "}\n",
       "</textarea><button class=\"btn btn-primary\">Load graph</button><div class=\"imandra-graphviz-loading display-none\">Loading..</div><div class=\"imandra-graphviz-target\"></div><script>\n",
       "require(['nbextensions/nbimandra/graphviz'], function (graphviz) {\n",
       "  var target = '#graphviz-7413ec46-2cb5-446e-b2dd-03e9103cb732';\n",
       "  graphviz.hydrate(target);\n",
       "});\n",
       "</script></div></div></div><script>\n",
       "require(['nbextensions/nbimandra/alternatives'], function (alternatives) {\n",
       "  var target = '#alt-f1be6d37-d731-447e-a9c6-ea23bb95f944';\n",
       "  alternatives.hydrate(target);\n",
       "});\n",
       "</script></div></div></div>\n"
      ]
     },
     "metadata": {},
     "output_type": "display_data"
    }
   ],
   "source": [
    "let is_clock msg = match msg with  Some ( Clock _ ) -> true | _ -> false ;;\n",
    "let is_twist msg = match msg with  Some ( Twist _ ) -> true | _ -> false ;;\n",
    "\n",
    "theorem clock_creates_outbound state =\n",
    "  is_clock state.incoming ==> is_twist (one_step state).outgoing"
   ]
  },
  {
   "cell_type": "markdown",
   "metadata": {},
   "source": [
    "One can see that Imandra says that it \"Proved\" the theorem, meaning that Imandra has formally checked that this property holds for all possible input states. "
   ]
  },
  {
   "cell_type": "markdown",
   "metadata": {},
   "source": [
    "## 3.2 Verifying that we never drive backwards "
   ]
  },
  {
   "cell_type": "markdown",
   "metadata": {},
   "source": [
    "As another example, let us check that, no matter what, the node will never send out a message with negative linear velocity."
   ]
  },
  {
   "cell_type": "code",
   "execution_count": 10,
   "metadata": {},
   "outputs": [
    {
     "data": {
      "text/plain": [
       "val no_moving_back : outgoing_msg option -> bool = <fun>\n",
       "- : state -> bool = <fun>\n",
       "module CX : sig val state : state end\n"
      ]
     },
     "execution_count": 10,
     "metadata": {},
     "output_type": "execute_result"
    }
   ],
   "source": [
    "let no_moving_back msg = \n",
    "    let open Geometry_msgs in\n",
    "    match msg with None -> true \n",
    "    | Some (Twist data) -> data.twist_linear.vector3_x >= 0\n",
    "  \n",
    "verify ( fun state -> no_moving_back (one_step state).outgoing  )"
   ]
  },
  {
   "cell_type": "markdown",
   "metadata": {},
   "source": [
    "We have failed to prove the statement and Imandra have created a counterexample `CX` module for us. This module  contains concrete values for the parameters of the verified statement, that violate the statement's condition. Let's examine the value of `CX.state`:"
   ]
  },
  {
   "cell_type": "code",
   "execution_count": 11,
   "metadata": {},
   "outputs": [
    {
     "data": {
      "text/plain": [
       "- : state =\n",
       "{mode = Turning; min_range = Some 2282; direction = None; incoming = None;\n",
       " outgoing =\n",
       "  Some\n",
       "   (Twist\n",
       "     {Geometry_msgs.twist_linear =\n",
       "       {Geometry_msgs.vector3_x = -1; vector3_y = 9; vector3_z = 10};\n",
       "      twist_angular =\n",
       "       {Geometry_msgs.vector3_x = 11; vector3_y = 12; vector3_z = 13}})}\n"
      ]
     },
     "execution_count": 11,
     "metadata": {},
     "output_type": "execute_result"
    }
   ],
   "source": [
    "CX.state"
   ]
  },
  {
   "cell_type": "markdown",
   "metadata": {},
   "source": [
    "The counterexample `state` produced by imandra has the `incoming` message set to `None` and the `outgoing` message set to a `Twist` message with negative `linear.x`. Our `one_step` function keeps the state unchanged if the incoming message is empty. \n",
    "\n",
    "We can either consider this behavior as a bug and change our `one_step` implementation; or we can consider this a normal behavior and amend our theorem, adding the non-empty incoming message as an extra premise of the theorem: "
   ]
  },
  {
   "cell_type": "code",
   "execution_count": 12,
   "metadata": {},
   "outputs": [
    {
     "data": {
      "text/plain": [
       "val never_goes_back : state -> bool = <fun>\n"
      ]
     },
     "execution_count": 12,
     "metadata": {},
     "output_type": "execute_result"
    },
    {
     "data": {
      "text/html": [
       "<div><div>Proved<div class=\"imandra-alternatives\" id=\"alt-2d86a390-4267-48d1-a20f-36862bca4836\"><ul class=\"nav nav-tabs\"><li class=\"active\" data-toggle=\"tab\"><a>proof</a></li><li class=\"\" data-toggle=\"tab\"><a>call graph</a></li></ul><div class=\"tab-content\"><div class=\"tab-pane active\"><div class=\"imandra-proof-top\"><div class=\"imandra-fold panel panel-default\" id=\"fold-1706168c-f888-4ad1-8f16-2054bd91b05e\"><div class=\"panel-heading\"><div><i class=\"fa fa-chevron-down hidden\"></i><i class=\"fa fa-chevron-right\"></i><span>proof</span></div></div><div class=\"panel-body collapse\"><div class=\"imandra-proof\"><div class=\"imandra-alternatives\" id=\"alt-78ca7401-f285-4a05-92e0-5275e6115470\"><ul class=\"nav nav-tabs\"><li class=\"active\" data-toggle=\"tab\"><a>summary</a></li><li class=\"\" data-toggle=\"tab\"><a>full</a></li><li class=\"\" data-toggle=\"tab\"><a>graph</a></li></ul><div class=\"tab-content\"><div class=\"tab-pane active\"><div class=\"imandra-table\" id=\"table-f1de9a67-e488-4c99-82c1-2442606226d8\"><table><tr><td><b>ground_instances</b></td><td>0</td></tr><tr><td><b>definitions</b></td><td>0</td></tr><tr><td><b>inductions</b></td><td>0</td></tr><tr><td><b>search_time</b></td><td><pre>0.008s</pre></td></tr><tr><td><b>details</b></td><td><div class=\"imandra-fold panel panel-default\" id=\"fold-d61d29fc-3a1f-4799-bfad-aea8dd8caaeb\"><div class=\"panel-heading\"><div><i class=\"fa fa-chevron-down hidden\"></i><i class=\"fa fa-chevron-right\"></i><span>Expand</span></div></div><div class=\"panel-body collapse\"><div class=\"imandra-table\" id=\"table-b3d87802-cbf6-4bf0-9458-fd1b8afa43c2\"><table><tr><td><b>smt_stats</b></td><td><div class=\"imandra-table\" id=\"table-7c1c9592-7b78-44e8-bf2a-08b1447818ea\"><table><tr><td><b>num checks</b></td><td>2</td></tr><tr><td><b>arith assert lower</b></td><td>3</td></tr><tr><td><b>rlimit count</b></td><td>2372</td></tr><tr><td><b>mk clause</b></td><td>48</td></tr><tr><td><b>mk bool var</b></td><td>282</td></tr><tr><td><b>arith assert upper</b></td><td>14</td></tr><tr><td><b>datatype splits</b></td><td>28</td></tr><tr><td><b>decisions</b></td><td>56</td></tr><tr><td><b>propagations</b></td><td>162</td></tr><tr><td><b>conflicts</b></td><td>21</td></tr><tr><td><b>datatype accessor ax</b></td><td>57</td></tr><tr><td><b>minimized lits</b></td><td>7</td></tr><tr><td><b>arith assert diseq</b></td><td>2</td></tr><tr><td><b>datatype constructor ax</b></td><td>74</td></tr><tr><td><b>num allocs</b></td><td>631211767</td></tr><tr><td><b>added eqs</b></td><td>534</td></tr><tr><td><b>del clause</b></td><td>3</td></tr><tr><td><b>arith eq adapter</b></td><td>5</td></tr><tr><td><b>memory</b></td><td>20.910000</td></tr><tr><td><b>max memory</b></td><td>20.910000</td></tr></table></div></td></tr></table></div></div><script>\n",
       "require(['nbextensions/nbimandra/fold'], function (fold) {\n",
       "  var target = '#fold-d61d29fc-3a1f-4799-bfad-aea8dd8caaeb';\n",
       "  fold.hydrate(target);\n",
       "});\n",
       "</script></div></td></tr></table></div></div><div class=\"tab-pane\"><div class=\"imandra-fold panel panel-default\" id=\"fold-07839b43-580e-4343-96da-496fcb866730\"><div class=\"panel-heading\"><div><i class=\"fa fa-chevron-down hidden\"></i><i class=\"fa fa-chevron-right\"></i><span>Expand</span></div></div><div class=\"panel-body collapse\"><ul><li><pre>start[0.008s]\n",
       "  not (:var_0:.incoming = None)\n",
       "  ==&gt; (if (if :var_0:.incoming = None then :var_0:\n",
       "           else\n",
       "           if Is_a(Sensor, Option.get :var_0:.incoming)\n",
       "           then if ….mode = Driving then … else …\n",
       "           else if ….mode = Driving then … else …).outgoing\n",
       "          = None\n",
       "       then true\n",
       "       else\n",
       "         (Destruct(Twist, 0, …)).Geometry_msgs.twist_linear.Geometry_msgs.vector3_x\n",
       "         &gt;= 0)</pre></li><li><div><h4>simplify</h4><div class=\"imandra-table\" id=\"table-14cc5813-9114-40e7-887e-6d39059fdb0c\"><table><tr><td><b>into</b></td><td><pre>(:var_0:.incoming = None\n",
       " || (if :var_0:.incoming = None then :var_0:\n",
       "     else\n",
       "     if Is_a(Sensor, Option.get :var_0:.incoming)\n",
       "     then if :var_0:.mode = Driving then … else …\n",
       "     else if :var_0:.mode = Driving then … else …).outgoing\n",
       "    = None)\n",
       "|| (Destruct(Twist, 0,\n",
       "             Option.get\n",
       "             (if :var_0:.incoming = None then :var_0:\n",
       "              else\n",
       "              if Is_a(Sensor, Option.get :var_0:.incoming)\n",
       "              then if :var_0:.mode = Driving then … else …\n",
       "              else if :var_0:.mode = Driving then … else …).outgoing)).Geometry_msgs.twist_linear.Geometry_msgs.vector3_x\n",
       "   &gt;= 0</pre></td></tr><tr><td><b>expansions</b></td><td><pre>[]</pre></td></tr><tr><td><b>rewrite_steps</b></td><td><ul></ul></td></tr><tr><td><b>forward_chaining</b></td><td><ul></ul></td></tr></table></div></div></li><li><div><h4>unsat</h4><pre>(let ((a!1 (Sensor_msgs.laserScan_ranges_2144\n",
       "             (get.Sensor.0_2480 (get.Some.0_2482 (inco…</pre></div></li></ul></div><script>\n",
       "require(['nbextensions/nbimandra/fold'], function (fold) {\n",
       "  var target = '#fold-07839b43-580e-4343-96da-496fcb866730';\n",
       "  fold.hydrate(target);\n",
       "});\n",
       "</script></div></div><div class=\"tab-pane\"><div class=\"imandra-graphviz\" id=\"graphviz-3871849e-134a-408a-a6f3-8352146335e8\"><textarea style=\"display: none\">digraph &quot;proof&quot; {\n",
       "p_214 [label=&quot;Start (not (:var_0:.incoming = None)\\l       ==\\&gt; (if (if :var_0:.incoming = None then :var_0:\\l                else\\l                if Is_a(Sensor, Option.get :var_0:.incoming)\\l                then if ….mode = Driving then … else …\\l                else if ….mode = Driving then … else …).outgoing\\l               = None\\l            then true\\l            else\\l              (Destruct(Twist, 0, …)).Geometry_msgs.twist_linear.Geometry_msgs.vector3_x\\l              \\&gt;= 0)\\l       :time 0.008s)&quot;,shape=box,style=filled,fontname=&quot;courier&quot;,fontsize=14];\n",
       "p_214 -&gt; p_213 [label=&quot;&quot;];\n",
       "p_213 [label=&quot;Simplify ((:var_0:.incoming = None\\l           \\|\\| (if :var_0:.incoming = None then :var_0:\\l               else\\l               if Is_a(Sensor, Option.get :var_0:.incoming)\\l               then if :var_0:.mode = Driving then … else …\\l               else if :var_0:.mode = Driving then … else …).outgoing\\l              = None)\\l          \\|\\| (Destruct(Twist, 0,\\l                       Option.get\\l                       (if :var_0:.incoming = None then :var_0:\\l                        else\\l                        if Is_a(Sensor, Option.get :var_0:.incoming)\\l                        then if :var_0:.mode = Driving then … else …\\l                        else if :var_0:.mode = Driving then … else …).outgoing)).Geometry_msgs.twist_linear.Geometry_msgs.vector3_x\\l             \\&gt;= 0\\l          :expansions [] :rw [] :fc [])&quot;,shape=box,style=filled,fontname=&quot;courier&quot;,fontsize=14];\n",
       "p_213 -&gt; p_212 [label=&quot;&quot;];\n",
       "p_212 -&gt; p_z3_1376 [label=&quot;&quot;,fontname=&quot;courier&quot;,fontsize=14];\n",
       "p_z3_1376 [label=&quot;(let ((a!1 (Sensor_msgs.laserScan_ranges_2144\n",
       "             (get.Sensor.0_2480 (get.Some.0_2482 (inco…&quot;,shape=box,fontname=&quot;courier&quot;,fontsize=14];p_212 [label=&quot;unsat&quot;,shape=box,style=filled,fontname=&quot;courier&quot;,fontsize=14];\n",
       "}\n",
       "</textarea><button class=\"btn btn-primary\">Load graph</button><div class=\"imandra-graphviz-loading display-none\">Loading..</div><div class=\"imandra-graphviz-target\"></div><script>\n",
       "require(['nbextensions/nbimandra/graphviz'], function (graphviz) {\n",
       "  var target = '#graphviz-3871849e-134a-408a-a6f3-8352146335e8';\n",
       "  graphviz.hydrate(target);\n",
       "});\n",
       "</script></div></div></div><script>\n",
       "require(['nbextensions/nbimandra/alternatives'], function (alternatives) {\n",
       "  var target = '#alt-78ca7401-f285-4a05-92e0-5275e6115470';\n",
       "  alternatives.hydrate(target);\n",
       "});\n",
       "</script></div></div></div><script>\n",
       "require(['nbextensions/nbimandra/fold'], function (fold) {\n",
       "  var target = '#fold-1706168c-f888-4ad1-8f16-2054bd91b05e';\n",
       "  fold.hydrate(target);\n",
       "});\n",
       "</script></div></div></div><div class=\"tab-pane\"><div class=\"imandra-graphviz\" id=\"graphviz-ce873fdd-b1c8-45c8-9968-6b7c6d5d117f\"><textarea style=\"display: none\">digraph &quot;call graph&quot; {\n",
       "goal [label=&quot;not\\l((state.incoming = None\\l  \\|\\| (if state.incoming = None then state\\l      else\\l      if Is_a(Sensor, Option.get state.incoming)\\l      then if state.mode = Driving then … else …\\l      else if state.mode = Driving then … else …).outgoing\\l     = None)\\l \\|\\| (Destruct(Twist, 0,\\l              Option.get\\l              (if state.incoming = None then state\\l               else\\l               if Is_a(Sensor, Option.get state.incoming)\\l               then if state.mode = Driving then … else …\\l               else if state.mode = Driving then … else …).outgoing)).Geometry_msgs.twist_linear.Geometry_msgs.vector3_x\\l    \\&gt;= 0)&quot;,shape=box,style=filled,color=&quot;cyan&quot;,fontname=&quot;courier&quot;,fontsize=14];\n",
       "call_177 [label=&quot;foldi ((Destruct(Sensor, 0, …)).Sensor_msgs.laserScan_range_max, 0) None\\lanon_fun.get_min_and_direction.0\\l(Destruct(Sensor, 0, …)).Sensor_msgs.laserScan_ranges&quot;,shape=box,style=filled,color=&quot;yellow&quot;,fontname=&quot;courier&quot;,fontsize=14];\n",
       "goal -&gt; call_177 [label=&quot;calls&quot;];\n",
       "call_172 [label=&quot;List.length\\l(Destruct(Sensor, 0, Option.get …)).Sensor_msgs.laserScan_ranges&quot;,shape=box,style=filled,color=&quot;yellow&quot;,fontname=&quot;courier&quot;,fontsize=14];\n",
       "goal -&gt; call_172 [label=&quot;calls&quot;];\n",
       "call_181 [label=&quot;List.fold_right anon_fun.get_min_range.0\\l(Destruct(Sensor, 0, Option.get …)).Sensor_msgs.laserScan_range_max\\l(Destruct(Sensor, 0, Option.get …)).Sensor_msgs.laserScan_ranges&quot;,shape=box,style=filled,color=&quot;yellow&quot;,fontname=&quot;courier&quot;,fontsize=14];\n",
       "goal -&gt; call_181 [label=&quot;calls&quot;];\n",
       "}\n",
       "</textarea><button class=\"btn btn-primary\">Load graph</button><div class=\"imandra-graphviz-loading display-none\">Loading..</div><div class=\"imandra-graphviz-target\"></div><script>\n",
       "require(['nbextensions/nbimandra/graphviz'], function (graphviz) {\n",
       "  var target = '#graphviz-ce873fdd-b1c8-45c8-9968-6b7c6d5d117f';\n",
       "  graphviz.hydrate(target);\n",
       "});\n",
       "</script></div></div></div><script>\n",
       "require(['nbextensions/nbimandra/alternatives'], function (alternatives) {\n",
       "  var target = '#alt-2d86a390-4267-48d1-a20f-36862bca4836';\n",
       "  alternatives.hydrate(target);\n",
       "});\n",
       "</script></div></div></div>\n"
      ]
     },
     "metadata": {},
     "output_type": "display_data"
    }
   ],
   "source": [
    "theorem never_goes_back state = \n",
    "  state.incoming <> None\n",
    "  ==>\n",
    "  no_moving_back (one_step state).outgoing  "
   ]
  },
  {
   "cell_type": "markdown",
   "metadata": {},
   "source": [
    "We've proven that the model never creates negative linear speed in response to any incoming message - alternatively we can set `state.outgoing = None` as a premise, proving that an empty `outgoing` message is never filled with a `Twist` with negative velocity:"
   ]
  },
  {
   "cell_type": "code",
   "execution_count": 13,
   "metadata": {},
   "outputs": [
    {
     "data": {
      "text/plain": [
       "val never_goes_back_alt : state -> bool = <fun>\n"
      ]
     },
     "execution_count": 13,
     "metadata": {},
     "output_type": "execute_result"
    },
    {
     "data": {
      "text/html": [
       "<div><div>Proved<div class=\"imandra-alternatives\" id=\"alt-5feb2b59-0d8e-4189-9fae-8c3057bb27fb\"><ul class=\"nav nav-tabs\"><li class=\"active\" data-toggle=\"tab\"><a>proof</a></li><li class=\"\" data-toggle=\"tab\"><a>call graph</a></li></ul><div class=\"tab-content\"><div class=\"tab-pane active\"><div class=\"imandra-proof-top\"><div class=\"imandra-fold panel panel-default\" id=\"fold-5e02d839-6f5a-4083-a6fa-914a74cd5da4\"><div class=\"panel-heading\"><div><i class=\"fa fa-chevron-down hidden\"></i><i class=\"fa fa-chevron-right\"></i><span>proof</span></div></div><div class=\"panel-body collapse\"><div class=\"imandra-proof\"><div class=\"imandra-alternatives\" id=\"alt-a10581d6-50c0-485b-b066-4cde369dc6cd\"><ul class=\"nav nav-tabs\"><li class=\"active\" data-toggle=\"tab\"><a>summary</a></li><li class=\"\" data-toggle=\"tab\"><a>full</a></li><li class=\"\" data-toggle=\"tab\"><a>graph</a></li></ul><div class=\"tab-content\"><div class=\"tab-pane active\"><div class=\"imandra-table\" id=\"table-e72edcc2-91db-40ff-847b-fe119fb76aff\"><table><tr><td><b>ground_instances</b></td><td>0</td></tr><tr><td><b>definitions</b></td><td>0</td></tr><tr><td><b>inductions</b></td><td>0</td></tr><tr><td><b>search_time</b></td><td><pre>0.009s</pre></td></tr><tr><td><b>details</b></td><td><div class=\"imandra-fold panel panel-default\" id=\"fold-4d9bb8d7-616d-4394-a1fa-fbf65226c344\"><div class=\"panel-heading\"><div><i class=\"fa fa-chevron-down hidden\"></i><i class=\"fa fa-chevron-right\"></i><span>Expand</span></div></div><div class=\"panel-body collapse\"><div class=\"imandra-table\" id=\"table-3586c2b9-72c8-4f43-9cfe-d665b8e034e9\"><table><tr><td><b>smt_stats</b></td><td><div class=\"imandra-table\" id=\"table-58bb545f-1bc9-40dc-a0cc-4f0e25648ea8\"><table><tr><td><b>num checks</b></td><td>2</td></tr><tr><td><b>arith assert lower</b></td><td>3</td></tr><tr><td><b>rlimit count</b></td><td>2521</td></tr><tr><td><b>mk clause</b></td><td>51</td></tr><tr><td><b>mk bool var</b></td><td>265</td></tr><tr><td><b>arith assert upper</b></td><td>10</td></tr><tr><td><b>datatype splits</b></td><td>27</td></tr><tr><td><b>decisions</b></td><td>53</td></tr><tr><td><b>propagations</b></td><td>178</td></tr><tr><td><b>conflicts</b></td><td>23</td></tr><tr><td><b>datatype accessor ax</b></td><td>58</td></tr><tr><td><b>minimized lits</b></td><td>5</td></tr><tr><td><b>arith assert diseq</b></td><td>2</td></tr><tr><td><b>datatype constructor ax</b></td><td>63</td></tr><tr><td><b>num allocs</b></td><td>663326816</td></tr><tr><td><b>added eqs</b></td><td>495</td></tr><tr><td><b>del clause</b></td><td>5</td></tr><tr><td><b>arith eq adapter</b></td><td>5</td></tr><tr><td><b>memory</b></td><td>24.860000</td></tr><tr><td><b>max memory</b></td><td>24.860000</td></tr></table></div></td></tr></table></div></div><script>\n",
       "require(['nbextensions/nbimandra/fold'], function (fold) {\n",
       "  var target = '#fold-4d9bb8d7-616d-4394-a1fa-fbf65226c344';\n",
       "  fold.hydrate(target);\n",
       "});\n",
       "</script></div></td></tr></table></div></div><div class=\"tab-pane\"><div class=\"imandra-fold panel panel-default\" id=\"fold-d123d3de-7de1-477f-8d4d-e06cb48c6405\"><div class=\"panel-heading\"><div><i class=\"fa fa-chevron-down hidden\"></i><i class=\"fa fa-chevron-right\"></i><span>Expand</span></div></div><div class=\"panel-body collapse\"><ul><li><pre>start[0.009s]\n",
       "  :var_0:.outgoing = None\n",
       "  ==&gt; (if (if :var_0:.incoming = None then :var_0:\n",
       "           else\n",
       "           if Is_a(Sensor, Option.get :var_0:.incoming)\n",
       "           then if ….mode = Driving then … else …\n",
       "           else if ….mode = Driving then … else …).outgoing\n",
       "          = None\n",
       "       then true\n",
       "       else\n",
       "         (Destruct(Twist, 0, …)).Geometry_msgs.twist_linear.Geometry_msgs.vector3_x\n",
       "         &gt;= 0)</pre></li><li><div><h4>simplify</h4><div class=\"imandra-table\" id=\"table-39aae744-0950-4ecf-a0ad-1d08578c3565\"><table><tr><td><b>into</b></td><td><pre>(not (:var_0:.outgoing = None)\n",
       " || (if :var_0:.incoming = None then :var_0:\n",
       "     else\n",
       "     if Is_a(Sensor, Option.get :var_0:.incoming)\n",
       "     then if :var_0:.mode = Driving then … else …\n",
       "     else if :var_0:.mode = Driving then … else …).outgoing\n",
       "    = None)\n",
       "|| (Destruct(Twist, 0,\n",
       "             Option.get\n",
       "             (if :var_0:.incoming = None then :var_0:\n",
       "              else\n",
       "              if Is_a(Sensor, Option.get :var_0:.incoming)\n",
       "              then if :var_0:.mode = Driving then … else …\n",
       "              else if :var_0:.mode = Driving then … else …).outgoing)).Geometry_msgs.twist_linear.Geometry_msgs.vector3_x\n",
       "   &gt;= 0</pre></td></tr><tr><td><b>expansions</b></td><td><pre>[]</pre></td></tr><tr><td><b>rewrite_steps</b></td><td><ul></ul></td></tr><tr><td><b>forward_chaining</b></td><td><ul></ul></td></tr></table></div></div></li><li><div><h4>unsat</h4><pre>(let ((a!1 (Sensor_msgs.laserScan_ranges_2144\n",
       "             (get.Sensor.0_2559 (get.Some.0_2561 (inco…</pre></div></li></ul></div><script>\n",
       "require(['nbextensions/nbimandra/fold'], function (fold) {\n",
       "  var target = '#fold-d123d3de-7de1-477f-8d4d-e06cb48c6405';\n",
       "  fold.hydrate(target);\n",
       "});\n",
       "</script></div></div><div class=\"tab-pane\"><div class=\"imandra-graphviz\" id=\"graphviz-adcdcc23-88b5-4b61-82a0-bfc232f85b51\"><textarea style=\"display: none\">digraph &quot;proof&quot; {\n",
       "p_217 [label=&quot;Start (:var_0:.outgoing = None\\l       ==\\&gt; (if (if :var_0:.incoming = None then :var_0:\\l                else\\l                if Is_a(Sensor, Option.get :var_0:.incoming)\\l                then if ….mode = Driving then … else …\\l                else if ….mode = Driving then … else …).outgoing\\l               = None\\l            then true\\l            else\\l              (Destruct(Twist, 0, …)).Geometry_msgs.twist_linear.Geometry_msgs.vector3_x\\l              \\&gt;= 0)\\l       :time 0.009s)&quot;,shape=box,style=filled,fontname=&quot;courier&quot;,fontsize=14];\n",
       "p_217 -&gt; p_216 [label=&quot;&quot;];\n",
       "p_216 [label=&quot;Simplify ((not (:var_0:.outgoing = None)\\l           \\|\\| (if :var_0:.incoming = None then :var_0:\\l               else\\l               if Is_a(Sensor, Option.get :var_0:.incoming)\\l               then if :var_0:.mode = Driving then … else …\\l               else if :var_0:.mode = Driving then … else …).outgoing\\l              = None)\\l          \\|\\| (Destruct(Twist, 0,\\l                       Option.get\\l                       (if :var_0:.incoming = None then :var_0:\\l                        else\\l                        if Is_a(Sensor, Option.get :var_0:.incoming)\\l                        then if :var_0:.mode = Driving then … else …\\l                        else if :var_0:.mode = Driving then … else …).outgoing)).Geometry_msgs.twist_linear.Geometry_msgs.vector3_x\\l             \\&gt;= 0\\l          :expansions [] :rw [] :fc [])&quot;,shape=box,style=filled,fontname=&quot;courier&quot;,fontsize=14];\n",
       "p_216 -&gt; p_215 [label=&quot;&quot;];\n",
       "p_215 -&gt; p_z3_1396 [label=&quot;&quot;,fontname=&quot;courier&quot;,fontsize=14];\n",
       "p_z3_1396 [label=&quot;(let ((a!1 (Sensor_msgs.laserScan_ranges_2144\n",
       "             (get.Sensor.0_2559 (get.Some.0_2561 (inco…&quot;,shape=box,fontname=&quot;courier&quot;,fontsize=14];p_215 [label=&quot;unsat&quot;,shape=box,style=filled,fontname=&quot;courier&quot;,fontsize=14];\n",
       "}\n",
       "</textarea><button class=\"btn btn-primary\">Load graph</button><div class=\"imandra-graphviz-loading display-none\">Loading..</div><div class=\"imandra-graphviz-target\"></div><script>\n",
       "require(['nbextensions/nbimandra/graphviz'], function (graphviz) {\n",
       "  var target = '#graphviz-adcdcc23-88b5-4b61-82a0-bfc232f85b51';\n",
       "  graphviz.hydrate(target);\n",
       "});\n",
       "</script></div></div></div><script>\n",
       "require(['nbextensions/nbimandra/alternatives'], function (alternatives) {\n",
       "  var target = '#alt-a10581d6-50c0-485b-b066-4cde369dc6cd';\n",
       "  alternatives.hydrate(target);\n",
       "});\n",
       "</script></div></div></div><script>\n",
       "require(['nbextensions/nbimandra/fold'], function (fold) {\n",
       "  var target = '#fold-5e02d839-6f5a-4083-a6fa-914a74cd5da4';\n",
       "  fold.hydrate(target);\n",
       "});\n",
       "</script></div></div></div><div class=\"tab-pane\"><div class=\"imandra-graphviz\" id=\"graphviz-b0f74963-f28a-442f-97e6-b548c7a419fe\"><textarea style=\"display: none\">digraph &quot;call graph&quot; {\n",
       "goal [label=&quot;not\\l((not (state.outgoing = None)\\l  \\|\\| (if state.incoming = None then state\\l      else\\l      if Is_a(Sensor, Option.get state.incoming)\\l      then if state.mode = Driving then … else …\\l      else if state.mode = Driving then … else …).outgoing\\l     = None)\\l \\|\\| (Destruct(Twist, 0,\\l              Option.get\\l              (if state.incoming = None then state\\l               else\\l               if Is_a(Sensor, Option.get state.incoming)\\l               then if state.mode = Driving then … else …\\l               else if state.mode = Driving then … else …).outgoing)).Geometry_msgs.twist_linear.Geometry_msgs.vector3_x\\l    \\&gt;= 0)&quot;,shape=box,style=filled,color=&quot;cyan&quot;,fontname=&quot;courier&quot;,fontsize=14];\n",
       "call_233 [label=&quot;List.fold_right anon_fun.get_min_range.0\\l(Destruct(Sensor, 0, Option.get …)).Sensor_msgs.laserScan_range_max\\l(Destruct(Sensor, 0, Option.get …)).Sensor_msgs.laserScan_ranges&quot;,shape=box,style=filled,color=&quot;yellow&quot;,fontname=&quot;courier&quot;,fontsize=14];\n",
       "goal -&gt; call_233 [label=&quot;calls&quot;];\n",
       "call_225 [label=&quot;List.length\\l(Destruct(Sensor, 0, Option.get …)).Sensor_msgs.laserScan_ranges&quot;,shape=box,style=filled,color=&quot;yellow&quot;,fontname=&quot;courier&quot;,fontsize=14];\n",
       "goal -&gt; call_225 [label=&quot;calls&quot;];\n",
       "call_230 [label=&quot;foldi ((Destruct(Sensor, 0, …)).Sensor_msgs.laserScan_range_max, 0) None\\lanon_fun.get_min_and_direction.0\\l(Destruct(Sensor, 0, …)).Sensor_msgs.laserScan_ranges&quot;,shape=box,style=filled,color=&quot;yellow&quot;,fontname=&quot;courier&quot;,fontsize=14];\n",
       "goal -&gt; call_230 [label=&quot;calls&quot;];\n",
       "}\n",
       "</textarea><button class=\"btn btn-primary\">Load graph</button><div class=\"imandra-graphviz-loading display-none\">Loading..</div><div class=\"imandra-graphviz-target\"></div><script>\n",
       "require(['nbextensions/nbimandra/graphviz'], function (graphviz) {\n",
       "  var target = '#graphviz-b0f74963-f28a-442f-97e6-b548c7a419fe';\n",
       "  graphviz.hydrate(target);\n",
       "});\n",
       "</script></div></div></div><script>\n",
       "require(['nbextensions/nbimandra/alternatives'], function (alternatives) {\n",
       "  var target = '#alt-5feb2b59-0d8e-4189-9fae-8c3057bb27fb';\n",
       "  alternatives.hydrate(target);\n",
       "});\n",
       "</script></div></div></div>\n"
      ]
     },
     "metadata": {},
     "output_type": "display_data"
    }
   ],
   "source": [
    "theorem never_goes_back_alt state = \n",
    "  state.outgoing = None\n",
    "  ==>\n",
    "  no_moving_back (one_step state).outgoing  "
   ]
  },
  {
   "cell_type": "markdown",
   "metadata": {},
   "source": [
    "# 4. Inductive proofs. Stopping near objects."
   ]
  },
  {
   "cell_type": "markdown",
   "metadata": {},
   "source": [
    "As a final formal verification goal, we want to be able to prove that the robot stops and starts turning if one of the values in the scanner `ranges` is lower than 0.2 meters. In general, reasoning about variable-sized lists requires inductive proofs - and these might require proving some lemmas to guide Imandra to the proof. So, we will first try to prove a simpler version of the theorem - if all the ranges in the incoming laser scan message are less than 0.2 meters, then we definitely transition to the `Turning` state. We'll try to encode our theorem using `List.for_all` standard function:"
   ]
  },
  {
   "cell_type": "code",
   "execution_count": 14,
   "metadata": {},
   "outputs": [
    {
     "data": {
      "text/plain": [
       "- : state -> bool = <fun>\n",
       "module CX : sig val state : state end\n"
      ]
     },
     "execution_count": 14,
     "metadata": {},
     "output_type": "execute_result"
    }
   ],
   "source": [
    "verify ( fun state ->\n",
    "  let open Sensor_msgs in\n",
    "  match state.incoming with None | Some (Clock _ ) -> true \n",
    "  | Some ( Sensor data ) ->\n",
    "  (  List.for_all (fun x -> x < 20000) data.laserScan_ranges    \n",
    "  ) ==> (one_step state).mode = Turning\n",
    ")"
   ]
  },
  {
   "cell_type": "markdown",
   "metadata": {},
   "source": [
    "We have failed to prove the statement and Imandra has created a counterexample `CX` module for us. Examining the counterexample state we notice that the incoming `laserScan_ranges list` is empty."
   ]
  },
  {
   "cell_type": "code",
   "execution_count": 15,
   "metadata": {},
   "outputs": [
    {
     "data": {
      "text/plain": [
       "- : state =\n",
       "{mode = Turning; min_range = Some 7719; direction = None;\n",
       " incoming =\n",
       "  Some\n",
       "   (Sensor\n",
       "     {Sensor_msgs.laserScan_range_min = 3; laserScan_range_max = 25001;\n",
       "      laserScan_ranges = []});\n",
       " outgoing = None}\n"
      ]
     },
     "execution_count": 15,
     "metadata": {},
     "output_type": "execute_result"
    }
   ],
   "source": [
    "CX.state"
   ]
  },
  {
   "cell_type": "markdown",
   "metadata": {},
   "source": [
    "Adding the extra requirement that the list is not `[]`, we successfully verify the statement:"
   ]
  },
  {
   "cell_type": "code",
   "execution_count": 16,
   "metadata": {},
   "outputs": [
    {
     "data": {
      "text/plain": [
       "val stopping_if_for_all : state -> bool = <fun>\n"
      ]
     },
     "execution_count": 16,
     "metadata": {},
     "output_type": "execute_result"
    },
    {
     "data": {
      "text/html": [
       "<div><div>Proved<div class=\"imandra-alternatives\" id=\"alt-98292acd-43f4-4e2c-b350-e7b3ad20a9d4\"><ul class=\"nav nav-tabs\"><li class=\"active\" data-toggle=\"tab\"><a>proof</a></li><li class=\"\" data-toggle=\"tab\"><a>call graph</a></li></ul><div class=\"tab-content\"><div class=\"tab-pane active\"><div class=\"imandra-proof-top\"><div class=\"imandra-fold panel panel-default\" id=\"fold-d63edc9c-7445-4fc1-bc64-75fd9acb4522\"><div class=\"panel-heading\"><div><i class=\"fa fa-chevron-down hidden\"></i><i class=\"fa fa-chevron-right\"></i><span>proof</span></div></div><div class=\"panel-body collapse\"><div class=\"imandra-proof\"><div class=\"imandra-alternatives\" id=\"alt-de89a3d0-79d0-46c9-bfe9-04510747f8c4\"><ul class=\"nav nav-tabs\"><li class=\"active\" data-toggle=\"tab\"><a>summary</a></li><li class=\"\" data-toggle=\"tab\"><a>full</a></li><li class=\"\" data-toggle=\"tab\"><a>graph</a></li></ul><div class=\"tab-content\"><div class=\"tab-pane active\"><div class=\"imandra-table\" id=\"table-c8e429c5-f34f-4773-bd78-d7cad695c88a\"><table><tr><td><b>ground_instances</b></td><td>4</td></tr><tr><td><b>definitions</b></td><td>0</td></tr><tr><td><b>inductions</b></td><td>0</td></tr><tr><td><b>search_time</b></td><td><pre>0.015s</pre></td></tr><tr><td><b>details</b></td><td><div class=\"imandra-fold panel panel-default\" id=\"fold-b6254dd7-d38b-4ffa-bcf5-b914b1808b43\"><div class=\"panel-heading\"><div><i class=\"fa fa-chevron-down hidden\"></i><i class=\"fa fa-chevron-right\"></i><span>Expand</span></div></div><div class=\"panel-body collapse\"><div class=\"imandra-table\" id=\"table-080d9cc1-b81f-46a0-975e-5bb109071405\"><table><tr><td><b>smt_stats</b></td><td><div class=\"imandra-table\" id=\"table-1ee2124e-26b5-4bd0-8a5d-cd964505a293\"><table><tr><td><b>arith offset eqs</b></td><td>5</td></tr><tr><td><b>num checks</b></td><td>10</td></tr><tr><td><b>arith assert lower</b></td><td>36</td></tr><tr><td><b>arith pivots</b></td><td>18</td></tr><tr><td><b>rlimit count</b></td><td>7652</td></tr><tr><td><b>mk clause</b></td><td>67</td></tr><tr><td><b>datatype occurs check</b></td><td>1584</td></tr><tr><td><b>mk bool var</b></td><td>571</td></tr><tr><td><b>arith assert upper</b></td><td>46</td></tr><tr><td><b>datatype splits</b></td><td>49</td></tr><tr><td><b>decisions</b></td><td>361</td></tr><tr><td><b>arith add rows</b></td><td>25</td></tr><tr><td><b>propagations</b></td><td>284</td></tr><tr><td><b>conflicts</b></td><td>27</td></tr><tr><td><b>arith fixed eqs</b></td><td>9</td></tr><tr><td><b>datatype accessor ax</b></td><td>56</td></tr><tr><td><b>minimized lits</b></td><td>2</td></tr><tr><td><b>arith conflicts</b></td><td>3</td></tr><tr><td><b>arith assert diseq</b></td><td>9</td></tr><tr><td><b>datatype constructor ax</b></td><td>301</td></tr><tr><td><b>num allocs</b></td><td>734733737</td></tr><tr><td><b>final checks</b></td><td>12</td></tr><tr><td><b>added eqs</b></td><td>1385</td></tr><tr><td><b>del clause</b></td><td>35</td></tr><tr><td><b>arith eq adapter</b></td><td>18</td></tr><tr><td><b>memory</b></td><td>32.000000</td></tr><tr><td><b>max memory</b></td><td>32.000000</td></tr></table></div></td></tr></table></div></div><script>\n",
       "require(['nbextensions/nbimandra/fold'], function (fold) {\n",
       "  var target = '#fold-b6254dd7-d38b-4ffa-bcf5-b914b1808b43';\n",
       "  fold.hydrate(target);\n",
       "});\n",
       "</script></div></td></tr></table></div></div><div class=\"tab-pane\"><div class=\"imandra-fold panel panel-default\" id=\"fold-62b7e6df-9940-4997-8094-effafdc42664\"><div class=\"panel-heading\"><div><i class=\"fa fa-chevron-down hidden\"></i><i class=\"fa fa-chevron-right\"></i><span>Expand</span></div></div><div class=\"panel-body collapse\"><ul><li><pre>start[0.015s]\n",
       "  if :var_0:.incoming = None\n",
       "     || Is_a(Some, :var_0:.incoming)\n",
       "        &amp;&amp; Is_a(Clock, Option.get :var_0:.incoming)\n",
       "  then true\n",
       "  else\n",
       "    not\n",
       "    ((Destruct(Sensor, 0, Option.get :var_0:.incoming)).Sensor_msgs.laserScan_ranges\n",
       "     = [])\n",
       "    &amp;&amp; List.for_all anon_fun.stopping_if_for_all.0\n",
       "       (Destruct(Sensor, 0, Option.get :var_0:.incoming)).Sensor_msgs.laserScan_ranges\n",
       "    ==&gt; (if :var_0:.incoming = None then :var_0:\n",
       "         else if Is_a(Sensor, Option.get :var_0:.incoming) then … else …).mode\n",
       "        = Turning</pre></li><li><div><h4>simplify</h4><div class=\"imandra-table\" id=\"table-00a644e5-f34a-4232-a556-c65d8191aa56\"><table><tr><td><b>into</b></td><td><pre>((:var_0:.incoming = None\n",
       "  || Is_a(Some, :var_0:.incoming) &amp;&amp; Is_a(Clock, Option.get :var_0:.incoming))\n",
       " || not\n",
       "    (not\n",
       "     ((Destruct(Sensor, 0, Option.get :var_0:.incoming)).Sensor_msgs.laserScan_ranges\n",
       "      = [])\n",
       "     &amp;&amp; List.for_all anon_fun.stopping_if_for_all.0\n",
       "        (Destruct(Sensor, 0, Option.get :var_0:.incoming)).Sensor_msgs.laserScan_ranges))\n",
       "|| (if :var_0:.incoming = None then :var_0:\n",
       "    else\n",
       "    if Is_a(Sensor, Option.get :var_0:.incoming)\n",
       "    then if :var_0:.mode = Driving then … else …\n",
       "    else if :var_0:.mode = Driving then … else …).mode\n",
       "   = Turning</pre></td></tr><tr><td><b>expansions</b></td><td><pre>[]</pre></td></tr><tr><td><b>rewrite_steps</b></td><td><ul></ul></td></tr><tr><td><b>forward_chaining</b></td><td><ul></ul></td></tr></table></div></div></li><li><div>unroll<div class=\"imandra-table\" id=\"table-971f470a-d705-40d1-9ce2-4ca937498a1c\"><table><tr><td><b>expr</b></td><td><pre>(let ((a!1 (Sensor_msgs.laserScan_range_max_2143\n",
       "             (get.Sensor.0_2723 (get.Some.0_2725 (i…</pre></td></tr><tr><td><b>expansions</b></td><td><ul></ul></td></tr></table></div></div></li><li><div>unroll<div class=\"imandra-table\" id=\"table-f38ad481-f18b-4c11-b6a4-19a4cf055c57\"><table><tr><td><b>expr</b></td><td><pre>(let ((a!1 (Sensor_msgs.laserScan_range_max_2143\n",
       "             (get.Sensor.0_2723 (get.Some.0_2725 (i…</pre></td></tr><tr><td><b>expansions</b></td><td><ul></ul></td></tr></table></div></div></li><li><div>unroll<div class=\"imandra-table\" id=\"table-59bdd5dc-2674-4f29-ba79-7982cc6a93b5\"><table><tr><td><b>expr</b></td><td><pre>(let ((a!1 (Sensor_msgs.laserScan_ranges_2144\n",
       "             (get.Sensor.0_2723 (get.Some.0_2725 (inco…</pre></td></tr><tr><td><b>expansions</b></td><td><ul></ul></td></tr></table></div></div></li><li><div>unroll<div class=\"imandra-table\" id=\"table-0f953238-4167-473d-812c-d01b5c4410b4\"><table><tr><td><b>expr</b></td><td><pre>(let ((a!1 (Sensor_msgs.laserScan_ranges_2144\n",
       "             (get.Sensor.0_2723 (get.Some.0_2725 (inco…</pre></td></tr><tr><td><b>expansions</b></td><td><ul></ul></td></tr></table></div></div></li><li><div><h4>unsat</h4><pre>(let ((a!1 (Sensor_msgs.laserScan_ranges_2144\n",
       "             (get.Sensor.0_2723 (get.Some.0_2725 (inco…</pre></div></li></ul></div><script>\n",
       "require(['nbextensions/nbimandra/fold'], function (fold) {\n",
       "  var target = '#fold-62b7e6df-9940-4997-8094-effafdc42664';\n",
       "  fold.hydrate(target);\n",
       "});\n",
       "</script></div></div><div class=\"tab-pane\"><div class=\"imandra-graphviz\" id=\"graphviz-9cc986f5-2b2c-4abe-95fe-b5872fbb4b20\"><textarea style=\"display: none\">digraph &quot;proof&quot; {\n",
       "p_231 [label=&quot;Start (if :var_0:.incoming = None\\l          \\|\\| Is_a(Some, :var_0:.incoming)\\l             &amp;&amp; Is_a(Clock, Option.get :var_0:.incoming)\\l       then true\\l       else\\l         not\\l         ((Destruct(Sensor, 0, Option.get :var_0:.incoming)).Sensor_msgs.laserScan_ranges\\l          = [])\\l         &amp;&amp; List.for_all anon_fun.stopping_if_for_all.0\\l            (Destruct(Sensor, 0, Option.get :var_0:.incoming)).Sensor_msgs.laserScan_ranges\\l         ==\\&gt; (if :var_0:.incoming = None then :var_0:\\l              else\\l              if Is_a(Sensor, Option.get :var_0:.incoming) then … else …).mode\\l             = Turning\\l       :time 0.015s)&quot;,shape=box,style=filled,fontname=&quot;courier&quot;,fontsize=14];\n",
       "p_231 -&gt; p_230 [label=&quot;&quot;];\n",
       "p_230 [label=&quot;Simplify (((:var_0:.incoming = None\\l            \\|\\| Is_a(Some, :var_0:.incoming)\\l               &amp;&amp; Is_a(Clock, Option.get :var_0:.incoming))\\l           \\|\\| not\\l              (not\\l               ((Destruct(Sensor, 0, Option.get :var_0:.incoming)).Sensor_msgs.laserScan_ranges\\l                = [])\\l               &amp;&amp; List.for_all anon_fun.stopping_if_for_all.0\\l                  (Destruct(Sensor, 0, Option.get :var_0:.incoming)).Sensor_msgs.laserScan_ranges))\\l          \\|\\| (if :var_0:.incoming = None then :var_0:\\l              else\\l              if Is_a(Sensor, Option.get :var_0:.incoming)\\l              then if :var_0:.mode = Driving then … else …\\l              else if :var_0:.mode = Driving then … else …).mode\\l             = Turning\\l          :expansions [] :rw [] :fc [])&quot;,shape=box,style=filled,fontname=&quot;courier&quot;,fontsize=14];\n",
       "p_230 -&gt; p_229 [label=&quot;&quot;];\n",
       "p_229 [label=&quot;Unroll ([List.fold_right anon_fun.get_min_range.0\\l         (Destruct(Sensor, 0, Option.get …)).Sensor_msgs.laserScan_range_max\\l         (Destruct(Sensor, 0, Option.get …)).Sensor_msgs.laserScan_ranges],\\l        [[]])&quot;,shape=box,style=filled,fontname=&quot;courier&quot;,fontsize=14];\n",
       "p_229 -&gt; p_228 [label=&quot;&quot;];\n",
       "p_228 [label=&quot;Unroll ([foldi\\l         ((Destruct(Sensor, 0, …)).Sensor_msgs.laserScan_range_max, 0) None\\l         anon_fun.get_min_and_direction.0\\l         (Destruct(Sensor, 0, …)).Sensor_msgs.laserScan_ranges],\\l        [[]])&quot;,shape=box,style=filled,fontname=&quot;courier&quot;,fontsize=14];\n",
       "p_228 -&gt; p_227 [label=&quot;&quot;];\n",
       "p_227 [label=&quot;Unroll ([List.length\\l         (Destruct(Sensor, 0, Option.get …)).Sensor_msgs.laserScan_ranges],\\l        [[]])&quot;,shape=box,style=filled,fontname=&quot;courier&quot;,fontsize=14];\n",
       "p_227 -&gt; p_226 [label=&quot;&quot;];\n",
       "p_226 [label=&quot;Unroll ([List.for_all anon_fun.stopping_if_for_all.0\\l         (Destruct(Sensor, 0, Option.get …)).Sensor_msgs.laserScan_ranges],\\l        [[]])&quot;,shape=box,style=filled,fontname=&quot;courier&quot;,fontsize=14];\n",
       "p_226 -&gt; p_225 [label=&quot;&quot;];\n",
       "p_225 -&gt; p_z3_1640 [label=&quot;&quot;,fontname=&quot;courier&quot;,fontsize=14];\n",
       "p_z3_1640 [label=&quot;(let ((a!1 (Sensor_msgs.laserScan_ranges_2144\n",
       "             (get.Sensor.0_2723 (get.Some.0_2725 (inco…&quot;,shape=box,fontname=&quot;courier&quot;,fontsize=14];p_225 [label=&quot;unsat&quot;,shape=box,style=filled,fontname=&quot;courier&quot;,fontsize=14];\n",
       "}\n",
       "</textarea><button class=\"btn btn-primary\">Load graph</button><div class=\"imandra-graphviz-loading display-none\">Loading..</div><div class=\"imandra-graphviz-target\"></div><script>\n",
       "require(['nbextensions/nbimandra/graphviz'], function (graphviz) {\n",
       "  var target = '#graphviz-9cc986f5-2b2c-4abe-95fe-b5872fbb4b20';\n",
       "  graphviz.hydrate(target);\n",
       "});\n",
       "</script></div></div></div><script>\n",
       "require(['nbextensions/nbimandra/alternatives'], function (alternatives) {\n",
       "  var target = '#alt-de89a3d0-79d0-46c9-bfe9-04510747f8c4';\n",
       "  alternatives.hydrate(target);\n",
       "});\n",
       "</script></div></div></div><script>\n",
       "require(['nbextensions/nbimandra/fold'], function (fold) {\n",
       "  var target = '#fold-d63edc9c-7445-4fc1-bc64-75fd9acb4522';\n",
       "  fold.hydrate(target);\n",
       "});\n",
       "</script></div></div></div><div class=\"tab-pane\"><div class=\"imandra-graphviz\" id=\"graphviz-c1380eea-45fc-42df-ba34-d35b28524fcb\"><textarea style=\"display: none\">digraph &quot;call graph&quot; {\n",
       "goal [label=&quot;not\\l(((state.incoming = None\\l   \\|\\| Is_a(Some, state.incoming) &amp;&amp; Is_a(Clock, Option.get state.incoming))\\l  \\|\\| not\\l     (not\\l      ((Destruct(Sensor, 0, Option.get state.incoming)).Sensor_msgs.laserScan_ranges\\l       = [])\\l      &amp;&amp; List.for_all anon_fun.stopping_if_for_all.0\\l         (Destruct(Sensor, 0, Option.get state.incoming)).Sensor_msgs.laserScan_ranges))\\l \\|\\| (if state.incoming = None then state\\l     else\\l     if Is_a(Sensor, Option.get state.incoming)\\l     then if state.mode = Driving then … else …\\l     else if state.mode = Driving then … else …).mode\\l    = Turning)&quot;,shape=box,style=filled,color=&quot;cyan&quot;,fontname=&quot;courier&quot;,fontsize=14];\n",
       "call_182 [label=&quot;foldi ((Destruct(Sensor, 0, …)).Sensor_msgs.laserScan_range_max, 0) None\\lanon_fun.get_min_and_direction.0\\l(Destruct(Sensor, 0, …)).Sensor_msgs.laserScan_ranges&quot;,shape=box,style=filled,color=&quot;green&quot;,fontname=&quot;courier&quot;,fontsize=14];\n",
       "call_182 -&gt; expr_1165 [label=&quot;=&quot;];\n",
       "expr_1165 [label=&quot;if (Destruct(Sensor, 0, Option.get ….incoming)).Sensor_msgs.laserScan_ranges\\l   = []\\lthen\\l  ((Destruct(Sensor, 0, Option.get ….incoming)).Sensor_msgs.laserScan_range_max,\\l   0)\\lelse\\lif (foldi\\l    ((Destruct(Sensor, 0, Option.get ….incoming)).Sensor_msgs.laserScan_range_max,\\l     0)\\l    (Some …) anon_fun.get_min_and_direction.0\\l    (List.tl\\l     (Destruct(Sensor, 0, Option.get ….incoming)).Sensor_msgs.laserScan_ranges)).0\\l   \\&lt;=\\l   List.hd\\l   (Destruct(Sensor, 0, Option.get ….incoming)).Sensor_msgs.laserScan_ranges\\lthen\\l  foldi\\l  ((Destruct(Sensor, 0, Option.get ….incoming)).Sensor_msgs.laserScan_range_max,\\l   0)\\l  (Some …) anon_fun.get_min_and_direction.0\\l  (List.tl\\l   (Destruct(Sensor, 0, Option.get ….incoming)).Sensor_msgs.laserScan_ranges)\\lelse\\l  (List.hd\\l   (Destruct(Sensor, 0, Option.get ….incoming)).Sensor_msgs.laserScan_ranges,\\l   if Is_a(Some, …) then … else 0)&quot;,shape=box,style=filled,color=&quot;grey&quot;,fontname=&quot;courier&quot;,fontsize=14];\n",
       "goal -&gt; call_182 [label=&quot;calls&quot;];\n",
       "call_1334 [label=&quot;List.length\\l(List.tl (Destruct(Sensor, 0, Option.get …)).Sensor_msgs.laserScan_ranges)&quot;,shape=box,style=filled,color=&quot;yellow&quot;,fontname=&quot;courier&quot;,fontsize=14];\n",
       "expr_1336 -&gt; call_1334 [label=&quot;calls&quot;];\n",
       "call_1159 [label=&quot;foldi ((Destruct(Sensor, 0, …)).Sensor_msgs.laserScan_range_max, 0)\\l(Some (1 + 0)) anon_fun.get_min_and_direction.0\\l(List.tl (Destruct(Sensor, 0, …)).Sensor_msgs.laserScan_ranges)&quot;,shape=box,style=filled,color=&quot;yellow&quot;,fontname=&quot;courier&quot;,fontsize=14];\n",
       "expr_1165 -&gt; call_1159 [label=&quot;calls&quot;];\n",
       "expr_1165 -&gt; call_1159 [label=&quot;calls&quot;];\n",
       "call_1038 [label=&quot;List.fold_right anon_fun.get_min_range.0\\l(Destruct(Sensor, 0, Option.get …)).Sensor_msgs.laserScan_range_max\\l(List.tl (Destruct(Sensor, 0, Option.get …)).Sensor_msgs.laserScan_ranges)&quot;,shape=box,style=filled,color=&quot;yellow&quot;,fontname=&quot;courier&quot;,fontsize=14];\n",
       "expr_1041 -&gt; call_1038 [label=&quot;calls&quot;];\n",
       "expr_1041 -&gt; call_1038 [label=&quot;calls&quot;];\n",
       "call_177 [label=&quot;List.length\\l(Destruct(Sensor, 0, Option.get …)).Sensor_msgs.laserScan_ranges&quot;,shape=box,style=filled,color=&quot;green&quot;,fontname=&quot;courier&quot;,fontsize=14];\n",
       "call_177 -&gt; expr_1336 [label=&quot;=&quot;];\n",
       "expr_1336 [label=&quot;if (Destruct(Sensor, 0, Option.get ….incoming)).Sensor_msgs.laserScan_ranges\\l   = []\\lthen 0\\lelse\\l  1\\l  + List.length\\l    (List.tl\\l     (Destruct(Sensor, 0, Option.get ….incoming)).Sensor_msgs.laserScan_ranges)&quot;,shape=box,style=filled,color=&quot;grey&quot;,fontname=&quot;courier&quot;,fontsize=14];\n",
       "goal -&gt; call_177 [label=&quot;calls&quot;];\n",
       "call_1394 [label=&quot;List.for_all anon_fun.stopping_if_for_all.0\\l(List.tl (Destruct(Sensor, 0, Option.get …)).Sensor_msgs.laserScan_ranges)&quot;,shape=box,style=filled,color=&quot;yellow&quot;,fontname=&quot;courier&quot;,fontsize=14];\n",
       "expr_1397 -&gt; call_1394 [label=&quot;calls&quot;];\n",
       "call_186 [label=&quot;List.fold_right anon_fun.get_min_range.0\\l(Destruct(Sensor, 0, Option.get …)).Sensor_msgs.laserScan_range_max\\l(Destruct(Sensor, 0, Option.get …)).Sensor_msgs.laserScan_ranges&quot;,shape=box,style=filled,color=&quot;green&quot;,fontname=&quot;courier&quot;,fontsize=14];\n",
       "call_186 -&gt; expr_1041 [label=&quot;=&quot;];\n",
       "expr_1041 [label=&quot;if (Destruct(Sensor, 0, Option.get ….incoming)).Sensor_msgs.laserScan_ranges\\l   = []\\lthen\\l  (Destruct(Sensor, 0, Option.get ….incoming)).Sensor_msgs.laserScan_range_max\\lelse\\lif List.fold_right anon_fun.get_min_range.0\\l   (Destruct(Sensor, 0, Option.get ….incoming)).Sensor_msgs.laserScan_range_max\\l   (List.tl\\l    (Destruct(Sensor, 0, Option.get ….incoming)).Sensor_msgs.laserScan_ranges)\\l   \\&lt;=\\l   List.hd\\l   (Destruct(Sensor, 0, Option.get ….incoming)).Sensor_msgs.laserScan_ranges\\lthen\\l  List.fold_right anon_fun.get_min_range.0\\l  (Destruct(Sensor, 0, Option.get ….incoming)).Sensor_msgs.laserScan_range_max\\l  (List.tl\\l   (Destruct(Sensor, 0, Option.get ….incoming)).Sensor_msgs.laserScan_ranges)\\lelse\\l  List.hd\\l  (Destruct(Sensor, 0, Option.get ….incoming)).Sensor_msgs.laserScan_ranges&quot;,shape=box,style=filled,color=&quot;grey&quot;,fontname=&quot;courier&quot;,fontsize=14];\n",
       "goal -&gt; call_186 [label=&quot;calls&quot;];\n",
       "call_170 [label=&quot;List.for_all anon_fun.stopping_if_for_all.0\\l(Destruct(Sensor, 0, Option.get …)).Sensor_msgs.laserScan_ranges&quot;,shape=box,style=filled,color=&quot;green&quot;,fontname=&quot;courier&quot;,fontsize=14];\n",
       "call_170 -&gt; expr_1397 [label=&quot;=&quot;];\n",
       "expr_1397 [label=&quot;(Destruct(Sensor, 0, Option.get ….incoming)).Sensor_msgs.laserScan_ranges =\\l[]\\l\\|\\| not\\l   (20000 \\&lt;=\\l    List.hd\\l    (Destruct(Sensor, 0, Option.get ….incoming)).Sensor_msgs.laserScan_ranges)\\l   &amp;&amp; List.for_all anon_fun.stopping_if_for_all.0\\l      (List.tl\\l       (Destruct(Sensor, 0, Option.get ….incoming)).Sensor_msgs.laserScan_ranges)&quot;,shape=box,style=filled,color=&quot;grey&quot;,fontname=&quot;courier&quot;,fontsize=14];\n",
       "goal -&gt; call_170 [label=&quot;calls&quot;];\n",
       "}\n",
       "</textarea><button class=\"btn btn-primary\">Load graph</button><div class=\"imandra-graphviz-loading display-none\">Loading..</div><div class=\"imandra-graphviz-target\"></div><script>\n",
       "require(['nbextensions/nbimandra/graphviz'], function (graphviz) {\n",
       "  var target = '#graphviz-c1380eea-45fc-42df-ba34-d35b28524fcb';\n",
       "  graphviz.hydrate(target);\n",
       "});\n",
       "</script></div></div></div><script>\n",
       "require(['nbextensions/nbimandra/alternatives'], function (alternatives) {\n",
       "  var target = '#alt-98292acd-43f4-4e2c-b350-e7b3ad20a9d4';\n",
       "  alternatives.hydrate(target);\n",
       "});\n",
       "</script></div></div></div>\n"
      ]
     },
     "metadata": {},
     "output_type": "display_data"
    }
   ],
   "source": [
    "theorem stopping_if_for_all state =\n",
    "  let open Sensor_msgs in\n",
    "  match state.incoming with None | Some (Clock _ ) -> true \n",
    "  | Some ( Sensor data ) ->\n",
    "  (  data.laserScan_ranges <> []\n",
    "  && List.for_all (fun x -> x < 20000) data.laserScan_ranges    \n",
    "  ) ==> (one_step state).mode = Turning"
   ]
  },
  {
   "cell_type": "markdown",
   "metadata": {},
   "source": [
    "Imandra successfully proves the `stopping_if_for_all` theorem, but our ultimate goal is to prove the theorem when **some** of the values in `laserScan_ranges` are less than the cutoff. If we simply try to replace the `List.for_all` with `List.exists`, Imandra will fail to either prove or disprove the theorem.  The inductive structure of this proof is too complex for Imandra to figure out automatically without any hints from the user. We need to help it with the overall logic of the proof. To do that we will break this final theorem into several smaller steps, making a rough \"sketch\" of the inductive proof we want and and ask Imandra to fill in the gaps."
   ]
  },
  {
   "cell_type": "markdown",
   "metadata": {},
   "source": [
    "As a first step, we extract the anonymous threshold function and prove a lemma that if the `get_min_range` function returns a value satisfying the threshold, then the conclusion about the `one_step` function holds:"
   ]
  },
  {
   "cell_type": "code",
   "execution_count": 17,
   "metadata": {},
   "outputs": [
    {
     "data": {
      "text/plain": [
       "val under_threshold : int -> bool = <fun>\n",
       "val lemma1 : state -> bool = <fun>\n"
      ]
     },
     "execution_count": 17,
     "metadata": {},
     "output_type": "execute_result"
    },
    {
     "data": {
      "text/html": [
       "<div><div>Proved<div class=\"imandra-alternatives\" id=\"alt-5475afcc-9d9d-43ae-8f50-3f3997d3ebfa\"><ul class=\"nav nav-tabs\"><li class=\"active\" data-toggle=\"tab\"><a>proof</a></li><li class=\"\" data-toggle=\"tab\"><a>call graph</a></li></ul><div class=\"tab-content\"><div class=\"tab-pane active\"><div class=\"imandra-proof-top\"><div class=\"imandra-fold panel panel-default\" id=\"fold-b8693164-7da8-4a6c-a8dd-f54efb8f0f04\"><div class=\"panel-heading\"><div><i class=\"fa fa-chevron-down hidden\"></i><i class=\"fa fa-chevron-right\"></i><span>proof</span></div></div><div class=\"panel-body collapse\"><div class=\"imandra-proof\"><div class=\"imandra-alternatives\" id=\"alt-4f8a481a-abe7-45bc-9830-f6d3c8245dad\"><ul class=\"nav nav-tabs\"><li class=\"active\" data-toggle=\"tab\"><a>summary</a></li><li class=\"\" data-toggle=\"tab\"><a>full</a></li><li class=\"\" data-toggle=\"tab\"><a>graph</a></li></ul><div class=\"tab-content\"><div class=\"tab-pane active\"><div class=\"imandra-table\" id=\"table-694dffa1-93d1-4585-a67a-81b1973633d9\"><table><tr><td><b>ground_instances</b></td><td>0</td></tr><tr><td><b>definitions</b></td><td>0</td></tr><tr><td><b>inductions</b></td><td>0</td></tr><tr><td><b>search_time</b></td><td><pre>0.009s</pre></td></tr><tr><td><b>details</b></td><td><div class=\"imandra-fold panel panel-default\" id=\"fold-e5209cfa-98c8-4f96-af2d-295805128d4a\"><div class=\"panel-heading\"><div><i class=\"fa fa-chevron-down hidden\"></i><i class=\"fa fa-chevron-right\"></i><span>Expand</span></div></div><div class=\"panel-body collapse\"><div class=\"imandra-table\" id=\"table-fcbec4ca-85f9-4db2-8795-7c00856fcdec\"><table><tr><td><b>smt_stats</b></td><td><div class=\"imandra-table\" id=\"table-244a3efe-d3d8-4556-aba7-d66489390845\"><table><tr><td><b>num checks</b></td><td>2</td></tr><tr><td><b>arith assert lower</b></td><td>6</td></tr><tr><td><b>arith pivots</b></td><td>3</td></tr><tr><td><b>rlimit count</b></td><td>2362</td></tr><tr><td><b>mk clause</b></td><td>45</td></tr><tr><td><b>mk bool var</b></td><td>244</td></tr><tr><td><b>arith assert upper</b></td><td>17</td></tr><tr><td><b>datatype splits</b></td><td>26</td></tr><tr><td><b>decisions</b></td><td>60</td></tr><tr><td><b>arith add rows</b></td><td>1</td></tr><tr><td><b>propagations</b></td><td>101</td></tr><tr><td><b>conflicts</b></td><td>16</td></tr><tr><td><b>arith fixed eqs</b></td><td>2</td></tr><tr><td><b>datatype accessor ax</b></td><td>49</td></tr><tr><td><b>minimized lits</b></td><td>1</td></tr><tr><td><b>arith conflicts</b></td><td>1</td></tr><tr><td><b>arith assert diseq</b></td><td>1</td></tr><tr><td><b>datatype constructor ax</b></td><td>57</td></tr><tr><td><b>num allocs</b></td><td>774595714</td></tr><tr><td><b>added eqs</b></td><td>361</td></tr><tr><td><b>del clause</b></td><td>25</td></tr><tr><td><b>arith eq adapter</b></td><td>5</td></tr><tr><td><b>memory</b></td><td>35.710000</td></tr><tr><td><b>max memory</b></td><td>35.710000</td></tr></table></div></td></tr></table></div></div><script>\n",
       "require(['nbextensions/nbimandra/fold'], function (fold) {\n",
       "  var target = '#fold-e5209cfa-98c8-4f96-af2d-295805128d4a';\n",
       "  fold.hydrate(target);\n",
       "});\n",
       "</script></div></td></tr></table></div></div><div class=\"tab-pane\"><div class=\"imandra-fold panel panel-default\" id=\"fold-e3bbaad1-39c1-4cb2-adef-e90c0d7dfe73\"><div class=\"panel-heading\"><div><i class=\"fa fa-chevron-down hidden\"></i><i class=\"fa fa-chevron-right\"></i><span>Expand</span></div></div><div class=\"panel-body collapse\"><ul><li><pre>start[0.009s]\n",
       "  if :var_0:.incoming = None\n",
       "     || Is_a(Some, :var_0:.incoming)\n",
       "        &amp;&amp; Is_a(Clock, Option.get :var_0:.incoming)\n",
       "  then true\n",
       "  else\n",
       "    not\n",
       "    ((Destruct(Sensor, 0, Option.get :var_0:.incoming)).Sensor_msgs.laserScan_ranges\n",
       "     = [])\n",
       "    &amp;&amp; List.fold_right anon_fun.get_min_range.0\n",
       "       (Destruct(Sensor, 0, Option.get :var_0:.incoming)).Sensor_msgs.laserScan_range_max\n",
       "       (Destruct(Sensor, 0, Option.get :var_0:.incoming)).Sensor_msgs.laserScan_ranges\n",
       "       &lt; 20000\n",
       "    ==&gt; (if :var_0:.incoming = None then :var_0:\n",
       "         else if Is_a(Sensor, Option.get :var_0:.incoming) then … else …).mode\n",
       "        = Turning</pre></li><li><div><h4>simplify</h4><div class=\"imandra-table\" id=\"table-39d072a6-98a4-4b27-8253-ffaa078b98bb\"><table><tr><td><b>into</b></td><td><pre>((:var_0:.incoming = None\n",
       "  || Is_a(Some, :var_0:.incoming) &amp;&amp; Is_a(Clock, Option.get :var_0:.incoming))\n",
       " || not\n",
       "    (not\n",
       "     ((Destruct(Sensor, 0, Option.get :var_0:.incoming)).Sensor_msgs.laserScan_ranges\n",
       "      = [])\n",
       "     &amp;&amp; not\n",
       "        (20000 &lt;=\n",
       "         List.fold_right anon_fun.get_min_range.0\n",
       "         (Destruct(Sensor, 0, Option.get :var_0:.incoming)).Sensor_msgs.laserScan_range_max\n",
       "         (Destruct(Sensor, 0, Option.get :var_0:.incoming)).Sensor_msgs.laserScan_ranges)))\n",
       "|| (if :var_0:.incoming = None then :var_0:\n",
       "    else\n",
       "    if Is_a(Sensor, Option.get :var_0:.incoming)\n",
       "    then if :var_0:.mode = Driving then … else …\n",
       "    else if :var_0:.mode = Driving then … else …).mode\n",
       "   = Turning</pre></td></tr><tr><td><b>expansions</b></td><td><pre>[]</pre></td></tr><tr><td><b>rewrite_steps</b></td><td><ul></ul></td></tr><tr><td><b>forward_chaining</b></td><td><ul></ul></td></tr></table></div></div></li><li><div><h4>unsat</h4><pre>(let ((a!1 (Sensor_msgs.laserScan_ranges_2144\n",
       "             (get.Sensor.0_2822 (get.Some.0_2824 (inco…</pre></div></li></ul></div><script>\n",
       "require(['nbextensions/nbimandra/fold'], function (fold) {\n",
       "  var target = '#fold-e3bbaad1-39c1-4cb2-adef-e90c0d7dfe73';\n",
       "  fold.hydrate(target);\n",
       "});\n",
       "</script></div></div><div class=\"tab-pane\"><div class=\"imandra-graphviz\" id=\"graphviz-4b5edb7b-de6d-4efc-8f1a-bb9ead70958b\"><textarea style=\"display: none\">digraph &quot;proof&quot; {\n",
       "p_234 [label=&quot;Start (if :var_0:.incoming = None\\l          \\|\\| Is_a(Some, :var_0:.incoming)\\l             &amp;&amp; Is_a(Clock, Option.get :var_0:.incoming)\\l       then true\\l       else\\l         not\\l         ((Destruct(Sensor, 0, Option.get :var_0:.incoming)).Sensor_msgs.laserScan_ranges\\l          = [])\\l         &amp;&amp; List.fold_right anon_fun.get_min_range.0\\l            (Destruct(Sensor, 0, Option.get :var_0:.incoming)).Sensor_msgs.laserScan_range_max\\l            (Destruct(Sensor, 0, Option.get :var_0:.incoming)).Sensor_msgs.laserScan_ranges\\l            \\&lt; 20000\\l         ==\\&gt; (if :var_0:.incoming = None then :var_0:\\l              else\\l              if Is_a(Sensor, Option.get :var_0:.incoming) then … else …).mode\\l             = Turning\\l       :time 0.009s)&quot;,shape=box,style=filled,fontname=&quot;courier&quot;,fontsize=14];\n",
       "p_234 -&gt; p_233 [label=&quot;&quot;];\n",
       "p_233 [label=&quot;Simplify (((:var_0:.incoming = None\\l            \\|\\| Is_a(Some, :var_0:.incoming)\\l               &amp;&amp; Is_a(Clock, Option.get :var_0:.incoming))\\l           \\|\\| not\\l              (not\\l               ((Destruct(Sensor, 0, Option.get :var_0:.incoming)).Sensor_msgs.laserScan_ranges\\l                = [])\\l               &amp;&amp; not\\l                  (20000 \\&lt;=\\l                   List.fold_right anon_fun.get_min_range.0\\l                   (Destruct(Sensor, 0, Option.get :var_0:.incoming)).Sensor_msgs.laserScan_range_max\\l                   (Destruct(Sensor, 0, Option.get :var_0:.incoming)).Sensor_msgs.laserScan_ranges)))\\l          \\|\\| (if :var_0:.incoming = None then :var_0:\\l              else\\l              if Is_a(Sensor, Option.get :var_0:.incoming)\\l              then if :var_0:.mode = Driving then … else …\\l              else if :var_0:.mode = Driving then … else …).mode\\l             = Turning\\l          :expansions [] :rw [] :fc [])&quot;,shape=box,style=filled,fontname=&quot;courier&quot;,fontsize=14];\n",
       "p_233 -&gt; p_232 [label=&quot;&quot;];\n",
       "p_232 -&gt; p_z3_1039 [label=&quot;&quot;,fontname=&quot;courier&quot;,fontsize=14];\n",
       "p_z3_1039 [label=&quot;(let ((a!1 (Sensor_msgs.laserScan_ranges_2144\n",
       "             (get.Sensor.0_2822 (get.Some.0_2824 (inco…&quot;,shape=box,fontname=&quot;courier&quot;,fontsize=14];p_232 [label=&quot;unsat&quot;,shape=box,style=filled,fontname=&quot;courier&quot;,fontsize=14];\n",
       "}\n",
       "</textarea><button class=\"btn btn-primary\">Load graph</button><div class=\"imandra-graphviz-loading display-none\">Loading..</div><div class=\"imandra-graphviz-target\"></div><script>\n",
       "require(['nbextensions/nbimandra/graphviz'], function (graphviz) {\n",
       "  var target = '#graphviz-4b5edb7b-de6d-4efc-8f1a-bb9ead70958b';\n",
       "  graphviz.hydrate(target);\n",
       "});\n",
       "</script></div></div></div><script>\n",
       "require(['nbextensions/nbimandra/alternatives'], function (alternatives) {\n",
       "  var target = '#alt-4f8a481a-abe7-45bc-9830-f6d3c8245dad';\n",
       "  alternatives.hydrate(target);\n",
       "});\n",
       "</script></div></div></div><script>\n",
       "require(['nbextensions/nbimandra/fold'], function (fold) {\n",
       "  var target = '#fold-b8693164-7da8-4a6c-a8dd-f54efb8f0f04';\n",
       "  fold.hydrate(target);\n",
       "});\n",
       "</script></div></div></div><div class=\"tab-pane\"><div class=\"imandra-graphviz\" id=\"graphviz-dc942d45-e95e-48b2-b76f-0f389a55bd04\"><textarea style=\"display: none\">digraph &quot;call graph&quot; {\n",
       "goal [label=&quot;not\\l(((state.incoming = None\\l   \\|\\| Is_a(Some, state.incoming) &amp;&amp; Is_a(Clock, Option.get state.incoming))\\l  \\|\\| not\\l     (not\\l      ((Destruct(Sensor, 0, Option.get state.incoming)).Sensor_msgs.laserScan_ranges\\l       = [])\\l      &amp;&amp; not\\l         (20000 \\&lt;=\\l          List.fold_right anon_fun.get_min_range.0\\l          (Destruct(Sensor, 0, Option.get state.incoming)).Sensor_msgs.laserScan_range_max\\l          (Destruct(Sensor, 0, Option.get state.incoming)).Sensor_msgs.laserScan_ranges)))\\l \\|\\| (if state.incoming = None then state\\l     else\\l     if Is_a(Sensor, Option.get state.incoming)\\l     then if state.mode = Driving then … else …\\l     else if state.mode = Driving then … else …).mode\\l    = Turning)&quot;,shape=box,style=filled,color=&quot;cyan&quot;,fontname=&quot;courier&quot;,fontsize=14];\n",
       "call_179 [label=&quot;List.fold_right anon_fun.get_min_range.0\\l(Destruct(Sensor, 0, Option.get …)).Sensor_msgs.laserScan_range_max\\l(Destruct(Sensor, 0, Option.get …)).Sensor_msgs.laserScan_ranges&quot;,shape=box,style=filled,color=&quot;yellow&quot;,fontname=&quot;courier&quot;,fontsize=14];\n",
       "goal -&gt; call_179 [label=&quot;calls&quot;];\n",
       "call_189 [label=&quot;List.length\\l(Destruct(Sensor, 0, Option.get …)).Sensor_msgs.laserScan_ranges&quot;,shape=box,style=filled,color=&quot;yellow&quot;,fontname=&quot;courier&quot;,fontsize=14];\n",
       "goal -&gt; call_189 [label=&quot;calls&quot;];\n",
       "call_192 [label=&quot;foldi ((Destruct(Sensor, 0, …)).Sensor_msgs.laserScan_range_max, 0) None\\lanon_fun.get_min_and_direction.0\\l(Destruct(Sensor, 0, …)).Sensor_msgs.laserScan_ranges&quot;,shape=box,style=filled,color=&quot;yellow&quot;,fontname=&quot;courier&quot;,fontsize=14];\n",
       "goal -&gt; call_192 [label=&quot;calls&quot;];\n",
       "}\n",
       "</textarea><button class=\"btn btn-primary\">Load graph</button><div class=\"imandra-graphviz-loading display-none\">Loading..</div><div class=\"imandra-graphviz-target\"></div><script>\n",
       "require(['nbextensions/nbimandra/graphviz'], function (graphviz) {\n",
       "  var target = '#graphviz-dc942d45-e95e-48b2-b76f-0f389a55bd04';\n",
       "  graphviz.hydrate(target);\n",
       "});\n",
       "</script></div></div></div><script>\n",
       "require(['nbextensions/nbimandra/alternatives'], function (alternatives) {\n",
       "  var target = '#alt-5475afcc-9d9d-43ae-8f50-3f3997d3ebfa';\n",
       "  alternatives.hydrate(target);\n",
       "});\n",
       "</script></div></div></div>\n"
      ]
     },
     "metadata": {},
     "output_type": "display_data"
    }
   ],
   "source": [
    "let under_threshold x = x < 20000\n",
    "\n",
    "lemma lemma1 state =\n",
    "  let open Sensor_msgs in\n",
    "  match state.incoming with None | Some (Clock _ ) -> true \n",
    "  | Some ( Sensor data ) ->\n",
    "  (  data.laserScan_ranges <> []\n",
    "  && under_threshold (get_min_range data.laserScan_range_max data.laserScan_ranges)\n",
    "  ) ==> (one_step state).mode = Turning"
   ]
  },
  {
   "cell_type": "markdown",
   "metadata": {},
   "source": [
    "Next, we prove a \"bridge\" lemma that translates between the `get_min_range`\n",
    "concept and the `List.exists` concept for the `under_threshold` function. Then, we `[@@apply]` the two lemmas above to prove our final theorem with the `List.exists` condition: these proofs require induction - to tell Imandra to use induction one should add the `[@@induct]` attribute to the theorem declaration:"
   ]
  },
  {
   "cell_type": "code",
   "execution_count": null,
   "metadata": {
    "scrolled": false
   },
   "outputs": [],
   "source": [
    "lemma bridge max lst =\n",
    "  List.exists under_threshold lst ==> under_threshold (get_min_range max lst)\n",
    "  [@@induct]\n",
    "\n",
    "theorem stopping_if_exists state =\n",
    "  let open Sensor_msgs in\n",
    "  match state.incoming with None | Some (Clock _ ) -> true \n",
    "  | Some ( Sensor data ) ->\n",
    "  (  data.laserScan_ranges <> []\n",
    "  && List.exists under_threshold data.laserScan_ranges\n",
    "  ) ==> (one_step state).mode = Turning\n",
    "[@@apply lemma1 state]\n",
    "[@@apply bridge\n",
    "    (match state.incoming with Some (Sensor data) -> data.laserScan_range_max | _ -> 0)\n",
    "    (match state.incoming with Some (Sensor data) -> data.laserScan_ranges | _ -> []) ]\n",
    "[@@induct]"
   ]
  },
  {
   "cell_type": "code",
   "execution_count": null,
   "metadata": {},
   "outputs": [],
   "source": []
  }
 ],
 "metadata": {
  "kernelspec": {
   "display_name": "Imandra",
   "language": "",
   "name": "imandra"
  },
  "language_info": {
   "codemirror_mode": "mllike",
   "file_extension": ".ml",
   "mimetype": "text",
   "name": "ocaml",
   "version": "0.1.0"
  }
 },
 "nbformat": 4,
 "nbformat_minor": 2
}
