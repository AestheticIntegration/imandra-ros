{
 "cells": [
  {
   "cell_type": "markdown",
   "metadata": {},
   "source": [
    "# Loading the ROS node model"
   ]
  },
  {
   "cell_type": "markdown",
   "metadata": {},
   "source": [
    "First we need to load the ROS node model in Imandra. We do that using `System.mod_use` to first load the necessary messaging modules: "
   ]
  },
  {
   "cell_type": "code",
   "execution_count": 21,
   "metadata": {},
   "outputs": [
    {
     "data": {
      "text/plain": [
       "- : unit = ()\n",
       "- : unit = ()\n",
       "- : unit = ()\n",
       "- : unit = ()\n",
       "- : unit = ()\n"
      ]
     },
     "execution_count": 21,
     "metadata": {},
     "output_type": "execute_result"
    }
   ],
   "source": [
    "\n",
    "System.mod_use ~quiet:true \"src-messages/basic_types.ml\";;\n",
    "System.mod_use ~quiet:true \"src-messages/std_msgs.ml\";;\n",
    "System.mod_use ~quiet:true \"src-messages/rosgraph_msgs.ml\";;\n",
    "System.mod_use ~quiet:true \"src-messages/geometry_msgs.ml\";;\n",
    "System.mod_use ~quiet:true \"src-messages/sensor_msgs.ml\";;\n"
   ]
  },
  {
   "cell_type": "markdown",
   "metadata": {},
   "source": [
    "Then, similarly, we load the model "
   ]
  },
  {
   "cell_type": "code",
   "execution_count": 22,
   "metadata": {},
   "outputs": [
    {
     "data": {
      "text/plain": [
       "module Ros_messages : sig  end\n",
       "module Imandra_prelude : sig  end\n",
       "- : unit = ()\n"
      ]
     },
     "execution_count": 22,
     "metadata": {},
     "output_type": "execute_result"
    }
   ],
   "source": [
    "(* Need a wrpper module stub to load the model*)\n",
    "module Ros_messages = struct end;;\n",
    "module Imandra_prelude = struct end;;\n",
    "System.mod_use ~quiet:true \"src-model/ros_model.ml\";;\n",
    "open Ros_model;;"
   ]
  },
  {
   "cell_type": "markdown",
   "metadata": {},
   "source": [
    "The model has a `state` datatype and a `one_step : state -> state` transition function."
   ]
  },
  {
   "cell_type": "code",
   "execution_count": 23,
   "metadata": {},
   "outputs": [
    {
     "data": {
      "text/plain": [
       "type nonrec state = {\n",
       "  min_range : Basic_types.float64 option;\n",
       "  incoming : Ros_model.incoming_msg option;\n",
       "  outgoing : Ros_model.outgoing_msg option;\n",
       "}\n"
      ]
     },
     "execution_count": 23,
     "metadata": {},
     "output_type": "execute_result"
    }
   ],
   "source": [
    "#show Ros_model.state;;"
   ]
  },
  {
   "cell_type": "markdown",
   "metadata": {},
   "source": [
    "The `state` contains two \"slots\" for incoming and outgoing messages and the `min_range` value that stores the minimal range from the laser scanner received:"
   ]
  },
  {
   "cell_type": "markdown",
   "metadata": {},
   "source": [
    "# Verifying error mode transition"
   ]
  },
  {
   "cell_type": "markdown",
   "metadata": {},
   "source": [
    "The `min_range` state variable is an `option` and initially is `None`. Lets verify that upon receiving a `sensor_msgs/LaserScan` message, the resulting state stores some `min_range` value (not `None`). \n",
    "\n",
    "$$ \\forall s. IsLaserScan(IncomingMessage(s)) \\,\\Rightarrow\\, MinValue(one\\_step(s)) \\ne None $$\n",
    "\n",
    "Meaning that for every state $s$, if the state contains an incoming message and this message is `LaserScan`, then the state's `min_value` is not `None` after we've called `one_step` on it.  \n",
    "\n",
    "We can almost literally encode this formal excpresson as an Imandra `theorem`:"
   ]
  },
  {
   "cell_type": "code",
   "execution_count": 24,
   "metadata": {},
   "outputs": [
    {
     "data": {
      "text/plain": [
       "val is_laser_scan : Ros_model.incoming_msg option -> bool = <fun>\n",
       "val laser_scan_fills_min_value : Ros_model.state -> bool = <fun>\n"
      ]
     },
     "execution_count": 24,
     "metadata": {},
     "output_type": "execute_result"
    },
    {
     "data": {
      "text/html": [
       "<div><div>Proved<div class=\"imandra-alternatives\" id=\"alt-bdcf5e8b-0802-4cfa-8f2e-a64a21f189af\"><ul class=\"nav nav-tabs\"><li class=\"active\" data-toggle=\"tab\"><a>proof</a></li><li class=\"\" data-toggle=\"tab\"><a>call graph</a></li></ul><div class=\"tab-content\"><div class=\"tab-pane active\"><div class=\"imandra-proof-top\"><div class=\"imandra-fold panel panel-default\" id=\"fold-fefd9afb-9cbe-4173-b44e-7850fdd7dfd6\"><div class=\"panel-heading\"><div><i class=\"fa fa-chevron-down hidden\"></i><i class=\"fa fa-chevron-right\"></i><span>proof</span></div></div><div class=\"panel-body collapse\"><div class=\"imandra-proof\"><div class=\"imandra-alternatives\" id=\"alt-b2d7c6e5-4fb5-4e20-8a29-cc73ca865c52\"><ul class=\"nav nav-tabs\"><li class=\"active\" data-toggle=\"tab\"><a>summary</a></li><li class=\"\" data-toggle=\"tab\"><a>full</a></li><li class=\"\" data-toggle=\"tab\"><a>graph</a></li></ul><div class=\"tab-content\"><div class=\"tab-pane active\"><div class=\"imandra-table\" id=\"table-897fbd36-1edd-4d06-93d7-01692487c0c2\"><table><tr><td><b>ground_instances</b></td><td>0</td></tr><tr><td><b>definitions</b></td><td>0</td></tr><tr><td><b>inductions</b></td><td>0</td></tr><tr><td><b>search_time</b></td><td><pre>0.006s</pre></td></tr><tr><td><b>details</b></td><td><div class=\"imandra-fold panel panel-default\" id=\"fold-a5ddd41d-5018-4206-941d-fbb1e6ecf771\"><div class=\"panel-heading\"><div><i class=\"fa fa-chevron-down hidden\"></i><i class=\"fa fa-chevron-right\"></i><span>Expand</span></div></div><div class=\"panel-body collapse\"><div class=\"imandra-table\" id=\"table-bc94ff8a-cba2-41cb-a038-f21711c7aec1\"><table><tr><td><b>smt_stats</b></td><td>(:added-eqs               73\n",
       " :conflicts               3\n",
       " :datatype-accessor-ax    24\n",
       " :datatype-constructor-ax 7\n",
       " :decisions               1\n",
       " :del-clause              2\n",
       " :max-memory              18.20\n",
       " :memory                  18.20\n",
       " :mk-bool-var             76\n",
       " :mk-clause               8\n",
       " :num-allocs              616448873\n",
       " :num-checks              2\n",
       " :propagations            4\n",
       " :rlimit-count            69187\n",
       " :seq-num-reductions      1)</td></tr></table></div></div><script>\n",
       "require(['nbextensions/nbimandra/fold'], function (fold) {\n",
       "  var target = '#fold-a5ddd41d-5018-4206-941d-fbb1e6ecf771';\n",
       "  fold.hydrate(target);\n",
       "});\n",
       "</script></div></td></tr></table></div></div><div class=\"tab-pane\"><div class=\"imandra-fold panel panel-default\" id=\"fold-0271e6fc-1676-4c64-83ec-64eff17ca97e\"><div class=\"panel-heading\"><div><i class=\"fa fa-chevron-down hidden\"></i><i class=\"fa fa-chevron-right\"></i><span>Expand</span></div></div><div class=\"panel-body collapse\"><ul><li><pre>start[0.006s]\n",
       "  (if Is_a(Ros_model.Sensor, Option.get :var_0:.Ros_model.incoming)\n",
       "      &amp;&amp; Is_a(Some, :var_0:.Ros_model.incoming)\n",
       "   then true else false)\n",
       "  ==&gt; not\n",
       "      ((if :var_0:.Ros_model.incoming = None then :var_0:\n",
       "        else\n",
       "        if Is_a(Ros_model.Sensor, Option.get :var_0:.Ros_model.incoming)\n",
       "        then\n",
       "          {Ros_model.min_range = …; Ros_model.incoming = None;\n",
       "           Ros_model.outgoing = …}\n",
       "        else if :var_0:.Ros_model.min_range = None then … else …).Ros_model.min_range\n",
       "       = None)</pre></li><li><div><h4>simplify</h4><div class=\"imandra-table\" id=\"table-8d3e1afb-7ec8-42b4-a604-f1907a9571b2\"><table><tr><td><b>into</b></td><td><pre>not\n",
       "(Is_a(Ros_model.Sensor, Option.get :var_0:.Ros_model.incoming)\n",
       " &amp;&amp; Is_a(Some, :var_0:.Ros_model.incoming))\n",
       "|| not\n",
       "   ((if :var_0:.Ros_model.incoming = None then :var_0:\n",
       "     else\n",
       "     if Is_a(Ros_model.Sensor, Option.get :var_0:.Ros_model.incoming)\n",
       "     then\n",
       "       {Ros_model.min_range = …; Ros_model.incoming = None;\n",
       "        Ros_model.outgoing = …}\n",
       "     else if :var_0:.Ros_model.min_range = None then … else …).Ros_model.min_range\n",
       "    = None)</pre></td></tr><tr><td><b>expansions</b></td><td><pre>[]</pre></td></tr><tr><td><b>rewrite_steps</b></td><td><ul></ul></td></tr><tr><td><b>forward_chaining</b></td><td><ul></ul></td></tr></table></div></div></li><li><div><h4>unsat</h4><pre>(let ((a!1 (Sensor_msgs.laserScan_range_max_3135\n",
       "             (get.Ros_model.Sensor.0_3353\n",
       "         …</pre></div></li></ul></div><script>\n",
       "require(['nbextensions/nbimandra/fold'], function (fold) {\n",
       "  var target = '#fold-0271e6fc-1676-4c64-83ec-64eff17ca97e';\n",
       "  fold.hydrate(target);\n",
       "});\n",
       "</script></div></div><div class=\"tab-pane\"><div class=\"imandra-graphviz\" id=\"graphviz-6ea944ef-ecde-458f-b1cf-77a5cbed0abb\"><textarea style=\"display: none\">digraph &quot;proof&quot; {\n",
       "p_211 [label=&quot;Start ((if Is_a(Ros_model.Sensor, Option.get :var_0:.Ros_model.incoming)\\l           &amp;&amp; Is_a(Some, :var_0:.Ros_model.incoming)\\l        then true else false)\\l       ==\\&gt; not\\l           ((if :var_0:.Ros_model.incoming = None then :var_0:\\l             else\\l             if Is_a(Ros_model.Sensor, Option.get :var_0:.Ros_model.incoming)\\l             then\\l               \\{Ros_model.min_range = …; Ros_model.incoming = None;\\l                Ros_model.outgoing = …\\}\\l             else if :var_0:.Ros_model.min_range = None then … else …).Ros_model.min_range\\l            = None)\\l       :time 0.006s)&quot;,shape=box,style=filled,fontname=&quot;courier&quot;,fontsize=14];\n",
       "p_211 -&gt; p_210 [label=&quot;&quot;];\n",
       "p_210 [label=&quot;Simplify (not\\l          (Is_a(Ros_model.Sensor, Option.get :var_0:.Ros_model.incoming)\\l           &amp;&amp; Is_a(Some, :var_0:.Ros_model.incoming))\\l          \\|\\| not\\l             ((if :var_0:.Ros_model.incoming = None then :var_0:\\l               else\\l               if Is_a(Ros_model.Sensor,\\l                  Option.get :var_0:.Ros_model.incoming)\\l               then\\l                 \\{Ros_model.min_range = …; Ros_model.incoming = None;\\l                  Ros_model.outgoing = …\\}\\l               else if :var_0:.Ros_model.min_range = None then … else …).Ros_model.min_range\\l              = None)\\l          :expansions [] :rw [] :fc [])&quot;,shape=box,style=filled,fontname=&quot;courier&quot;,fontsize=14];\n",
       "p_210 -&gt; p_209 [label=&quot;&quot;];\n",
       "p_209 -&gt; p_z3_1239 [label=&quot;&quot;,fontname=&quot;courier&quot;,fontsize=14];\n",
       "p_z3_1239 [label=&quot;(let ((a!1 (Sensor_msgs.laserScan_range_max_3135\n",
       "             (get.Ros_model.Sensor.0_3353\n",
       "         …&quot;,shape=box,fontname=&quot;courier&quot;,fontsize=14];p_209 [label=&quot;unsat&quot;,shape=box,style=filled,fontname=&quot;courier&quot;,fontsize=14];\n",
       "}\n",
       "</textarea><button class=\"btn btn-primary\">Load graph</button><div class=\"imandra-graphviz-loading display-none\">Loading..</div><div class=\"imandra-graphviz-target\"></div><script>\n",
       "require(['nbextensions/nbimandra/graphviz'], function (graphviz) {\n",
       "  var target = '#graphviz-6ea944ef-ecde-458f-b1cf-77a5cbed0abb';\n",
       "  graphviz.hydrate(target);\n",
       "});\n",
       "</script></div></div></div><script>\n",
       "require(['nbextensions/nbimandra/alternatives'], function (alternatives) {\n",
       "  var target = '#alt-b2d7c6e5-4fb5-4e20-8a29-cc73ca865c52';\n",
       "  alternatives.hydrate(target);\n",
       "});\n",
       "</script></div></div></div><script>\n",
       "require(['nbextensions/nbimandra/fold'], function (fold) {\n",
       "  var target = '#fold-fefd9afb-9cbe-4173-b44e-7850fdd7dfd6';\n",
       "  fold.hydrate(target);\n",
       "});\n",
       "</script></div></div></div><div class=\"tab-pane\"><div class=\"imandra-graphviz\" id=\"graphviz-97ecb932-77ef-4e46-82bd-15758be3b35c\"><textarea style=\"display: none\">digraph &quot;call graph&quot; {\n",
       "goal [label=&quot;not\\l(not\\l (Is_a(Ros_model.Sensor, Option.get state.Ros_model.incoming)\\l  &amp;&amp; Is_a(Some, state.Ros_model.incoming))\\l \\|\\| not\\l    ((if state.Ros_model.incoming = None then state\\l      else\\l      if Is_a(Ros_model.Sensor, Option.get state.Ros_model.incoming)\\l      then\\l        \\{Ros_model.min_range = …; Ros_model.incoming = None;\\l         Ros_model.outgoing = …\\}\\l      else if state.Ros_model.min_range = None then … else …).Ros_model.min_range\\l     = None))&quot;,shape=box,style=filled,color=&quot;cyan&quot;,fontname=&quot;courier&quot;,fontsize=14];\n",
       "call_1796 [label=&quot;List.fold_left anon_fun.Ros_model.get_min_range.0\\l(Destruct(Ros_model.Sensor, 0, Option.get …)).Sensor_msgs.laserScan_range_max\\l(Destruct(Ros_model.Sensor, 0, Option.get …)).Sensor_msgs.laserScan_ranges&quot;,shape=box,style=filled,color=&quot;yellow&quot;,fontname=&quot;courier&quot;,fontsize=14];\n",
       "goal -&gt; call_1796 [label=&quot;calls&quot;];\n",
       "}\n",
       "</textarea><button class=\"btn btn-primary\">Load graph</button><div class=\"imandra-graphviz-loading display-none\">Loading..</div><div class=\"imandra-graphviz-target\"></div><script>\n",
       "require(['nbextensions/nbimandra/graphviz'], function (graphviz) {\n",
       "  var target = '#graphviz-97ecb932-77ef-4e46-82bd-15758be3b35c';\n",
       "  graphviz.hydrate(target);\n",
       "});\n",
       "</script></div></div></div><script>\n",
       "require(['nbextensions/nbimandra/alternatives'], function (alternatives) {\n",
       "  var target = '#alt-bdcf5e8b-0802-4cfa-8f2e-a64a21f189af';\n",
       "  alternatives.hydrate(target);\n",
       "});\n",
       "</script></div></div></div>\n"
      ]
     },
     "metadata": {},
     "output_type": "display_data"
    }
   ],
   "source": [
    "let is_laser_scan msg = \n",
    "  match msg with  Some ( Sensor _ ) -> true | _ -> false ;;\n",
    "  \n",
    "theorem laser_scan_fills_min_value state =\n",
    "  is_laser_scan state.incoming ==> (one_step state).min_range <> None"
   ]
  },
  {
   "cell_type": "markdown",
   "metadata": {},
   "source": [
    "One can see that the theorem is \"Proven\", meaning that Imandra has formally checked that this property holds for all possible input states. \n",
    "\n",
    "Let's also verify that if we are receiving a `rosgraph_msgs/Clock` message, and the `min_range` is less than 0.5 meters ( scaled to 50000 in our message converter ), then there is an outgoing `geometry_msgs/Twist` message with `linear.x` velocity that is less or equal to zero:  "
   ]
  },
  {
   "cell_type": "code",
   "execution_count": 25,
   "metadata": {},
   "outputs": [
    {
     "data": {
      "text/plain": [
       "val is_clock : Ros_model.incoming_msg option -> bool = <fun>\n",
       "val no_positive_outgoing_velocity : Ros_model.state -> bool = <fun>\n"
      ]
     },
     "execution_count": 25,
     "metadata": {},
     "output_type": "execute_result"
    }
   ],
   "source": [
    "let is_clock msg = \n",
    "  match msg with  Some ( Clock _ ) -> true | _ -> false ;;\n",
    "  \n",
    "let no_positive_outgoing_velocity state =\n",
    "  let open Geometry_msgs in\n",
    "  match state.outgoing with \n",
    "  | Some (Twist twist) -> twist.twist_linear.vector3_x <= 0\n",
    "  | _ -> false ;;"
   ]
  },
  {
   "cell_type": "code",
   "execution_count": 26,
   "metadata": {},
   "outputs": [
    {
     "data": {
      "text/plain": [
       "val clock_close_to_wall_stops : Ros_model.state -> bool = <fun>\n"
      ]
     },
     "execution_count": 26,
     "metadata": {},
     "output_type": "execute_result"
    },
    {
     "data": {
      "text/html": [
       "<div><div>Proved<div class=\"imandra-alternatives\" id=\"alt-a500899e-d328-4cc9-932c-031f7de2a1f3\"><ul class=\"nav nav-tabs\"><li class=\"active\" data-toggle=\"tab\"><a>proof</a></li><li class=\"\" data-toggle=\"tab\"><a>call graph</a></li></ul><div class=\"tab-content\"><div class=\"tab-pane active\"><div class=\"imandra-proof-top\"><div class=\"imandra-fold panel panel-default\" id=\"fold-1638d0d0-0187-49eb-a73a-1592b69ffb9e\"><div class=\"panel-heading\"><div><i class=\"fa fa-chevron-down hidden\"></i><i class=\"fa fa-chevron-right\"></i><span>proof</span></div></div><div class=\"panel-body collapse\"><div class=\"imandra-proof\"><div class=\"imandra-alternatives\" id=\"alt-77c6e014-865b-48c5-9074-f62dcf6faef7\"><ul class=\"nav nav-tabs\"><li class=\"active\" data-toggle=\"tab\"><a>summary</a></li><li class=\"\" data-toggle=\"tab\"><a>full</a></li><li class=\"\" data-toggle=\"tab\"><a>graph</a></li></ul><div class=\"tab-content\"><div class=\"tab-pane active\"><div class=\"imandra-table\" id=\"table-b80c1434-cc83-45e2-8568-57d35cbc8660\"><table><tr><td><b>ground_instances</b></td><td>0</td></tr><tr><td><b>definitions</b></td><td>0</td></tr><tr><td><b>inductions</b></td><td>0</td></tr><tr><td><b>search_time</b></td><td><pre>0.006s</pre></td></tr><tr><td><b>details</b></td><td><div class=\"imandra-fold panel panel-default\" id=\"fold-901cc5c3-c9a5-4620-8a36-41a03ac74c20\"><div class=\"panel-heading\"><div><i class=\"fa fa-chevron-down hidden\"></i><i class=\"fa fa-chevron-right\"></i><span>Expand</span></div></div><div class=\"panel-body collapse\"><div class=\"imandra-table\" id=\"table-560459fc-205e-4d6e-9473-705061b593d6\"><table><tr><td><b>smt_stats</b></td><td>(:added-eqs               113\n",
       " :arith-assert-lower      4\n",
       " :arith-assert-upper      2\n",
       " :arith-eq-adapter        1\n",
       " :conflicts               6\n",
       " :datatype-accessor-ax    32\n",
       " :datatype-constructor-ax 15\n",
       " :decisions               12\n",
       " :del-clause              5\n",
       " :max-memory              20.71\n",
       " :memory                  20.71\n",
       " :mk-bool-var             103\n",
       " :mk-clause               6\n",
       " :num-allocs              637685704\n",
       " :num-checks              2\n",
       " :propagations            9\n",
       " :rlimit-count            70103\n",
       " :seq-num-reductions      1)</td></tr></table></div></div><script>\n",
       "require(['nbextensions/nbimandra/fold'], function (fold) {\n",
       "  var target = '#fold-901cc5c3-c9a5-4620-8a36-41a03ac74c20';\n",
       "  fold.hydrate(target);\n",
       "});\n",
       "</script></div></td></tr></table></div></div><div class=\"tab-pane\"><div class=\"imandra-fold panel panel-default\" id=\"fold-7fdad4f8-3421-4954-ac15-0657421c4062\"><div class=\"panel-heading\"><div><i class=\"fa fa-chevron-down hidden\"></i><i class=\"fa fa-chevron-right\"></i><span>Expand</span></div></div><div class=\"panel-body collapse\"><ul><li><pre>start[0.006s]\n",
       "  (if Is_a(Ros_model.Clock, Option.get :var_0:.Ros_model.incoming)\n",
       "      &amp;&amp; Is_a(Some, :var_0:.Ros_model.incoming)\n",
       "   then true else false)\n",
       "  &amp;&amp; (if :var_0:.Ros_model.min_range = None then false\n",
       "      else Option.get :var_0:.Ros_model.min_range &lt; 50000)\n",
       "  ==&gt; (if Is_a(Ros_model.Twist,\n",
       "          Option.get\n",
       "          (if :var_0:.Ros_model.incoming = None then :var_0: else …).Ros_model.outgoing)\n",
       "          &amp;&amp; Is_a(Some,\n",
       "             (if :var_0:.Ros_model.incoming = None then :var_0: else …).Ros_model.outgoing)\n",
       "       then\n",
       "         (Destruct(Ros_model.Twist, 0,\n",
       "                   Option.get\n",
       "                   (if :var_0:.Ros_model.incoming = None then :var_0:\n",
       "                    else …).Ros_model.outgoing)).Geometry_msgs.twist_linear.Geometry_msgs.vector3_x\n",
       "         &lt;= 0\n",
       "       else false)</pre></li><li><div><h4>simplify</h4><div class=\"imandra-table\" id=\"table-7764a094-42b9-4d77-9acf-7fad5a607e0f\"><table><tr><td><b>into</b></td><td><pre>not\n",
       "(((Is_a(Ros_model.Clock, Option.get :var_0:.Ros_model.incoming)\n",
       "   &amp;&amp; Is_a(Some, :var_0:.Ros_model.incoming))\n",
       "  &amp;&amp; not (:var_0:.Ros_model.min_range = None))\n",
       " &amp;&amp; not (50000 &lt;= Option.get :var_0:.Ros_model.min_range))\n",
       "|| (Is_a(Ros_model.Twist,\n",
       "    Option.get\n",
       "    (if :var_0:.Ros_model.incoming = None then :var_0: else …).Ros_model.outgoing)\n",
       "    &amp;&amp; Is_a(Some,\n",
       "       (if :var_0:.Ros_model.incoming = None then :var_0: else …).Ros_model.outgoing))\n",
       "   &amp;&amp; (Destruct(Ros_model.Twist, 0,\n",
       "                Option.get\n",
       "                (if :var_0:.Ros_model.incoming = None then :var_0: else …).Ros_model.outgoing)).Geometry_msgs.twist_linear.Geometry_msgs.vector3_x\n",
       "      &lt;= 0</pre></td></tr><tr><td><b>expansions</b></td><td><pre>[]</pre></td></tr><tr><td><b>rewrite_steps</b></td><td><ul></ul></td></tr><tr><td><b>forward_chaining</b></td><td><ul></ul></td></tr></table></div></div></li><li><div><h4>unsat</h4><pre>(let ((a!1 (Sensor_msgs.laserScan_range_max_3135\n",
       "             (get.Ros_model.Sensor.0_3353\n",
       "         …</pre></div></li></ul></div><script>\n",
       "require(['nbextensions/nbimandra/fold'], function (fold) {\n",
       "  var target = '#fold-7fdad4f8-3421-4954-ac15-0657421c4062';\n",
       "  fold.hydrate(target);\n",
       "});\n",
       "</script></div></div><div class=\"tab-pane\"><div class=\"imandra-graphviz\" id=\"graphviz-7d7f1cce-a0d0-428d-9f3a-85b609ebc32a\"><textarea style=\"display: none\">digraph &quot;proof&quot; {\n",
       "p_214 [label=&quot;Start ((if Is_a(Ros_model.Clock, Option.get :var_0:.Ros_model.incoming)\\l           &amp;&amp; Is_a(Some, :var_0:.Ros_model.incoming)\\l        then true else false)\\l       &amp;&amp; (if :var_0:.Ros_model.min_range = None then false\\l           else Option.get :var_0:.Ros_model.min_range \\&lt; 50000)\\l       ==\\&gt; (if Is_a(Ros_model.Twist,\\l               Option.get\\l               (if :var_0:.Ros_model.incoming = None then :var_0: else …).Ros_model.outgoing)\\l               &amp;&amp; Is_a(Some,\\l                  (if :var_0:.Ros_model.incoming = None then :var_0: else …).Ros_model.outgoing)\\l            then\\l              (Destruct(Ros_model.Twist, 0,\\l                        Option.get\\l                        (if :var_0:.Ros_model.incoming = None then :var_0:\\l                         else …).Ros_model.outgoing)).Geometry_msgs.twist_linear.Geometry_msgs.vector3_x\\l              \\&lt;= 0\\l            else false)\\l       :time 0.006s)&quot;,shape=box,style=filled,fontname=&quot;courier&quot;,fontsize=14];\n",
       "p_214 -&gt; p_213 [label=&quot;&quot;];\n",
       "p_213 [label=&quot;Simplify (not\\l          (((Is_a(Ros_model.Clock, Option.get :var_0:.Ros_model.incoming)\\l             &amp;&amp; Is_a(Some, :var_0:.Ros_model.incoming))\\l            &amp;&amp; not (:var_0:.Ros_model.min_range = None))\\l           &amp;&amp; not (50000 \\&lt;= Option.get :var_0:.Ros_model.min_range))\\l          \\|\\| (Is_a(Ros_model.Twist,\\l              Option.get\\l              (if :var_0:.Ros_model.incoming = None then :var_0: else …).Ros_model.outgoing)\\l              &amp;&amp; Is_a(Some,\\l                 (if :var_0:.Ros_model.incoming = None then :var_0: else …).Ros_model.outgoing))\\l             &amp;&amp; (Destruct(Ros_model.Twist, 0,\\l                          Option.get\\l                          (if :var_0:.Ros_model.incoming = None then :var_0:\\l                           else …).Ros_model.outgoing)).Geometry_msgs.twist_linear.Geometry_msgs.vector3_x\\l                \\&lt;= 0\\l          :expansions [] :rw [] :fc [])&quot;,shape=box,style=filled,fontname=&quot;courier&quot;,fontsize=14];\n",
       "p_213 -&gt; p_212 [label=&quot;&quot;];\n",
       "p_212 -&gt; p_z3_3056 [label=&quot;&quot;,fontname=&quot;courier&quot;,fontsize=14];\n",
       "p_z3_3056 [label=&quot;(let ((a!1 (Sensor_msgs.laserScan_range_max_3135\n",
       "             (get.Ros_model.Sensor.0_3353\n",
       "         …&quot;,shape=box,fontname=&quot;courier&quot;,fontsize=14];p_212 [label=&quot;unsat&quot;,shape=box,style=filled,fontname=&quot;courier&quot;,fontsize=14];\n",
       "}\n",
       "</textarea><button class=\"btn btn-primary\">Load graph</button><div class=\"imandra-graphviz-loading display-none\">Loading..</div><div class=\"imandra-graphviz-target\"></div><script>\n",
       "require(['nbextensions/nbimandra/graphviz'], function (graphviz) {\n",
       "  var target = '#graphviz-7d7f1cce-a0d0-428d-9f3a-85b609ebc32a';\n",
       "  graphviz.hydrate(target);\n",
       "});\n",
       "</script></div></div></div><script>\n",
       "require(['nbextensions/nbimandra/alternatives'], function (alternatives) {\n",
       "  var target = '#alt-77c6e014-865b-48c5-9074-f62dcf6faef7';\n",
       "  alternatives.hydrate(target);\n",
       "});\n",
       "</script></div></div></div><script>\n",
       "require(['nbextensions/nbimandra/fold'], function (fold) {\n",
       "  var target = '#fold-1638d0d0-0187-49eb-a73a-1592b69ffb9e';\n",
       "  fold.hydrate(target);\n",
       "});\n",
       "</script></div></div></div><div class=\"tab-pane\"><div class=\"imandra-graphviz\" id=\"graphviz-62494357-e408-479c-9b43-87e047d1d369\"><textarea style=\"display: none\">digraph &quot;call graph&quot; {\n",
       "goal [label=&quot;not\\l(not\\l (((Is_a(Ros_model.Clock, Option.get state.Ros_model.incoming)\\l    &amp;&amp; Is_a(Some, state.Ros_model.incoming))\\l   &amp;&amp; not (state.Ros_model.min_range = None))\\l  &amp;&amp; not (50000 \\&lt;= Option.get state.Ros_model.min_range))\\l \\|\\| (Is_a(Ros_model.Twist,\\l     Option.get\\l     (if state.Ros_model.incoming = None then state else …).Ros_model.outgoing)\\l     &amp;&amp; Is_a(Some,\\l        (if state.Ros_model.incoming = None then state else …).Ros_model.outgoing))\\l    &amp;&amp; (Destruct(Ros_model.Twist, 0,\\l                 Option.get\\l                 (if state.Ros_model.incoming = None then state else …).Ros_model.outgoing)).Geometry_msgs.twist_linear.Geometry_msgs.vector3_x\\l       \\&lt;= 0)&quot;,shape=box,style=filled,color=&quot;cyan&quot;,fontname=&quot;courier&quot;,fontsize=14];\n",
       "call_1750 [label=&quot;List.fold_left anon_fun.Ros_model.get_min_range.0\\l(Destruct(Ros_model.Sensor, 0, Option.get …)).Sensor_msgs.laserScan_range_max\\l(Destruct(Ros_model.Sensor, 0, Option.get …)).Sensor_msgs.laserScan_ranges&quot;,shape=box,style=filled,color=&quot;yellow&quot;,fontname=&quot;courier&quot;,fontsize=14];\n",
       "goal -&gt; call_1750 [label=&quot;calls&quot;];\n",
       "}\n",
       "</textarea><button class=\"btn btn-primary\">Load graph</button><div class=\"imandra-graphviz-loading display-none\">Loading..</div><div class=\"imandra-graphviz-target\"></div><script>\n",
       "require(['nbextensions/nbimandra/graphviz'], function (graphviz) {\n",
       "  var target = '#graphviz-62494357-e408-479c-9b43-87e047d1d369';\n",
       "  graphviz.hydrate(target);\n",
       "});\n",
       "</script></div></div></div><script>\n",
       "require(['nbextensions/nbimandra/alternatives'], function (alternatives) {\n",
       "  var target = '#alt-a500899e-d328-4cc9-932c-031f7de2a1f3';\n",
       "  alternatives.hydrate(target);\n",
       "});\n",
       "</script></div></div></div>\n"
      ]
     },
     "metadata": {},
     "output_type": "display_data"
    }
   ],
   "source": [
    "theorem clock_close_to_wall_stops state =\n",
    "  (  is_clock state.incoming\n",
    "  && match state.min_range with None -> false | Some m -> m < 50000 \n",
    "  ) ==> no_positive_outgoing_velocity (one_step state)"
   ]
  },
  {
   "cell_type": "code",
   "execution_count": null,
   "metadata": {},
   "outputs": [],
   "source": []
  }
 ],
 "metadata": {
  "kernelspec": {
   "display_name": "Imandra",
   "language": "",
   "name": "imandra"
  },
  "language_info": {
   "codemirror_mode": "mllike",
   "file_extension": ".ml",
   "mimetype": "text",
   "name": "ocaml",
   "version": "0.1.0"
  }
 },
 "nbformat": 4,
 "nbformat_minor": 2
}
