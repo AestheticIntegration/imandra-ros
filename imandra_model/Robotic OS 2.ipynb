{
 "cells": [
  {
   "cell_type": "markdown",
   "metadata": {},
   "source": [
    "![Imandrabot](../docs/images/kostya_ros_medium_1.png)"
   ]
  },
  {
   "cell_type": "markdown",
   "metadata": {},
   "source": [
    "In this notebook we will go through creation and verification of a Robotic Operating System (ROS) node in Imandra. We will make an robot cotrol node that controls the motion of a simple 2-wheeler bot:"
   ]
  },
  {
   "cell_type": "markdown",
   "metadata": {},
   "source": [
    "![Imandrabot](../docs/images/Imandrabot.png)"
   ]
  },
  {
   "cell_type": "markdown",
   "metadata": {},
   "source": [
    "We'll create a controller that uses the laser scannner to intelligently avoid obstacles and drive around the scene. The Imandra ML code can be compiled in OCaml and plugged into the ROS system -- the behavior of the bot can be observed in the Gazebo simulator.    \n",
    "\n",
    "Then we'll illustrate how to use Imandra to formally verify various statements about the model and how to find bugs and corner cases by exploring the Imandra-generated generated counterexamples for failed theorems."
   ]
  },
  {
   "cell_type": "markdown",
   "metadata": {},
   "source": [
    "# 1. ROS message OCaml types"
   ]
  },
  {
   "cell_type": "markdown",
   "metadata": {},
   "source": [
    "For our Imandra-ROS project we’ve processed all the standard ROS messages with our code generation tool creating a collection of strongly-typed IML/OCaml bindings for them. But, in order to keep this notebook self-contained we'll define the necessary messaging modules here.  \n",
    "\n",
    "First, we'll need to declare the message type that will control our robot. This is typically done with a `Twist` message from the `geometry_msgs` standard ROS package. We want to mimic ROS messaging nomenclauture as close as possible, so we'll create an OCaml/Imadra `module` with the same name as the package and will place the necessary type/message declaraions inside:"
   ]
  },
  {
   "cell_type": "code",
   "execution_count": 1,
   "metadata": {},
   "outputs": [
    {
     "data": {
      "text/plain": [
       "module Geometry_msgs :\n",
       "  sig\n",
       "    type vector3 = { vector3_x : int; vector3_y : int; vector3_z : int; }\n",
       "    type twist = { twist_linear : vector3; twist_angular : vector3; }\n",
       "  end\n"
      ]
     },
     "execution_count": 1,
     "metadata": {},
     "output_type": "execute_result"
    }
   ],
   "source": [
    "module Geometry_msgs = struct\n",
    "  type vector3 = \n",
    "    { vector3_x : int\n",
    "    ; vector3_y : int\n",
    "    ; vector3_z : int\n",
    "    }\n",
    "  type twist = \n",
    "    { twist_linear  : vector3\n",
    "    ; twist_angular : vector3\n",
    "    }    \n",
    "end"
   ]
  },
  {
   "cell_type": "markdown",
   "metadata": {},
   "source": [
    "One thing that you might have noticed is that we've replaced floating point values for vector coordinates with `int`s. It is much easier for Imandra to reason about integers, so we assume that there is a common factor of 100000 that multiplying all the incoming floating point values and divides all the outgoing integers. (That effectively makes our unit of measurement to be 10 micrometers).\n",
    "\n",
    "Let's move on and declare the incoming messages: \n",
    " - `LaserScan` sensor input message from the `sensor_msgs` ROS package\n",
    " - and the `Clock` message from the `Rosgraph_msg` ROS package  \n",
    " \n",
    "We define the wrapping modules for both messages and declare their datatypes:"
   ]
  },
  {
   "cell_type": "code",
   "execution_count": 2,
   "metadata": {},
   "outputs": [
    {
     "data": {
      "text/plain": [
       "module Sensor_msgs :\n",
       "  sig\n",
       "    type laserScan = {\n",
       "      laserScan_range_min : int;\n",
       "      laserScan_range_max : int;\n",
       "      laserScan_ranges : int list;\n",
       "    }\n",
       "  end\n",
       "module Rosgraph_msgs :\n",
       "  sig\n",
       "    type time = { seconds : int; nanoseconds : int; }\n",
       "    type clock = { clock : time; }\n",
       "  end\n"
      ]
     },
     "execution_count": 2,
     "metadata": {},
     "output_type": "execute_result"
    }
   ],
   "source": [
    "module Sensor_msgs = struct\n",
    "  type laserScan = \n",
    "    { laserScan_range_min : int \n",
    "    ; laserScan_range_max : int \n",
    "    ; laserScan_ranges : int list \n",
    "    }\n",
    "end\n",
    "module Rosgraph_msgs = struct\n",
    "  type time = \n",
    "    { seconds     : int\n",
    "    ; nanoseconds : int\n",
    "    }\n",
    "  type clock = { clock : time }\n",
    "end"
   ]
  },
  {
   "cell_type": "markdown",
   "metadata": {},
   "source": [
    "# 2. Creating a simple ROS Node model"
   ]
  },
  {
   "cell_type": "markdown",
   "metadata": {},
   "source": [
    "We want to create some simple but non-trivial robot controller that makes our bot drive around avoiding the obstacles. The bot is going to drive forward until one of the laser scanner ranges becomes too low, meaning that we've gotten too close to some obstacle -- in that case we want the bot to stop and turn until the scanner tells us that the road ahead is clear. To make model a bit more complex, we'd like to implement the ability to choose the turning direction depending on the laser scanner ranges.\n",
    "\n",
    "One might try to make a \"naiive\" controller that doesn't have any memory about the previous bot states and observations and just reacts to the currently observed scanner values. This will quickly lead to the bot being \"stuck\" in infinite oscillatory loops. E.g. here is the bot that decides which side to turn depending on the first value in the `ranges` array:"
   ]
  },
  {
   "cell_type": "markdown",
   "metadata": {},
   "source": [
    "![Imandrabot](../docs/images/Stuck.gif)"
   ]
  },
  {
   "cell_type": "markdown",
   "metadata": {},
   "source": [
    "To avoid this kind of "
   ]
  },
  {
   "cell_type": "markdown",
   "metadata": {},
   "source": [
    "## 2.1 State datatype"
   ]
  },
  {
   "cell_type": "markdown",
   "metadata": {},
   "source": [
    "Working with Imandra we’ve adopted a standard way to construct formal models of message-driven systems. At the top of the model we have a single OCaml datatype that holds all the data needed to describe the system at a given moment, including incoming and outgoing messages. We call this record type `state`. Together with this `state` type we define a `one_step` transition `state -> state` function, which performs a single logically isolated step of the simulation and returns the new `state` after the transition."
   ]
  },
  {
   "cell_type": "markdown",
   "metadata": {},
   "source": [
    "As an example, consider an IML/OCaml type declaration for a simple ROS node that is able to accept `rosgraph_msgs/Clock` and `sensor_msgs/LaserScan` standard ROS messages. We also want the state to store two values: \n",
    " - the latest minimal value of the ranges that the laser sensor returns\n",
    " - the preferred side for the robot to turn -- either left or right. \n",
    " \n",
    "Finally, we want the node to be able to send `geometry_msgs/Twist` ROS message depending on the stored `min_range` data:"
   ]
  },
  {
   "cell_type": "code",
   "execution_count": 4,
   "metadata": {},
   "outputs": [
    {
     "data": {
      "text/plain": [
       "type incoming_msg =\n",
       "    Clock of Rosgraph_msgs.clock\n",
       "  | Sensor of Sensor_msgs.laserScan\n",
       "type outgoing_msg = Twist of Geometry_msgs.twist\n",
       "type direction = CW | CCW\n",
       "type mode = Driving | Turning\n",
       "type state = {\n",
       "  mode : mode;\n",
       "  min_range : int option;\n",
       "  direction : direction option;\n",
       "  incoming : incoming_msg option;\n",
       "  outgoing : outgoing_msg option;\n",
       "}\n"
      ]
     },
     "execution_count": 4,
     "metadata": {},
     "output_type": "execute_result"
    }
   ],
   "source": [
    "type incoming_msg = \n",
    "  | Clock  of Rosgraph_msgs.clock\n",
    "  | Sensor of Sensor_msgs.laserScan\n",
    "\n",
    "type outgoing_msg =\n",
    "  | Twist of Geometry_msgs.twist\n",
    "\n",
    "type direction = CW | CCW \n",
    "type mode = Driving | Turning \n",
    "\n",
    "type state =\n",
    "  { mode : mode\n",
    "  ; min_range : int option\n",
    "  ; direction : direction option\n",
    "  ; incoming  : incoming_msg option\n",
    "  ; outgoing  : outgoing_msg option \n",
    "  }"
   ]
  },
  {
   "cell_type": "markdown",
   "metadata": {},
   "source": [
    "## 2.2 State transition `one_step` function"
   ]
  },
  {
   "cell_type": "markdown",
   "metadata": {},
   "source": [
    "To implement our node, we'll need a function that scans through a list of values and returns the minimum value *and its index*. We'll make a generic function `foldi` that does an indexed version of `List.fold_right`.   \n",
    "\n",
    "Couple of things to notice here:\n",
    "- the function has its \"termination proof\" -- that means that Imandra managed to prove that recusive calls in this function will not end up in an infinite loop. Imandra proves such things using inductive reasoning and is able to prove further statements about other properties of such functions.   \n",
    "- instead of doing it like in the tail-recursive `fold_left`, we use `fold_right` approach instead. Having no accumulator, `fold_right` is generally more friendly for inductive proofs than `fold_left`."
   ]
  },
  {
   "cell_type": "code",
   "execution_count": 5,
   "metadata": {},
   "outputs": [
    {
     "data": {
      "text/plain": [
       "val foldi : base:'a -> ?i:Z.t -> (Z.t -> 'b -> 'a -> 'a) -> 'b list -> 'a =\n",
       "  <fun>\n"
      ]
     },
     "execution_count": 5,
     "metadata": {},
     "output_type": "execute_result"
    },
    {
     "data": {
      "text/html": [
       "<div><div class=\"imandra-fold panel panel-default\" id=\"fold-298fa5d7-7687-46cf-ab82-266e2f34807d\"><div class=\"panel-heading\"><div><i class=\"fa fa-chevron-down hidden\"></i><i class=\"fa fa-chevron-right\"></i><span>termination proof</span></div></div><div class=\"panel-body collapse\"><div><h3>Termination proof</h3><p></p><div class=\"imandra-fold panel panel-default\" id=\"fold-8e2e2067-fd1f-42fe-a461-28e994380f13\"><div class=\"panel-heading\"><div><i class=\"fa fa-chevron-down hidden\"></i><i class=\"fa fa-chevron-right\"></i><span>call `foldi base (Some ((if Is_a(Some, *opt*) then Option.get *opt* else 0) + 1))\n",
       "f_2 (List.tl l)` from `foldi base *opt* f_2 l`</span></div></div><div class=\"panel-body collapse\"><div class=\"imandra-table\" id=\"table-e047e0d0-c26f-4809-88c4-f2f45b295dda\"><table><tr><td><b>original</b></td><td>foldi base *opt* f_2 l</td></tr><tr><td><b>sub</b></td><td>foldi base (Some ((if Is_a(Some, *opt*) then Option.get *opt* else 0) + 1))\n",
       "f_2 (List.tl l)</td></tr><tr><td><b>original ordinal</b></td><td>Ordinal.Int (Ordinal.count l)</td></tr><tr><td><b>sub ordinal</b></td><td>Ordinal.Int (Ordinal.count (List.tl l))</td></tr><tr><td><b>path</b></td><td>[not (l = [])]</td></tr><tr><td><b>proof</b></td><td><div class=\"imandra-fold panel panel-default\" id=\"fold-e710a9d2-8a3b-469a-9176-3cc46b5ff0ce\"><div class=\"panel-heading\"><div><i class=\"fa fa-chevron-down hidden\"></i><i class=\"fa fa-chevron-right\"></i><span>detailed proof</span></div></div><div class=\"panel-body collapse\"><div class=\"imandra-proof\"><div class=\"imandra-alternatives\" id=\"alt-e56a4654-1ac6-4284-ae27-1cd301b5a92b\"><ul class=\"nav nav-tabs\"><li class=\"active\" data-toggle=\"tab\"><a>summary</a></li><li class=\"\" data-toggle=\"tab\"><a>full</a></li></ul><div class=\"tab-content\"><div class=\"tab-pane active\"><div class=\"imandra-table\" id=\"table-ee1ca698-c5f3-49e6-886c-7c9f185be136\"><table><tr><td><b>ground_instances</b></td><td>3</td></tr><tr><td><b>definitions</b></td><td>0</td></tr><tr><td><b>inductions</b></td><td>0</td></tr><tr><td><b>search_time</b></td><td><pre>0.008s</pre></td></tr><tr><td><b>details</b></td><td><div class=\"imandra-fold panel panel-default\" id=\"fold-9120b12d-0ac9-4bc0-9d37-334cfcf95d57\"><div class=\"panel-heading\"><div><i class=\"fa fa-chevron-down hidden\"></i><i class=\"fa fa-chevron-right\"></i><span>Expand</span></div></div><div class=\"panel-body collapse\"><div class=\"imandra-table\" id=\"table-da63b815-2fab-4bb5-a7ff-bc9413c4563c\"><table><tr><td><b>smt_stats</b></td><td><div class=\"imandra-table\" id=\"table-7a8cd9bc-632f-4bc5-ab55-c828644d8dc2\"><table><tr><td><b>num checks</b></td><td>7</td></tr><tr><td><b>arith assert lower</b></td><td>7</td></tr><tr><td><b>arith pivots</b></td><td>5</td></tr><tr><td><b>rlimit count</b></td><td>1908</td></tr><tr><td><b>mk clause</b></td><td>3</td></tr><tr><td><b>datatype occurs check</b></td><td>43</td></tr><tr><td><b>mk bool var</b></td><td>54</td></tr><tr><td><b>arith assert upper</b></td><td>5</td></tr><tr><td><b>datatype splits</b></td><td>3</td></tr><tr><td><b>decisions</b></td><td>7</td></tr><tr><td><b>arith add rows</b></td><td>15</td></tr><tr><td><b>propagations</b></td><td>2</td></tr><tr><td><b>conflicts</b></td><td>7</td></tr><tr><td><b>arith fixed eqs</b></td><td>5</td></tr><tr><td><b>datatype accessor ax</b></td><td>5</td></tr><tr><td><b>arith conflicts</b></td><td>1</td></tr><tr><td><b>datatype constructor ax</b></td><td>8</td></tr><tr><td><b>num allocs</b></td><td>597543683</td></tr><tr><td><b>final checks</b></td><td>6</td></tr><tr><td><b>added eqs</b></td><td>34</td></tr><tr><td><b>del clause</b></td><td>1</td></tr><tr><td><b>arith eq adapter</b></td><td>4</td></tr><tr><td><b>memory</b></td><td>4.320000</td></tr><tr><td><b>max memory</b></td><td>16.160000</td></tr></table></div></td></tr></table></div></div><script>\n",
       "require(['nbextensions/nbimandra/fold'], function (fold) {\n",
       "  var target = '#fold-9120b12d-0ac9-4bc0-9d37-334cfcf95d57';\n",
       "  fold.hydrate(target);\n",
       "});\n",
       "</script></div></td></tr></table></div></div><div class=\"tab-pane\"><div class=\"imandra-fold panel panel-default\" id=\"fold-ff373477-4db6-4718-a0f0-c95e0b6fb7b5\"><div class=\"panel-heading\"><div><i class=\"fa fa-chevron-down hidden\"></i><i class=\"fa fa-chevron-right\"></i><span>Expand</span></div></div><div class=\"panel-body collapse\"><ul><li><pre>start[0.008s]\n",
       "  not (l = []) &amp;&amp; Ordinal.count l &gt;= 0 &amp;&amp; Ordinal.count (List.tl l) &gt;= 0\n",
       "  ==&gt; List.tl l = []\n",
       "      || Ordinal.Int (Ordinal.count (List.tl l)) Ordinal.&lt;&lt;\n",
       "         Ordinal.Int (Ordinal.count l)</pre></li><li><div><h5>simplify</h5><div class=\"imandra-table\" id=\"table-7c3f9422-4d68-4605-aa73-d26810a0194b\"><table><tr><td><b>into</b></td><td><pre>(not\n",
       " ((not (l = []) &amp;&amp; Ordinal.count l &gt;= 0) &amp;&amp; Ordinal.count (List.tl l) &gt;= 0)\n",
       " || List.tl l = [])\n",
       "|| Ordinal.Int (Ordinal.count (List.tl l)) Ordinal.&lt;&lt;\n",
       "   Ordinal.Int (Ordinal.count l)</pre></td></tr><tr><td><b>expansions</b></td><td><pre>[]</pre></td></tr><tr><td><b>rewrite_steps</b></td><td><ul></ul></td></tr><tr><td><b>forward_chaining</b></td><td><ul></ul></td></tr></table></div></div></li><li><div>unroll<div class=\"imandra-table\" id=\"table-6e7aa26b-5314-4257-856b-c55531641dab\"><table><tr><td><b>expr</b></td><td><pre>(Ordinal.&lt;&lt;_131 (Ordinal.Int_122 (|count_`ty_1 list`_2228|\n",
       "                                   (|get.…</pre></td></tr><tr><td><b>expansions</b></td><td><ul></ul></td></tr></table></div></div></li><li><div>unroll<div class=\"imandra-table\" id=\"table-922990df-7718-4877-bab9-d1c3e7af9718\"><table><tr><td><b>expr</b></td><td><pre>(|count_`ty_1 list`_2228| (|get.::.1_2206| l_2217))</pre></td></tr><tr><td><b>expansions</b></td><td><ul></ul></td></tr></table></div></div></li><li><div>unroll<div class=\"imandra-table\" id=\"table-bf51e9a6-da3f-48ef-a6b1-d1182ff12d91\"><table><tr><td><b>expr</b></td><td><pre>(|count_`ty_1 list`_2228| l_2217)</pre></td></tr><tr><td><b>expansions</b></td><td><ul></ul></td></tr></table></div></div></li><li><div><h5>unsat</h5><pre>(let ((a!1 (ite (&gt;= (|count_`ty_1 list`_2228| (|get.::.1_2206| l_2217)) 0)\n",
       "                (|count_`…</pre></div></li></ul></div><script>\n",
       "require(['nbextensions/nbimandra/fold'], function (fold) {\n",
       "  var target = '#fold-ff373477-4db6-4718-a0f0-c95e0b6fb7b5';\n",
       "  fold.hydrate(target);\n",
       "});\n",
       "</script></div></div></div><script>\n",
       "require(['nbextensions/nbimandra/alternatives'], function (alternatives) {\n",
       "  var target = '#alt-e56a4654-1ac6-4284-ae27-1cd301b5a92b';\n",
       "  alternatives.hydrate(target);\n",
       "});\n",
       "</script></div></div></div><script>\n",
       "require(['nbextensions/nbimandra/fold'], function (fold) {\n",
       "  var target = '#fold-e710a9d2-8a3b-469a-9176-3cc46b5ff0ce';\n",
       "  fold.hydrate(target);\n",
       "});\n",
       "</script></div></td></tr></table></div></div><script>\n",
       "require(['nbextensions/nbimandra/fold'], function (fold) {\n",
       "  var target = '#fold-8e2e2067-fd1f-42fe-a461-28e994380f13';\n",
       "  fold.hydrate(target);\n",
       "});\n",
       "</script></div><p></p></div></div><script>\n",
       "require(['nbextensions/nbimandra/fold'], function (fold) {\n",
       "  var target = '#fold-298fa5d7-7687-46cf-ab82-266e2f34807d';\n",
       "  fold.hydrate(target);\n",
       "});\n",
       "</script></div></div>\n"
      ]
     },
     "metadata": {},
     "output_type": "display_data"
    }
   ],
   "source": [
    "let rec foldi ~base ?(i=0) f l =\n",
    "  match l with\n",
    "  | [] -> base\n",
    "  | x :: tail -> f i x (foldi f ~base ~i:(i+1) tail)"
   ]
  },
  {
   "cell_type": "markdown",
   "metadata": {},
   "source": [
    "Lets now create a simple `one_step` function for a ROS node that reacts to the incoming messages. We want the robot, on incoming `Clock` message, to either move forward or turn. On incoming `Scan` message, \n",
    "\n",
    "\n",
    "depending on the stored `min_range` value. To this end, we first create two helper functions: \n",
    " - `get_min_range` extract the minimal value of the ranges in a `Scan` message \n",
    " - `make_twist_message` creates a `Twist` message with the given forward and angular velocities"
   ]
  },
  {
   "cell_type": "code",
   "execution_count": 14,
   "metadata": {},
   "outputs": [
    {
     "data": {
      "text/plain": [
       "val get_min_and_direction : Sensor_msgs.laserScan -> int * direction = <fun>\n",
       "val make_twist_message : int -> int -> outgoing_msg = <fun>\n"
      ]
     },
     "execution_count": 14,
     "metadata": {},
     "output_type": "execute_result"
    }
   ],
   "source": [
    "let get_min_and_direction msg =\n",
    "  let max = msg.Sensor_msgs.laserScan_range_max in\n",
    "  let lst = msg.Sensor_msgs.laserScan_ranges in\n",
    "  let min_range = List.fold_right ~base:max\n",
    "    (fun x a -> if x < a then x else a) lst in\n",
    "  let mini = foldi ~base:(max, 0)\n",
    "    (fun i a b -> if a < fst b then (a,i) else b) in\n",
    "  let _ , idx = mini lst in\n",
    "  if idx < List.length lst / 2 then min_range, CW else min_range, CCW\n",
    "  \n",
    "let make_twist_message v omega=\n",
    "  let open Geometry_msgs in\n",
    "  let mkvector x y z = { vector3_x = x; vector3_y = y; vector3_z = z } in \n",
    "  Twist { twist_linear  = mkvector v 0 0\n",
    "        ; twist_angular = mkvector 0 0 omega \n",
    "        } "
   ]
  },
  {
   "cell_type": "markdown",
   "metadata": {},
   "source": [
    "Upon receiving the `Clock` message, we want to just either drive forward or turn in place, depending on the values stored in the state: if we are in the `Driving` mode -- we dirve forward, if we are in the `Turning` mode, then we turn either left of right, depending on the stored value of the `direction` field."
   ]
  },
  {
   "cell_type": "code",
   "execution_count": 15,
   "metadata": {},
   "outputs": [
    {
     "data": {
      "text/plain": [
       "val process_clock_message : state -> state = <fun>\n"
      ]
     },
     "execution_count": 15,
     "metadata": {},
     "output_type": "execute_result"
    }
   ],
   "source": [
    "let process_clock_message state =\n",
    "  match state.mode with \n",
    "  | Driving -> { state with outgoing = Some (make_twist_message 10000 0) } \n",
    "  | Turning -> begin\n",
    "    match state.direction with \n",
    "    | None\n",
    "    | Some ( CW ) -> { state with outgoing = Some (make_twist_message 0   10000) } \n",
    "    | Some (CCW ) -> { state with outgoing = Some (make_twist_message 0 (-10000))} \n",
    "  end"
   ]
  },
  {
   "cell_type": "markdown",
   "metadata": {},
   "source": [
    "When receiving the `LaserScan` message, we are updating the variables on our `state`:  \n",
    "  - In the `Dirving` mode we check if the scanned minimal range is less than 0.2m. If that is the case we transition to the `Turning` mode; otherwise we just keep driving.\n",
    "  - In the `Turning` mode we check if the scanned minimal range is greater than 0.25m -- in that case we switch to the `Driving` mode. If we are still in the `Turning` mode -- we update the stored minimal range variable and the turning direction depending on whether then new value is less than the stored value."
   ]
  },
  {
   "cell_type": "code",
   "execution_count": 16,
   "metadata": {},
   "outputs": [
    {
     "data": {
      "text/plain": [
       "val process_sensor_message : state -> int -> direction -> state = <fun>\n"
      ]
     },
     "execution_count": 16,
     "metadata": {},
     "output_type": "execute_result"
    }
   ],
   "source": [
    "let process_sensor_message state min_range min_direction =\n",
    "  match state.mode , state.min_range with \n",
    "  | Driving , _    ->\n",
    "    if min_range < 20000 then \n",
    "      { state with \n",
    "        mode      = Turning\n",
    "      ; direction = Some min_direction\n",
    "      ; min_range = Some min_range \n",
    "      }\n",
    "    else\n",
    "      { state with mode = Driving; min_range = None; direction = None } \n",
    "  | Turning , None -> \n",
    "    if min_range > 25000 then \n",
    "      { state with mode = Driving; min_range = None; direction = None } \n",
    "    else\n",
    "      { state with \n",
    "        direction = Some min_direction\n",
    "      ; min_range = Some min_range\n",
    "      } \n",
    "  | Turning , Some old_range -> \n",
    "    if min_range > 25000 then \n",
    "      { state with mode = Driving; min_range = None; direction = None } \n",
    "    else if min_range > old_range then state else \n",
    "    { state with \n",
    "      direction = Some min_direction\n",
    "    ; min_range = Some min_range\n",
    "    }  "
   ]
  },
  {
   "cell_type": "markdown",
   "metadata": {},
   "source": [
    "With the help of these functions, we can create our `one_step` transition function, which just dispathces the messages to the appropriate helper function above."
   ]
  },
  {
   "cell_type": "code",
   "execution_count": 17,
   "metadata": {},
   "outputs": [
    {
     "data": {
      "text/plain": [
       "val one_step : state -> state = <fun>\n"
      ]
     },
     "execution_count": 17,
     "metadata": {},
     "output_type": "execute_result"
    }
   ],
   "source": [
    "let one_step state =\n",
    "  match state.incoming with None -> state | Some in_msg ->\n",
    "  let state = { state with incoming = None; outgoing = None } in\n",
    "  match in_msg with \n",
    "  | Sensor laserScan -> \n",
    "    let min_range, min_direction = get_min_and_direction laserScan in\n",
    "    process_sensor_message state min_range min_direction\n",
    "  | Clock  _ -> \n",
    "    process_clock_message state"
   ]
  },
  {
   "cell_type": "markdown",
   "metadata": {},
   "source": [
    "## 2.3 Running the model as a ROS node"
   ]
  },
  {
   "cell_type": "markdown",
   "metadata": {},
   "source": [
    "One can write the model into an OCaml code file:   \n",
    "https://github.com/AestheticIntegration/imandra-ros/blob/master/imandra_model/src-model/ros_model.ml  \n",
    "and then compile it into an executable node, using our ROS node wrapper. \n",
    "\n",
    "Here is the model, controling our \"imandrabot\" in the Gazebo simulation environment:"
   ]
  },
  {
   "cell_type": "markdown",
   "metadata": {},
   "source": [
    "![Imandrabot](../docs/images/Imandra_Demo.gif)"
   ]
  },
  {
   "cell_type": "markdown",
   "metadata": {},
   "source": [
    "# 3. Verifying the ROS node model"
   ]
  },
  {
   "cell_type": "markdown",
   "metadata": {},
   "source": [
    "## 3.1 Verifying outgoing `Twist` message at `Clock` ticks "
   ]
  },
  {
   "cell_type": "markdown",
   "metadata": {},
   "source": [
    "Our model is designed in such a way that it updates its state parameters upon `LaserScan` messages \n",
    "\n",
    "\n",
    "$$ \\forall s. IsClock(IncomingMessage(s)) \\,\\Rightarrow\\, IsTwist(OutgoingMessage(s)) $$\n",
    "\n",
    "Meaning that for every state $s$, if the state contains an incoming message and this message is a `Clock` message, then the state's `outgoing` message is a `Twist` after we've called `one_step` on it.  \n",
    "\n",
    "We can almost literally encode this formal expression as an Imandra `theorem`:"
   ]
  },
  {
   "cell_type": "code",
   "execution_count": 18,
   "metadata": {},
   "outputs": [
    {
     "data": {
      "text/plain": [
       "val is_clock : incoming_msg option -> bool = <fun>\n",
       "val is_twist : outgoing_msg option -> bool = <fun>\n",
       "val clock_creates_outbound : state -> bool = <fun>\n"
      ]
     },
     "execution_count": 18,
     "metadata": {},
     "output_type": "execute_result"
    },
    {
     "data": {
      "text/html": [
       "<div><div>Proved<div class=\"imandra-alternatives\" id=\"alt-2e9246e4-6c0a-49df-b648-f71f3466403d\"><ul class=\"nav nav-tabs\"><li class=\"active\" data-toggle=\"tab\"><a>proof</a></li><li class=\"\" data-toggle=\"tab\"><a>call graph</a></li></ul><div class=\"tab-content\"><div class=\"tab-pane active\"><div class=\"imandra-proof-top\"><div class=\"imandra-fold panel panel-default\" id=\"fold-6963a7b6-f3a4-4e89-87d5-1836fee4fdbf\"><div class=\"panel-heading\"><div><i class=\"fa fa-chevron-down hidden\"></i><i class=\"fa fa-chevron-right\"></i><span>proof</span></div></div><div class=\"panel-body collapse\"><div class=\"imandra-proof\"><div class=\"imandra-alternatives\" id=\"alt-80a4d762-eb7b-49ed-a6e1-cfc358489371\"><ul class=\"nav nav-tabs\"><li class=\"active\" data-toggle=\"tab\"><a>summary</a></li><li class=\"\" data-toggle=\"tab\"><a>full</a></li><li class=\"\" data-toggle=\"tab\"><a>graph</a></li></ul><div class=\"tab-content\"><div class=\"tab-pane active\"><div class=\"imandra-table\" id=\"table-8e52f457-c198-4dcf-94d5-a1935f679500\"><table><tr><td><b>ground_instances</b></td><td>0</td></tr><tr><td><b>definitions</b></td><td>0</td></tr><tr><td><b>inductions</b></td><td>0</td></tr><tr><td><b>search_time</b></td><td><pre>0.007s</pre></td></tr><tr><td><b>details</b></td><td><div class=\"imandra-fold panel panel-default\" id=\"fold-5dc61c2e-149e-4636-a632-a8f70b772d99\"><div class=\"panel-heading\"><div><i class=\"fa fa-chevron-down hidden\"></i><i class=\"fa fa-chevron-right\"></i><span>Expand</span></div></div><div class=\"panel-body collapse\"><div class=\"imandra-table\" id=\"table-3de76c51-5242-4b9d-b52e-d28c694de766\"><table><tr><td><b>smt_stats</b></td><td><div class=\"imandra-table\" id=\"table-831bd160-e210-47b9-b920-ce11617712d6\"><table><tr><td><b>num checks</b></td><td>2</td></tr><tr><td><b>arith assert lower</b></td><td>2</td></tr><tr><td><b>rlimit count</b></td><td>1813</td></tr><tr><td><b>mk clause</b></td><td>39</td></tr><tr><td><b>mk bool var</b></td><td>216</td></tr><tr><td><b>arith assert upper</b></td><td>2</td></tr><tr><td><b>datatype splits</b></td><td>28</td></tr><tr><td><b>decisions</b></td><td>17</td></tr><tr><td><b>propagations</b></td><td>35</td></tr><tr><td><b>conflicts</b></td><td>10</td></tr><tr><td><b>datatype accessor ax</b></td><td>48</td></tr><tr><td><b>datatype constructor ax</b></td><td>33</td></tr><tr><td><b>num allocs</b></td><td>680859693</td></tr><tr><td><b>added eqs</b></td><td>293</td></tr><tr><td><b>del clause</b></td><td>3</td></tr><tr><td><b>arith eq adapter</b></td><td>1</td></tr><tr><td><b>memory</b></td><td>11.310000</td></tr><tr><td><b>max memory</b></td><td>16.160000</td></tr></table></div></td></tr></table></div></div><script>\n",
       "require(['nbextensions/nbimandra/fold'], function (fold) {\n",
       "  var target = '#fold-5dc61c2e-149e-4636-a632-a8f70b772d99';\n",
       "  fold.hydrate(target);\n",
       "});\n",
       "</script></div></td></tr></table></div></div><div class=\"tab-pane\"><div class=\"imandra-fold panel panel-default\" id=\"fold-3b951b4e-3975-4ca0-a589-1f8b7c1a91af\"><div class=\"panel-heading\"><div><i class=\"fa fa-chevron-down hidden\"></i><i class=\"fa fa-chevron-right\"></i><span>Expand</span></div></div><div class=\"panel-body collapse\"><ul><li><pre>start[0.007s]\n",
       "  (if Is_a(Clock, Option.get :var_0:.incoming)\n",
       "      &amp;&amp; Is_a(Some, :var_0:.incoming)\n",
       "   then true else false)\n",
       "  ==&gt; (if Is_a(Twist,\n",
       "          Option.get\n",
       "          (if :var_0:.incoming = None then :var_0: else …).outgoing)\n",
       "          &amp;&amp; Is_a(Some,\n",
       "             (if :var_0:.incoming = None then :var_0: else …).outgoing)\n",
       "       then true else false)</pre></li><li><div><h4>simplify</h4><div class=\"imandra-table\" id=\"table-1541dd5c-e31a-4afd-b158-6a4433b2017f\"><table><tr><td><b>into</b></td><td><pre>not\n",
       "(Is_a(Clock, Option.get :var_0:.incoming) &amp;&amp; Is_a(Some, :var_0:.incoming))\n",
       "|| Is_a(Twist,\n",
       "   Option.get (if :var_0:.incoming = None then :var_0: else …).outgoing)\n",
       "   &amp;&amp; Is_a(Some, (if :var_0:.incoming = None then :var_0: else …).outgoing)</pre></td></tr><tr><td><b>expansions</b></td><td><pre>[]</pre></td></tr><tr><td><b>rewrite_steps</b></td><td><ul></ul></td></tr><tr><td><b>forward_chaining</b></td><td><ul></ul></td></tr></table></div></div></li><li><div><h4>unsat</h4><pre>(let ((a!1 (Sensor_msgs.laserScan_ranges_2144\n",
       "             (get.Sensor.0_2533 (get.Some.0_2535 (inco…</pre></div></li></ul></div><script>\n",
       "require(['nbextensions/nbimandra/fold'], function (fold) {\n",
       "  var target = '#fold-3b951b4e-3975-4ca0-a589-1f8b7c1a91af';\n",
       "  fold.hydrate(target);\n",
       "});\n",
       "</script></div></div><div class=\"tab-pane\"><div class=\"imandra-graphviz\" id=\"graphviz-2b1277c0-5d81-4f57-a09e-96f9774d5db2\"><textarea style=\"display: none\">digraph &quot;proof&quot; {\n",
       "p_213 [label=&quot;Start ((if Is_a(Clock, Option.get :var_0:.incoming)\\l           &amp;&amp; Is_a(Some, :var_0:.incoming)\\l        then true else false)\\l       ==\\&gt; (if Is_a(Twist,\\l               Option.get\\l               (if :var_0:.incoming = None then :var_0: else …).outgoing)\\l               &amp;&amp; Is_a(Some,\\l                  (if :var_0:.incoming = None then :var_0: else …).outgoing)\\l            then true else false)\\l       :time 0.007s)&quot;,shape=box,style=filled,fontname=&quot;courier&quot;,fontsize=14];\n",
       "p_213 -&gt; p_212 [label=&quot;&quot;];\n",
       "p_212 [label=&quot;Simplify (not\\l          (Is_a(Clock, Option.get :var_0:.incoming)\\l           &amp;&amp; Is_a(Some, :var_0:.incoming))\\l          \\|\\| Is_a(Twist,\\l             Option.get\\l             (if :var_0:.incoming = None then :var_0: else …).outgoing)\\l             &amp;&amp; Is_a(Some,\\l                (if :var_0:.incoming = None then :var_0: else …).outgoing)\\l          :expansions [] :rw [] :fc [])&quot;,shape=box,style=filled,fontname=&quot;courier&quot;,fontsize=14];\n",
       "p_212 -&gt; p_211 [label=&quot;&quot;];\n",
       "p_211 -&gt; p_z3_1042 [label=&quot;&quot;,fontname=&quot;courier&quot;,fontsize=14];\n",
       "p_z3_1042 [label=&quot;(let ((a!1 (Sensor_msgs.laserScan_ranges_2144\n",
       "             (get.Sensor.0_2533 (get.Some.0_2535 (inco…&quot;,shape=box,fontname=&quot;courier&quot;,fontsize=14];p_211 [label=&quot;unsat&quot;,shape=box,style=filled,fontname=&quot;courier&quot;,fontsize=14];\n",
       "}\n",
       "</textarea><button class=\"btn btn-primary\">Load graph</button><div class=\"imandra-graphviz-loading display-none\">Loading..</div><div class=\"imandra-graphviz-target\"></div><script>\n",
       "require(['nbextensions/nbimandra/graphviz'], function (graphviz) {\n",
       "  var target = '#graphviz-2b1277c0-5d81-4f57-a09e-96f9774d5db2';\n",
       "  graphviz.hydrate(target);\n",
       "});\n",
       "</script></div></div></div><script>\n",
       "require(['nbextensions/nbimandra/alternatives'], function (alternatives) {\n",
       "  var target = '#alt-80a4d762-eb7b-49ed-a6e1-cfc358489371';\n",
       "  alternatives.hydrate(target);\n",
       "});\n",
       "</script></div></div></div><script>\n",
       "require(['nbextensions/nbimandra/fold'], function (fold) {\n",
       "  var target = '#fold-6963a7b6-f3a4-4e89-87d5-1836fee4fdbf';\n",
       "  fold.hydrate(target);\n",
       "});\n",
       "</script></div></div></div><div class=\"tab-pane\"><div class=\"imandra-graphviz\" id=\"graphviz-4f7f553e-405c-4c68-bd95-fd9b9cd17fe5\"><textarea style=\"display: none\">digraph &quot;call graph&quot; {\n",
       "goal [label=&quot;not\\l(not (Is_a(Clock, Option.get state.incoming) &amp;&amp; Is_a(Some, state.incoming))\\l \\|\\| Is_a(Twist,\\l    Option.get (if state.incoming = None then state else …).outgoing)\\l    &amp;&amp; Is_a(Some, (if state.incoming = None then state else …).outgoing))&quot;,shape=box,style=filled,color=&quot;cyan&quot;,fontname=&quot;courier&quot;,fontsize=14];\n",
       "call_183 [label=&quot;foldi ((Destruct(Sensor, 0, …)).Sensor_msgs.laserScan_range_max, 0) None\\lanon_fun.get_min_and_direction.1\\l(Destruct(Sensor, 0, …)).Sensor_msgs.laserScan_ranges&quot;,shape=box,style=filled,color=&quot;yellow&quot;,fontname=&quot;courier&quot;,fontsize=14];\n",
       "goal -&gt; call_183 [label=&quot;calls&quot;];\n",
       "call_187 [label=&quot;List.fold_right anon_fun.get_min_and_direction.0\\l(Destruct(Sensor, 0, Option.get …)).Sensor_msgs.laserScan_range_max\\l(Destruct(Sensor, 0, Option.get …)).Sensor_msgs.laserScan_ranges&quot;,shape=box,style=filled,color=&quot;yellow&quot;,fontname=&quot;courier&quot;,fontsize=14];\n",
       "goal -&gt; call_187 [label=&quot;calls&quot;];\n",
       "call_178 [label=&quot;List.length\\l(Destruct(Sensor, 0, Option.get …)).Sensor_msgs.laserScan_ranges&quot;,shape=box,style=filled,color=&quot;yellow&quot;,fontname=&quot;courier&quot;,fontsize=14];\n",
       "goal -&gt; call_178 [label=&quot;calls&quot;];\n",
       "}\n",
       "</textarea><button class=\"btn btn-primary\">Load graph</button><div class=\"imandra-graphviz-loading display-none\">Loading..</div><div class=\"imandra-graphviz-target\"></div><script>\n",
       "require(['nbextensions/nbimandra/graphviz'], function (graphviz) {\n",
       "  var target = '#graphviz-4f7f553e-405c-4c68-bd95-fd9b9cd17fe5';\n",
       "  graphviz.hydrate(target);\n",
       "});\n",
       "</script></div></div></div><script>\n",
       "require(['nbextensions/nbimandra/alternatives'], function (alternatives) {\n",
       "  var target = '#alt-2e9246e4-6c0a-49df-b648-f71f3466403d';\n",
       "  alternatives.hydrate(target);\n",
       "});\n",
       "</script></div></div></div>\n"
      ]
     },
     "metadata": {},
     "output_type": "display_data"
    }
   ],
   "source": [
    "let is_clock msg = match msg with  Some ( Clock _ ) -> true | _ -> false ;;\n",
    "let is_twist msg = match msg with  Some ( Twist _ ) -> true | _ -> false ;;\n",
    "\n",
    "theorem clock_creates_outbound state =\n",
    "  is_clock state.incoming ==> is_twist (one_step state).outgoing"
   ]
  },
  {
   "cell_type": "markdown",
   "metadata": {},
   "source": [
    "One can see that Imandra says that it \"Proved\" the theorem, meaning that Imandra has formally checked that this property holds for all possible input states. "
   ]
  },
  {
   "cell_type": "markdown",
   "metadata": {},
   "source": [
    "## 3.2 Veryfying stopping if close to a wall"
   ]
  },
  {
   "cell_type": "markdown",
   "metadata": {},
   "source": [
    "Lets try to prove that if all the ranges in the incoming laser scan message are less than 0.2m then we definitely transition to the `Turning` state. We'll try to encode it like this:"
   ]
  },
  {
   "cell_type": "code",
   "execution_count": 53,
   "metadata": {},
   "outputs": [
    {
     "data": {
      "text/plain": [
       "- : state -> bool = <fun>\n",
       "module CX : sig val state : state end\n"
      ]
     },
     "execution_count": 53,
     "metadata": {},
     "output_type": "execute_result"
    }
   ],
   "source": [
    "verify ( fun state ->\n",
    "  let open Sensor_msgs in\n",
    "  match state.incoming with None | Some (Clock _ ) -> true \n",
    "  | Some ( Sensor data ) ->\n",
    "  (  List.for_all (fun x -> x < 20000) data.laserScan_ranges    \n",
    "  ) ==> (one_step state).mode = Turning\n",
    ")"
   ]
  },
  {
   "cell_type": "markdown",
   "metadata": {},
   "source": [
    "We have failed to prove the statement and Imandra have created a counterexample `CX` module for us. This module  contains concrete values for the parameters that violate the statement of the theorem. Examining the state we notice that the incoming `laserScan_ranges` list is empty. "
   ]
  },
  {
   "cell_type": "code",
   "execution_count": 54,
   "metadata": {},
   "outputs": [
    {
     "data": {
      "text/plain": [
       "- : state =\n",
       "{mode = Turning; min_range = Some 7719; direction = None;\n",
       " incoming =\n",
       "  Some\n",
       "   (Sensor\n",
       "     {Sensor_msgs.laserScan_range_min = 3; laserScan_range_max = 25001;\n",
       "      laserScan_ranges = []});\n",
       " outgoing = None}\n"
      ]
     },
     "execution_count": 54,
     "metadata": {},
     "output_type": "execute_result"
    }
   ],
   "source": [
    "CX.state"
   ]
  },
  {
   "cell_type": "markdown",
   "metadata": {},
   "source": [
    "Adding the extra requirement that the list is not `[]`, we successfully verify the statement:"
   ]
  },
  {
   "cell_type": "code",
   "execution_count": 55,
   "metadata": {},
   "outputs": [
    {
     "data": {
      "text/plain": [
       "- : state -> bool = <fun>\n"
      ]
     },
     "execution_count": 55,
     "metadata": {},
     "output_type": "execute_result"
    },
    {
     "data": {
      "text/html": [
       "<div><div>Proved<div class=\"imandra-alternatives\" id=\"alt-f77c6317-5348-45d0-b873-2b9dff67f743\"><ul class=\"nav nav-tabs\"><li class=\"active\" data-toggle=\"tab\"><a>proof</a></li><li class=\"\" data-toggle=\"tab\"><a>call graph</a></li></ul><div class=\"tab-content\"><div class=\"tab-pane active\"><div class=\"imandra-proof-top\"><div class=\"imandra-fold panel panel-default\" id=\"fold-f8619506-5058-4bd6-af03-4f6cc01b0aa1\"><div class=\"panel-heading\"><div><i class=\"fa fa-chevron-down hidden\"></i><i class=\"fa fa-chevron-right\"></i><span>proof</span></div></div><div class=\"panel-body collapse\"><div class=\"imandra-proof\"><div class=\"imandra-alternatives\" id=\"alt-94d9f785-1cf7-49de-9a2c-bc186cb0e3ec\"><ul class=\"nav nav-tabs\"><li class=\"active\" data-toggle=\"tab\"><a>summary</a></li><li class=\"\" data-toggle=\"tab\"><a>full</a></li><li class=\"\" data-toggle=\"tab\"><a>graph</a></li></ul><div class=\"tab-content\"><div class=\"tab-pane active\"><div class=\"imandra-table\" id=\"table-c67a5b58-9408-43d3-bcd7-46c2884d3514\"><table><tr><td><b>ground_instances</b></td><td>4</td></tr><tr><td><b>definitions</b></td><td>0</td></tr><tr><td><b>inductions</b></td><td>0</td></tr><tr><td><b>search_time</b></td><td><pre>0.016s</pre></td></tr><tr><td><b>details</b></td><td><div class=\"imandra-fold panel panel-default\" id=\"fold-29bf3858-3304-4796-91f8-5f41093a2867\"><div class=\"panel-heading\"><div><i class=\"fa fa-chevron-down hidden\"></i><i class=\"fa fa-chevron-right\"></i><span>Expand</span></div></div><div class=\"panel-body collapse\"><div class=\"imandra-table\" id=\"table-c58febbe-1d25-4ccd-82c9-cf35ea9b19f0\"><table><tr><td><b>smt_stats</b></td><td><div class=\"imandra-table\" id=\"table-ed6bdcbb-a7d5-4868-908b-35c5b519c110\"><table><tr><td><b>arith offset eqs</b></td><td>4</td></tr><tr><td><b>num checks</b></td><td>10</td></tr><tr><td><b>arith assert lower</b></td><td>40</td></tr><tr><td><b>arith pivots</b></td><td>22</td></tr><tr><td><b>rlimit count</b></td><td>7508</td></tr><tr><td><b>mk clause</b></td><td>86</td></tr><tr><td><b>datatype occurs check</b></td><td>1584</td></tr><tr><td><b>mk bool var</b></td><td>539</td></tr><tr><td><b>arith assert upper</b></td><td>42</td></tr><tr><td><b>datatype splits</b></td><td>51</td></tr><tr><td><b>decisions</b></td><td>339</td></tr><tr><td><b>arith add rows</b></td><td>29</td></tr><tr><td><b>propagations</b></td><td>314</td></tr><tr><td><b>interface eqs</b></td><td>1</td></tr><tr><td><b>conflicts</b></td><td>31</td></tr><tr><td><b>arith fixed eqs</b></td><td>9</td></tr><tr><td><b>datatype accessor ax</b></td><td>57</td></tr><tr><td><b>minimized lits</b></td><td>2</td></tr><tr><td><b>arith conflicts</b></td><td>3</td></tr><tr><td><b>arith assert diseq</b></td><td>8</td></tr><tr><td><b>datatype constructor ax</b></td><td>259</td></tr><tr><td><b>final checks</b></td><td>13</td></tr><tr><td><b>added eqs</b></td><td>1321</td></tr><tr><td><b>del clause</b></td><td>36</td></tr><tr><td><b>arith eq adapter</b></td><td>20</td></tr><tr><td><b>memory</b></td><td>43.480000</td></tr><tr><td><b>max memory</b></td><td>64.530000</td></tr><tr><td><b>num allocs</b></td><td>83411433924.000000</td></tr></table></div></td></tr></table></div></div><script>\n",
       "require(['nbextensions/nbimandra/fold'], function (fold) {\n",
       "  var target = '#fold-29bf3858-3304-4796-91f8-5f41093a2867';\n",
       "  fold.hydrate(target);\n",
       "});\n",
       "</script></div></td></tr></table></div></div><div class=\"tab-pane\"><div class=\"imandra-fold panel panel-default\" id=\"fold-cebba1bb-6da0-49d3-a183-075512f4561a\"><div class=\"panel-heading\"><div><i class=\"fa fa-chevron-down hidden\"></i><i class=\"fa fa-chevron-right\"></i><span>Expand</span></div></div><div class=\"panel-body collapse\"><ul><li><pre>start[0.016s]\n",
       "  if :var_0:.incoming = None\n",
       "     || Is_a(Some, :var_0:.incoming)\n",
       "        &amp;&amp; Is_a(Clock, Option.get :var_0:.incoming)\n",
       "  then true\n",
       "  else\n",
       "    not\n",
       "    ((Destruct(Sensor, 0, Option.get :var_0:.incoming)).Sensor_msgs.laserScan_ranges\n",
       "     = [])\n",
       "    &amp;&amp; List.for_all anon_fun._verify_target.0\n",
       "       (Destruct(Sensor, 0, Option.get :var_0:.incoming)).Sensor_msgs.laserScan_ranges\n",
       "    ==&gt; (if :var_0:.incoming = None then :var_0:\n",
       "         else if Is_a(Sensor, Option.get :var_0:.incoming) then … else …).mode\n",
       "        = Turning</pre></li><li><div><h4>simplify</h4><div class=\"imandra-table\" id=\"table-2ae9f240-345c-49be-ab62-76bf85b8223e\"><table><tr><td><b>into</b></td><td><pre>((:var_0:.incoming = None\n",
       "  || Is_a(Some, :var_0:.incoming) &amp;&amp; Is_a(Clock, Option.get :var_0:.incoming))\n",
       " || not\n",
       "    (not\n",
       "     ((Destruct(Sensor, 0, Option.get :var_0:.incoming)).Sensor_msgs.laserScan_ranges\n",
       "      = [])\n",
       "     &amp;&amp; List.for_all anon_fun._verify_target.0\n",
       "        (Destruct(Sensor, 0, Option.get :var_0:.incoming)).Sensor_msgs.laserScan_ranges))\n",
       "|| (if :var_0:.incoming = None then :var_0:\n",
       "    else\n",
       "    if Is_a(Sensor, Option.get :var_0:.incoming)\n",
       "    then if :var_0:.mode = Driving then … else …\n",
       "    else if :var_0:.mode = Driving then … else …).mode\n",
       "   = Turning</pre></td></tr><tr><td><b>expansions</b></td><td><pre>[]</pre></td></tr><tr><td><b>rewrite_steps</b></td><td><ul></ul></td></tr><tr><td><b>forward_chaining</b></td><td><ul></ul></td></tr></table></div></div></li><li><div>unroll<div class=\"imandra-table\" id=\"table-fa394d08-7294-42fa-a9c6-96cb6d8124ed\"><table><tr><td><b>expr</b></td><td><pre>(let ((a!1 (Sensor_msgs.laserScan_range_max_2143\n",
       "             (get.Sensor.0_5562 (get.Some.0_5564 (i…</pre></td></tr><tr><td><b>expansions</b></td><td><ul></ul></td></tr></table></div></div></li><li><div>unroll<div class=\"imandra-table\" id=\"table-77352304-aa5b-4566-8a15-cce153caa85d\"><table><tr><td><b>expr</b></td><td><pre>(let ((a!1 (Sensor_msgs.laserScan_range_max_2143\n",
       "             (get.Sensor.0_5562 (get.Some.0_5564 (i…</pre></td></tr><tr><td><b>expansions</b></td><td><ul></ul></td></tr></table></div></div></li><li><div>unroll<div class=\"imandra-table\" id=\"table-ab66cfed-d724-4e12-b1c1-81e12efd910e\"><table><tr><td><b>expr</b></td><td><pre>(let ((a!1 (Sensor_msgs.laserScan_ranges_2144\n",
       "             (get.Sensor.0_5562 (get.Some.0_5564 (inco…</pre></td></tr><tr><td><b>expansions</b></td><td><ul></ul></td></tr></table></div></div></li><li><div>unroll<div class=\"imandra-table\" id=\"table-0f573023-9b2b-41fe-bf18-3cf377037726\"><table><tr><td><b>expr</b></td><td><pre>(let ((a!1 (Sensor_msgs.laserScan_ranges_2144\n",
       "             (get.Sensor.0_5562 (get.Some.0_5564 (inco…</pre></td></tr><tr><td><b>expansions</b></td><td><ul></ul></td></tr></table></div></div></li><li><div><h4>unsat</h4><pre>(let ((a!1 (Sensor_msgs.laserScan_ranges_2144\n",
       "             (get.Sensor.0_5562 (get.Some.0_5564 (inco…</pre></div></li></ul></div><script>\n",
       "require(['nbextensions/nbimandra/fold'], function (fold) {\n",
       "  var target = '#fold-cebba1bb-6da0-49d3-a183-075512f4561a';\n",
       "  fold.hydrate(target);\n",
       "});\n",
       "</script></div></div><div class=\"tab-pane\"><div class=\"imandra-graphviz\" id=\"graphviz-1e7679d9-0bfa-4f7c-8871-ef35442363b3\"><textarea style=\"display: none\">digraph &quot;proof&quot; {\n",
       "p_629 [label=&quot;Start (if :var_0:.incoming = None\\l          \\|\\| Is_a(Some, :var_0:.incoming)\\l             &amp;&amp; Is_a(Clock, Option.get :var_0:.incoming)\\l       then true\\l       else\\l         not\\l         ((Destruct(Sensor, 0, Option.get :var_0:.incoming)).Sensor_msgs.laserScan_ranges\\l          = [])\\l         &amp;&amp; List.for_all anon_fun._verify_target.0\\l            (Destruct(Sensor, 0, Option.get :var_0:.incoming)).Sensor_msgs.laserScan_ranges\\l         ==\\&gt; (if :var_0:.incoming = None then :var_0:\\l              else\\l              if Is_a(Sensor, Option.get :var_0:.incoming) then … else …).mode\\l             = Turning\\l       :time 0.016s)&quot;,shape=box,style=filled,fontname=&quot;courier&quot;,fontsize=14];\n",
       "p_629 -&gt; p_628 [label=&quot;&quot;];\n",
       "p_628 [label=&quot;Simplify (((:var_0:.incoming = None\\l            \\|\\| Is_a(Some, :var_0:.incoming)\\l               &amp;&amp; Is_a(Clock, Option.get :var_0:.incoming))\\l           \\|\\| not\\l              (not\\l               ((Destruct(Sensor, 0, Option.get :var_0:.incoming)).Sensor_msgs.laserScan_ranges\\l                = [])\\l               &amp;&amp; List.for_all anon_fun._verify_target.0\\l                  (Destruct(Sensor, 0, Option.get :var_0:.incoming)).Sensor_msgs.laserScan_ranges))\\l          \\|\\| (if :var_0:.incoming = None then :var_0:\\l              else\\l              if Is_a(Sensor, Option.get :var_0:.incoming)\\l              then if :var_0:.mode = Driving then … else …\\l              else if :var_0:.mode = Driving then … else …).mode\\l             = Turning\\l          :expansions [] :rw [] :fc [])&quot;,shape=box,style=filled,fontname=&quot;courier&quot;,fontsize=14];\n",
       "p_628 -&gt; p_627 [label=&quot;&quot;];\n",
       "p_627 [label=&quot;Unroll ([List.fold_right anon_fun.get_min_and_direction.0\\l         (Destruct(Sensor, 0, Option.get …)).Sensor_msgs.laserScan_range_max\\l         (Destruct(Sensor, 0, Option.get …)).Sensor_msgs.laserScan_ranges],\\l        [[]])&quot;,shape=box,style=filled,fontname=&quot;courier&quot;,fontsize=14];\n",
       "p_627 -&gt; p_626 [label=&quot;&quot;];\n",
       "p_626 [label=&quot;Unroll ([foldi\\l         ((Destruct(Sensor, 0, …)).Sensor_msgs.laserScan_range_max, 0) None\\l         anon_fun.get_min_and_direction.1\\l         (Destruct(Sensor, 0, …)).Sensor_msgs.laserScan_ranges],\\l        [[]])&quot;,shape=box,style=filled,fontname=&quot;courier&quot;,fontsize=14];\n",
       "p_626 -&gt; p_625 [label=&quot;&quot;];\n",
       "p_625 [label=&quot;Unroll ([List.length\\l         (Destruct(Sensor, 0, Option.get …)).Sensor_msgs.laserScan_ranges],\\l        [[]])&quot;,shape=box,style=filled,fontname=&quot;courier&quot;,fontsize=14];\n",
       "p_625 -&gt; p_624 [label=&quot;&quot;];\n",
       "p_624 [label=&quot;Unroll ([List.for_all anon_fun._verify_target.0\\l         (Destruct(Sensor, 0, Option.get …)).Sensor_msgs.laserScan_ranges],\\l        [[]])&quot;,shape=box,style=filled,fontname=&quot;courier&quot;,fontsize=14];\n",
       "p_624 -&gt; p_623 [label=&quot;&quot;];\n",
       "p_623 -&gt; p_z3_1744 [label=&quot;&quot;,fontname=&quot;courier&quot;,fontsize=14];\n",
       "p_z3_1744 [label=&quot;(let ((a!1 (Sensor_msgs.laserScan_ranges_2144\n",
       "             (get.Sensor.0_5562 (get.Some.0_5564 (inco…&quot;,shape=box,fontname=&quot;courier&quot;,fontsize=14];p_623 [label=&quot;unsat&quot;,shape=box,style=filled,fontname=&quot;courier&quot;,fontsize=14];\n",
       "}\n",
       "</textarea><button class=\"btn btn-primary\">Load graph</button><div class=\"imandra-graphviz-loading display-none\">Loading..</div><div class=\"imandra-graphviz-target\"></div><script>\n",
       "require(['nbextensions/nbimandra/graphviz'], function (graphviz) {\n",
       "  var target = '#graphviz-1e7679d9-0bfa-4f7c-8871-ef35442363b3';\n",
       "  graphviz.hydrate(target);\n",
       "});\n",
       "</script></div></div></div><script>\n",
       "require(['nbextensions/nbimandra/alternatives'], function (alternatives) {\n",
       "  var target = '#alt-94d9f785-1cf7-49de-9a2c-bc186cb0e3ec';\n",
       "  alternatives.hydrate(target);\n",
       "});\n",
       "</script></div></div></div><script>\n",
       "require(['nbextensions/nbimandra/fold'], function (fold) {\n",
       "  var target = '#fold-f8619506-5058-4bd6-af03-4f6cc01b0aa1';\n",
       "  fold.hydrate(target);\n",
       "});\n",
       "</script></div></div></div><div class=\"tab-pane\"><div class=\"imandra-graphviz\" id=\"graphviz-03aa00a9-e122-4468-a2fd-c9d87cb09a7e\"><textarea style=\"display: none\">digraph &quot;call graph&quot; {\n",
       "goal [label=&quot;not\\l(((state.incoming = None\\l   \\|\\| Is_a(Some, state.incoming) &amp;&amp; Is_a(Clock, Option.get state.incoming))\\l  \\|\\| not\\l     (not\\l      ((Destruct(Sensor, 0, Option.get state.incoming)).Sensor_msgs.laserScan_ranges\\l       = [])\\l      &amp;&amp; List.for_all anon_fun._verify_target.0\\l         (Destruct(Sensor, 0, Option.get state.incoming)).Sensor_msgs.laserScan_ranges))\\l \\|\\| (if state.incoming = None then state\\l     else\\l     if Is_a(Sensor, Option.get state.incoming)\\l     then if state.mode = Driving then … else …\\l     else if state.mode = Driving then … else …).mode\\l    = Turning)&quot;,shape=box,style=filled,color=&quot;cyan&quot;,fontname=&quot;courier&quot;,fontsize=14];\n",
       "call_289 [label=&quot;List.fold_right anon_fun.get_min_and_direction.0\\l(Destruct(Sensor, 0, Option.get …)).Sensor_msgs.laserScan_range_max\\l(Destruct(Sensor, 0, Option.get …)).Sensor_msgs.laserScan_ranges&quot;,shape=box,style=filled,color=&quot;green&quot;,fontname=&quot;courier&quot;,fontsize=14];\n",
       "call_289 -&gt; expr_1137 [label=&quot;=&quot;];\n",
       "expr_1137 [label=&quot;if (Destruct(Sensor, 0, Option.get ….incoming)).Sensor_msgs.laserScan_ranges\\l   = []\\lthen\\l  (Destruct(Sensor, 0, Option.get ….incoming)).Sensor_msgs.laserScan_range_max\\lelse\\lif List.fold_right anon_fun.get_min_and_direction.0\\l   (Destruct(Sensor, 0, Option.get ….incoming)).Sensor_msgs.laserScan_range_max\\l   (List.tl\\l    (Destruct(Sensor, 0, Option.get ….incoming)).Sensor_msgs.laserScan_ranges)\\l   \\&lt;=\\l   List.hd\\l   (Destruct(Sensor, 0, Option.get ….incoming)).Sensor_msgs.laserScan_ranges\\lthen\\l  List.fold_right anon_fun.get_min_and_direction.0\\l  (Destruct(Sensor, 0, Option.get ….incoming)).Sensor_msgs.laserScan_range_max\\l  (List.tl\\l   (Destruct(Sensor, 0, Option.get ….incoming)).Sensor_msgs.laserScan_ranges)\\lelse\\l  List.hd\\l  (Destruct(Sensor, 0, Option.get ….incoming)).Sensor_msgs.laserScan_ranges&quot;,shape=box,style=filled,color=&quot;grey&quot;,fontname=&quot;courier&quot;,fontsize=14];\n",
       "goal -&gt; call_289 [label=&quot;calls&quot;];\n",
       "call_1489 [label=&quot;List.for_all anon_fun._verify_target.0\\l(List.tl (Destruct(Sensor, 0, Option.get …)).Sensor_msgs.laserScan_ranges)&quot;,shape=box,style=filled,color=&quot;yellow&quot;,fontname=&quot;courier&quot;,fontsize=14];\n",
       "expr_1492 -&gt; call_1489 [label=&quot;calls&quot;];\n",
       "call_286 [label=&quot;foldi ((Destruct(Sensor, 0, …)).Sensor_msgs.laserScan_range_max, 0) None\\lanon_fun.get_min_and_direction.1\\l(Destruct(Sensor, 0, …)).Sensor_msgs.laserScan_ranges&quot;,shape=box,style=filled,color=&quot;green&quot;,fontname=&quot;courier&quot;,fontsize=14];\n",
       "call_286 -&gt; expr_1260 [label=&quot;=&quot;];\n",
       "expr_1260 [label=&quot;if (Destruct(Sensor, 0, Option.get ….incoming)).Sensor_msgs.laserScan_ranges\\l   = []\\lthen\\l  ((Destruct(Sensor, 0, Option.get ….incoming)).Sensor_msgs.laserScan_range_max,\\l   0)\\lelse\\lif (foldi\\l    ((Destruct(Sensor, 0, Option.get ….incoming)).Sensor_msgs.laserScan_range_max,\\l     0)\\l    (Some …) anon_fun.get_min_and_direction.1\\l    (List.tl\\l     (Destruct(Sensor, 0, Option.get ….incoming)).Sensor_msgs.laserScan_ranges)).0\\l   \\&lt;=\\l   List.hd\\l   (Destruct(Sensor, 0, Option.get ….incoming)).Sensor_msgs.laserScan_ranges\\lthen\\l  foldi\\l  ((Destruct(Sensor, 0, Option.get ….incoming)).Sensor_msgs.laserScan_range_max,\\l   0)\\l  (Some …) anon_fun.get_min_and_direction.1\\l  (List.tl\\l   (Destruct(Sensor, 0, Option.get ….incoming)).Sensor_msgs.laserScan_ranges)\\lelse\\l  (List.hd\\l   (Destruct(Sensor, 0, Option.get ….incoming)).Sensor_msgs.laserScan_ranges,\\l   if Is_a(Some, …) then … else 0)&quot;,shape=box,style=filled,color=&quot;grey&quot;,fontname=&quot;courier&quot;,fontsize=14];\n",
       "goal -&gt; call_286 [label=&quot;calls&quot;];\n",
       "call_276 [label=&quot;List.for_all anon_fun._verify_target.0\\l(Destruct(Sensor, 0, Option.get …)).Sensor_msgs.laserScan_ranges&quot;,shape=box,style=filled,color=&quot;green&quot;,fontname=&quot;courier&quot;,fontsize=14];\n",
       "call_276 -&gt; expr_1492 [label=&quot;=&quot;];\n",
       "expr_1492 [label=&quot;(Destruct(Sensor, 0, Option.get ….incoming)).Sensor_msgs.laserScan_ranges =\\l[]\\l\\|\\| not\\l   (20000 \\&lt;=\\l    List.hd\\l    (Destruct(Sensor, 0, Option.get ….incoming)).Sensor_msgs.laserScan_ranges)\\l   &amp;&amp; List.for_all anon_fun._verify_target.0\\l      (List.tl\\l       (Destruct(Sensor, 0, Option.get ….incoming)).Sensor_msgs.laserScan_ranges)&quot;,shape=box,style=filled,color=&quot;grey&quot;,fontname=&quot;courier&quot;,fontsize=14];\n",
       "goal -&gt; call_276 [label=&quot;calls&quot;];\n",
       "call_1133 [label=&quot;List.fold_right anon_fun.get_min_and_direction.0\\l(Destruct(Sensor, 0, Option.get …)).Sensor_msgs.laserScan_range_max\\l(List.tl (Destruct(Sensor, 0, Option.get …)).Sensor_msgs.laserScan_ranges)&quot;,shape=box,style=filled,color=&quot;yellow&quot;,fontname=&quot;courier&quot;,fontsize=14];\n",
       "expr_1137 -&gt; call_1133 [label=&quot;calls&quot;];\n",
       "expr_1137 -&gt; call_1133 [label=&quot;calls&quot;];\n",
       "call_1425 [label=&quot;List.length\\l(List.tl (Destruct(Sensor, 0, Option.get …)).Sensor_msgs.laserScan_ranges)&quot;,shape=box,style=filled,color=&quot;yellow&quot;,fontname=&quot;courier&quot;,fontsize=14];\n",
       "expr_1427 -&gt; call_1425 [label=&quot;calls&quot;];\n",
       "call_1254 [label=&quot;foldi ((Destruct(Sensor, 0, …)).Sensor_msgs.laserScan_range_max, 0)\\l(Some (1 + 0)) anon_fun.get_min_and_direction.1\\l(List.tl (Destruct(Sensor, 0, …)).Sensor_msgs.laserScan_ranges)&quot;,shape=box,style=filled,color=&quot;yellow&quot;,fontname=&quot;courier&quot;,fontsize=14];\n",
       "expr_1260 -&gt; call_1254 [label=&quot;calls&quot;];\n",
       "expr_1260 -&gt; call_1254 [label=&quot;calls&quot;];\n",
       "call_282 [label=&quot;List.length\\l(Destruct(Sensor, 0, Option.get …)).Sensor_msgs.laserScan_ranges&quot;,shape=box,style=filled,color=&quot;green&quot;,fontname=&quot;courier&quot;,fontsize=14];\n",
       "call_282 -&gt; expr_1427 [label=&quot;=&quot;];\n",
       "expr_1427 [label=&quot;if (Destruct(Sensor, 0, Option.get ….incoming)).Sensor_msgs.laserScan_ranges\\l   = []\\lthen 0\\lelse\\l  1\\l  + List.length\\l    (List.tl\\l     (Destruct(Sensor, 0, Option.get ….incoming)).Sensor_msgs.laserScan_ranges)&quot;,shape=box,style=filled,color=&quot;grey&quot;,fontname=&quot;courier&quot;,fontsize=14];\n",
       "goal -&gt; call_282 [label=&quot;calls&quot;];\n",
       "}\n",
       "</textarea><button class=\"btn btn-primary\">Load graph</button><div class=\"imandra-graphviz-loading display-none\">Loading..</div><div class=\"imandra-graphviz-target\"></div><script>\n",
       "require(['nbextensions/nbimandra/graphviz'], function (graphviz) {\n",
       "  var target = '#graphviz-03aa00a9-e122-4468-a2fd-c9d87cb09a7e';\n",
       "  graphviz.hydrate(target);\n",
       "});\n",
       "</script></div></div></div><script>\n",
       "require(['nbextensions/nbimandra/alternatives'], function (alternatives) {\n",
       "  var target = '#alt-f77c6317-5348-45d0-b873-2b9dff67f743';\n",
       "  alternatives.hydrate(target);\n",
       "});\n",
       "</script></div></div></div>\n"
      ]
     },
     "metadata": {},
     "output_type": "display_data"
    }
   ],
   "source": [
    "verify ( fun state ->\n",
    "  let open Sensor_msgs in\n",
    "  match state.incoming with None | Some (Clock _ ) -> true \n",
    "  | Some ( Sensor data ) ->\n",
    "  (  data.laserScan_ranges <> []\n",
    "  && List.for_all (fun x -> x < 20000) data.laserScan_ranges    \n",
    "  ) ==> (one_step state).mode = Turning\n",
    ")"
   ]
  },
  {
   "cell_type": "markdown",
   "metadata": {},
   "source": [
    "## 3.3 Verifying initialization of `min_range` value"
   ]
  },
  {
   "cell_type": "markdown",
   "metadata": {},
   "source": [
    "The `min_range` state variable is an `option` and initially is `None`. Lets verify that upon receiving a `sensor_msgs/LaserScan` message, the resulting state stores some `min_range` value (not `None`). \n",
    "\n",
    "$$ \\forall s. NonEmptyLaserScan(IncomingMessage(s)) \\,\\Rightarrow\\, MinValue(one\\_step(s)) \\ne None $$\n",
    "\n",
    "Meaning that for every state $s$, if the state contains an incoming message and this message is a `LaserScan` that contains non-empty list of ranges, then the state's `min_value` is not `None` after we've called `one_step` on it.  \n",
    "\n",
    "Again, we encode this formal expression in Imandra:"
   ]
  },
  {
   "cell_type": "code",
   "execution_count": 63,
   "metadata": {},
   "outputs": [
    {
     "data": {
      "text/plain": [
       "- : state -> bool = <fun>\n",
       "module CX : sig val state : state end\n"
      ]
     },
     "execution_count": 63,
     "metadata": {},
     "output_type": "execute_result"
    }
   ],
   "source": [
    "verify ( fun state ->\n",
    "  let open Sensor_msgs in\n",
    "  match state.incoming with None | Some (Clock _ ) -> true \n",
    "  | Some ( Sensor data ) ->\n",
    "  (  data.laserScan_ranges <> []\n",
    "  ) ==> (one_step state).min_range <> None\n",
    ")"
   ]
  },
  {
   "cell_type": "markdown",
   "metadata": {},
   "source": [
    "Again, we have failed to prove it. Examining the incoming state we notice that the `laserScan_ranges` list contains a value that is larger than 20000. "
   ]
  },
  {
   "cell_type": "code",
   "execution_count": 64,
   "metadata": {},
   "outputs": [
    {
     "data": {
      "text/plain": [
       "- : state =\n",
       "{mode = Turning; min_range = Some 34998; direction = None;\n",
       " incoming =\n",
       "  Some\n",
       "   (Sensor\n",
       "     {Sensor_msgs.laserScan_range_min = 3; laserScan_range_max = 33856;\n",
       "      laserScan_ranges = [36293]});\n",
       " outgoing = None}\n"
      ]
     },
     "execution_count": 64,
     "metadata": {},
     "output_type": "execute_result"
    }
   ],
   "source": [
    "CX.state"
   ]
  },
  {
   "cell_type": "markdown",
   "metadata": {},
   "source": [
    "Adding the constraint that the incoming ranges are less than 20000, we prove the statement: "
   ]
  },
  {
   "cell_type": "code",
   "execution_count": 70,
   "metadata": {
    "scrolled": true
   },
   "outputs": [
    {
     "data": {
      "text/plain": [
       "- : state -> bool = <fun>\n"
      ]
     },
     "execution_count": 70,
     "metadata": {},
     "output_type": "execute_result"
    },
    {
     "data": {
      "text/html": [
       "<div><div>Proved<div class=\"imandra-alternatives\" id=\"alt-d78d3b26-b624-4e60-956f-1ff1b6a03305\"><ul class=\"nav nav-tabs\"><li class=\"active\" data-toggle=\"tab\"><a>proof</a></li><li class=\"\" data-toggle=\"tab\"><a>call graph</a></li></ul><div class=\"tab-content\"><div class=\"tab-pane active\"><div class=\"imandra-proof-top\"><div class=\"imandra-fold panel panel-default\" id=\"fold-cd693d47-743a-48ae-8cef-829883650d33\"><div class=\"panel-heading\"><div><i class=\"fa fa-chevron-down hidden\"></i><i class=\"fa fa-chevron-right\"></i><span>proof</span></div></div><div class=\"panel-body collapse\"><div class=\"imandra-proof\"><div class=\"imandra-alternatives\" id=\"alt-6844e84a-3639-4af1-a96e-d7f20951b66b\"><ul class=\"nav nav-tabs\"><li class=\"active\" data-toggle=\"tab\"><a>summary</a></li><li class=\"\" data-toggle=\"tab\"><a>full</a></li><li class=\"\" data-toggle=\"tab\"><a>graph</a></li></ul><div class=\"tab-content\"><div class=\"tab-pane active\"><div class=\"imandra-table\" id=\"table-7f8bcf09-a353-424d-b273-98d49bdc515d\"><table><tr><td><b>ground_instances</b></td><td>4</td></tr><tr><td><b>definitions</b></td><td>0</td></tr><tr><td><b>inductions</b></td><td>0</td></tr><tr><td><b>search_time</b></td><td><pre>0.017s</pre></td></tr><tr><td><b>details</b></td><td><div class=\"imandra-fold panel panel-default\" id=\"fold-275ed5f7-2b49-4d0f-8d74-1e8345a8b89d\"><div class=\"panel-heading\"><div><i class=\"fa fa-chevron-down hidden\"></i><i class=\"fa fa-chevron-right\"></i><span>Expand</span></div></div><div class=\"panel-body collapse\"><div class=\"imandra-table\" id=\"table-c5c69b4f-c4b9-4fd3-aa54-5bd16c923ad9\"><table><tr><td><b>smt_stats</b></td><td><div class=\"imandra-table\" id=\"table-264217ff-f8a7-4bb7-aa4d-dc82755a3f62\"><table><tr><td><b>num checks</b></td><td>10</td></tr><tr><td><b>arith assert lower</b></td><td>34</td></tr><tr><td><b>arith pivots</b></td><td>17</td></tr><tr><td><b>rlimit count</b></td><td>7284</td></tr><tr><td><b>mk clause</b></td><td>76</td></tr><tr><td><b>datatype occurs check</b></td><td>1582</td></tr><tr><td><b>mk bool var</b></td><td>519</td></tr><tr><td><b>arith assert upper</b></td><td>31</td></tr><tr><td><b>datatype splits</b></td><td>51</td></tr><tr><td><b>decisions</b></td><td>297</td></tr><tr><td><b>arith add rows</b></td><td>18</td></tr><tr><td><b>propagations</b></td><td>337</td></tr><tr><td><b>interface eqs</b></td><td>2</td></tr><tr><td><b>conflicts</b></td><td>34</td></tr><tr><td><b>arith fixed eqs</b></td><td>10</td></tr><tr><td><b>datatype accessor ax</b></td><td>51</td></tr><tr><td><b>minimized lits</b></td><td>4</td></tr><tr><td><b>arith conflicts</b></td><td>3</td></tr><tr><td><b>arith assert diseq</b></td><td>5</td></tr><tr><td><b>datatype constructor ax</b></td><td>265</td></tr><tr><td><b>final checks</b></td><td>14</td></tr><tr><td><b>added eqs</b></td><td>1365</td></tr><tr><td><b>del clause</b></td><td>34</td></tr><tr><td><b>arith eq adapter</b></td><td>14</td></tr><tr><td><b>memory</b></td><td>52.610000</td></tr><tr><td><b>max memory</b></td><td>74.010000</td></tr><tr><td><b>num allocs</b></td><td>192565042228.000000</td></tr></table></div></td></tr></table></div></div><script>\n",
       "require(['nbextensions/nbimandra/fold'], function (fold) {\n",
       "  var target = '#fold-275ed5f7-2b49-4d0f-8d74-1e8345a8b89d';\n",
       "  fold.hydrate(target);\n",
       "});\n",
       "</script></div></td></tr></table></div></div><div class=\"tab-pane\"><div class=\"imandra-fold panel panel-default\" id=\"fold-249fb96c-076b-4273-b0f6-a145cd8b2ae6\"><div class=\"panel-heading\"><div><i class=\"fa fa-chevron-down hidden\"></i><i class=\"fa fa-chevron-right\"></i><span>Expand</span></div></div><div class=\"panel-body collapse\"><ul><li><pre>start[0.017s]\n",
       "  if :var_0:.incoming = None\n",
       "     || Is_a(Some, :var_0:.incoming)\n",
       "        &amp;&amp; Is_a(Clock, Option.get :var_0:.incoming)\n",
       "  then true\n",
       "  else\n",
       "    not\n",
       "    ((Destruct(Sensor, 0, Option.get :var_0:.incoming)).Sensor_msgs.laserScan_ranges\n",
       "     = [])\n",
       "    &amp;&amp; List.for_all anon_fun._verify_target.0\n",
       "       (Destruct(Sensor, 0, Option.get :var_0:.incoming)).Sensor_msgs.laserScan_ranges\n",
       "    ==&gt; not\n",
       "        ((if :var_0:.incoming = None then :var_0:\n",
       "          else if Is_a(Sensor, Option.get :var_0:.incoming) then … else …).min_range\n",
       "         = None)</pre></li><li><div><h4>simplify</h4><div class=\"imandra-table\" id=\"table-690af0e8-fab8-4c6d-bdc4-a8f7cd1bf3a6\"><table><tr><td><b>into</b></td><td><pre>((:var_0:.incoming = None\n",
       "  || Is_a(Some, :var_0:.incoming) &amp;&amp; Is_a(Clock, Option.get :var_0:.incoming))\n",
       " || not\n",
       "    (not\n",
       "     ((Destruct(Sensor, 0, Option.get :var_0:.incoming)).Sensor_msgs.laserScan_ranges\n",
       "      = [])\n",
       "     &amp;&amp; List.for_all anon_fun._verify_target.0\n",
       "        (Destruct(Sensor, 0, Option.get :var_0:.incoming)).Sensor_msgs.laserScan_ranges))\n",
       "|| not\n",
       "   ((if :var_0:.incoming = None then :var_0:\n",
       "     else\n",
       "     if Is_a(Sensor, Option.get :var_0:.incoming)\n",
       "     then if :var_0:.mode = Driving then … else …\n",
       "     else if :var_0:.mode = Driving then … else …).min_range\n",
       "    = None)</pre></td></tr><tr><td><b>expansions</b></td><td><pre>[]</pre></td></tr><tr><td><b>rewrite_steps</b></td><td><ul></ul></td></tr><tr><td><b>forward_chaining</b></td><td><ul></ul></td></tr></table></div></div></li><li><div>unroll<div class=\"imandra-table\" id=\"table-2ad82f81-c116-44ea-90be-ae19024df8c6\"><table><tr><td><b>expr</b></td><td><pre>(let ((a!1 (Sensor_msgs.laserScan_range_max_2143\n",
       "             (get.Sensor.0_6969 (get.Some.0_6971 (i…</pre></td></tr><tr><td><b>expansions</b></td><td><ul></ul></td></tr></table></div></div></li><li><div>unroll<div class=\"imandra-table\" id=\"table-e6f16a9a-1ac4-4a1b-ac4a-0e032c722eab\"><table><tr><td><b>expr</b></td><td><pre>(let ((a!1 (Sensor_msgs.laserScan_range_max_2143\n",
       "             (get.Sensor.0_6969 (get.Some.0_6971 (i…</pre></td></tr><tr><td><b>expansions</b></td><td><ul></ul></td></tr></table></div></div></li><li><div>unroll<div class=\"imandra-table\" id=\"table-906c4228-99b4-49b0-96f3-807241c826c9\"><table><tr><td><b>expr</b></td><td><pre>(let ((a!1 (Sensor_msgs.laserScan_ranges_2144\n",
       "             (get.Sensor.0_6969 (get.Some.0_6971 (inco…</pre></td></tr><tr><td><b>expansions</b></td><td><ul></ul></td></tr></table></div></div></li><li><div>unroll<div class=\"imandra-table\" id=\"table-bf903ed5-d931-4efe-8e1c-0f3c48a597af\"><table><tr><td><b>expr</b></td><td><pre>(let ((a!1 (Sensor_msgs.laserScan_ranges_2144\n",
       "             (get.Sensor.0_6969 (get.Some.0_6971 (inco…</pre></td></tr><tr><td><b>expansions</b></td><td><ul></ul></td></tr></table></div></div></li><li><div><h4>unsat</h4><pre>(let ((a!1 (Sensor_msgs.laserScan_ranges_2144\n",
       "             (get.Sensor.0_6969 (get.Some.0_6971 (inco…</pre></div></li></ul></div><script>\n",
       "require(['nbextensions/nbimandra/fold'], function (fold) {\n",
       "  var target = '#fold-249fb96c-076b-4273-b0f6-a145cd8b2ae6';\n",
       "  fold.hydrate(target);\n",
       "});\n",
       "</script></div></div><div class=\"tab-pane\"><div class=\"imandra-graphviz\" id=\"graphviz-2bc74b77-13f4-4514-9ef7-ed057a075400\"><textarea style=\"display: none\">digraph &quot;proof&quot; {\n",
       "p_850 [label=&quot;Start (if :var_0:.incoming = None\\l          \\|\\| Is_a(Some, :var_0:.incoming)\\l             &amp;&amp; Is_a(Clock, Option.get :var_0:.incoming)\\l       then true\\l       else\\l         not\\l         ((Destruct(Sensor, 0, Option.get :var_0:.incoming)).Sensor_msgs.laserScan_ranges\\l          = [])\\l         &amp;&amp; List.for_all anon_fun._verify_target.0\\l            (Destruct(Sensor, 0, Option.get :var_0:.incoming)).Sensor_msgs.laserScan_ranges\\l         ==\\&gt; not\\l             ((if :var_0:.incoming = None then :var_0:\\l               else\\l               if Is_a(Sensor, Option.get :var_0:.incoming) then … else …).min_range\\l              = None)\\l       :time 0.017s)&quot;,shape=box,style=filled,fontname=&quot;courier&quot;,fontsize=14];\n",
       "p_850 -&gt; p_849 [label=&quot;&quot;];\n",
       "p_849 [label=&quot;Simplify (((:var_0:.incoming = None\\l            \\|\\| Is_a(Some, :var_0:.incoming)\\l               &amp;&amp; Is_a(Clock, Option.get :var_0:.incoming))\\l           \\|\\| not\\l              (not\\l               ((Destruct(Sensor, 0, Option.get :var_0:.incoming)).Sensor_msgs.laserScan_ranges\\l                = [])\\l               &amp;&amp; List.for_all anon_fun._verify_target.0\\l                  (Destruct(Sensor, 0, Option.get :var_0:.incoming)).Sensor_msgs.laserScan_ranges))\\l          \\|\\| not\\l             ((if :var_0:.incoming = None then :var_0:\\l               else\\l               if Is_a(Sensor, Option.get :var_0:.incoming)\\l               then if :var_0:.mode = Driving then … else …\\l               else if :var_0:.mode = Driving then … else …).min_range\\l              = None)\\l          :expansions [] :rw [] :fc [])&quot;,shape=box,style=filled,fontname=&quot;courier&quot;,fontsize=14];\n",
       "p_849 -&gt; p_848 [label=&quot;&quot;];\n",
       "p_848 [label=&quot;Unroll ([List.fold_right anon_fun.get_min_and_direction.0\\l         (Destruct(Sensor, 0, Option.get …)).Sensor_msgs.laserScan_range_max\\l         (Destruct(Sensor, 0, Option.get …)).Sensor_msgs.laserScan_ranges],\\l        [[]])&quot;,shape=box,style=filled,fontname=&quot;courier&quot;,fontsize=14];\n",
       "p_848 -&gt; p_847 [label=&quot;&quot;];\n",
       "p_847 [label=&quot;Unroll ([foldi\\l         ((Destruct(Sensor, 0, …)).Sensor_msgs.laserScan_range_max, 0) None\\l         anon_fun.get_min_and_direction.1\\l         (Destruct(Sensor, 0, …)).Sensor_msgs.laserScan_ranges],\\l        [[]])&quot;,shape=box,style=filled,fontname=&quot;courier&quot;,fontsize=14];\n",
       "p_847 -&gt; p_846 [label=&quot;&quot;];\n",
       "p_846 [label=&quot;Unroll ([List.length\\l         (Destruct(Sensor, 0, Option.get …)).Sensor_msgs.laserScan_ranges],\\l        [[]])&quot;,shape=box,style=filled,fontname=&quot;courier&quot;,fontsize=14];\n",
       "p_846 -&gt; p_845 [label=&quot;&quot;];\n",
       "p_845 [label=&quot;Unroll ([List.for_all anon_fun._verify_target.0\\l         (Destruct(Sensor, 0, Option.get …)).Sensor_msgs.laserScan_ranges],\\l        [[]])&quot;,shape=box,style=filled,fontname=&quot;courier&quot;,fontsize=14];\n",
       "p_845 -&gt; p_844 [label=&quot;&quot;];\n",
       "p_844 -&gt; p_z3_1818 [label=&quot;&quot;,fontname=&quot;courier&quot;,fontsize=14];\n",
       "p_z3_1818 [label=&quot;(let ((a!1 (Sensor_msgs.laserScan_ranges_2144\n",
       "             (get.Sensor.0_6969 (get.Some.0_6971 (inco…&quot;,shape=box,fontname=&quot;courier&quot;,fontsize=14];p_844 [label=&quot;unsat&quot;,shape=box,style=filled,fontname=&quot;courier&quot;,fontsize=14];\n",
       "}\n",
       "</textarea><button class=\"btn btn-primary\">Load graph</button><div class=\"imandra-graphviz-loading display-none\">Loading..</div><div class=\"imandra-graphviz-target\"></div><script>\n",
       "require(['nbextensions/nbimandra/graphviz'], function (graphviz) {\n",
       "  var target = '#graphviz-2bc74b77-13f4-4514-9ef7-ed057a075400';\n",
       "  graphviz.hydrate(target);\n",
       "});\n",
       "</script></div></div></div><script>\n",
       "require(['nbextensions/nbimandra/alternatives'], function (alternatives) {\n",
       "  var target = '#alt-6844e84a-3639-4af1-a96e-d7f20951b66b';\n",
       "  alternatives.hydrate(target);\n",
       "});\n",
       "</script></div></div></div><script>\n",
       "require(['nbextensions/nbimandra/fold'], function (fold) {\n",
       "  var target = '#fold-cd693d47-743a-48ae-8cef-829883650d33';\n",
       "  fold.hydrate(target);\n",
       "});\n",
       "</script></div></div></div><div class=\"tab-pane\"><div class=\"imandra-graphviz\" id=\"graphviz-1de9a714-d1d7-4823-8e0f-f37534095464\"><textarea style=\"display: none\">digraph &quot;call graph&quot; {\n",
       "goal [label=&quot;not\\l(((state.incoming = None\\l   \\|\\| Is_a(Some, state.incoming) &amp;&amp; Is_a(Clock, Option.get state.incoming))\\l  \\|\\| not\\l     (not\\l      ((Destruct(Sensor, 0, Option.get state.incoming)).Sensor_msgs.laserScan_ranges\\l       = [])\\l      &amp;&amp; List.for_all anon_fun._verify_target.0\\l         (Destruct(Sensor, 0, Option.get state.incoming)).Sensor_msgs.laserScan_ranges))\\l \\|\\| not\\l    ((if state.incoming = None then state\\l      else\\l      if Is_a(Sensor, Option.get state.incoming)\\l      then if state.mode = Driving then … else …\\l      else if state.mode = Driving then … else …).min_range\\l     = None))&quot;,shape=box,style=filled,color=&quot;cyan&quot;,fontname=&quot;courier&quot;,fontsize=14];\n",
       "call_1441 [label=&quot;List.length\\l(List.tl (Destruct(Sensor, 0, Option.get …)).Sensor_msgs.laserScan_ranges)&quot;,shape=box,style=filled,color=&quot;yellow&quot;,fontname=&quot;courier&quot;,fontsize=14];\n",
       "expr_1443 -&gt; call_1441 [label=&quot;calls&quot;];\n",
       "call_161 [label=&quot;foldi ((Destruct(Sensor, 0, …)).Sensor_msgs.laserScan_range_max, 0) None\\lanon_fun.get_min_and_direction.1\\l(Destruct(Sensor, 0, …)).Sensor_msgs.laserScan_ranges&quot;,shape=box,style=filled,color=&quot;green&quot;,fontname=&quot;courier&quot;,fontsize=14];\n",
       "call_161 -&gt; expr_1275 [label=&quot;=&quot;];\n",
       "expr_1275 [label=&quot;if (Destruct(Sensor, 0, Option.get ….incoming)).Sensor_msgs.laserScan_ranges\\l   = []\\lthen\\l  ((Destruct(Sensor, 0, Option.get ….incoming)).Sensor_msgs.laserScan_range_max,\\l   0)\\lelse\\lif (foldi\\l    ((Destruct(Sensor, 0, Option.get ….incoming)).Sensor_msgs.laserScan_range_max,\\l     0)\\l    (Some …) anon_fun.get_min_and_direction.1\\l    (List.tl\\l     (Destruct(Sensor, 0, Option.get ….incoming)).Sensor_msgs.laserScan_ranges)).0\\l   \\&lt;=\\l   List.hd\\l   (Destruct(Sensor, 0, Option.get ….incoming)).Sensor_msgs.laserScan_ranges\\lthen\\l  foldi\\l  ((Destruct(Sensor, 0, Option.get ….incoming)).Sensor_msgs.laserScan_range_max,\\l   0)\\l  (Some …) anon_fun.get_min_and_direction.1\\l  (List.tl\\l   (Destruct(Sensor, 0, Option.get ….incoming)).Sensor_msgs.laserScan_ranges)\\lelse\\l  (List.hd\\l   (Destruct(Sensor, 0, Option.get ….incoming)).Sensor_msgs.laserScan_ranges,\\l   if Is_a(Some, …) then … else 0)&quot;,shape=box,style=filled,color=&quot;grey&quot;,fontname=&quot;courier&quot;,fontsize=14];\n",
       "goal -&gt; call_161 [label=&quot;calls&quot;];\n",
       "call_1505 [label=&quot;List.for_all anon_fun._verify_target.0\\l(List.tl (Destruct(Sensor, 0, Option.get …)).Sensor_msgs.laserScan_ranges)&quot;,shape=box,style=filled,color=&quot;yellow&quot;,fontname=&quot;courier&quot;,fontsize=14];\n",
       "expr_1508 -&gt; call_1505 [label=&quot;calls&quot;];\n",
       "call_1150 [label=&quot;List.fold_right anon_fun.get_min_and_direction.0\\l(Destruct(Sensor, 0, Option.get …)).Sensor_msgs.laserScan_range_max\\l(List.tl (Destruct(Sensor, 0, Option.get …)).Sensor_msgs.laserScan_ranges)&quot;,shape=box,style=filled,color=&quot;yellow&quot;,fontname=&quot;courier&quot;,fontsize=14];\n",
       "expr_1154 -&gt; call_1150 [label=&quot;calls&quot;];\n",
       "expr_1154 -&gt; call_1150 [label=&quot;calls&quot;];\n",
       "call_214 [label=&quot;List.length\\l(Destruct(Sensor, 0, Option.get …)).Sensor_msgs.laserScan_ranges&quot;,shape=box,style=filled,color=&quot;green&quot;,fontname=&quot;courier&quot;,fontsize=14];\n",
       "call_214 -&gt; expr_1443 [label=&quot;=&quot;];\n",
       "expr_1443 [label=&quot;if (Destruct(Sensor, 0, Option.get ….incoming)).Sensor_msgs.laserScan_ranges\\l   = []\\lthen 0\\lelse\\l  1\\l  + List.length\\l    (List.tl\\l     (Destruct(Sensor, 0, Option.get ….incoming)).Sensor_msgs.laserScan_ranges)&quot;,shape=box,style=filled,color=&quot;grey&quot;,fontname=&quot;courier&quot;,fontsize=14];\n",
       "goal -&gt; call_214 [label=&quot;calls&quot;];\n",
       "call_176 [label=&quot;List.for_all anon_fun._verify_target.0\\l(Destruct(Sensor, 0, Option.get …)).Sensor_msgs.laserScan_ranges&quot;,shape=box,style=filled,color=&quot;green&quot;,fontname=&quot;courier&quot;,fontsize=14];\n",
       "call_176 -&gt; expr_1508 [label=&quot;=&quot;];\n",
       "expr_1508 [label=&quot;(Destruct(Sensor, 0, Option.get ….incoming)).Sensor_msgs.laserScan_ranges =\\l[]\\l\\|\\| not\\l   (20000 \\&lt;=\\l    List.hd\\l    (Destruct(Sensor, 0, Option.get ….incoming)).Sensor_msgs.laserScan_ranges)\\l   &amp;&amp; List.for_all anon_fun._verify_target.0\\l      (List.tl\\l       (Destruct(Sensor, 0, Option.get ….incoming)).Sensor_msgs.laserScan_ranges)&quot;,shape=box,style=filled,color=&quot;grey&quot;,fontname=&quot;courier&quot;,fontsize=14];\n",
       "goal -&gt; call_176 [label=&quot;calls&quot;];\n",
       "call_1269 [label=&quot;foldi ((Destruct(Sensor, 0, …)).Sensor_msgs.laserScan_range_max, 0)\\l(Some (1 + 0)) anon_fun.get_min_and_direction.1\\l(List.tl (Destruct(Sensor, 0, …)).Sensor_msgs.laserScan_ranges)&quot;,shape=box,style=filled,color=&quot;yellow&quot;,fontname=&quot;courier&quot;,fontsize=14];\n",
       "expr_1275 -&gt; call_1269 [label=&quot;calls&quot;];\n",
       "expr_1275 -&gt; call_1269 [label=&quot;calls&quot;];\n",
       "call_179 [label=&quot;List.fold_right anon_fun.get_min_and_direction.0\\l(Destruct(Sensor, 0, Option.get …)).Sensor_msgs.laserScan_range_max\\l(Destruct(Sensor, 0, Option.get …)).Sensor_msgs.laserScan_ranges&quot;,shape=box,style=filled,color=&quot;green&quot;,fontname=&quot;courier&quot;,fontsize=14];\n",
       "call_179 -&gt; expr_1154 [label=&quot;=&quot;];\n",
       "expr_1154 [label=&quot;if (Destruct(Sensor, 0, Option.get ….incoming)).Sensor_msgs.laserScan_ranges\\l   = []\\lthen\\l  (Destruct(Sensor, 0, Option.get ….incoming)).Sensor_msgs.laserScan_range_max\\lelse\\lif List.fold_right anon_fun.get_min_and_direction.0\\l   (Destruct(Sensor, 0, Option.get ….incoming)).Sensor_msgs.laserScan_range_max\\l   (List.tl\\l    (Destruct(Sensor, 0, Option.get ….incoming)).Sensor_msgs.laserScan_ranges)\\l   \\&lt;=\\l   List.hd\\l   (Destruct(Sensor, 0, Option.get ….incoming)).Sensor_msgs.laserScan_ranges\\lthen\\l  List.fold_right anon_fun.get_min_and_direction.0\\l  (Destruct(Sensor, 0, Option.get ….incoming)).Sensor_msgs.laserScan_range_max\\l  (List.tl\\l   (Destruct(Sensor, 0, Option.get ….incoming)).Sensor_msgs.laserScan_ranges)\\lelse\\l  List.hd\\l  (Destruct(Sensor, 0, Option.get ….incoming)).Sensor_msgs.laserScan_ranges&quot;,shape=box,style=filled,color=&quot;grey&quot;,fontname=&quot;courier&quot;,fontsize=14];\n",
       "goal -&gt; call_179 [label=&quot;calls&quot;];\n",
       "}\n",
       "</textarea><button class=\"btn btn-primary\">Load graph</button><div class=\"imandra-graphviz-loading display-none\">Loading..</div><div class=\"imandra-graphviz-target\"></div><script>\n",
       "require(['nbextensions/nbimandra/graphviz'], function (graphviz) {\n",
       "  var target = '#graphviz-1de9a714-d1d7-4823-8e0f-f37534095464';\n",
       "  graphviz.hydrate(target);\n",
       "});\n",
       "</script></div></div></div><script>\n",
       "require(['nbextensions/nbimandra/alternatives'], function (alternatives) {\n",
       "  var target = '#alt-d78d3b26-b624-4e60-956f-1ff1b6a03305';\n",
       "  alternatives.hydrate(target);\n",
       "});\n",
       "</script></div></div></div>\n"
      ]
     },
     "metadata": {},
     "output_type": "display_data"
    }
   ],
   "source": [
    "verify ( fun state ->\n",
    "  let open Sensor_msgs in\n",
    "  match state.incoming with None | Some (Clock _ ) -> true \n",
    "  | Some ( Sensor data ) ->\n",
    "  (  data.laserScan_ranges <> []\n",
    "  && List.for_all (fun x -> x < 20000) data.laserScan_ranges    \n",
    "  ) ==> (one_step state).min_range <> None\n",
    ")"
   ]
  },
  {
   "cell_type": "code",
   "execution_count": null,
   "metadata": {},
   "outputs": [],
   "source": []
  }
 ],
 "metadata": {
  "kernelspec": {
   "display_name": "Imandra",
   "language": "",
   "name": "imandra"
  },
  "language_info": {
   "codemirror_mode": "mllike",
   "file_extension": ".ml",
   "mimetype": "text",
   "name": "ocaml",
   "version": "0.1.0"
  }
 },
 "nbformat": 4,
 "nbformat_minor": 2
}
