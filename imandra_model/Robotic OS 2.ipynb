{
 "cells": [
  {
   "cell_type": "markdown",
   "metadata": {},
   "source": [
    "![Imandrabot](../docs/images/kostya_ros_medium_1.png)"
   ]
  },
  {
   "cell_type": "markdown",
   "metadata": {},
   "source": [
    "# 1. ROS message OCaml types"
   ]
  },
  {
   "cell_type": "markdown",
   "metadata": {},
   "source": [
    "For our Imandra-ROS project we’ve processed all the standard ROS messages with our code generation tool creating a collection of strongly-typed IML/OCaml bindings for them. But, in order to keep this notebook self-contained we'll define the necessary messaging modules here.  \n",
    "\n",
    "First, we'll need to declare the message type that will control our robot. This is typically done with a `Twist` message from the `geometry_msgs` standard ROS package. We want to mimic ROS messaging nomenclauture as close as possible, so we'll create an OCaml/Imadra `module` with the same name as the package and will place the necessary type/message declaraions inside:"
   ]
  },
  {
   "cell_type": "code",
   "execution_count": 1,
   "metadata": {},
   "outputs": [
    {
     "data": {
      "text/plain": [
       "module Geometry_msgs :\n",
       "  sig\n",
       "    type vector3 = { vector3_x : int; vector3_y : int; vector3_z : int; }\n",
       "    type twist = { twist_linear : vector3; twist_angular : vector3; }\n",
       "  end\n"
      ]
     },
     "execution_count": 1,
     "metadata": {},
     "output_type": "execute_result"
    }
   ],
   "source": [
    "module Geometry_msgs = struct\n",
    "  type vector3 = \n",
    "    { vector3_x : int\n",
    "    ; vector3_y : int\n",
    "    ; vector3_z : int\n",
    "    }\n",
    "  type twist = \n",
    "    { twist_linear  : vector3\n",
    "    ; twist_angular : vector3\n",
    "    }    \n",
    "end"
   ]
  },
  {
   "cell_type": "markdown",
   "metadata": {},
   "source": [
    "One thing that you might have noticed is that we've replaced floating point values for vector coordinates with `int`s. It is much easier for Imandra to reason about integers, so we assume that there is a common factor of 100000 that multiplying all the incoming floating point values and divides all the outgoing integers. (That effectively makes our unit of measurement to be 10 micrometers).\n",
    "\n",
    "Let's move on and declare the incoming messages: \n",
    " - `LaserScan` sensor input message from the `sensor_msgs` ROS package\n",
    " - and the `Clock` message from the `Rosgraph_msg` ROS package  \n",
    " \n",
    "We define the wrapping modules for both messages and declare their datatypes:"
   ]
  },
  {
   "cell_type": "code",
   "execution_count": 2,
   "metadata": {},
   "outputs": [
    {
     "data": {
      "text/plain": [
       "module Sensor_msgs :\n",
       "  sig\n",
       "    type laserScan = {\n",
       "      laserScan_range_min : int;\n",
       "      laserScan_range_max : int;\n",
       "      laserScan_ranges : int list;\n",
       "    }\n",
       "  end\n",
       "module Rosgraph_msgs :\n",
       "  sig\n",
       "    type time = { seconds : int; nanoseconds : int; }\n",
       "    type clock = { clock : time; }\n",
       "  end\n"
      ]
     },
     "execution_count": 2,
     "metadata": {},
     "output_type": "execute_result"
    }
   ],
   "source": [
    "module Sensor_msgs = struct\n",
    "  type laserScan = \n",
    "    { laserScan_range_min : int \n",
    "    ; laserScan_range_max : int \n",
    "    ; laserScan_ranges : int list \n",
    "    }\n",
    "end\n",
    "module Rosgraph_msgs = struct\n",
    "  type time = \n",
    "    { seconds     : int\n",
    "    ; nanoseconds : int\n",
    "    }\n",
    "  type clock = { clock : time }\n",
    "end"
   ]
  },
  {
   "cell_type": "markdown",
   "metadata": {},
   "source": [
    "# 2. Creating a simple ROS Node model"
   ]
  },
  {
   "cell_type": "markdown",
   "metadata": {},
   "source": [
    "## 2.1 State datatype"
   ]
  },
  {
   "cell_type": "markdown",
   "metadata": {},
   "source": [
    "Working with Imandra we’ve adopted a standard way to construct formal models of message-driven systems. At the top of the model we have a single OCaml datatype that holds all the data needed to describe the system at a given moment, including incoming and outgoing messages. We call this record type `state`. Together with this `state` type we define a `one_step` transition `state -> state` function, which performs a single logically isolated step of the simulation and returns the new `state` after the transition."
   ]
  },
  {
   "cell_type": "markdown",
   "metadata": {},
   "source": [
    "As an example, consider an IML/OCaml type declaration for a simple ROS node that is able to accept `rosgraph_msgs/Clock` and `sensor_msgs/LaserScan` standard ROS messages. We also want the state to store two values: \n",
    " - the latest minimal value of the ranges that the laser sensor returns\n",
    " - the preferred side for the robot to turn -- either left or right. \n",
    " \n",
    "Finally, we want the node to be able to send `geometry_msgs/Twist` ROS message depending on the stored `min_range` data:"
   ]
  },
  {
   "cell_type": "code",
   "execution_count": 3,
   "metadata": {},
   "outputs": [
    {
     "data": {
      "text/plain": [
       "type incoming_msg =\n",
       "    Clock of Rosgraph_msgs.clock\n",
       "  | Sensor of Sensor_msgs.laserScan\n",
       "type outgoing_msg = Twist of Geometry_msgs.twist\n",
       "type direction = CW | CCW\n",
       "type mode = Driving | Turning\n",
       "type state = {\n",
       "  mode : mode;\n",
       "  min_range : int option;\n",
       "  direction : direction option;\n",
       "  incoming : incoming_msg option;\n",
       "  outgoing : outgoing_msg option;\n",
       "}\n"
      ]
     },
     "execution_count": 3,
     "metadata": {},
     "output_type": "execute_result"
    }
   ],
   "source": [
    "type incoming_msg = \n",
    "  | Clock  of Rosgraph_msgs.clock\n",
    "  | Sensor of Sensor_msgs.laserScan\n",
    "\n",
    "type outgoing_msg =\n",
    "  | Twist of Geometry_msgs.twist\n",
    "\n",
    "type direction = CW | CCW \n",
    "type mode = Driving | Turning \n",
    "\n",
    "type state =\n",
    "  { mode : mode\n",
    "  ; min_range : int option\n",
    "  ; direction : direction option\n",
    "  ; incoming  : incoming_msg option\n",
    "  ; outgoing  : outgoing_msg option \n",
    "  }"
   ]
  },
  {
   "cell_type": "markdown",
   "metadata": {},
   "source": [
    "## 2.2 State transition `one_step` function"
   ]
  },
  {
   "cell_type": "code",
   "execution_count": 4,
   "metadata": {},
   "outputs": [
    {
     "data": {
      "text/plain": [
       "val fold_left_i : ('a -> 'b -> Z.t -> 'b) -> 'b -> 'a list -> 'b = <fun>\n"
      ]
     },
     "execution_count": 4,
     "metadata": {},
     "output_type": "execute_result"
    },
    {
     "data": {
      "text/html": [
       "<div><div class=\"imandra-fold panel panel-default\" id=\"fold-ba2e41fe-650d-42eb-81a6-b0a164241b77\"><div class=\"panel-heading\"><div><i class=\"fa fa-chevron-down hidden\"></i><i class=\"fa fa-chevron-right\"></i><span>termination proof</span></div></div><div class=\"panel-body collapse\"><div><h3>Termination proof</h3><p></p><div class=\"imandra-fold panel panel-default\" id=\"fold-218e0440-d6a7-40f7-9776-03f2ea4f879a\"><div class=\"panel-heading\"><div><i class=\"fa fa-chevron-down hidden\"></i><i class=\"fa fa-chevron-right\"></i><span>call `recfun.fold_left_i.scan.1 f_0 (List.tl lst) (f_0 (List.hd lst) acc i) (i + 1)` from `recfun.fold_left_i.scan.1 f_0 lst acc i`</span></div></div><div class=\"panel-body collapse\"><div class=\"imandra-table\" id=\"table-731343bb-779c-4578-892b-f792d503411d\"><table><tr><td><b>original</b></td><td>recfun.fold_left_i.scan.1 f_0 lst acc i</td></tr><tr><td><b>sub</b></td><td>recfun.fold_left_i.scan.1 f_0 (List.tl lst) (f_0 (List.hd lst) acc i) (i + 1)</td></tr><tr><td><b>original ordinal</b></td><td>Ordinal.Int (Ordinal.count lst)</td></tr><tr><td><b>sub ordinal</b></td><td>Ordinal.Int (Ordinal.count (List.tl lst))</td></tr><tr><td><b>path</b></td><td>[lst &lt;&gt; []]</td></tr><tr><td><b>proof</b></td><td><div class=\"imandra-fold panel panel-default\" id=\"fold-7d5d777e-b797-467b-8a52-7b93b34ab54d\"><div class=\"panel-heading\"><div><i class=\"fa fa-chevron-down hidden\"></i><i class=\"fa fa-chevron-right\"></i><span>detailed proof</span></div></div><div class=\"panel-body collapse\"><div class=\"imandra-proof\"><div class=\"imandra-alternatives\" id=\"alt-34362751-da22-48ba-adba-bc50efd802fe\"><ul class=\"nav nav-tabs\"><li class=\"active\" data-toggle=\"tab\"><a>summary</a></li><li class=\"\" data-toggle=\"tab\"><a>full</a></li></ul><div class=\"tab-content\"><div class=\"tab-pane active\"><div class=\"imandra-table\" id=\"table-6a7415cf-130c-4ca3-9c8a-b4f386d34785\"><table><tr><td><b>ground_instances</b></td><td>3</td></tr><tr><td><b>definitions</b></td><td>0</td></tr><tr><td><b>inductions</b></td><td>0</td></tr><tr><td><b>search_time</b></td><td><pre>0.012s</pre></td></tr><tr><td><b>details</b></td><td><div class=\"imandra-fold panel panel-default\" id=\"fold-8a596d5c-1bea-4dd6-acc4-de12e70db8b3\"><div class=\"panel-heading\"><div><i class=\"fa fa-chevron-down hidden\"></i><i class=\"fa fa-chevron-right\"></i><span>Expand</span></div></div><div class=\"panel-body collapse\"><div class=\"imandra-table\" id=\"table-6e7960ad-6c6f-4ee8-80df-bbc89f557b07\"><table><tr><td><b>smt_stats</b></td><td>(:added-eqs               61\n",
       " :arith-add-rows          21\n",
       " :arith-assert-diseq      1\n",
       " :arith-assert-lower      16\n",
       " :arith-assert-upper      14\n",
       " :arith-conflicts         1\n",
       " :arith-eq-adapter        15\n",
       " :arith-fixed-eqs         14\n",
       " :arith-pivots            8\n",
       " :conflicts               8\n",
       " :datatype-accessor-ax    9\n",
       " :datatype-constructor-ax 7\n",
       " :datatype-occurs-check   32\n",
       " :datatype-splits         1\n",
       " :decisions               16\n",
       " :del-clause              12\n",
       " :final-checks            4\n",
       " :max-memory              18.35\n",
       " :memory                  15.95\n",
       " :mk-bool-var             82\n",
       " :mk-clause               22\n",
       " :num-allocs              491445138\n",
       " :num-checks              8\n",
       " :propagations            19\n",
       " :rlimit-count            67444)</td></tr></table></div></div><script>\n",
       "require(['nbextensions/nbimandra/fold'], function (fold) {\n",
       "  var target = '#fold-8a596d5c-1bea-4dd6-acc4-de12e70db8b3';\n",
       "  fold.hydrate(target);\n",
       "});\n",
       "</script></div></td></tr></table></div></div><div class=\"tab-pane\"><div class=\"imandra-fold panel panel-default\" id=\"fold-6ba1f47c-b4f3-42a4-a3ea-b3b5824bcdc9\"><div class=\"panel-heading\"><div><i class=\"fa fa-chevron-down hidden\"></i><i class=\"fa fa-chevron-right\"></i><span>Expand</span></div></div><div class=\"panel-body collapse\"><ul><li><pre>start[0.012s]\n",
       "  lst &lt;&gt; [] &amp;&amp; Ordinal.count lst &gt;= 0 &amp;&amp; Ordinal.count (List.tl lst) &gt;= 0\n",
       "  ==&gt; not ((List.tl lst) &lt;&gt; [])\n",
       "      || Ordinal.Int (Ordinal.count (List.tl lst)) Ordinal.&lt;&lt;\n",
       "         Ordinal.Int (Ordinal.count lst)</pre></li><li><div><h5>simplify</h5><div class=\"imandra-table\" id=\"table-815067a6-1639-4fba-95b3-20099055cf9c\"><table><tr><td><b>into</b></td><td><pre>(not\n",
       " ((lst &lt;&gt; [] &amp;&amp; Ordinal.count lst &gt;= 0) &amp;&amp; Ordinal.count (List.tl lst) &gt;= 0)\n",
       " || not ((List.tl lst) &lt;&gt; []))\n",
       "|| Ordinal.Int (Ordinal.count (List.tl lst)) Ordinal.&lt;&lt;\n",
       "   Ordinal.Int (Ordinal.count lst)</pre></td></tr><tr><td><b>expansions</b></td><td><pre>[]</pre></td></tr><tr><td><b>rewrite_steps</b></td><td><ul></ul></td></tr><tr><td><b>forward_chaining</b></td><td><ul></ul></td></tr></table></div></div></li><li><div>unroll<div class=\"imandra-table\" id=\"table-92acb00b-fd6e-47f8-96b0-140ada10ed99\"><table><tr><td><b>expr</b></td><td><pre>(Ordinal.&lt;&lt;_130 (Ordinal.Int_121 (|count_`ty_1 list`_2153|\n",
       "                                   (|get.…</pre></td></tr><tr><td><b>expansions</b></td><td><ul></ul></td></tr></table></div></div></li><li><div>unroll<div class=\"imandra-table\" id=\"table-e950d22f-9a13-4474-b0bb-d48481c3705e\"><table><tr><td><b>expr</b></td><td><pre>(|count_`ty_1 list`_2153| (|get.::.1_2139| lst_2146))</pre></td></tr><tr><td><b>expansions</b></td><td><ul></ul></td></tr></table></div></div></li><li><div>unroll<div class=\"imandra-table\" id=\"table-6ef76d63-96e7-41d4-a65c-57ea1d3a1c93\"><table><tr><td><b>expr</b></td><td><pre>(|count_`ty_1 list`_2153| lst_2146)</pre></td></tr><tr><td><b>expansions</b></td><td><ul></ul></td></tr></table></div></div></li><li><div><h5>unsat</h5><pre>(let ((a!1 (or (= lst_2146\n",
       "                  (|::_2| (|get.::.0_2138| lst_2146) (|get.::.1_2139| lst…</pre></div></li></ul></div><script>\n",
       "require(['nbextensions/nbimandra/fold'], function (fold) {\n",
       "  var target = '#fold-6ba1f47c-b4f3-42a4-a3ea-b3b5824bcdc9';\n",
       "  fold.hydrate(target);\n",
       "});\n",
       "</script></div></div></div><script>\n",
       "require(['nbextensions/nbimandra/alternatives'], function (alternatives) {\n",
       "  var target = '#alt-34362751-da22-48ba-adba-bc50efd802fe';\n",
       "  alternatives.hydrate(target);\n",
       "});\n",
       "</script></div></div></div><script>\n",
       "require(['nbextensions/nbimandra/fold'], function (fold) {\n",
       "  var target = '#fold-7d5d777e-b797-467b-8a52-7b93b34ab54d';\n",
       "  fold.hydrate(target);\n",
       "});\n",
       "</script></div></td></tr></table></div></div><script>\n",
       "require(['nbextensions/nbimandra/fold'], function (fold) {\n",
       "  var target = '#fold-218e0440-d6a7-40f7-9776-03f2ea4f879a';\n",
       "  fold.hydrate(target);\n",
       "});\n",
       "</script></div><p></p></div></div><script>\n",
       "require(['nbextensions/nbimandra/fold'], function (fold) {\n",
       "  var target = '#fold-ba2e41fe-650d-42eb-81a6-b0a164241b77';\n",
       "  fold.hydrate(target);\n",
       "});\n",
       "</script></div></div>\n"
      ]
     },
     "metadata": {},
     "output_type": "display_data"
    }
   ],
   "source": [
    "let fold_left_i f acc lst = \n",
    "  let rec scan lst acc i = \n",
    "    match lst with\n",
    "    | h::tl -> scan tl (f h acc i) (i+1) \n",
    "    | [] -> acc\n",
    "    in \n",
    "  scan lst acc 0"
   ]
  },
  {
   "cell_type": "markdown",
   "metadata": {},
   "source": [
    "Lets now create a simple `one_step` function for a ROS node that reacts to the incoming messages. We want the robot, on incoming `Clock` message, to either move forward or turn. On incoming `Scan` message, \n",
    "\n",
    "\n",
    "depending on the stored `min_range` value. To this end, we first create two helper functions: \n",
    " - `get_min_range` extract the minimal value of the ranges in a `Scan` message \n",
    " - `make_twist_message` creates a `Twist` message with the given forward and angular velocities"
   ]
  },
  {
   "cell_type": "code",
   "execution_count": 5,
   "metadata": {},
   "outputs": [
    {
     "data": {
      "text/plain": [
       "val get_min_and_direction : Sensor_msgs.laserScan -> int * direction = <fun>\n",
       "val make_twist_message : int -> int -> outgoing_msg = <fun>\n"
      ]
     },
     "execution_count": 5,
     "metadata": {},
     "output_type": "execute_result"
    }
   ],
   "source": [
    "let get_min_and_direction msg =\n",
    "  let max = msg.Sensor_msgs.laserScan_range_max in\n",
    "  let lst = msg.Sensor_msgs.laserScan_ranges in\n",
    "  let min = fold_left_i \n",
    "    (fun a b i -> if a < fst b then (a,i) else b) (max, 0) in\n",
    "  let min_range, idx = min lst in\n",
    "  if idx < List.length lst / 2 then min_range, CW else min_range, CCW\n",
    "  \n",
    "let make_twist_message v omega=\n",
    "  let open Geometry_msgs in\n",
    "  let mkvector x y z = { vector3_x = x; vector3_y = y; vector3_z = z } in \n",
    "  Twist { twist_linear  = mkvector v 0 0\n",
    "        ; twist_angular = mkvector 0 0 omega \n",
    "        } "
   ]
  },
  {
   "cell_type": "code",
   "execution_count": null,
   "metadata": {},
   "outputs": [],
   "source": []
  },
  {
   "cell_type": "code",
   "execution_count": 6,
   "metadata": {},
   "outputs": [
    {
     "data": {
      "text/plain": [
       "val process_clock_message : state -> state = <fun>\n"
      ]
     },
     "execution_count": 6,
     "metadata": {},
     "output_type": "execute_result"
    }
   ],
   "source": [
    "let process_clock_message state =\n",
    "  match state.mode with \n",
    "  | Driving -> { state with outgoing = Some (make_twist_message 10000 0) } \n",
    "  | Turning -> begin\n",
    "    match state.direction with \n",
    "    | None\n",
    "    | Some ( CW ) -> { state with outgoing = Some (make_twist_message 0   10000) } \n",
    "    | Some (CCW ) -> { state with outgoing = Some (make_twist_message 0 (-10000))} \n",
    "  end"
   ]
  },
  {
   "cell_type": "code",
   "execution_count": null,
   "metadata": {},
   "outputs": [],
   "source": []
  },
  {
   "cell_type": "code",
   "execution_count": 7,
   "metadata": {},
   "outputs": [
    {
     "data": {
      "text/plain": [
       "val process_sensor_message : state -> int -> direction -> state = <fun>\n"
      ]
     },
     "execution_count": 7,
     "metadata": {},
     "output_type": "execute_result"
    }
   ],
   "source": [
    "let process_sensor_message state min_range min_direction =\n",
    "  match state.mode , state.min_range with \n",
    "  | Driving , _    ->\n",
    "    if min_range < 20000 then \n",
    "      { state with \n",
    "        mode      = Turning\n",
    "      ; direction = Some min_direction\n",
    "      ; min_range = Some min_range \n",
    "      }\n",
    "    else\n",
    "      { state with mode = Driving; min_range = None; direction = None } \n",
    "  | Turning , None -> \n",
    "    if min_range > 25000 then \n",
    "      { state with mode = Driving; min_range = None; direction = None } \n",
    "    else\n",
    "      { state with \n",
    "        direction = Some min_direction\n",
    "      ; min_range = Some min_range\n",
    "      } \n",
    "  | Turning , Some old_range -> \n",
    "    if min_range > 25000 then \n",
    "      { state with mode = Driving; min_range = None; direction = None } \n",
    "    else if min_range > old_range then state else \n",
    "    { state with \n",
    "      direction = Some min_direction\n",
    "    ; min_range = Some min_range\n",
    "    }  "
   ]
  },
  {
   "cell_type": "markdown",
   "metadata": {},
   "source": [
    "With the help of these functions, we can create our `one_step` transition function:"
   ]
  },
  {
   "cell_type": "code",
   "execution_count": 8,
   "metadata": {},
   "outputs": [
    {
     "data": {
      "text/plain": [
       "val one_step : state -> state = <fun>\n"
      ]
     },
     "execution_count": 8,
     "metadata": {},
     "output_type": "execute_result"
    }
   ],
   "source": [
    "let one_step state =\n",
    "  match state.incoming with None -> state | Some in_msg ->\n",
    "  let state = { state with incoming = None; outgoing = None } in\n",
    "  match in_msg with \n",
    "  | Sensor laserScan -> \n",
    "    let min_range, min_direction = get_min_and_direction laserScan in\n",
    "    process_sensor_message state min_range min_direction\n",
    "  | Clock  _ -> \n",
    "    process_clock_message state"
   ]
  },
  {
   "cell_type": "markdown",
   "metadata": {},
   "source": [
    "## 2.3 Running the model as a ROS node"
   ]
  },
  {
   "cell_type": "markdown",
   "metadata": {},
   "source": [
    "One can write the model into an OCaml code file:   \n",
    "https://github.com/AestheticIntegration/imandra-ros/blob/master/imandra_model/src-model/ros_model.ml  \n",
    "and then compile it into an executable node, using our ROS node wrapper. \n",
    "\n",
    "Here is the model, controling our \"imandrabot\" in the Gazebo simulation environment:"
   ]
  },
  {
   "cell_type": "markdown",
   "metadata": {},
   "source": [
    "dd"
   ]
  },
  {
   "cell_type": "markdown",
   "metadata": {},
   "source": [
    "# 3. Verifying the ROS node model"
   ]
  },
  {
   "cell_type": "markdown",
   "metadata": {},
   "source": [
    "## 3.1 Verifying outgoing `Twist` message at `Clock` ticks "
   ]
  },
  {
   "cell_type": "markdown",
   "metadata": {},
   "source": [
    "Our model is designed in such a way that it updates its state parameters upon `LaserScan` messages \n",
    "\n",
    "\n",
    "$$ \\forall s. IsClock(IncomingMessage(s)) \\,\\Rightarrow\\, IsTwist(OutgoingMessage(s)) $$\n",
    "\n",
    "Meaning that for every state $s$, if the state contains an incoming message and this message is a `Clock` message, then the state's `outgoing` message is a `Twist` after we've called `one_step` on it.  \n",
    "\n",
    "We can almost literally encode this formal expression as an Imandra `theorem`:"
   ]
  },
  {
   "cell_type": "code",
   "execution_count": 13,
   "metadata": {},
   "outputs": [
    {
     "data": {
      "text/plain": [
       "val is_clock : incoming_msg option -> bool = <fun>\n",
       "val is_twist : outgoing_msg option -> bool = <fun>\n",
       "val clock_creates_outbound : state -> bool = <fun>\n"
      ]
     },
     "execution_count": 13,
     "metadata": {},
     "output_type": "execute_result"
    },
    {
     "data": {
      "text/html": [
       "<div><div>Proved<div class=\"imandra-alternatives\" id=\"alt-c396846b-5d7b-476f-8a26-0885afe3ef4d\"><ul class=\"nav nav-tabs\"><li class=\"active\" data-toggle=\"tab\"><a>proof</a></li><li class=\"\" data-toggle=\"tab\"><a>call graph</a></li></ul><div class=\"tab-content\"><div class=\"tab-pane active\"><div class=\"imandra-proof-top\"><div class=\"imandra-fold panel panel-default\" id=\"fold-b2eba9ca-bd09-4e67-b5f9-ee07e4e29bce\"><div class=\"panel-heading\"><div><i class=\"fa fa-chevron-down hidden\"></i><i class=\"fa fa-chevron-right\"></i><span>proof</span></div></div><div class=\"panel-body collapse\"><div class=\"imandra-proof\"><div class=\"imandra-alternatives\" id=\"alt-ab3ac05f-93ea-48e0-8cd6-4a4839515d57\"><ul class=\"nav nav-tabs\"><li class=\"active\" data-toggle=\"tab\"><a>summary</a></li><li class=\"\" data-toggle=\"tab\"><a>full</a></li><li class=\"\" data-toggle=\"tab\"><a>graph</a></li></ul><div class=\"tab-content\"><div class=\"tab-pane active\"><div class=\"imandra-table\" id=\"table-ad312839-5d89-4cd5-ab00-0ba3250ce762\"><table><tr><td><b>ground_instances</b></td><td>0</td></tr><tr><td><b>definitions</b></td><td>0</td></tr><tr><td><b>inductions</b></td><td>0</td></tr><tr><td><b>search_time</b></td><td><pre>0.006s</pre></td></tr><tr><td><b>details</b></td><td><div class=\"imandra-fold panel panel-default\" id=\"fold-05c8a283-0b98-4015-8e7e-ed4089c341ef\"><div class=\"panel-heading\"><div><i class=\"fa fa-chevron-down hidden\"></i><i class=\"fa fa-chevron-right\"></i><span>Expand</span></div></div><div class=\"panel-body collapse\"><div class=\"imandra-table\" id=\"table-7540a453-787f-451a-aaae-75902601e48a\"><table><tr><td><b>smt_stats</b></td><td>(:added-eqs               293\n",
       " :arith-assert-lower      2\n",
       " :arith-assert-upper      2\n",
       " :arith-eq-adapter        1\n",
       " :conflicts               10\n",
       " :datatype-accessor-ax    48\n",
       " :datatype-constructor-ax 33\n",
       " :datatype-splits         28\n",
       " :decisions               17\n",
       " :del-clause              3\n",
       " :max-memory              18.35\n",
       " :memory                  13.49\n",
       " :mk-bool-var             215\n",
       " :mk-clause               39\n",
       " :num-allocs              621003603\n",
       " :num-checks              2\n",
       " :propagations            35\n",
       " :rlimit-count            75121)</td></tr></table></div></div><script>\n",
       "require(['nbextensions/nbimandra/fold'], function (fold) {\n",
       "  var target = '#fold-05c8a283-0b98-4015-8e7e-ed4089c341ef';\n",
       "  fold.hydrate(target);\n",
       "});\n",
       "</script></div></td></tr></table></div></div><div class=\"tab-pane\"><div class=\"imandra-fold panel panel-default\" id=\"fold-d7ca62c5-0c0b-4946-a7ad-82c1681a2d2a\"><div class=\"panel-heading\"><div><i class=\"fa fa-chevron-down hidden\"></i><i class=\"fa fa-chevron-right\"></i><span>Expand</span></div></div><div class=\"panel-body collapse\"><ul><li><pre>start[0.006s]\n",
       "  (if Is_a(Clock, Option.get :var_0:.incoming)\n",
       "      &amp;&amp; Is_a(Some, :var_0:.incoming)\n",
       "   then true else false)\n",
       "  ==&gt; (if Is_a(Twist,\n",
       "          Option.get\n",
       "          (if :var_0:.incoming = None then :var_0: else …).outgoing)\n",
       "          &amp;&amp; Is_a(Some,\n",
       "             (if :var_0:.incoming = None then :var_0: else …).outgoing)\n",
       "       then true else false)</pre></li><li><div><h4>simplify</h4><div class=\"imandra-table\" id=\"table-f5637a3e-6c60-4865-9cf0-9e9cdf4002c3\"><table><tr><td><b>into</b></td><td><pre>not\n",
       "(Is_a(Clock, Option.get :var_0:.incoming) &amp;&amp; Is_a(Some, :var_0:.incoming))\n",
       "|| Is_a(Twist,\n",
       "   Option.get (if :var_0:.incoming = None then :var_0: else …).outgoing)\n",
       "   &amp;&amp; Is_a(Some, (if :var_0:.incoming = None then :var_0: else …).outgoing)</pre></td></tr><tr><td><b>expansions</b></td><td><pre>[]</pre></td></tr><tr><td><b>rewrite_steps</b></td><td><ul></ul></td></tr><tr><td><b>forward_chaining</b></td><td><ul></ul></td></tr></table></div></div></li><li><div><h4>unsat</h4><pre>(let ((a!1 (Sensor_msgs.laserScan_ranges_2078\n",
       "             (get.Sensor.0_2093 (get.Some.0_2113 (inco…</pre></div></li></ul></div><script>\n",
       "require(['nbextensions/nbimandra/fold'], function (fold) {\n",
       "  var target = '#fold-d7ca62c5-0c0b-4946-a7ad-82c1681a2d2a';\n",
       "  fold.hydrate(target);\n",
       "});\n",
       "</script></div></div><div class=\"tab-pane\"><div class=\"imandra-graphviz\" id=\"graphviz-94ec49ec-f853-4d4c-af2b-a19359c3d894\"><textarea style=\"display: none\">digraph &quot;proof&quot; {\n",
       "p_213 [label=&quot;Start ((if Is_a(Clock, Option.get :var_0:.incoming)\\l           &amp;&amp; Is_a(Some, :var_0:.incoming)\\l        then true else false)\\l       ==\\&gt; (if Is_a(Twist,\\l               Option.get\\l               (if :var_0:.incoming = None then :var_0: else …).outgoing)\\l               &amp;&amp; Is_a(Some,\\l                  (if :var_0:.incoming = None then :var_0: else …).outgoing)\\l            then true else false)\\l       :time 0.006s)&quot;,shape=box,style=filled,fontname=&quot;courier&quot;,fontsize=14];\n",
       "p_213 -&gt; p_212 [label=&quot;&quot;];\n",
       "p_212 [label=&quot;Simplify (not\\l          (Is_a(Clock, Option.get :var_0:.incoming)\\l           &amp;&amp; Is_a(Some, :var_0:.incoming))\\l          \\|\\| Is_a(Twist,\\l             Option.get\\l             (if :var_0:.incoming = None then :var_0: else …).outgoing)\\l             &amp;&amp; Is_a(Some,\\l                (if :var_0:.incoming = None then :var_0: else …).outgoing)\\l          :expansions [] :rw [] :fc [])&quot;,shape=box,style=filled,fontname=&quot;courier&quot;,fontsize=14];\n",
       "p_212 -&gt; p_211 [label=&quot;&quot;];\n",
       "p_211 -&gt; p_z3_3094 [label=&quot;&quot;,fontname=&quot;courier&quot;,fontsize=14];\n",
       "p_z3_3094 [label=&quot;(let ((a!1 (Sensor_msgs.laserScan_ranges_2078\n",
       "             (get.Sensor.0_2093 (get.Some.0_2113 (inco…&quot;,shape=box,fontname=&quot;courier&quot;,fontsize=14];p_211 [label=&quot;unsat&quot;,shape=box,style=filled,fontname=&quot;courier&quot;,fontsize=14];\n",
       "}\n",
       "</textarea><button class=\"btn btn-primary\">Load graph</button><div class=\"imandra-graphviz-loading display-none\">Loading..</div><div class=\"imandra-graphviz-target\"></div><script>\n",
       "require(['nbextensions/nbimandra/graphviz'], function (graphviz) {\n",
       "  var target = '#graphviz-94ec49ec-f853-4d4c-af2b-a19359c3d894';\n",
       "  graphviz.hydrate(target);\n",
       "});\n",
       "</script></div></div></div><script>\n",
       "require(['nbextensions/nbimandra/alternatives'], function (alternatives) {\n",
       "  var target = '#alt-ab3ac05f-93ea-48e0-8cd6-4a4839515d57';\n",
       "  alternatives.hydrate(target);\n",
       "});\n",
       "</script></div></div></div><script>\n",
       "require(['nbextensions/nbimandra/fold'], function (fold) {\n",
       "  var target = '#fold-b2eba9ca-bd09-4e67-b5f9-ee07e4e29bce';\n",
       "  fold.hydrate(target);\n",
       "});\n",
       "</script></div></div></div><div class=\"tab-pane\"><div class=\"imandra-graphviz\" id=\"graphviz-a1958fd4-ccb6-4cbc-896f-5baa6fdc4c80\"><textarea style=\"display: none\">digraph &quot;call graph&quot; {\n",
       "goal [label=&quot;not\\l(not (Is_a(Clock, Option.get state.incoming) &amp;&amp; Is_a(Some, state.incoming))\\l \\|\\| Is_a(Twist,\\l    Option.get (if state.incoming = None then state else …).outgoing)\\l    &amp;&amp; Is_a(Some, (if state.incoming = None then state else …).outgoing))&quot;,shape=box,style=filled,color=&quot;cyan&quot;,fontname=&quot;courier&quot;,fontsize=14];\n",
       "call_1379 [label=&quot;List.length\\l(Destruct(Sensor, 0, Option.get …)).Sensor_msgs.laserScan_ranges&quot;,shape=box,style=filled,color=&quot;yellow&quot;,fontname=&quot;courier&quot;,fontsize=14];\n",
       "goal -&gt; call_1379 [label=&quot;calls&quot;];\n",
       "call_1895 [label=&quot;recfun.fold_left_i.scan.1 anon_fun.get_min_and_direction.0\\l(Destruct(Sensor, 0, Option.get …)).Sensor_msgs.laserScan_ranges\\l((Destruct(Sensor, 0, Option.get …)).Sensor_msgs.laserScan_range_max, 0) 0&quot;,shape=box,style=filled,color=&quot;yellow&quot;,fontname=&quot;courier&quot;,fontsize=14];\n",
       "goal -&gt; call_1895 [label=&quot;calls&quot;];\n",
       "}\n",
       "</textarea><button class=\"btn btn-primary\">Load graph</button><div class=\"imandra-graphviz-loading display-none\">Loading..</div><div class=\"imandra-graphviz-target\"></div><script>\n",
       "require(['nbextensions/nbimandra/graphviz'], function (graphviz) {\n",
       "  var target = '#graphviz-a1958fd4-ccb6-4cbc-896f-5baa6fdc4c80';\n",
       "  graphviz.hydrate(target);\n",
       "});\n",
       "</script></div></div></div><script>\n",
       "require(['nbextensions/nbimandra/alternatives'], function (alternatives) {\n",
       "  var target = '#alt-c396846b-5d7b-476f-8a26-0885afe3ef4d';\n",
       "  alternatives.hydrate(target);\n",
       "});\n",
       "</script></div></div></div>\n"
      ]
     },
     "metadata": {},
     "output_type": "display_data"
    }
   ],
   "source": [
    "let is_clock msg = match msg with  Some ( Clock _ ) -> true | _ -> false ;;\n",
    "let is_twist msg = match msg with  Some ( Twist _ ) -> true | _ -> false ;;\n",
    "\n",
    "theorem clock_creates_outbound state =\n",
    "  is_clock state.incoming ==> is_twist (one_step state).outgoing"
   ]
  },
  {
   "cell_type": "markdown",
   "metadata": {},
   "source": [
    "One can see that the theorem is \"Proven\", meaning that Imandra has formally checked that this property holds for all possible input states. \n"
   ]
  },
  {
   "cell_type": "markdown",
   "metadata": {},
   "source": [
    "## 3.2 Veryfying no dirving if close to a wall"
   ]
  },
  {
   "cell_type": "code",
   "execution_count": null,
   "metadata": {},
   "outputs": [],
   "source": []
  },
  {
   "cell_type": "markdown",
   "metadata": {},
   "source": [
    "## 3.2 Verifying initialization `min_range` value"
   ]
  },
  {
   "cell_type": "markdown",
   "metadata": {},
   "source": [
    "The `min_range` state variable is an `option` and initially is `None`. Lets verify that upon receiving a `sensor_msgs/LaserScan` message, the resulting state stores some `min_range` value (not `None`). \n",
    "\n",
    "$$ \\forall s. IsLaserScan(IncomingMessage(s)) \\,\\Rightarrow\\, MinValue(one\\_step(s)) \\ne None $$\n",
    "\n",
    "Meaning that for every state $s$, if the state contains an incoming message and this message is `LaserScan`, then the state's `min_value` is not `None` after we've called `one_step` on it.  \n",
    "\n",
    "Again, we encode this formal expression as an Imandra `theorem`:"
   ]
  },
  {
   "cell_type": "code",
   "execution_count": 16,
   "metadata": {},
   "outputs": [
    {
     "data": {
      "text/plain": [
       "val is_laser_scan : incoming_msg option -> bool = <fun>\n",
       "- : state -> bool = <fun>\n",
       "module CX : sig val state : state end\n"
      ]
     },
     "execution_count": 16,
     "metadata": {},
     "output_type": "execute_result"
    },
    {
     "data": {
      "text/html": [
       "<div><div>Refuted<div class=\"imandra-alternatives\" id=\"alt-85510385-cf98-4f09-b823-4cfa747d1492\"><ul class=\"nav nav-tabs\"><li class=\"active\" data-toggle=\"tab\"><a>call graph</a></li><li class=\"\" data-toggle=\"tab\"><a>proof-attempt</a></li></ul><div class=\"tab-content\"><div class=\"tab-pane active\"><div class=\"imandra-graphviz\" id=\"graphviz-01525148-45b9-4cb4-aa89-75411aa47b36\"><textarea style=\"display: none\">digraph &quot;call graph&quot; {\n",
       "goal [label=&quot;not\\l(not (Is_a(Sensor, Option.get state.incoming) &amp;&amp; Is_a(Some, state.incoming))\\l \\|\\| not\\l    ((if state.incoming = None then state\\l      else\\l      if Is_a(Sensor, Option.get state.incoming)\\l      then if state.mode = Driving then … else …\\l      else if state.mode = Driving then … else …).min_range\\l     = None))&quot;,shape=box,style=filled,color=&quot;cyan&quot;,fontname=&quot;courier&quot;,fontsize=14];\n",
       "call_3701 [label=&quot;List.length\\l(Destruct(Sensor, 0, Option.get …)).Sensor_msgs.laserScan_ranges&quot;,shape=box,style=filled,color=&quot;green&quot;,fontname=&quot;courier&quot;,fontsize=14];\n",
       "call_3701 -&gt; expr_4445 [label=&quot;=&quot;];\n",
       "expr_4445 [label=&quot;if (Destruct(Sensor, 0, Option.get ….incoming)).Sensor_msgs.laserScan_ranges\\l   = []\\lthen 0\\lelse\\l  1\\l  + List.length\\l    (List.tl\\l     (Destruct(Sensor, 0, Option.get ….incoming)).Sensor_msgs.laserScan_ranges)&quot;,shape=box,style=filled,color=&quot;grey&quot;,fontname=&quot;courier&quot;,fontsize=14];\n",
       "goal -&gt; call_3701 [label=&quot;calls&quot;];\n",
       "call_4461 [label=&quot;recfun.fold_left_i.scan.1 anon_fun.get_min_and_direction.0\\l(List.tl (Destruct(Sensor, 0, Option.get …)).Sensor_msgs.laserScan_ranges)\\l(if (Destruct(Sensor, 0, Option.get …)).Sensor_msgs.laserScan_range_max \\&lt;=\\l    List.hd\\l    (Destruct(Sensor, 0, Option.get …)).Sensor_msgs.laserScan_ranges\\l then\\l   ((Destruct(Sensor, 0, Option.get …)).Sensor_msgs.laserScan_range_max, 0)\\l else\\l   (List.hd\\l    (Destruct(Sensor, 0, Option.get …)).Sensor_msgs.laserScan_ranges, 0))\\l(1 + 0)&quot;,shape=box,style=filled,color=&quot;yellow&quot;,fontname=&quot;courier&quot;,fontsize=14];\n",
       "expr_4462 -&gt; call_4461 [label=&quot;calls&quot;];\n",
       "call_3705 [label=&quot;recfun.fold_left_i.scan.1 anon_fun.get_min_and_direction.0\\l(Destruct(Sensor, 0, Option.get …)).Sensor_msgs.laserScan_ranges\\l((Destruct(Sensor, 0, Option.get …)).Sensor_msgs.laserScan_range_max, 0) 0&quot;,shape=box,style=filled,color=&quot;green&quot;,fontname=&quot;courier&quot;,fontsize=14];\n",
       "call_3705 -&gt; expr_4462 [label=&quot;=&quot;];\n",
       "expr_4462 [label=&quot;if (Destruct(Sensor, 0, Option.get …)).Sensor_msgs.laserScan_ranges \\&lt;\\&gt; []\\lthen\\l  recfun.fold_left_i.scan.1 anon_fun.get_min_and_direction.0\\l  (List.tl (Destruct(Sensor, 0, Option.get …)).Sensor_msgs.laserScan_ranges)\\l  (if … \\&lt;=\\l      List.hd\\l      (Destruct(Sensor, 0, Option.get …)).Sensor_msgs.laserScan_ranges\\l   then (…, 0)\\l   else\\l     (List.hd\\l      (Destruct(Sensor, 0, Option.get …)).Sensor_msgs.laserScan_ranges, 0))\\l  (1 + 0)\\lelse (…, 0)&quot;,shape=box,style=filled,color=&quot;grey&quot;,fontname=&quot;courier&quot;,fontsize=14];\n",
       "goal -&gt; call_3705 [label=&quot;calls&quot;];\n",
       "call_4448 [label=&quot;List.length\\l(List.tl (Destruct(Sensor, 0, Option.get …)).Sensor_msgs.laserScan_ranges)&quot;,shape=box,style=filled,color=&quot;yellow&quot;,fontname=&quot;courier&quot;,fontsize=14];\n",
       "expr_4445 -&gt; call_4448 [label=&quot;calls&quot;];\n",
       "}\n",
       "</textarea><button class=\"btn btn-primary\">Load graph</button><div class=\"imandra-graphviz-loading display-none\">Loading..</div><div class=\"imandra-graphviz-target\"></div><script>\n",
       "require(['nbextensions/nbimandra/graphviz'], function (graphviz) {\n",
       "  var target = '#graphviz-01525148-45b9-4cb4-aa89-75411aa47b36';\n",
       "  graphviz.hydrate(target);\n",
       "});\n",
       "</script></div></div><div class=\"tab-pane\"><div class=\"imandra-proof-top\"><div class=\"imandra-fold panel panel-default\" id=\"fold-47d16da0-b6c6-47a3-8de7-998dba5a0030\"><div class=\"panel-heading\"><div><i class=\"fa fa-chevron-down hidden\"></i><i class=\"fa fa-chevron-right\"></i><span>proof attempt</span></div></div><div class=\"panel-body collapse\"><div class=\"imandra-proof\"><div class=\"imandra-alternatives\" id=\"alt-1e42f0cc-f866-4363-b27e-e526dfc90b61\"><ul class=\"nav nav-tabs\"><li class=\"active\" data-toggle=\"tab\"><a>summary</a></li><li class=\"\" data-toggle=\"tab\"><a>full</a></li><li class=\"\" data-toggle=\"tab\"><a>graph</a></li></ul><div class=\"tab-content\"><div class=\"tab-pane active\"><div class=\"imandra-table\" id=\"table-4209d315-a9d0-4348-b442-b58bb4e779ff\"><table><tr><td><b>ground_instances</b></td><td>2</td></tr><tr><td><b>definitions</b></td><td>0</td></tr><tr><td><b>inductions</b></td><td>0</td></tr><tr><td><b>search_time</b></td><td><pre>0.014s</pre></td></tr><tr><td><b>details</b></td><td><div class=\"imandra-fold panel panel-default\" id=\"fold-b49d5072-cfa3-4114-89a3-3df2281019ff\"><div class=\"panel-heading\"><div><i class=\"fa fa-chevron-down hidden\"></i><i class=\"fa fa-chevron-right\"></i><span>Expand</span></div></div><div class=\"panel-body collapse\"><div class=\"imandra-table\" id=\"table-ba790812-1eee-4848-a0a2-65563ddbb111\"><table><tr><td><b>smt_stats</b></td><td>(:added-eqs               779\n",
       " :arith-add-rows          4\n",
       " :arith-assert-lower      13\n",
       " :arith-assert-upper      14\n",
       " :arith-eq-adapter        6\n",
       " :arith-fixed-eqs         2\n",
       " :arith-offset-eqs        2\n",
       " :arith-pivots            5\n",
       " :conflicts               20\n",
       " :datatype-accessor-ax    44\n",
       " :datatype-constructor-ax 135\n",
       " :datatype-occurs-check   753\n",
       " :datatype-splits         32\n",
       " :decisions               140\n",
       " :del-clause              9\n",
       " :final-checks            6\n",
       " :max-memory              18.35\n",
       " :memory                  16.27\n",
       " :minimized-lits          4\n",
       " :mk-bool-var             336\n",
       " :mk-clause               61\n",
       " :num-allocs              686212387\n",
       " :num-checks              5\n",
       " :propagations            205\n",
       " :rlimit-count            83362)</td></tr></table></div></div><script>\n",
       "require(['nbextensions/nbimandra/fold'], function (fold) {\n",
       "  var target = '#fold-b49d5072-cfa3-4114-89a3-3df2281019ff';\n",
       "  fold.hydrate(target);\n",
       "});\n",
       "</script></div></td></tr></table></div></div><div class=\"tab-pane\"><div class=\"imandra-fold panel panel-default\" id=\"fold-278adf68-99d6-4da1-955a-d9b25b762725\"><div class=\"panel-heading\"><div><i class=\"fa fa-chevron-down hidden\"></i><i class=\"fa fa-chevron-right\"></i><span>Expand</span></div></div><div class=\"panel-body collapse\"><ul><li><pre>start[0.014s]\n",
       "  (if Is_a(Sensor, Option.get :var_0:.incoming)\n",
       "      &amp;&amp; Is_a(Some, :var_0:.incoming)\n",
       "   then true else false)\n",
       "  ==&gt; not\n",
       "      ((if :var_0:.incoming = None then :var_0:\n",
       "        else\n",
       "        if Is_a(Sensor, Option.get :var_0:.incoming)\n",
       "        then if ….mode = Driving then … else …\n",
       "        else if ….mode = Driving then … else …).min_range\n",
       "       = None)</pre></li><li><div><h4>simplify</h4><div class=\"imandra-table\" id=\"table-3aabdb0a-5168-4ab1-91c9-e815acbf91d1\"><table><tr><td><b>into</b></td><td><pre>not\n",
       "(Is_a(Sensor, Option.get :var_0:.incoming) &amp;&amp; Is_a(Some, :var_0:.incoming))\n",
       "|| not\n",
       "   ((if :var_0:.incoming = None then :var_0:\n",
       "     else\n",
       "     if Is_a(Sensor, Option.get :var_0:.incoming)\n",
       "     then if :var_0:.mode = Driving then … else …\n",
       "     else if :var_0:.mode = Driving then … else …).min_range\n",
       "    = None)</pre></td></tr><tr><td><b>expansions</b></td><td><pre>[]</pre></td></tr><tr><td><b>rewrite_steps</b></td><td><ul></ul></td></tr><tr><td><b>forward_chaining</b></td><td><ul></ul></td></tr></table></div></div></li><li><div>unroll<div class=\"imandra-table\" id=\"table-2d25bcdc-b5e5-4d87-98ce-3ba49c950465\"><table><tr><td><b>expr</b></td><td><pre>(let ((a!1 (Sensor_msgs.laserScan_ranges_2078\n",
       "             (get.Sensor.0_2093 (get.Some.0_2113 (inco…</pre></td></tr><tr><td><b>expansions</b></td><td><ul></ul></td></tr></table></div></div></li><li><div>unroll<div class=\"imandra-table\" id=\"table-69d23579-55d8-4edc-8a1f-a46619069dbd\"><table><tr><td><b>expr</b></td><td><pre>(let ((a!1 (Sensor_msgs.laserScan_ranges_2078\n",
       "             (get.Sensor.0_2093 (get.Some.0_2113 (inco…</pre></td></tr><tr><td><b>expansions</b></td><td><ul></ul></td></tr></table></div></div></li><li>Sat (Some  let state =\n",
       "   {mode = Turning; min_range = None; direction = None;\n",
       "    incoming =\n",
       "     (Some\n",
       "      (Sensor\n",
       "         ({Sensor_msgs.laserScan_range_min = 1;\n",
       "           Sensor_msgs.laserScan_range_max = 25001;\n",
       "           Sensor_msgs.laserScan_ranges = []})));\n",
       "    outgoing = None}\n",
       ")</li></ul></div><script>\n",
       "require(['nbextensions/nbimandra/fold'], function (fold) {\n",
       "  var target = '#fold-278adf68-99d6-4da1-955a-d9b25b762725';\n",
       "  fold.hydrate(target);\n",
       "});\n",
       "</script></div></div><div class=\"tab-pane\"><div class=\"imandra-graphviz\" id=\"graphviz-1c12e274-4767-460b-898b-41473587ea80\"><textarea style=\"display: none\">digraph &quot;proof&quot; {\n",
       "p_223 [label=&quot;Start ((if Is_a(Sensor, Option.get :var_0:.incoming)\\l           &amp;&amp; Is_a(Some, :var_0:.incoming)\\l        then true else false)\\l       ==\\&gt; not\\l           ((if :var_0:.incoming = None then :var_0:\\l             else\\l             if Is_a(Sensor, Option.get :var_0:.incoming)\\l             then if ….mode = Driving then … else …\\l             else if ….mode = Driving then … else …).min_range\\l            = None)\\l       :time 0.014s)&quot;,shape=box,style=filled,fontname=&quot;courier&quot;,fontsize=14];\n",
       "p_223 -&gt; p_222 [label=&quot;&quot;];\n",
       "p_222 [label=&quot;Simplify (not\\l          (Is_a(Sensor, Option.get :var_0:.incoming)\\l           &amp;&amp; Is_a(Some, :var_0:.incoming))\\l          \\|\\| not\\l             ((if :var_0:.incoming = None then :var_0:\\l               else\\l               if Is_a(Sensor, Option.get :var_0:.incoming)\\l               then if :var_0:.mode = Driving then … else …\\l               else if :var_0:.mode = Driving then … else …).min_range\\l              = None)\\l          :expansions [] :rw [] :fc [])&quot;,shape=box,style=filled,fontname=&quot;courier&quot;,fontsize=14];\n",
       "p_222 -&gt; p_221 [label=&quot;&quot;];\n",
       "p_221 [label=&quot;Unroll ([recfun.fold_left_i.scan.1 anon_fun.get_min_and_direction.0\\l         (Destruct(Sensor, 0, Option.get …)).Sensor_msgs.laserScan_ranges\\l         ((Destruct(Sensor, 0, Option.get …)).Sensor_msgs.laserScan_range_max,\\l          0)\\l         0],\\l        [[]])&quot;,shape=box,style=filled,fontname=&quot;courier&quot;,fontsize=14];\n",
       "p_221 -&gt; p_220 [label=&quot;&quot;];\n",
       "p_220 [label=&quot;Unroll ([List.length\\l         (Destruct(Sensor, 0, Option.get …)).Sensor_msgs.laserScan_ranges],\\l        [[]])&quot;,shape=box,style=filled,fontname=&quot;courier&quot;,fontsize=14];\n",
       "p_220 -&gt; p_219 [label=&quot;&quot;];\n",
       "p_219 [label=&quot;Sat (Some  let state =\\l   \\{mode = Turning; min_range = None; direction = None;\\l    incoming =\\l     (Some\\l      (Sensor\\l         (\\{Sensor_msgs.laserScan_range_min = 1;\\l           Sensor_msgs.laserScan_range_max = 25001;\\l           Sensor_msgs.laserScan_ranges = []\\})));\\l    outgoing = None\\}\\l)&quot;,shape=box,style=filled,fontname=&quot;courier&quot;,fontsize=14];\n",
       "}\n",
       "</textarea><button class=\"btn btn-primary\">Load graph</button><div class=\"imandra-graphviz-loading display-none\">Loading..</div><div class=\"imandra-graphviz-target\"></div><script>\n",
       "require(['nbextensions/nbimandra/graphviz'], function (graphviz) {\n",
       "  var target = '#graphviz-1c12e274-4767-460b-898b-41473587ea80';\n",
       "  graphviz.hydrate(target);\n",
       "});\n",
       "</script></div></div></div><script>\n",
       "require(['nbextensions/nbimandra/alternatives'], function (alternatives) {\n",
       "  var target = '#alt-1e42f0cc-f866-4363-b27e-e526dfc90b61';\n",
       "  alternatives.hydrate(target);\n",
       "});\n",
       "</script></div></div></div><script>\n",
       "require(['nbextensions/nbimandra/fold'], function (fold) {\n",
       "  var target = '#fold-47d16da0-b6c6-47a3-8de7-998dba5a0030';\n",
       "  fold.hydrate(target);\n",
       "});\n",
       "</script></div></div></div></div><script>\n",
       "require(['nbextensions/nbimandra/alternatives'], function (alternatives) {\n",
       "  var target = '#alt-85510385-cf98-4f09-b823-4cfa747d1492';\n",
       "  alternatives.hydrate(target);\n",
       "});\n",
       "</script></div><pre> let state =\n",
       "   {mode = Turning; min_range = None; direction = None;\n",
       "    incoming =\n",
       "     (Some\n",
       "      (Sensor\n",
       "         ({Sensor_msgs.laserScan_range_min = 1;\n",
       "           Sensor_msgs.laserScan_range_max = 25001;\n",
       "           Sensor_msgs.laserScan_ranges = []})));\n",
       "    outgoing = None}\n",
       "</pre></div></div>\n"
      ]
     },
     "metadata": {},
     "output_type": "display_data"
    }
   ],
   "source": [
    "let is_laser_scan msg = \n",
    "  match msg with  Some ( Sensor _ ) -> true | _ -> false ;;\n",
    "  \n",
    "verify (fun state ->\n",
    "  is_laser_scan state.incoming ==> (one_step state).min_range <> None)"
   ]
  },
  {
   "cell_type": "code",
   "execution_count": 30,
   "metadata": {},
   "outputs": [
    {
     "data": {
      "text/plain": [
       "- : state -> bool = <fun>\n",
       "module CX : sig val state : state end\n"
      ]
     },
     "execution_count": 30,
     "metadata": {},
     "output_type": "execute_result"
    },
    {
     "data": {
      "text/html": [
       "<div><div>Refuted<div class=\"imandra-alternatives\" id=\"alt-9f4218ff-1a37-4c50-be7d-09b38cb34d31\"><ul class=\"nav nav-tabs\"><li class=\"active\" data-toggle=\"tab\"><a>call graph</a></li><li class=\"\" data-toggle=\"tab\"><a>proof-attempt</a></li></ul><div class=\"tab-content\"><div class=\"tab-pane active\"><div class=\"imandra-graphviz\" id=\"graphviz-b9d3cd5d-9291-4250-b600-66109b2c8144\"><textarea style=\"display: none\">digraph &quot;call graph&quot; {\n",
       "goal [label=&quot;not\\l(not\\l ((Is_a(Sensor, Option.get state.incoming) &amp;&amp; Is_a(Some, state.incoming))\\l  &amp;&amp; state.mode = Turning)\\l \\|\\| not\\l    ((if state.incoming = None then state\\l      else\\l      if Is_a(Sensor, Option.get state.incoming)\\l      then if state.mode = Driving then … else …\\l      else if state.mode = Driving then … else …).min_range\\l     = None))&quot;,shape=box,style=filled,color=&quot;cyan&quot;,fontname=&quot;courier&quot;,fontsize=14];\n",
       "call_6014 [label=&quot;List.length\\l(List.tl (Destruct(Sensor, 0, Option.get …)).Sensor_msgs.laserScan_ranges)&quot;,shape=box,style=filled,color=&quot;yellow&quot;,fontname=&quot;courier&quot;,fontsize=14];\n",
       "expr_6009 -&gt; call_6014 [label=&quot;calls&quot;];\n",
       "call_5316 [label=&quot;List.length\\l(Destruct(Sensor, 0, Option.get …)).Sensor_msgs.laserScan_ranges&quot;,shape=box,style=filled,color=&quot;green&quot;,fontname=&quot;courier&quot;,fontsize=14];\n",
       "call_5316 -&gt; expr_6009 [label=&quot;=&quot;];\n",
       "expr_6009 [label=&quot;if (Destruct(Sensor, 0, Option.get ….incoming)).Sensor_msgs.laserScan_ranges\\l   = []\\lthen 0\\lelse\\l  1\\l  + List.length\\l    (List.tl\\l     (Destruct(Sensor, 0, Option.get ….incoming)).Sensor_msgs.laserScan_ranges)&quot;,shape=box,style=filled,color=&quot;grey&quot;,fontname=&quot;courier&quot;,fontsize=14];\n",
       "goal -&gt; call_5316 [label=&quot;calls&quot;];\n",
       "call_6026 [label=&quot;recfun.fold_left_i.scan.1 anon_fun.get_min_and_direction.0\\l(List.tl (Destruct(Sensor, 0, Option.get …)).Sensor_msgs.laserScan_ranges)\\l(if (Destruct(Sensor, 0, Option.get …)).Sensor_msgs.laserScan_range_max \\&lt;=\\l    List.hd\\l    (Destruct(Sensor, 0, Option.get …)).Sensor_msgs.laserScan_ranges\\l then\\l   ((Destruct(Sensor, 0, Option.get …)).Sensor_msgs.laserScan_range_max, 0)\\l else\\l   (List.hd\\l    (Destruct(Sensor, 0, Option.get …)).Sensor_msgs.laserScan_ranges, 0))\\l(1 + 0)&quot;,shape=box,style=filled,color=&quot;yellow&quot;,fontname=&quot;courier&quot;,fontsize=14];\n",
       "expr_6027 -&gt; call_6026 [label=&quot;calls&quot;];\n",
       "call_5320 [label=&quot;recfun.fold_left_i.scan.1 anon_fun.get_min_and_direction.0\\l(Destruct(Sensor, 0, Option.get …)).Sensor_msgs.laserScan_ranges\\l((Destruct(Sensor, 0, Option.get …)).Sensor_msgs.laserScan_range_max, 0) 0&quot;,shape=box,style=filled,color=&quot;green&quot;,fontname=&quot;courier&quot;,fontsize=14];\n",
       "call_5320 -&gt; expr_6027 [label=&quot;=&quot;];\n",
       "expr_6027 [label=&quot;if (Destruct(Sensor, 0, Option.get …)).Sensor_msgs.laserScan_ranges \\&lt;\\&gt; []\\lthen\\l  recfun.fold_left_i.scan.1 anon_fun.get_min_and_direction.0\\l  (List.tl (Destruct(Sensor, 0, Option.get …)).Sensor_msgs.laserScan_ranges)\\l  (if … \\&lt;=\\l      List.hd\\l      (Destruct(Sensor, 0, Option.get …)).Sensor_msgs.laserScan_ranges\\l   then (…, 0)\\l   else\\l     (List.hd\\l      (Destruct(Sensor, 0, Option.get …)).Sensor_msgs.laserScan_ranges, 0))\\l  (1 + 0)\\lelse (…, 0)&quot;,shape=box,style=filled,color=&quot;grey&quot;,fontname=&quot;courier&quot;,fontsize=14];\n",
       "goal -&gt; call_5320 [label=&quot;calls&quot;];\n",
       "}\n",
       "</textarea><button class=\"btn btn-primary\">Load graph</button><div class=\"imandra-graphviz-loading display-none\">Loading..</div><div class=\"imandra-graphviz-target\"></div><script>\n",
       "require(['nbextensions/nbimandra/graphviz'], function (graphviz) {\n",
       "  var target = '#graphviz-b9d3cd5d-9291-4250-b600-66109b2c8144';\n",
       "  graphviz.hydrate(target);\n",
       "});\n",
       "</script></div></div><div class=\"tab-pane\"><div class=\"imandra-proof-top\"><div class=\"imandra-fold panel panel-default\" id=\"fold-a3b95922-a3e8-4a82-818c-765db7eda9be\"><div class=\"panel-heading\"><div><i class=\"fa fa-chevron-down hidden\"></i><i class=\"fa fa-chevron-right\"></i><span>proof attempt</span></div></div><div class=\"panel-body collapse\"><div class=\"imandra-proof\"><div class=\"imandra-alternatives\" id=\"alt-14997698-b794-49f0-a127-ee3cb0626f34\"><ul class=\"nav nav-tabs\"><li class=\"active\" data-toggle=\"tab\"><a>summary</a></li><li class=\"\" data-toggle=\"tab\"><a>full</a></li><li class=\"\" data-toggle=\"tab\"><a>graph</a></li></ul><div class=\"tab-content\"><div class=\"tab-pane active\"><div class=\"imandra-table\" id=\"table-6b6fb7be-4eb7-45de-8f1f-b0bbbb0aff6e\"><table><tr><td><b>ground_instances</b></td><td>2</td></tr><tr><td><b>definitions</b></td><td>0</td></tr><tr><td><b>inductions</b></td><td>0</td></tr><tr><td><b>search_time</b></td><td><pre>0.017s</pre></td></tr><tr><td><b>details</b></td><td><div class=\"imandra-fold panel panel-default\" id=\"fold-8c9a001f-641d-455e-b24f-ca6864026884\"><div class=\"panel-heading\"><div><i class=\"fa fa-chevron-down hidden\"></i><i class=\"fa fa-chevron-right\"></i><span>Expand</span></div></div><div class=\"panel-body collapse\"><div class=\"imandra-table\" id=\"table-12541e5a-af93-4093-a6e1-74da1cd46b56\"><table><tr><td><b>smt_stats</b></td><td>(:added-eqs               640\n",
       " :arith-add-rows          4\n",
       " :arith-assert-lower      14\n",
       " :arith-assert-upper      13\n",
       " :arith-eq-adapter        6\n",
       " :arith-fixed-eqs         2\n",
       " :arith-offset-eqs        2\n",
       " :arith-pivots            5\n",
       " :conflicts               17\n",
       " :datatype-accessor-ax    44\n",
       " :datatype-constructor-ax 93\n",
       " :datatype-occurs-check   753\n",
       " :datatype-splits         32\n",
       " :decisions               155\n",
       " :del-clause              11\n",
       " :final-checks            6\n",
       " :max-memory              20.03\n",
       " :memory                  17.54\n",
       " :minimized-lits          3\n",
       " :mk-bool-var             290\n",
       " :mk-clause               55\n",
       " :num-allocs              868792382\n",
       " :num-checks              5\n",
       " :propagations            149\n",
       " :rlimit-count            100919)</td></tr></table></div></div><script>\n",
       "require(['nbextensions/nbimandra/fold'], function (fold) {\n",
       "  var target = '#fold-8c9a001f-641d-455e-b24f-ca6864026884';\n",
       "  fold.hydrate(target);\n",
       "});\n",
       "</script></div></td></tr></table></div></div><div class=\"tab-pane\"><div class=\"imandra-fold panel panel-default\" id=\"fold-ab88a505-7da3-4795-bcf1-86bfecbf341a\"><div class=\"panel-heading\"><div><i class=\"fa fa-chevron-down hidden\"></i><i class=\"fa fa-chevron-right\"></i><span>Expand</span></div></div><div class=\"panel-body collapse\"><ul><li><pre>start[0.017s]\n",
       "  (if Is_a(Sensor, Option.get :var_0:.incoming)\n",
       "      &amp;&amp; Is_a(Some, :var_0:.incoming)\n",
       "   then true else false)\n",
       "  &amp;&amp; :var_0:.mode = Turning\n",
       "  ==&gt; not\n",
       "      ((if :var_0:.incoming = None then :var_0:\n",
       "        else\n",
       "        if Is_a(Sensor, Option.get :var_0:.incoming)\n",
       "        then if ….mode = Driving then … else …\n",
       "        else if ….mode = Driving then … else …).min_range\n",
       "       = None)</pre></li><li><div><h4>simplify</h4><div class=\"imandra-table\" id=\"table-f63c0201-9643-4127-9006-754138b2b6d5\"><table><tr><td><b>into</b></td><td><pre>not\n",
       "((Is_a(Sensor, Option.get :var_0:.incoming) &amp;&amp; Is_a(Some, :var_0:.incoming))\n",
       " &amp;&amp; :var_0:.mode = Turning)\n",
       "|| not\n",
       "   ((if :var_0:.incoming = None then :var_0:\n",
       "     else\n",
       "     if Is_a(Sensor, Option.get :var_0:.incoming)\n",
       "     then if :var_0:.mode = Driving then … else …\n",
       "     else if :var_0:.mode = Driving then … else …).min_range\n",
       "    = None)</pre></td></tr><tr><td><b>expansions</b></td><td><pre>[]</pre></td></tr><tr><td><b>rewrite_steps</b></td><td><ul></ul></td></tr><tr><td><b>forward_chaining</b></td><td><ul></ul></td></tr></table></div></div></li><li><div>unroll<div class=\"imandra-table\" id=\"table-65da979f-51f4-43af-9ee2-f090461bbab4\"><table><tr><td><b>expr</b></td><td><pre>(let ((a!1 (Sensor_msgs.laserScan_ranges_2078\n",
       "             (get.Sensor.0_2093 (get.Some.0_2113 (inco…</pre></td></tr><tr><td><b>expansions</b></td><td><ul></ul></td></tr></table></div></div></li><li><div>unroll<div class=\"imandra-table\" id=\"table-1a6851d5-067d-4396-8efb-7cb906c910b3\"><table><tr><td><b>expr</b></td><td><pre>(let ((a!1 (Sensor_msgs.laserScan_ranges_2078\n",
       "             (get.Sensor.0_2093 (get.Some.0_2113 (inco…</pre></td></tr><tr><td><b>expansions</b></td><td><ul></ul></td></tr></table></div></div></li><li>Sat (Some  let state =\n",
       "   {mode = Turning; min_range = None; direction = None;\n",
       "    incoming =\n",
       "     (Some\n",
       "      (Sensor\n",
       "         ({Sensor_msgs.laserScan_range_min = 1;\n",
       "           Sensor_msgs.laserScan_range_max = 25001;\n",
       "           Sensor_msgs.laserScan_ranges = []})));\n",
       "    outgoing = None}\n",
       ")</li></ul></div><script>\n",
       "require(['nbextensions/nbimandra/fold'], function (fold) {\n",
       "  var target = '#fold-ab88a505-7da3-4795-bcf1-86bfecbf341a';\n",
       "  fold.hydrate(target);\n",
       "});\n",
       "</script></div></div><div class=\"tab-pane\"><div class=\"imandra-graphviz\" id=\"graphviz-6c1199e2-557d-48dc-9b2f-7ca0779717fc\"><textarea style=\"display: none\">digraph &quot;proof&quot; {\n",
       "p_245 [label=&quot;Start ((if Is_a(Sensor, Option.get :var_0:.incoming)\\l           &amp;&amp; Is_a(Some, :var_0:.incoming)\\l        then true else false)\\l       &amp;&amp; :var_0:.mode = Turning\\l       ==\\&gt; not\\l           ((if :var_0:.incoming = None then :var_0:\\l             else\\l             if Is_a(Sensor, Option.get :var_0:.incoming)\\l             then if ….mode = Driving then … else …\\l             else if ….mode = Driving then … else …).min_range\\l            = None)\\l       :time 0.017s)&quot;,shape=box,style=filled,fontname=&quot;courier&quot;,fontsize=14];\n",
       "p_245 -&gt; p_244 [label=&quot;&quot;];\n",
       "p_244 [label=&quot;Simplify (not\\l          ((Is_a(Sensor, Option.get :var_0:.incoming)\\l            &amp;&amp; Is_a(Some, :var_0:.incoming))\\l           &amp;&amp; :var_0:.mode = Turning)\\l          \\|\\| not\\l             ((if :var_0:.incoming = None then :var_0:\\l               else\\l               if Is_a(Sensor, Option.get :var_0:.incoming)\\l               then if :var_0:.mode = Driving then … else …\\l               else if :var_0:.mode = Driving then … else …).min_range\\l              = None)\\l          :expansions [] :rw [] :fc [])&quot;,shape=box,style=filled,fontname=&quot;courier&quot;,fontsize=14];\n",
       "p_244 -&gt; p_243 [label=&quot;&quot;];\n",
       "p_243 [label=&quot;Unroll ([recfun.fold_left_i.scan.1 anon_fun.get_min_and_direction.0\\l         (Destruct(Sensor, 0, Option.get …)).Sensor_msgs.laserScan_ranges\\l         ((Destruct(Sensor, 0, Option.get …)).Sensor_msgs.laserScan_range_max,\\l          0)\\l         0],\\l        [[]])&quot;,shape=box,style=filled,fontname=&quot;courier&quot;,fontsize=14];\n",
       "p_243 -&gt; p_242 [label=&quot;&quot;];\n",
       "p_242 [label=&quot;Unroll ([List.length\\l         (Destruct(Sensor, 0, Option.get …)).Sensor_msgs.laserScan_ranges],\\l        [[]])&quot;,shape=box,style=filled,fontname=&quot;courier&quot;,fontsize=14];\n",
       "p_242 -&gt; p_241 [label=&quot;&quot;];\n",
       "p_241 [label=&quot;Sat (Some  let state =\\l   \\{mode = Turning; min_range = None; direction = None;\\l    incoming =\\l     (Some\\l      (Sensor\\l         (\\{Sensor_msgs.laserScan_range_min = 1;\\l           Sensor_msgs.laserScan_range_max = 25001;\\l           Sensor_msgs.laserScan_ranges = []\\})));\\l    outgoing = None\\}\\l)&quot;,shape=box,style=filled,fontname=&quot;courier&quot;,fontsize=14];\n",
       "}\n",
       "</textarea><button class=\"btn btn-primary\">Load graph</button><div class=\"imandra-graphviz-loading display-none\">Loading..</div><div class=\"imandra-graphviz-target\"></div><script>\n",
       "require(['nbextensions/nbimandra/graphviz'], function (graphviz) {\n",
       "  var target = '#graphviz-6c1199e2-557d-48dc-9b2f-7ca0779717fc';\n",
       "  graphviz.hydrate(target);\n",
       "});\n",
       "</script></div></div></div><script>\n",
       "require(['nbextensions/nbimandra/alternatives'], function (alternatives) {\n",
       "  var target = '#alt-14997698-b794-49f0-a127-ee3cb0626f34';\n",
       "  alternatives.hydrate(target);\n",
       "});\n",
       "</script></div></div></div><script>\n",
       "require(['nbextensions/nbimandra/fold'], function (fold) {\n",
       "  var target = '#fold-a3b95922-a3e8-4a82-818c-765db7eda9be';\n",
       "  fold.hydrate(target);\n",
       "});\n",
       "</script></div></div></div></div><script>\n",
       "require(['nbextensions/nbimandra/alternatives'], function (alternatives) {\n",
       "  var target = '#alt-9f4218ff-1a37-4c50-be7d-09b38cb34d31';\n",
       "  alternatives.hydrate(target);\n",
       "});\n",
       "</script></div><pre> let state =\n",
       "   {mode = Turning; min_range = None; direction = None;\n",
       "    incoming =\n",
       "     (Some\n",
       "      (Sensor\n",
       "         ({Sensor_msgs.laserScan_range_min = 1;\n",
       "           Sensor_msgs.laserScan_range_max = 25001;\n",
       "           Sensor_msgs.laserScan_ranges = []})));\n",
       "    outgoing = None}\n",
       "</pre></div></div>\n"
      ]
     },
     "metadata": {},
     "output_type": "display_data"
    }
   ],
   "source": [
    "  \n",
    "verify (fun state ->\n",
    "  (  is_laser_scan state.incoming \n",
    "  && state.mode = Turning\n",
    "  ) ==> (one_step state).min_range <> None)"
   ]
  },
  {
   "cell_type": "markdown",
   "metadata": {},
   "source": [
    "## 3.3 Veryfying stopping if close to a wall"
   ]
  },
  {
   "cell_type": "code",
   "execution_count": 28,
   "metadata": {},
   "outputs": [
    {
     "data": {
      "text/plain": [
       "val is_laser_scan_close : incoming_msg option -> bool = <fun>\n"
      ]
     },
     "execution_count": 28,
     "metadata": {},
     "output_type": "execute_result"
    }
   ],
   "source": [
    "let is_laser_scan_close msg = \n",
    "  let open Sensor_msgs in\n",
    "  match msg with  \n",
    "    | Some ( Sensor data ) -> \n",
    "      List.for_all (fun x -> x < 25000) data.laserScan_ranges  \n",
    "    | _ -> false ;;"
   ]
  },
  {
   "cell_type": "code",
   "execution_count": 29,
   "metadata": {},
   "outputs": [
    {
     "data": {
      "text/plain": [
       "- : state -> bool = <fun>\n",
       "module CX : sig val state : state end\n"
      ]
     },
     "execution_count": 29,
     "metadata": {},
     "output_type": "execute_result"
    },
    {
     "data": {
      "text/html": [
       "<div><div>Refuted<div class=\"imandra-alternatives\" id=\"alt-d22040a8-c13d-491b-9d1e-51353b22ebd8\"><ul class=\"nav nav-tabs\"><li class=\"active\" data-toggle=\"tab\"><a>call graph</a></li><li class=\"\" data-toggle=\"tab\"><a>proof-attempt</a></li></ul><div class=\"tab-content\"><div class=\"tab-pane active\"><div class=\"imandra-graphviz\" id=\"graphviz-f69c222e-e34c-48c0-bb68-6e19bcc2519f\"><textarea style=\"display: none\">digraph &quot;call graph&quot; {\n",
       "goal [label=&quot;not\\l(not\\l ((Is_a(Sensor, Option.get state.incoming) &amp;&amp; Is_a(Some, state.incoming))\\l  &amp;&amp; List.for_all anon_fun.is_laser_scan_close.0\\l     (Destruct(Sensor, 0, Option.get state.incoming)).Sensor_msgs.laserScan_ranges)\\l \\|\\| (if state.incoming = None then state\\l     else\\l     if Is_a(Sensor, Option.get state.incoming)\\l     then if state.mode = Driving then … else …\\l     else if state.mode = Driving then … else …).mode\\l    = Turning)&quot;,shape=box,style=filled,color=&quot;cyan&quot;,fontname=&quot;courier&quot;,fontsize=14];\n",
       "call_522 [label=&quot;List.length\\l(Destruct(Sensor, 0, Option.get …)).Sensor_msgs.laserScan_ranges&quot;,shape=box,style=filled,color=&quot;green&quot;,fontname=&quot;courier&quot;,fontsize=14];\n",
       "call_522 -&gt; expr_5037 [label=&quot;=&quot;];\n",
       "expr_5037 [label=&quot;if (Destruct(Sensor, 0, Option.get ….incoming)).Sensor_msgs.laserScan_ranges\\l   = []\\lthen 0\\lelse\\l  1\\l  + List.length\\l    (List.tl\\l     (Destruct(Sensor, 0, Option.get ….incoming)).Sensor_msgs.laserScan_ranges)&quot;,shape=box,style=filled,color=&quot;grey&quot;,fontname=&quot;courier&quot;,fontsize=14];\n",
       "goal -&gt; call_522 [label=&quot;calls&quot;];\n",
       "call_5166 [label=&quot;List.for_all anon_fun.is_laser_scan_close.0\\l(List.tl (Destruct(Sensor, 0, Option.get …)).Sensor_msgs.laserScan_ranges)&quot;,shape=box,style=filled,color=&quot;yellow&quot;,fontname=&quot;courier&quot;,fontsize=14];\n",
       "expr_5169 -&gt; call_5166 [label=&quot;calls&quot;];\n",
       "call_2925 [label=&quot;List.for_all anon_fun.is_laser_scan_close.0\\l(Destruct(Sensor, 0, Option.get …)).Sensor_msgs.laserScan_ranges&quot;,shape=box,style=filled,color=&quot;green&quot;,fontname=&quot;courier&quot;,fontsize=14];\n",
       "call_2925 -&gt; expr_5169 [label=&quot;=&quot;];\n",
       "expr_5169 [label=&quot;(Destruct(Sensor, 0, Option.get ….incoming)).Sensor_msgs.laserScan_ranges =\\l[]\\l\\|\\| not\\l   (25000 \\&lt;=\\l    List.hd\\l    (Destruct(Sensor, 0, Option.get ….incoming)).Sensor_msgs.laserScan_ranges)\\l   &amp;&amp; List.for_all anon_fun.is_laser_scan_close.0\\l      (List.tl\\l       (Destruct(Sensor, 0, Option.get ….incoming)).Sensor_msgs.laserScan_ranges)&quot;,shape=box,style=filled,color=&quot;grey&quot;,fontname=&quot;courier&quot;,fontsize=14];\n",
       "goal -&gt; call_2925 [label=&quot;calls&quot;];\n",
       "call_5054 [label=&quot;recfun.fold_left_i.scan.1 anon_fun.get_min_and_direction.0\\l(List.tl (Destruct(Sensor, 0, Option.get …)).Sensor_msgs.laserScan_ranges)\\l(if (Destruct(Sensor, 0, Option.get …)).Sensor_msgs.laserScan_range_max \\&lt;=\\l    List.hd\\l    (Destruct(Sensor, 0, Option.get …)).Sensor_msgs.laserScan_ranges\\l then\\l   ((Destruct(Sensor, 0, Option.get …)).Sensor_msgs.laserScan_range_max, 0)\\l else\\l   (List.hd\\l    (Destruct(Sensor, 0, Option.get …)).Sensor_msgs.laserScan_ranges, 0))\\l(1 + 0)&quot;,shape=box,style=filled,color=&quot;yellow&quot;,fontname=&quot;courier&quot;,fontsize=14];\n",
       "expr_5055 -&gt; call_5054 [label=&quot;calls&quot;];\n",
       "call_20 [label=&quot;recfun.fold_left_i.scan.1 anon_fun.get_min_and_direction.0\\l(Destruct(Sensor, 0, Option.get …)).Sensor_msgs.laserScan_ranges\\l((Destruct(Sensor, 0, Option.get …)).Sensor_msgs.laserScan_range_max, 0) 0&quot;,shape=box,style=filled,color=&quot;green&quot;,fontname=&quot;courier&quot;,fontsize=14];\n",
       "call_20 -&gt; expr_5055 [label=&quot;=&quot;];\n",
       "expr_5055 [label=&quot;if (Destruct(Sensor, 0, Option.get …)).Sensor_msgs.laserScan_ranges \\&lt;\\&gt; []\\lthen\\l  recfun.fold_left_i.scan.1 anon_fun.get_min_and_direction.0\\l  (List.tl (Destruct(Sensor, 0, Option.get …)).Sensor_msgs.laserScan_ranges)\\l  (if … \\&lt;=\\l      List.hd\\l      (Destruct(Sensor, 0, Option.get …)).Sensor_msgs.laserScan_ranges\\l   then (…, 0)\\l   else\\l     (List.hd\\l      (Destruct(Sensor, 0, Option.get …)).Sensor_msgs.laserScan_ranges, 0))\\l  (1 + 0)\\lelse (…, 0)&quot;,shape=box,style=filled,color=&quot;grey&quot;,fontname=&quot;courier&quot;,fontsize=14];\n",
       "goal -&gt; call_20 [label=&quot;calls&quot;];\n",
       "call_5042 [label=&quot;List.length\\l(List.tl (Destruct(Sensor, 0, Option.get …)).Sensor_msgs.laserScan_ranges)&quot;,shape=box,style=filled,color=&quot;yellow&quot;,fontname=&quot;courier&quot;,fontsize=14];\n",
       "expr_5037 -&gt; call_5042 [label=&quot;calls&quot;];\n",
       "}\n",
       "</textarea><button class=\"btn btn-primary\">Load graph</button><div class=\"imandra-graphviz-loading display-none\">Loading..</div><div class=\"imandra-graphviz-target\"></div><script>\n",
       "require(['nbextensions/nbimandra/graphviz'], function (graphviz) {\n",
       "  var target = '#graphviz-f69c222e-e34c-48c0-bb68-6e19bcc2519f';\n",
       "  graphviz.hydrate(target);\n",
       "});\n",
       "</script></div></div><div class=\"tab-pane\"><div class=\"imandra-proof-top\"><div class=\"imandra-fold panel panel-default\" id=\"fold-e1f6c2fd-fe3e-4ff7-9072-0d9ec05e20b8\"><div class=\"panel-heading\"><div><i class=\"fa fa-chevron-down hidden\"></i><i class=\"fa fa-chevron-right\"></i><span>proof attempt</span></div></div><div class=\"panel-body collapse\"><div class=\"imandra-proof\"><div class=\"imandra-alternatives\" id=\"alt-af561bf1-0525-4458-a475-f86185740f9f\"><ul class=\"nav nav-tabs\"><li class=\"active\" data-toggle=\"tab\"><a>summary</a></li><li class=\"\" data-toggle=\"tab\"><a>full</a></li><li class=\"\" data-toggle=\"tab\"><a>graph</a></li></ul><div class=\"tab-content\"><div class=\"tab-pane active\"><div class=\"imandra-table\" id=\"table-ed64d004-686f-4bd8-bc60-57eeefa3cab9\"><table><tr><td><b>ground_instances</b></td><td>3</td></tr><tr><td><b>definitions</b></td><td>0</td></tr><tr><td><b>inductions</b></td><td>0</td></tr><tr><td><b>search_time</b></td><td><pre>0.015s</pre></td></tr><tr><td><b>details</b></td><td><div class=\"imandra-fold panel panel-default\" id=\"fold-9f4f62ef-96a0-41ef-9081-0c10fc8f9e17\"><div class=\"panel-heading\"><div><i class=\"fa fa-chevron-down hidden\"></i><i class=\"fa fa-chevron-right\"></i><span>Expand</span></div></div><div class=\"panel-body collapse\"><div class=\"imandra-table\" id=\"table-e0868f73-c7cf-41f1-a68a-1b03720b1049\"><table><tr><td><b>smt_stats</b></td><td>(:added-eqs               784\n",
       " :arith-add-rows          6\n",
       " :arith-assert-lower      18\n",
       " :arith-assert-upper      18\n",
       " :arith-bound-prop        1\n",
       " :arith-eq-adapter        10\n",
       " :arith-fixed-eqs         3\n",
       " :arith-pivots            6\n",
       " :conflicts               15\n",
       " :datatype-accessor-ax    50\n",
       " :datatype-constructor-ax 158\n",
       " :datatype-occurs-check   1139\n",
       " :datatype-splits         39\n",
       " :decisions               176\n",
       " :del-clause              11\n",
       " :final-checks            9\n",
       " :max-memory              18.35\n",
       " :memory                  17.13\n",
       " :minimized-lits          2\n",
       " :mk-bool-var             382\n",
       " :mk-clause               63\n",
       " :num-allocs              820668949\n",
       " :num-checks              7\n",
       " :propagations            143\n",
       " :rlimit-count            96912)</td></tr></table></div></div><script>\n",
       "require(['nbextensions/nbimandra/fold'], function (fold) {\n",
       "  var target = '#fold-9f4f62ef-96a0-41ef-9081-0c10fc8f9e17';\n",
       "  fold.hydrate(target);\n",
       "});\n",
       "</script></div></td></tr></table></div></div><div class=\"tab-pane\"><div class=\"imandra-fold panel panel-default\" id=\"fold-bf22d87b-0c8a-4949-8ac9-b1cdffcef129\"><div class=\"panel-heading\"><div><i class=\"fa fa-chevron-down hidden\"></i><i class=\"fa fa-chevron-right\"></i><span>Expand</span></div></div><div class=\"panel-body collapse\"><ul><li><pre>start[0.015s]\n",
       "  (if Is_a(Sensor, Option.get :var_0:.incoming)\n",
       "      &amp;&amp; Is_a(Some, :var_0:.incoming)\n",
       "   then\n",
       "     List.for_all anon_fun.is_laser_scan_close.0\n",
       "     (Destruct(Sensor, 0, Option.get :var_0:.incoming)).Sensor_msgs.laserScan_ranges\n",
       "   else false)\n",
       "  ==&gt; (if :var_0:.incoming = None then :var_0:\n",
       "       else\n",
       "       if Is_a(Sensor, Option.get :var_0:.incoming)\n",
       "       then if ….mode = Driving then … else …\n",
       "       else if ….mode = Driving then … else …).mode\n",
       "      = Turning</pre></li><li><div><h4>simplify</h4><div class=\"imandra-table\" id=\"table-aec2fe1c-ab43-4db5-a67a-c3b3202ad959\"><table><tr><td><b>into</b></td><td><pre>not\n",
       "((Is_a(Sensor, Option.get :var_0:.incoming) &amp;&amp; Is_a(Some, :var_0:.incoming))\n",
       " &amp;&amp; List.for_all anon_fun.is_laser_scan_close.0\n",
       "    (Destruct(Sensor, 0, Option.get :var_0:.incoming)).Sensor_msgs.laserScan_ranges)\n",
       "|| (if :var_0:.incoming = None then :var_0:\n",
       "    else\n",
       "    if Is_a(Sensor, Option.get :var_0:.incoming)\n",
       "    then if :var_0:.mode = Driving then … else …\n",
       "    else if :var_0:.mode = Driving then … else …).mode\n",
       "   = Turning</pre></td></tr><tr><td><b>expansions</b></td><td><pre>[]</pre></td></tr><tr><td><b>rewrite_steps</b></td><td><ul></ul></td></tr><tr><td><b>forward_chaining</b></td><td><ul></ul></td></tr></table></div></div></li><li><div>unroll<div class=\"imandra-table\" id=\"table-8ca38476-279d-4f85-9217-f92672616f3d\"><table><tr><td><b>expr</b></td><td><pre>(let ((a!1 (Sensor_msgs.laserScan_ranges_2078\n",
       "             (get.Sensor.0_2093 (get.Some.0_2113 (inco…</pre></td></tr><tr><td><b>expansions</b></td><td><ul></ul></td></tr></table></div></div></li><li><div>unroll<div class=\"imandra-table\" id=\"table-dbfaa5f2-e8c7-47d4-83c5-40b5f182f930\"><table><tr><td><b>expr</b></td><td><pre>(let ((a!1 (Sensor_msgs.laserScan_ranges_2078\n",
       "             (get.Sensor.0_2093 (get.Some.0_2113 (inco…</pre></td></tr><tr><td><b>expansions</b></td><td><ul></ul></td></tr></table></div></div></li><li><div>unroll<div class=\"imandra-table\" id=\"table-eb2f2bc9-deb0-472e-a4ca-0080430aad86\"><table><tr><td><b>expr</b></td><td><pre>(let ((a!1 (Sensor_msgs.laserScan_ranges_2078\n",
       "             (get.Sensor.0_2093 (get.Some.0_2113 (inco…</pre></td></tr><tr><td><b>expansions</b></td><td><ul></ul></td></tr></table></div></div></li><li>Sat (Some  let state =\n",
       "   {mode = Turning; min_range = (Some 7719); direction = None;\n",
       "    incoming =\n",
       "     (Some\n",
       "      (Sensor\n",
       "         ({Sensor_msgs.laserScan_range_min = 1;\n",
       "           Sensor_msgs.laserScan_range_max = 25001;\n",
       "           Sensor_msgs.laserScan_ranges = []})));\n",
       "    outgoing = None}\n",
       ")</li></ul></div><script>\n",
       "require(['nbextensions/nbimandra/fold'], function (fold) {\n",
       "  var target = '#fold-bf22d87b-0c8a-4949-8ac9-b1cdffcef129';\n",
       "  fold.hydrate(target);\n",
       "});\n",
       "</script></div></div><div class=\"tab-pane\"><div class=\"imandra-graphviz\" id=\"graphviz-da5ff227-cead-4e7a-b1b7-2fc024fa50ca\"><textarea style=\"display: none\">digraph &quot;proof&quot; {\n",
       "p_240 [label=&quot;Start ((if Is_a(Sensor, Option.get :var_0:.incoming)\\l           &amp;&amp; Is_a(Some, :var_0:.incoming)\\l        then\\l          List.for_all anon_fun.is_laser_scan_close.0\\l          (Destruct(Sensor, 0, Option.get :var_0:.incoming)).Sensor_msgs.laserScan_ranges\\l        else false)\\l       ==\\&gt; (if :var_0:.incoming = None then :var_0:\\l            else\\l            if Is_a(Sensor, Option.get :var_0:.incoming)\\l            then if ….mode = Driving then … else …\\l            else if ….mode = Driving then … else …).mode\\l           = Turning\\l       :time 0.015s)&quot;,shape=box,style=filled,fontname=&quot;courier&quot;,fontsize=14];\n",
       "p_240 -&gt; p_239 [label=&quot;&quot;];\n",
       "p_239 [label=&quot;Simplify (not\\l          ((Is_a(Sensor, Option.get :var_0:.incoming)\\l            &amp;&amp; Is_a(Some, :var_0:.incoming))\\l           &amp;&amp; List.for_all anon_fun.is_laser_scan_close.0\\l              (Destruct(Sensor, 0, Option.get :var_0:.incoming)).Sensor_msgs.laserScan_ranges)\\l          \\|\\| (if :var_0:.incoming = None then :var_0:\\l              else\\l              if Is_a(Sensor, Option.get :var_0:.incoming)\\l              then if :var_0:.mode = Driving then … else …\\l              else if :var_0:.mode = Driving then … else …).mode\\l             = Turning\\l          :expansions [] :rw [] :fc [])&quot;,shape=box,style=filled,fontname=&quot;courier&quot;,fontsize=14];\n",
       "p_239 -&gt; p_238 [label=&quot;&quot;];\n",
       "p_238 [label=&quot;Unroll ([recfun.fold_left_i.scan.1 anon_fun.get_min_and_direction.0\\l         (Destruct(Sensor, 0, Option.get …)).Sensor_msgs.laserScan_ranges\\l         ((Destruct(Sensor, 0, Option.get …)).Sensor_msgs.laserScan_range_max,\\l          0)\\l         0],\\l        [[]])&quot;,shape=box,style=filled,fontname=&quot;courier&quot;,fontsize=14];\n",
       "p_238 -&gt; p_237 [label=&quot;&quot;];\n",
       "p_237 [label=&quot;Unroll ([List.length\\l         (Destruct(Sensor, 0, Option.get …)).Sensor_msgs.laserScan_ranges],\\l        [[]])&quot;,shape=box,style=filled,fontname=&quot;courier&quot;,fontsize=14];\n",
       "p_237 -&gt; p_236 [label=&quot;&quot;];\n",
       "p_236 [label=&quot;Unroll ([List.for_all anon_fun.is_laser_scan_close.0\\l         (Destruct(Sensor, 0, Option.get …)).Sensor_msgs.laserScan_ranges],\\l        [[]])&quot;,shape=box,style=filled,fontname=&quot;courier&quot;,fontsize=14];\n",
       "p_236 -&gt; p_235 [label=&quot;&quot;];\n",
       "p_235 [label=&quot;Sat (Some  let state =\\l   \\{mode = Turning; min_range = (Some 7719); direction = None;\\l    incoming =\\l     (Some\\l      (Sensor\\l         (\\{Sensor_msgs.laserScan_range_min = 1;\\l           Sensor_msgs.laserScan_range_max = 25001;\\l           Sensor_msgs.laserScan_ranges = []\\})));\\l    outgoing = None\\}\\l)&quot;,shape=box,style=filled,fontname=&quot;courier&quot;,fontsize=14];\n",
       "}\n",
       "</textarea><button class=\"btn btn-primary\">Load graph</button><div class=\"imandra-graphviz-loading display-none\">Loading..</div><div class=\"imandra-graphviz-target\"></div><script>\n",
       "require(['nbextensions/nbimandra/graphviz'], function (graphviz) {\n",
       "  var target = '#graphviz-da5ff227-cead-4e7a-b1b7-2fc024fa50ca';\n",
       "  graphviz.hydrate(target);\n",
       "});\n",
       "</script></div></div></div><script>\n",
       "require(['nbextensions/nbimandra/alternatives'], function (alternatives) {\n",
       "  var target = '#alt-af561bf1-0525-4458-a475-f86185740f9f';\n",
       "  alternatives.hydrate(target);\n",
       "});\n",
       "</script></div></div></div><script>\n",
       "require(['nbextensions/nbimandra/fold'], function (fold) {\n",
       "  var target = '#fold-e1f6c2fd-fe3e-4ff7-9072-0d9ec05e20b8';\n",
       "  fold.hydrate(target);\n",
       "});\n",
       "</script></div></div></div></div><script>\n",
       "require(['nbextensions/nbimandra/alternatives'], function (alternatives) {\n",
       "  var target = '#alt-d22040a8-c13d-491b-9d1e-51353b22ebd8';\n",
       "  alternatives.hydrate(target);\n",
       "});\n",
       "</script></div><pre> let state =\n",
       "   {mode = Turning; min_range = (Some 7719); direction = None;\n",
       "    incoming =\n",
       "     (Some\n",
       "      (Sensor\n",
       "         ({Sensor_msgs.laserScan_range_min = 1;\n",
       "           Sensor_msgs.laserScan_range_max = 25001;\n",
       "           Sensor_msgs.laserScan_ranges = []})));\n",
       "    outgoing = None}\n",
       "</pre></div></div>\n"
      ]
     },
     "metadata": {},
     "output_type": "display_data"
    }
   ],
   "source": [
    "verify ( fun state ->\n",
    "  (  is_laser_scan_close state.incoming\n",
    "  ) ==> (one_step state).mode = Turning\n",
    ")"
   ]
  },
  {
   "cell_type": "markdown",
   "metadata": {},
   "source": [
    "Let's also verify that if we are receiving a `rosgraph_msgs/Clock` message, and the `min_range` is less than 0.5 meters ( scaled to 50000 in our message converter ), then there is an outgoing `geometry_msgs/Twist` message with `linear.x` velocity that is less or equal to zero: "
   ]
  },
  {
   "cell_type": "code",
   "execution_count": null,
   "metadata": {},
   "outputs": [],
   "source": [
    "verify ( fun state ->\n",
    "  (  is_laser_scan state.incoming\n",
    "  && \n",
    "  ) ==> no_positive_outgoing_velocity (one_step state)\n",
    ")"
   ]
  },
  {
   "cell_type": "code",
   "execution_count": 32,
   "metadata": {},
   "outputs": [
    {
     "data": {
      "text/plain": [
       "val is_clock : incoming_msg option -> bool = <fun>\n",
       "val no_positive_outgoing_velocity : state -> bool = <fun>\n"
      ]
     },
     "execution_count": 32,
     "metadata": {},
     "output_type": "execute_result"
    }
   ],
   "source": [
    "let is_clock msg = \n",
    "  match msg with  Some ( Clock _ ) -> true | _ -> false ;;\n",
    "  \n",
    "let no_positive_outgoing_velocity state =\n",
    "  let open Geometry_msgs in\n",
    "  match state.outgoing with \n",
    "  | Some (Twist twist) -> twist.twist_linear.vector3_x <= 0\n",
    "  | _ -> false ;;"
   ]
  },
  {
   "cell_type": "code",
   "execution_count": 35,
   "metadata": {},
   "outputs": [
    {
     "data": {
      "text/plain": [
       "- : state -> bool = <fun>\n",
       "module CX : sig val state : state end\n"
      ]
     },
     "execution_count": 35,
     "metadata": {},
     "output_type": "execute_result"
    },
    {
     "data": {
      "text/html": [
       "<div><div>Refuted<div class=\"imandra-alternatives\" id=\"alt-833cd4fa-2e40-4d08-94d2-23c0a710067f\"><ul class=\"nav nav-tabs\"><li class=\"active\" data-toggle=\"tab\"><a>call graph</a></li><li class=\"\" data-toggle=\"tab\"><a>proof-attempt</a></li></ul><div class=\"tab-content\"><div class=\"tab-pane active\"><div class=\"imandra-graphviz\" id=\"graphviz-84e03b82-ed86-42ba-9740-74712402feb2\"><textarea style=\"display: none\">digraph &quot;call graph&quot; {\n",
       "goal [label=&quot;not\\l(not\\l (((Is_a(Clock, Option.get state.incoming) &amp;&amp; Is_a(Some, state.incoming))\\l   &amp;&amp; not (state.min_range = None))\\l  &amp;&amp; not (50000 \\&lt;= Option.get state.min_range))\\l \\|\\| (Is_a(Twist,\\l     Option.get (if state.incoming = None then state else …).outgoing)\\l     &amp;&amp; Is_a(Some, (if state.incoming = None then state else …).outgoing))\\l    &amp;&amp; (Destruct(Twist, 0,\\l                 Option.get\\l                 (if state.incoming = None then state else …).outgoing)).Geometry_msgs.twist_linear.Geometry_msgs.vector3_x\\l       \\&lt;= 0)&quot;,shape=box,style=filled,color=&quot;cyan&quot;,fontname=&quot;courier&quot;,fontsize=14];\n",
       "call_3696 [label=&quot;recfun.fold_left_i.scan.1 anon_fun.get_min_and_direction.0\\l(Destruct(Sensor, 0, Option.get …)).Sensor_msgs.laserScan_ranges (0, 0) 0&quot;,shape=box,style=filled,color=&quot;green&quot;,fontname=&quot;courier&quot;,fontsize=14];\n",
       "call_3696 -&gt; expr_4476 [label=&quot;=&quot;];\n",
       "expr_4476 [label=&quot;if (Destruct(Sensor, 0, Option.get …)).Sensor_msgs.laserScan_ranges \\&lt;\\&gt; []\\lthen\\l  recfun.fold_left_i.scan.1 anon_fun.get_min_and_direction.0\\l  (List.tl (Destruct(Sensor, 0, Option.get …)).Sensor_msgs.laserScan_ranges)\\l  (if 0 \\&lt;=\\l      List.hd\\l      (Destruct(Sensor, 0, Option.get …)).Sensor_msgs.laserScan_ranges\\l   then (0, 0)\\l   else\\l     (List.hd\\l      (Destruct(Sensor, 0, Option.get …)).Sensor_msgs.laserScan_ranges, 0))\\l  (1 + 0)\\lelse (0, 0)&quot;,shape=box,style=filled,color=&quot;grey&quot;,fontname=&quot;courier&quot;,fontsize=14];\n",
       "goal -&gt; call_3696 [label=&quot;calls&quot;];\n",
       "call_4458 [label=&quot;List.length\\l(List.tl (Destruct(Sensor, 0, Option.get …)).Sensor_msgs.laserScan_ranges)&quot;,shape=box,style=filled,color=&quot;yellow&quot;,fontname=&quot;courier&quot;,fontsize=14];\n",
       "expr_4459 -&gt; call_4458 [label=&quot;calls&quot;];\n",
       "call_4475 [label=&quot;recfun.fold_left_i.scan.1 anon_fun.get_min_and_direction.0\\l(List.tl (Destruct(Sensor, 0, Option.get …)).Sensor_msgs.laserScan_ranges)\\l(if 0 \\&lt;=\\l    List.hd\\l    (Destruct(Sensor, 0, Option.get …)).Sensor_msgs.laserScan_ranges\\l then (0, 0)\\l else\\l   (List.hd\\l    (Destruct(Sensor, 0, Option.get …)).Sensor_msgs.laserScan_ranges, 0))\\l(1 + 0)&quot;,shape=box,style=filled,color=&quot;yellow&quot;,fontname=&quot;courier&quot;,fontsize=14];\n",
       "expr_4476 -&gt; call_4475 [label=&quot;calls&quot;];\n",
       "call_3695 [label=&quot;List.length\\l(Destruct(Sensor, 0, Option.get …)).Sensor_msgs.laserScan_ranges&quot;,shape=box,style=filled,color=&quot;green&quot;,fontname=&quot;courier&quot;,fontsize=14];\n",
       "call_3695 -&gt; expr_4459 [label=&quot;=&quot;];\n",
       "expr_4459 [label=&quot;if (Destruct(Sensor, 0, Option.get ….incoming)).Sensor_msgs.laserScan_ranges\\l   = []\\lthen 0\\lelse\\l  1\\l  + List.length\\l    (List.tl\\l     (Destruct(Sensor, 0, Option.get ….incoming)).Sensor_msgs.laserScan_ranges)&quot;,shape=box,style=filled,color=&quot;grey&quot;,fontname=&quot;courier&quot;,fontsize=14];\n",
       "goal -&gt; call_3695 [label=&quot;calls&quot;];\n",
       "}\n",
       "</textarea><button class=\"btn btn-primary\">Load graph</button><div class=\"imandra-graphviz-loading display-none\">Loading..</div><div class=\"imandra-graphviz-target\"></div><script>\n",
       "require(['nbextensions/nbimandra/graphviz'], function (graphviz) {\n",
       "  var target = '#graphviz-84e03b82-ed86-42ba-9740-74712402feb2';\n",
       "  graphviz.hydrate(target);\n",
       "});\n",
       "</script></div></div><div class=\"tab-pane\"><div class=\"imandra-proof-top\"><div class=\"imandra-fold panel panel-default\" id=\"fold-992c50e4-f977-4a55-81d0-3c5eb761f644\"><div class=\"panel-heading\"><div><i class=\"fa fa-chevron-down hidden\"></i><i class=\"fa fa-chevron-right\"></i><span>proof attempt</span></div></div><div class=\"panel-body collapse\"><div class=\"imandra-proof\"><div class=\"imandra-alternatives\" id=\"alt-8b366051-254e-4e92-ba82-b891ebb570f2\"><ul class=\"nav nav-tabs\"><li class=\"active\" data-toggle=\"tab\"><a>summary</a></li><li class=\"\" data-toggle=\"tab\"><a>full</a></li><li class=\"\" data-toggle=\"tab\"><a>graph</a></li></ul><div class=\"tab-content\"><div class=\"tab-pane active\"><div class=\"imandra-table\" id=\"table-6820fc3d-2aff-4d8d-af88-0c571967fd5b\"><table><tr><td><b>ground_instances</b></td><td>2</td></tr><tr><td><b>definitions</b></td><td>0</td></tr><tr><td><b>inductions</b></td><td>0</td></tr><tr><td><b>search_time</b></td><td><pre>0.018s</pre></td></tr><tr><td><b>details</b></td><td><div class=\"imandra-fold panel panel-default\" id=\"fold-17b3ef81-b91e-44b9-965f-87489173e1d8\"><div class=\"panel-heading\"><div><i class=\"fa fa-chevron-down hidden\"></i><i class=\"fa fa-chevron-right\"></i><span>Expand</span></div></div><div class=\"panel-body collapse\"><div class=\"imandra-table\" id=\"table-45740acb-cde7-4e06-92dc-80e5ce1941a0\"><table><tr><td><b>smt_stats</b></td><td>(:added-eqs               1072\n",
       " :arith-assert-lower      22\n",
       " :arith-assert-upper      19\n",
       " :arith-bound-prop        1\n",
       " :arith-eq-adapter        14\n",
       " :arith-fixed-eqs         1\n",
       " :arith-offset-eqs        3\n",
       " :conflicts               19\n",
       " :datatype-accessor-ax    55\n",
       " :datatype-constructor-ax 208\n",
       " :datatype-occurs-check   1061\n",
       " :datatype-splits         38\n",
       " :decisions               189\n",
       " :del-clause              28\n",
       " :final-checks            8\n",
       " :max-memory              21.08\n",
       " :memory                  21.08\n",
       " :mk-bool-var             450\n",
       " :mk-clause               68\n",
       " :num-allocs              637979847\n",
       " :num-checks              5\n",
       " :propagations            133\n",
       " :rlimit-count            81988)</td></tr></table></div></div><script>\n",
       "require(['nbextensions/nbimandra/fold'], function (fold) {\n",
       "  var target = '#fold-17b3ef81-b91e-44b9-965f-87489173e1d8';\n",
       "  fold.hydrate(target);\n",
       "});\n",
       "</script></div></td></tr></table></div></div><div class=\"tab-pane\"><div class=\"imandra-fold panel panel-default\" id=\"fold-6741b957-91af-4c60-bd83-0e19ccb1adbc\"><div class=\"panel-heading\"><div><i class=\"fa fa-chevron-down hidden\"></i><i class=\"fa fa-chevron-right\"></i><span>Expand</span></div></div><div class=\"panel-body collapse\"><ul><li><pre>start[0.018s]\n",
       "  (if Is_a(Clock, Option.get :var_0:.incoming)\n",
       "      &amp;&amp; Is_a(Some, :var_0:.incoming)\n",
       "   then true else false)\n",
       "  &amp;&amp; (if :var_0:.min_range = None then false\n",
       "      else Option.get :var_0:.min_range &lt; 50000)\n",
       "  ==&gt; (if Is_a(Twist,\n",
       "          Option.get\n",
       "          (if :var_0:.incoming = None then :var_0: else …).outgoing)\n",
       "          &amp;&amp; Is_a(Some,\n",
       "             (if :var_0:.incoming = None then :var_0: else …).outgoing)\n",
       "       then\n",
       "         (Destruct(Twist, 0,\n",
       "                   Option.get\n",
       "                   (if :var_0:.incoming = None then :var_0: else …).outgoing)).Geometry_msgs.twist_linear.Geometry_msgs.vector3_x\n",
       "         &lt;= 0\n",
       "       else false)</pre></li><li><div><h4>simplify</h4><div class=\"imandra-table\" id=\"table-c89b0895-37c5-4d51-b675-fe426ab92c3d\"><table><tr><td><b>into</b></td><td><pre>not\n",
       "(((Is_a(Clock, Option.get :var_0:.incoming) &amp;&amp; Is_a(Some, :var_0:.incoming))\n",
       "  &amp;&amp; not (:var_0:.min_range = None))\n",
       " &amp;&amp; not (50000 &lt;= Option.get :var_0:.min_range))\n",
       "|| (Is_a(Twist,\n",
       "    Option.get (if :var_0:.incoming = None then :var_0: else …).outgoing)\n",
       "    &amp;&amp; Is_a(Some,\n",
       "       (if :var_0:.incoming = None then :var_0: else …).outgoing))\n",
       "   &amp;&amp; (Destruct(Twist, 0,\n",
       "                Option.get\n",
       "                (if :var_0:.incoming = None then :var_0: else …).outgoing)).Geometry_msgs.twist_linear.Geometry_msgs.vector3_x\n",
       "      &lt;= 0</pre></td></tr><tr><td><b>expansions</b></td><td><pre>[]</pre></td></tr><tr><td><b>rewrite_steps</b></td><td><ul></ul></td></tr><tr><td><b>forward_chaining</b></td><td><ul></ul></td></tr></table></div></div></li><li><div>unroll<div class=\"imandra-table\" id=\"table-f94cc0ce-e573-48fe-b3ee-1c6cedfe0441\"><table><tr><td><b>expr</b></td><td><pre>(let ((a!1 (Sensor_msgs.laserScan_ranges_2078\n",
       "             (get.Sensor.0_2572 (get.Some.0_2592 (inco…</pre></td></tr><tr><td><b>expansions</b></td><td><ul></ul></td></tr></table></div></div></li><li><div>unroll<div class=\"imandra-table\" id=\"table-08e2590d-b782-4939-9d7e-b02eac7abc49\"><table><tr><td><b>expr</b></td><td><pre>(let ((a!1 (Sensor_msgs.laserScan_ranges_2078\n",
       "             (get.Sensor.0_2572 (get.Some.0_2592 (inco…</pre></td></tr><tr><td><b>expansions</b></td><td><ul></ul></td></tr></table></div></div></li><li>Sat (Some  let state =\n",
       "   {mode = Driving; min_range = (Some 48763); direction = None;\n",
       "    incoming =\n",
       "     (Some\n",
       "      (Clock\n",
       "         ({Rosgraph_msgs.clock =\n",
       "            {Rosgraph_msgs.seconds = 5; Rosgraph_msgs.nanoseconds = 6}})));\n",
       "    outgoing = None}\n",
       ")</li></ul></div><script>\n",
       "require(['nbextensions/nbimandra/fold'], function (fold) {\n",
       "  var target = '#fold-6741b957-91af-4c60-bd83-0e19ccb1adbc';\n",
       "  fold.hydrate(target);\n",
       "});\n",
       "</script></div></div><div class=\"tab-pane\"><div class=\"imandra-graphviz\" id=\"graphviz-0b50eb79-5d4a-4c60-84ca-160006f57c69\"><textarea style=\"display: none\">digraph &quot;proof&quot; {\n",
       "p_227 [label=&quot;Start ((if Is_a(Clock, Option.get :var_0:.incoming)\\l           &amp;&amp; Is_a(Some, :var_0:.incoming)\\l        then true else false)\\l       &amp;&amp; (if :var_0:.min_range = None then false\\l           else Option.get :var_0:.min_range \\&lt; 50000)\\l       ==\\&gt; (if Is_a(Twist,\\l               Option.get\\l               (if :var_0:.incoming = None then :var_0: else …).outgoing)\\l               &amp;&amp; Is_a(Some,\\l                  (if :var_0:.incoming = None then :var_0: else …).outgoing)\\l            then\\l              (Destruct(Twist, 0,\\l                        Option.get\\l                        (if :var_0:.incoming = None then :var_0: else …).outgoing)).Geometry_msgs.twist_linear.Geometry_msgs.vector3_x\\l              \\&lt;= 0\\l            else false)\\l       :time 0.018s)&quot;,shape=box,style=filled,fontname=&quot;courier&quot;,fontsize=14];\n",
       "p_227 -&gt; p_226 [label=&quot;&quot;];\n",
       "p_226 [label=&quot;Simplify (not\\l          (((Is_a(Clock, Option.get :var_0:.incoming)\\l             &amp;&amp; Is_a(Some, :var_0:.incoming))\\l            &amp;&amp; not (:var_0:.min_range = None))\\l           &amp;&amp; not (50000 \\&lt;= Option.get :var_0:.min_range))\\l          \\|\\| (Is_a(Twist,\\l              Option.get\\l              (if :var_0:.incoming = None then :var_0: else …).outgoing)\\l              &amp;&amp; Is_a(Some,\\l                 (if :var_0:.incoming = None then :var_0: else …).outgoing))\\l             &amp;&amp; (Destruct(Twist, 0,\\l                          Option.get\\l                          (if :var_0:.incoming = None then :var_0: else …).outgoing)).Geometry_msgs.twist_linear.Geometry_msgs.vector3_x\\l                \\&lt;= 0\\l          :expansions [] :rw [] :fc [])&quot;,shape=box,style=filled,fontname=&quot;courier&quot;,fontsize=14];\n",
       "p_226 -&gt; p_225 [label=&quot;&quot;];\n",
       "p_225 [label=&quot;Unroll ([recfun.fold_left_i.scan.1 anon_fun.get_min_and_direction.0\\l         (Destruct(Sensor, 0, Option.get …)).Sensor_msgs.laserScan_ranges\\l         (0, 0) 0],\\l        [[]])&quot;,shape=box,style=filled,fontname=&quot;courier&quot;,fontsize=14];\n",
       "p_225 -&gt; p_224 [label=&quot;&quot;];\n",
       "p_224 [label=&quot;Unroll ([List.length\\l         (Destruct(Sensor, 0, Option.get …)).Sensor_msgs.laserScan_ranges],\\l        [[]])&quot;,shape=box,style=filled,fontname=&quot;courier&quot;,fontsize=14];\n",
       "p_224 -&gt; p_223 [label=&quot;&quot;];\n",
       "p_223 [label=&quot;Sat (Some  let state =\\l   \\{mode = Driving; min_range = (Some 48763); direction = None;\\l    incoming =\\l     (Some\\l      (Clock\\l         (\\{Rosgraph_msgs.clock =\\l            \\{Rosgraph_msgs.seconds = 5; Rosgraph_msgs.nanoseconds = 6\\}\\})));\\l    outgoing = None\\}\\l)&quot;,shape=box,style=filled,fontname=&quot;courier&quot;,fontsize=14];\n",
       "}\n",
       "</textarea><button class=\"btn btn-primary\">Load graph</button><div class=\"imandra-graphviz-loading display-none\">Loading..</div><div class=\"imandra-graphviz-target\"></div><script>\n",
       "require(['nbextensions/nbimandra/graphviz'], function (graphviz) {\n",
       "  var target = '#graphviz-0b50eb79-5d4a-4c60-84ca-160006f57c69';\n",
       "  graphviz.hydrate(target);\n",
       "});\n",
       "</script></div></div></div><script>\n",
       "require(['nbextensions/nbimandra/alternatives'], function (alternatives) {\n",
       "  var target = '#alt-8b366051-254e-4e92-ba82-b891ebb570f2';\n",
       "  alternatives.hydrate(target);\n",
       "});\n",
       "</script></div></div></div><script>\n",
       "require(['nbextensions/nbimandra/fold'], function (fold) {\n",
       "  var target = '#fold-992c50e4-f977-4a55-81d0-3c5eb761f644';\n",
       "  fold.hydrate(target);\n",
       "});\n",
       "</script></div></div></div></div><script>\n",
       "require(['nbextensions/nbimandra/alternatives'], function (alternatives) {\n",
       "  var target = '#alt-833cd4fa-2e40-4d08-94d2-23c0a710067f';\n",
       "  alternatives.hydrate(target);\n",
       "});\n",
       "</script></div><pre> let state =\n",
       "   {mode = Driving; min_range = (Some 48763); direction = None;\n",
       "    incoming =\n",
       "     (Some\n",
       "      (Clock\n",
       "         ({Rosgraph_msgs.clock =\n",
       "            {Rosgraph_msgs.seconds = 5; Rosgraph_msgs.nanoseconds = 6}})));\n",
       "    outgoing = None}\n",
       "</pre></div></div>\n"
      ]
     },
     "metadata": {},
     "output_type": "display_data"
    }
   ],
   "source": [
    "verify ( fun state ->\n",
    "  (  is_clock state.incoming\n",
    "  && match state.min_range with None -> false | Some m -> m < 50000 \n",
    "  ) ==> no_positive_outgoing_velocity (one_step state)\n",
    ")"
   ]
  },
  {
   "cell_type": "code",
   "execution_count": 36,
   "metadata": {},
   "outputs": [
    {
     "data": {
      "text/plain": [
       "- : state =\n",
       "{mode = Driving; min_range = Some 48763; direction = None; incoming = None;\n",
       " outgoing =\n",
       "  Some\n",
       "   (Twist\n",
       "     {Geometry_msgs.twist_linear =\n",
       "       {Geometry_msgs.vector3_x = 10000; vector3_y = 0; vector3_z = 0};\n",
       "      twist_angular =\n",
       "       {Geometry_msgs.vector3_x = 0; vector3_y = 0; vector3_z = 0}})}\n"
      ]
     },
     "execution_count": 36,
     "metadata": {},
     "output_type": "execute_result"
    }
   ],
   "source": [
    "one_step CX.state"
   ]
  },
  {
   "cell_type": "code",
   "execution_count": null,
   "metadata": {},
   "outputs": [],
   "source": []
  }
 ],
 "metadata": {
  "kernelspec": {
   "display_name": "Imandra",
   "language": "",
   "name": "imandra"
  },
  "language_info": {
   "codemirror_mode": "mllike",
   "file_extension": ".ml",
   "mimetype": "text",
   "name": "ocaml",
   "version": "0.1.0"
  }
 },
 "nbformat": 4,
 "nbformat_minor": 2
}
