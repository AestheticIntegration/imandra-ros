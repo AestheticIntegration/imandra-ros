{
 "cells": [
  {
   "cell_type": "markdown",
   "metadata": {},
   "source": [
    "# ROS messaging modules"
   ]
  },
  {
   "cell_type": "markdown",
   "metadata": {},
   "source": [
    "We’ve processed all the standard ROS messages with our code generation tool creating a collection of strongly-typed IML/OCaml bindings for them. Let us load the relevant modules into Imandra:"
   ]
  },
  {
   "cell_type": "code",
   "execution_count": 1,
   "metadata": {},
   "outputs": [
    {
     "data": {
      "text/plain": [
       "- : unit = ()\n",
       "- : unit = ()\n",
       "- : unit = ()\n",
       "- : unit = ()\n",
       "- : unit = ()\n"
      ]
     },
     "execution_count": 1,
     "metadata": {},
     "output_type": "execute_result"
    }
   ],
   "source": [
    "System.mod_use ~quiet:true \"src-messages/basic_types.ml\";;\n",
    "System.mod_use ~quiet:true \"src-messages/std_msgs.ml\";;\n",
    "System.mod_use ~quiet:true \"src-messages/rosgraph_msgs.ml\";;\n",
    "System.mod_use ~quiet:true \"src-messages/geometry_msgs.ml\";;\n",
    "System.mod_use ~quiet:true \"src-messages/sensor_msgs.ml\";;"
   ]
  },
  {
   "cell_type": "markdown",
   "metadata": {},
   "source": [
    "# State datatype"
   ]
  },
  {
   "cell_type": "markdown",
   "metadata": {},
   "source": [
    "Working with Imandra we’ve adopted a standard way to construct formal models of message-driven systems. At the top of the model we have a single OCaml datatype that holds all the data needed to describe the system at a given moment, including incoming and outgoing messages. We call this record type `state`. Together with this `state` type we define a `one_step` transition `state -> state` function, which performs a single logically isolated step of the simulation and returns the new `state` after the transition.\n"
   ]
  },
  {
   "cell_type": "markdown",
   "metadata": {},
   "source": [
    "As an example, consider an IML/OCaml type declaration for a simple ROS node that is able to accept `rosgraph_msgs/Clock` and `sensor_msgs/LaserScan` standard ROS messages. We also want the state to store the latest minimal value of the ranges that the laser sensor returns. And, finally, we want the node to be able to send `geometry_msgs/Twist` ROS message depending on the stored `min_range` data:"
   ]
  },
  {
   "cell_type": "code",
   "execution_count": 2,
   "metadata": {},
   "outputs": [
    {
     "data": {
      "text/plain": [
       "type incoming_msg =\n",
       "    Clock of Rosgraph_msgs.clock\n",
       "  | Sensor of Sensor_msgs.laserScan\n",
       "type outgoing_msg = Twist of Geometry_msgs.twist\n",
       "type state = {\n",
       "  min_range : Basic_types.float64 option;\n",
       "  incoming : incoming_msg option;\n",
       "  outgoing : outgoing_msg option;\n",
       "}\n"
      ]
     },
     "execution_count": 2,
     "metadata": {},
     "output_type": "execute_result"
    }
   ],
   "source": [
    "type incoming_msg = \n",
    "  | Clock  of Rosgraph_msgs.clock\n",
    "  | Sensor of Sensor_msgs.laserScan\n",
    "\n",
    "type outgoing_msg =\n",
    "  | Twist of Geometry_msgs.twist\n",
    "\n",
    "type state =\n",
    "  { min_range : Basic_types.float64 option\n",
    "  ; incoming  : incoming_msg option\n",
    "  ; outgoing  : outgoing_msg option \n",
    "  }"
   ]
  },
  {
   "cell_type": "markdown",
   "metadata": {},
   "source": [
    "The initial state of our model doesn't have any incoming messages nor any stored value:  "
   ]
  },
  {
   "cell_type": "code",
   "execution_count": 3,
   "metadata": {},
   "outputs": [
    {
     "data": {
      "text/plain": [
       "val init_state : state = {min_range = None; incoming = None; outgoing = None}\n"
      ]
     },
     "execution_count": 3,
     "metadata": {},
     "output_type": "execute_result"
    }
   ],
   "source": [
    "let init_state = \n",
    "  { min_range = None\n",
    "  ; incoming  = None\n",
    "  ; outgoing  = None \n",
    "  }"
   ]
  },
  {
   "cell_type": "markdown",
   "metadata": {},
   "source": [
    "# State transition `one_step` function"
   ]
  },
  {
   "cell_type": "markdown",
   "metadata": {},
   "source": [
    "Lets now create a simple `one_step` function for a ROS node that reacts to the incoming messages. We want the robot, on incoming `Clock` message, to either move forward or turn clockwise depending on the stored `min_range` value. To this end, we first create two helper functions: \n",
    " - `get_min_range` extract the minimal value of the ranges in a `Scan` message \n",
    " - `make_twist_message` creates a `Twist` message with the given forward and angular velocities"
   ]
  },
  {
   "cell_type": "code",
   "execution_count": 4,
   "metadata": {},
   "outputs": [
    {
     "data": {
      "text/plain": [
       "val get_min_range : Sensor_msgs.laserScan -> Basic_types.float64 = <fun>\n",
       "val make_twist_message :\n",
       "  Basic_types.float64 -> Basic_types.float64 -> outgoing_msg = <fun>\n"
      ]
     },
     "execution_count": 4,
     "metadata": {},
     "output_type": "execute_result"
    }
   ],
   "source": [
    "let get_min_range msg : Basic_types.float64 = \n",
    "  let min = List.fold_left (fun a b -> if a < b then a else b) 0 in\n",
    "  min msg.Sensor_msgs.laserScan_ranges\n",
    "  \n",
    "let make_twist_message v omega=\n",
    "  let open Geometry_msgs in\n",
    "  let mkvector x y z = { vector3_x = x; vector3_y = y; vector3_z = z } in \n",
    "  Twist { twist_linear  = mkvector v 0 0\n",
    "        ; twist_angular = mkvector 0 0 omega \n",
    "        } "
   ]
  },
  {
   "cell_type": "markdown",
   "metadata": {},
   "source": [
    "With the help of these functions, we can create our `one_step` transition:"
   ]
  },
  {
   "cell_type": "code",
   "execution_count": 5,
   "metadata": {},
   "outputs": [
    {
     "data": {
      "text/plain": [
       "val one_step : state -> state = <fun>\n"
      ]
     },
     "execution_count": 5,
     "metadata": {},
     "output_type": "execute_result"
    }
   ],
   "source": [
    "let one_step state =\n",
    "  match state.incoming with None -> state | Some in_msg ->\n",
    "  let state = { state with incoming = None; outgoing = None } in\n",
    "  match in_msg with \n",
    "  | Sensor laserScan -> \n",
    "    { state with min_range = Some (get_min_range laserScan) }\n",
    "  | Clock  _ -> begin\n",
    "    match state.min_range with None -> state | Some min_range ->\n",
    "    if min_range < 50000\n",
    "    then { state with outgoing = Some (make_twist_message 0 10000) } \n",
    "    else { state with outgoing = Some (make_twist_message 10000 0) }\n",
    "  end"
   ]
  },
  {
   "cell_type": "markdown",
   "metadata": {},
   "source": [
    "# Running the model as a ROS node"
   ]
  },
  {
   "cell_type": "markdown",
   "metadata": {},
   "source": [
    "One can write the model into an OCaml code file:   \n",
    "https://github.com/AestheticIntegration/imandra-ros/blob/master/imandra_model/src-model/ros_model.ml  \n",
    "and then compile it into an executable node, using our ROS node wrapper. \n",
    "\n",
    "Here is the model, controling our \"imandrabot\" in the Gazebo simulation environment:"
   ]
  },
  {
   "cell_type": "markdown",
   "metadata": {},
   "source": [
    "![Imandrabot](../docs/images/Imandrabot.gif)"
   ]
  },
  {
   "cell_type": "code",
   "execution_count": null,
   "metadata": {},
   "outputs": [],
   "source": []
  }
 ],
 "metadata": {
  "kernelspec": {
   "display_name": "Imandra",
   "language": "",
   "name": "imandra"
  },
  "language_info": {
   "codemirror_mode": "mllike",
   "file_extension": ".ml",
   "mimetype": "text",
   "name": "ocaml",
   "version": "0.1.0"
  }
 },
 "nbformat": 4,
 "nbformat_minor": 2
}
