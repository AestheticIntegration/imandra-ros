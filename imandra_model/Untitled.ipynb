{
 "cells": [
  {
   "cell_type": "code",
   "execution_count": 2,
   "metadata": {},
   "outputs": [
    {
     "data": {
      "text/plain": [
       "val f : Z.t -> Z.t = <fun>\n"
      ]
     },
     "execution_count": 2,
     "metadata": {},
     "output_type": "execute_result"
    }
   ],
   "source": [
    "let f x = x + 5"
   ]
  },
  {
   "cell_type": "code",
   "execution_count": 3,
   "metadata": {},
   "outputs": [
    {
     "data": {
      "text/plain": [
       "- : Z.t -> bool = <fun>\n",
       "module CX : sig val x : Z.t end\n"
      ]
     },
     "execution_count": 3,
     "metadata": {},
     "output_type": "execute_result"
    },
    {
     "data": {
      "text/html": [
       "<div><div>Refuted<div class=\"imandra-alternatives\" id=\"alt-0d6e292a-5ff1-4ddf-a40c-be679a35d098\"><ul class=\"nav nav-tabs\"><li class=\"active\" data-toggle=\"tab\"><a>call graph</a></li><li class=\"\" data-toggle=\"tab\"><a>proof-attempt</a></li></ul><div class=\"tab-content\"><div class=\"tab-pane active\"><div class=\"imandra-graphviz\" id=\"graphviz-4dd9e50b-af13-4e51-8926-097bcdd34e3c\"><textarea style=\"display: none\">digraph &quot;call graph&quot; {\n",
       "goal [label=&quot;not (not (x \\&lt;= 5))&quot;,shape=box,style=filled,color=&quot;cyan&quot;,fontname=&quot;courier&quot;,fontsize=14];\n",
       "}\n",
       "</textarea><button class=\"btn btn-primary\">Load graph</button><div class=\"imandra-graphviz-loading display-none\">Loading..</div><div class=\"imandra-graphviz-target\"></div><script>\n",
       "require(['nbextensions/nbimandra/graphviz'], function (graphviz) {\n",
       "  var target = '#graphviz-4dd9e50b-af13-4e51-8926-097bcdd34e3c';\n",
       "  graphviz.hydrate(target);\n",
       "});\n",
       "</script></div></div><div class=\"tab-pane\"><div class=\"imandra-proof-top\"><div class=\"imandra-fold panel panel-default\" id=\"fold-7afdc9dc-d076-40cd-bd20-0eaea2449e9c\"><div class=\"panel-heading\"><div><i class=\"fa fa-chevron-down hidden\"></i><i class=\"fa fa-chevron-right\"></i><span>proof attempt</span></div></div><div class=\"panel-body collapse\"><div class=\"imandra-proof\"><div class=\"imandra-alternatives\" id=\"alt-29f06b90-4962-422d-bae8-db0cea1ed074\"><ul class=\"nav nav-tabs\"><li class=\"active\" data-toggle=\"tab\"><a>summary</a></li><li class=\"\" data-toggle=\"tab\"><a>full</a></li><li class=\"\" data-toggle=\"tab\"><a>graph</a></li></ul><div class=\"tab-content\"><div class=\"tab-pane active\"><div class=\"imandra-table\" id=\"table-e004ad25-d3cd-468e-83fd-8b1f0d1bb259\"><table><tr><td><b>ground_instances</b></td><td>0</td></tr><tr><td><b>definitions</b></td><td>0</td></tr><tr><td><b>inductions</b></td><td>0</td></tr><tr><td><b>search_time</b></td><td><pre>0.015s</pre></td></tr><tr><td><b>details</b></td><td><div class=\"imandra-fold panel panel-default\" id=\"fold-e5960d92-f6fb-4358-a0ff-b1878ff57b0f\"><div class=\"panel-heading\"><div><i class=\"fa fa-chevron-down hidden\"></i><i class=\"fa fa-chevron-right\"></i><span>Expand</span></div></div><div class=\"panel-body collapse\"><div class=\"imandra-table\" id=\"table-3ebd86e9-07d9-4a51-a282-e10d3a320be3\"><table><tr><td><b>smt_stats</b></td><td>(:eliminated-applications 1\n",
       " :final-checks            1\n",
       " :max-memory              18.64\n",
       " :memory                  17.98\n",
       " :mk-bool-var             7\n",
       " :num-allocs              490350211\n",
       " :rlimit-count            65513)</td></tr></table></div></div><script>\n",
       "require(['nbextensions/nbimandra/fold'], function (fold) {\n",
       "  var target = '#fold-e5960d92-f6fb-4358-a0ff-b1878ff57b0f';\n",
       "  fold.hydrate(target);\n",
       "});\n",
       "</script></div></td></tr></table></div></div><div class=\"tab-pane\"><div class=\"imandra-fold panel panel-default\" id=\"fold-59df4992-cec7-4c87-849f-31b71f6c175a\"><div class=\"panel-heading\"><div><i class=\"fa fa-chevron-down hidden\"></i><i class=\"fa fa-chevron-right\"></i><span>Expand</span></div></div><div class=\"panel-body collapse\"><ul><li><pre>start[0.015s] (:var_0: + 5) &gt; 10</pre></li><li><div><h4>simplify</h4><div class=\"imandra-table\" id=\"table-04ed69e8-e9c9-4545-9128-160b8d8a33c0\"><table><tr><td><b>into</b></td><td><pre>not (:var_0: &lt;= 5)</pre></td></tr><tr><td><b>expansions</b></td><td><pre>[]</pre></td></tr><tr><td><b>rewrite_steps</b></td><td><ul></ul></td></tr><tr><td><b>forward_chaining</b></td><td><ul></ul></td></tr></table></div></div></li><li>Sat (Some  let x = 5\n",
       ")</li></ul></div><script>\n",
       "require(['nbextensions/nbimandra/fold'], function (fold) {\n",
       "  var target = '#fold-59df4992-cec7-4c87-849f-31b71f6c175a';\n",
       "  fold.hydrate(target);\n",
       "});\n",
       "</script></div></div><div class=\"tab-pane\"><div class=\"imandra-graphviz\" id=\"graphviz-d58ec2de-be28-4b01-88b3-63afb6c70fa4\"><textarea style=\"display: none\">digraph &quot;proof&quot; {\n",
       "p_199 [label=&quot;Start ((:var_0: + 5) \\&gt; 10 :time 0.015s)&quot;,shape=box,style=filled,fontname=&quot;courier&quot;,fontsize=14];\n",
       "p_199 -&gt; p_198 [label=&quot;&quot;];\n",
       "p_198 [label=&quot;Simplify (not (:var_0: \\&lt;= 5) :expansions [] :rw [] :fc [])&quot;,shape=box,style=filled,fontname=&quot;courier&quot;,fontsize=14];\n",
       "p_198 -&gt; p_197 [label=&quot;&quot;];\n",
       "p_197 [label=&quot;Sat (Some  let x = 5\\l)&quot;,shape=box,style=filled,fontname=&quot;courier&quot;,fontsize=14];\n",
       "}\n",
       "</textarea><button class=\"btn btn-primary\">Load graph</button><div class=\"imandra-graphviz-loading display-none\">Loading..</div><div class=\"imandra-graphviz-target\"></div><script>\n",
       "require(['nbextensions/nbimandra/graphviz'], function (graphviz) {\n",
       "  var target = '#graphviz-d58ec2de-be28-4b01-88b3-63afb6c70fa4';\n",
       "  graphviz.hydrate(target);\n",
       "});\n",
       "</script></div></div></div><script>\n",
       "require(['nbextensions/nbimandra/alternatives'], function (alternatives) {\n",
       "  var target = '#alt-29f06b90-4962-422d-bae8-db0cea1ed074';\n",
       "  alternatives.hydrate(target);\n",
       "});\n",
       "</script></div></div></div><script>\n",
       "require(['nbextensions/nbimandra/fold'], function (fold) {\n",
       "  var target = '#fold-7afdc9dc-d076-40cd-bd20-0eaea2449e9c';\n",
       "  fold.hydrate(target);\n",
       "});\n",
       "</script></div></div></div></div><script>\n",
       "require(['nbextensions/nbimandra/alternatives'], function (alternatives) {\n",
       "  var target = '#alt-0d6e292a-5ff1-4ddf-a40c-be679a35d098';\n",
       "  alternatives.hydrate(target);\n",
       "});\n",
       "</script></div><pre> let x = 5\n",
       "</pre></div></div>\n"
      ]
     },
     "metadata": {},
     "output_type": "display_data"
    }
   ],
   "source": [
    "verify ( fun x -> f x > 10)"
   ]
  },
  {
   "cell_type": "code",
   "execution_count": 4,
   "metadata": {},
   "outputs": [
    {
     "data": {
      "text/plain": [
       "- : Z.t = 5\n"
      ]
     },
     "execution_count": 4,
     "metadata": {},
     "output_type": "execute_result"
    }
   ],
   "source": [
    "CX.x"
   ]
  },
  {
   "cell_type": "code",
   "execution_count": 4,
   "metadata": {},
   "outputs": [
    {
     "data": {
      "text/plain": [
       "- : Z.t -> bool = <fun>\n",
       "module CX : sig val x : Z.t end\n",
       "\u001b[32;1m[✔]\u001b[0m Instance found.\n"
      ]
     },
     "execution_count": 4,
     "metadata": {},
     "output_type": "execute_result"
    },
    {
     "data": {
      "text/html": [
       "<div><div>Refuted<div class=\"imandra-alternatives\" id=\"alt-44d6c6e3-58b4-4bb8-911a-2f6deca1924d\"><ul class=\"nav nav-tabs\"><li class=\"active\" data-toggle=\"tab\"><a>call graph</a></li><li class=\"\" data-toggle=\"tab\"><a>proof-attempt</a></li></ul><div class=\"tab-content\"><div class=\"tab-pane active\"><div class=\"imandra-graphviz\" id=\"graphviz-439d4f26-d84f-49b4-a957-229e91ceb7ec\"><textarea style=\"display: none\">digraph &quot;call graph&quot; {\n",
       "goal [label=&quot;not (x \\&lt;= -5)&quot;,shape=box,style=filled,color=&quot;cyan&quot;,fontname=&quot;courier&quot;,fontsize=14];\n",
       "}\n",
       "</textarea><button class=\"btn btn-primary\">Load graph</button><div class=\"imandra-graphviz-loading display-none\">Loading..</div><div class=\"imandra-graphviz-target\"></div><script>\n",
       "require(['nbextensions/nbimandra/graphviz'], function (graphviz) {\n",
       "  var target = '#graphviz-439d4f26-d84f-49b4-a957-229e91ceb7ec';\n",
       "  graphviz.hydrate(target);\n",
       "});\n",
       "</script></div></div><div class=\"tab-pane\"><div class=\"imandra-proof-top\"><div class=\"imandra-fold panel panel-default\" id=\"fold-0037764b-4b5f-4ede-9a3a-2d0842910e5f\"><div class=\"panel-heading\"><div><i class=\"fa fa-chevron-down hidden\"></i><i class=\"fa fa-chevron-right\"></i><span>proof attempt</span></div></div><div class=\"panel-body collapse\"><div class=\"imandra-proof\"><div class=\"imandra-alternatives\" id=\"alt-a579a4aa-8f25-474f-9508-bbeac4836bbe\"><ul class=\"nav nav-tabs\"><li class=\"active\" data-toggle=\"tab\"><a>summary</a></li><li class=\"\" data-toggle=\"tab\"><a>full</a></li><li class=\"\" data-toggle=\"tab\"><a>graph</a></li></ul><div class=\"tab-content\"><div class=\"tab-pane active\"><div class=\"imandra-table\" id=\"table-22822633-789a-498d-b6b2-8cb17284e3e9\"><table><tr><td><b>ground_instances</b></td><td>0</td></tr><tr><td><b>definitions</b></td><td>0</td></tr><tr><td><b>inductions</b></td><td>0</td></tr><tr><td><b>search_time</b></td><td><pre>0.012s</pre></td></tr><tr><td><b>details</b></td><td><div class=\"imandra-fold panel panel-default\" id=\"fold-d1d32088-3ca0-45f1-a5b9-ceed611989bb\"><div class=\"panel-heading\"><div><i class=\"fa fa-chevron-down hidden\"></i><i class=\"fa fa-chevron-right\"></i><span>Expand</span></div></div><div class=\"panel-body collapse\"><div class=\"imandra-table\" id=\"table-369e08ac-db2b-4d10-9262-a42c693bb7eb\"><table><tr><td><b>smt_stats</b></td><td>(:eliminated-applications 2\n",
       " :final-checks            1\n",
       " :max-memory              18.64\n",
       " :memory                  9.92\n",
       " :mk-bool-var             7\n",
       " :num-allocs              588416823\n",
       " :rlimit-count            65595)</td></tr></table></div></div><script>\n",
       "require(['nbextensions/nbimandra/fold'], function (fold) {\n",
       "  var target = '#fold-d1d32088-3ca0-45f1-a5b9-ceed611989bb';\n",
       "  fold.hydrate(target);\n",
       "});\n",
       "</script></div></td></tr></table></div></div><div class=\"tab-pane\"><div class=\"imandra-fold panel panel-default\" id=\"fold-1d22a219-85a9-4ba2-9217-a1205f207053\"><div class=\"panel-heading\"><div><i class=\"fa fa-chevron-down hidden\"></i><i class=\"fa fa-chevron-right\"></i><span>Expand</span></div></div><div class=\"panel-body collapse\"><ul><li><pre>start[0.012s] (:var_0: + 5) &gt; 0</pre></li><li><div><h4>simplify</h4><div class=\"imandra-table\" id=\"table-ffee3df2-f6db-4ae5-ae9c-250905a91e2b\"><table><tr><td><b>into</b></td><td><pre>not (:var_0: &lt;= -5)</pre></td></tr><tr><td><b>expansions</b></td><td><pre>[]</pre></td></tr><tr><td><b>rewrite_steps</b></td><td><ul></ul></td></tr><tr><td><b>forward_chaining</b></td><td><ul></ul></td></tr></table></div></div></li><li>Sat (Some  let x = (-4)\n",
       ")</li></ul></div><script>\n",
       "require(['nbextensions/nbimandra/fold'], function (fold) {\n",
       "  var target = '#fold-1d22a219-85a9-4ba2-9217-a1205f207053';\n",
       "  fold.hydrate(target);\n",
       "});\n",
       "</script></div></div><div class=\"tab-pane\"><div class=\"imandra-graphviz\" id=\"graphviz-8a225804-9b22-450f-955c-ff526303ff7d\"><textarea style=\"display: none\">digraph &quot;proof&quot; {\n",
       "p_202 [label=&quot;Start ((:var_0: + 5) \\&gt; 0 :time 0.012s)&quot;,shape=box,style=filled,fontname=&quot;courier&quot;,fontsize=14];\n",
       "p_202 -&gt; p_201 [label=&quot;&quot;];\n",
       "p_201 [label=&quot;Simplify (not (:var_0: \\&lt;= -5) :expansions [] :rw [] :fc [])&quot;,shape=box,style=filled,fontname=&quot;courier&quot;,fontsize=14];\n",
       "p_201 -&gt; p_200 [label=&quot;&quot;];\n",
       "p_200 [label=&quot;Sat (Some  let x = (-4)\\l)&quot;,shape=box,style=filled,fontname=&quot;courier&quot;,fontsize=14];\n",
       "}\n",
       "</textarea><button class=\"btn btn-primary\">Load graph</button><div class=\"imandra-graphviz-loading display-none\">Loading..</div><div class=\"imandra-graphviz-target\"></div><script>\n",
       "require(['nbextensions/nbimandra/graphviz'], function (graphviz) {\n",
       "  var target = '#graphviz-8a225804-9b22-450f-955c-ff526303ff7d';\n",
       "  graphviz.hydrate(target);\n",
       "});\n",
       "</script></div></div></div><script>\n",
       "require(['nbextensions/nbimandra/alternatives'], function (alternatives) {\n",
       "  var target = '#alt-a579a4aa-8f25-474f-9508-bbeac4836bbe';\n",
       "  alternatives.hydrate(target);\n",
       "});\n",
       "</script></div></div></div><script>\n",
       "require(['nbextensions/nbimandra/fold'], function (fold) {\n",
       "  var target = '#fold-0037764b-4b5f-4ede-9a3a-2d0842910e5f';\n",
       "  fold.hydrate(target);\n",
       "});\n",
       "</script></div></div></div></div><script>\n",
       "require(['nbextensions/nbimandra/alternatives'], function (alternatives) {\n",
       "  var target = '#alt-44d6c6e3-58b4-4bb8-911a-2f6deca1924d';\n",
       "  alternatives.hydrate(target);\n",
       "});\n",
       "</script></div><pre> let x = (-4)\n",
       "</pre></div></div>\n"
      ]
     },
     "metadata": {},
     "output_type": "display_data"
    }
   ],
   "source": [
    "instance ( fun x -> f x > 0)"
   ]
  },
  {
   "cell_type": "code",
   "execution_count": 5,
   "metadata": {},
   "outputs": [
    {
     "data": {
      "text/plain": [
       "- : Z.t = -4\n"
      ]
     },
     "execution_count": 5,
     "metadata": {},
     "output_type": "execute_result"
    }
   ],
   "source": [
    "CX.x"
   ]
  },
  {
   "cell_type": "code",
   "execution_count": null,
   "metadata": {},
   "outputs": [],
   "source": []
  }
 ],
 "metadata": {
  "kernelspec": {
   "display_name": "Imandra",
   "language": "",
   "name": "imandra"
  },
  "language_info": {
   "codemirror_mode": "mllike",
   "file_extension": ".ml",
   "mimetype": "text",
   "name": "ocaml",
   "version": "0.1.0"
  }
 },
 "nbformat": 4,
 "nbformat_minor": 2
}
